{
 "cells": [
  {
   "cell_type": "code",
   "execution_count": 12,
   "id": "3d0a0694-4910-4cec-bf6b-a9199408b9c6",
   "metadata": {
    "tags": []
   },
   "outputs": [
    {
     "name": "stdout",
     "output_type": "stream",
     "text": [
      "Original Series\n",
      "0      3.000938\n",
      "1     11.370722\n",
      "2     14.612143\n",
      "3      8.990256\n",
      "4     13.925283\n",
      "5     12.056875\n",
      "6     10.884719\n",
      "7      5.719827\n",
      "8      9.242017\n",
      "9     11.020006\n",
      "10     8.167892\n",
      "11    11.740654\n",
      "12     7.665620\n",
      "13    13.267388\n",
      "14    12.690883\n",
      "15     9.582355\n",
      "16     7.874878\n",
      "17    14.118931\n",
      "18     8.247458\n",
      "19     5.526727\n",
      "dtype: float64\n",
      "\n",
      " Minimum, 25th Percentile, median, 75th and maximum of a given series\n",
      "[ 3.00093811  8.09463867 10.23353705 12.21537733 14.61214321]\n"
     ]
    }
   ],
   "source": [
    "# Write a pandas progrma to compute the minumun, 25th percentile and median and 75th and maximum\n",
    "import pandas as pd\n",
    "import numpy as np\n",
    "num_state = np.random.RandomState(100)\n",
    "num_series = pd.Series(num_state.normal(10,4,20))\n",
    "print(\"Original Series\")\n",
    "print(num_series)\n",
    "result = np.percentile(num_series,q=[0,25,50,75,100])\n",
    "print(\"\\n Minimum, 25th Percentile, median, 75th and maximum of a given series\")\n",
    "print(result)"
   ]
  },
  {
   "cell_type": "code",
   "execution_count": 11,
   "id": "8aadbd76-df33-41a6-a8c9-bc25bb53746f",
   "metadata": {
    "tags": []
   },
   "outputs": [
    {
     "data": {
      "text/plain": [
       "count    20.000000\n",
       "mean      9.985279\n",
       "std       3.145584\n",
       "min       3.000938\n",
       "25%       8.094639\n",
       "50%      10.233537\n",
       "75%      12.215377\n",
       "max      14.612143\n",
       "dtype: float64"
      ]
     },
     "execution_count": 11,
     "metadata": {},
     "output_type": "execute_result"
    }
   ],
   "source": [
    "num_series.describe()"
   ]
  },
  {
   "cell_type": "code",
   "execution_count": 18,
   "id": "05eb6398-af2c-4771-86d2-c7dd927d6345",
   "metadata": {
    "tags": []
   },
   "outputs": [
    {
     "name": "stdout",
     "output_type": "stream",
     "text": [
      "0     0\n",
      "1     0\n",
      "2     9\n",
      "3     8\n",
      "4     4\n",
      "     ..\n",
      "95    1\n",
      "96    2\n",
      "97    4\n",
      "98    4\n",
      "99    8\n",
      "Length: 100, dtype: object\n",
      "Frequency Counts of each unique value of the said series\n",
      "4    19\n",
      "0    12\n",
      "8    12\n",
      "1    12\n",
      "7    11\n",
      "6    10\n",
      "3     9\n",
      "5     6\n",
      "2     6\n",
      "9     3\n",
      "Name: count, dtype: int64\n"
     ]
    }
   ],
   "source": [
    "# Write a pandas progrma to calculate the frequency counts of each unique value of a given series\n",
    "import numpy as np\n",
    "import pandas as pd\n",
    "\n",
    "num_series = pd.Series(np.take(list('0123456789'),np.random.randint(10,size=100)))\n",
    "print(num_series)\n",
    "print(\"Frequency Counts of each unique value of the said series\")\n",
    "result = num_series.value_counts()\n",
    "print(result)"
   ]
  },
  {
   "cell_type": "code",
   "execution_count": 23,
   "id": "e6b6861c-4648-4689-821a-d62e81998e16",
   "metadata": {
    "tags": []
   },
   "outputs": [
    {
     "name": "stdout",
     "output_type": "stream",
     "text": [
      "Original Series\n",
      "0    3\n",
      "1    5\n",
      "2    7\n",
      "3    1\n",
      "4    8\n",
      "5    5\n",
      "6    6\n",
      "7    3\n",
      "8    9\n",
      "9    9\n",
      "dtype: int32\n",
      "(array([1, 5], dtype=int64),)\n"
     ]
    }
   ],
   "source": [
    "# Write a pandas program to find the position of number that are multiple of 5 of a given series.\n",
    "import pandas as pd\n",
    "import numpy as np\n",
    "\n",
    "num_series = pd.Series(np.random.randint(1,10,10))\n",
    "print(\"Original Series\")\n",
    "print(num_series)\n",
    "result = np.where(num_series % 5 ==0)\n",
    "print(result)"
   ]
  },
  {
   "cell_type": "code",
   "execution_count": 26,
   "id": "7f593a6e-fd60-4bf8-a383-93469c15968e",
   "metadata": {
    "tags": []
   },
   "outputs": [
    {
     "name": "stdout",
     "output_type": "stream",
     "text": [
      "Original Series\n",
      "0    10\n",
      "1    20\n",
      "2    30\n",
      "3    40\n",
      "4    50\n",
      "5    60\n",
      "6    70\n",
      "7    80\n",
      "8    90\n",
      "dtype: int64\n",
      "4    50\n",
      "5    60\n",
      "6    70\n",
      "dtype: int64\n"
     ]
    }
   ],
   "source": [
    "# Write a pandas program to extract items at given position of a given series\n",
    "import pandas as pd\n",
    "\n",
    "ser = pd.Series([10,20,30,40,50,60,70,80,90])\n",
    "print(\"Original Series\")\n",
    "print(ser)\n",
    "x = [4,5,6]\n",
    "result = ser.take(x)\n",
    "print(result)"
   ]
  },
  {
   "cell_type": "code",
   "execution_count": 32,
   "id": "4e1446b1-4123-4a73-8f89-13f300923b50",
   "metadata": {
    "tags": []
   },
   "outputs": [
    {
     "name": "stdout",
     "output_type": "stream",
     "text": [
      "Original Series\n",
      "0     1\n",
      "1     2\n",
      "2     3\n",
      "3     4\n",
      "4     5\n",
      "5     6\n",
      "6     7\n",
      "7     8\n",
      "8     9\n",
      "9    10\n",
      "dtype: int64\n",
      "\n",
      " 0     1\n",
      "1     3\n",
      "2     5\n",
      "3     7\n",
      "4    10\n",
      "dtype: int64\n",
      "\n",
      "\n",
      "[0, 2, 4, 6, 9]\n"
     ]
    }
   ],
   "source": [
    "# Write a pandas program to get the positions of items of a given series in another given series\n",
    "import pandas as pd\n",
    "series1 = pd.Series([1,2,3,4,5,6,7,8,9,10])\n",
    "series2 = pd.Series([1,3,5,7,10])\n",
    "print(\"Original Series\")\n",
    "print(series1)\n",
    "print('\\n',series2)\n",
    "result = [pd.Index(series1).get_loc(i) for i in series2]\n",
    "print('\\n')\n",
    "print(result)"
   ]
  },
  {
   "cell_type": "code",
   "execution_count": 36,
   "id": "da4ab14b-6a41-4b25-988f-1d27e3f5c50f",
   "metadata": {
    "tags": []
   },
   "outputs": [
    {
     "name": "stdout",
     "output_type": "stream",
     "text": [
      "Original Series\n",
      "0       php\n",
      "1    python\n",
      "2      java\n",
      "3        c#\n",
      "4      jeet\n",
      "5      shah\n",
      "6       raj\n",
      "7       avi\n",
      "8     doshi\n",
      "dtype: object\n",
      "Converting the First and last character of Each Word\n",
      "0       PhP\n",
      "1    PythoN\n",
      "2      JavA\n",
      "3        C#\n",
      "4      JeeT\n",
      "5      ShaH\n",
      "6       RaJ\n",
      "7       AvI\n",
      "8     DoshI\n",
      "dtype: object\n"
     ]
    }
   ],
   "source": [
    "# write a pandas program to convert the first and last character of each word's first character and Last character\n",
    "# TO UPPER CASE\n",
    "import pandas as pd\n",
    "series1 = pd.Series(['php','python','java','c#','jeet','shah','raj','avi','doshi'])\n",
    "print(\"Original Series\")\n",
    "print(series1)\n",
    "result = series1.map(lambda x: x[0].upper() + x[1:-1] + x[-1].upper())\n",
    "print(\"Converting the First and last character of Each Word\")\n",
    "print(result)"
   ]
  },
  {
   "cell_type": "code",
   "execution_count": 40,
   "id": "515fa767-ea55-4f64-b8fc-5a2ac5e2a024",
   "metadata": {
    "tags": []
   },
   "outputs": [
    {
     "name": "stdout",
     "output_type": "stream",
     "text": [
      "0    3\n",
      "1    6\n",
      "2    4\n",
      "3    2\n",
      "4    4\n",
      "5    4\n",
      "6    3\n",
      "7    3\n",
      "8    5\n",
      "dtype: int64\n"
     ]
    }
   ],
   "source": [
    "# Write a pandas program to calculate the number of character of each word\n",
    "\n",
    "import pandas as pd\n",
    "result = series1.map(lambda x: len(x))\n",
    "print(result)"
   ]
  },
  {
   "cell_type": "code",
   "execution_count": 44,
   "id": "14575115-b667-4ccc-ad1a-85cc40253076",
   "metadata": {
    "tags": []
   },
   "outputs": [
    {
     "name": "stdout",
     "output_type": "stream",
     "text": [
      "Original Series\n",
      "0     1\n",
      "1     3\n",
      "2     5\n",
      "3     8\n",
      "4    10\n",
      "5    11\n",
      "6    15\n",
      "dtype: int64\n",
      "\n",
      " Difference of differences between two consecutive numbers of the said series\n",
      "[nan, 2.0, 2.0, 3.0, 2.0, 1.0, 4.0]\n",
      "[nan, nan, 0.0, 1.0, -1.0, -1.0, 3.0]\n"
     ]
    }
   ],
   "source": [
    "# Write a pandas program to compute difference between consecutive numbers of a given series.\n",
    "\n",
    "import pandas as pd\n",
    "\n",
    "original_series = pd.Series([1,3,5,8,10,11,15])\n",
    "print(\"Original Series\")\n",
    "print(original_series)\n",
    "print(\"\\n Difference of differences between two consecutive numbers of the said series\")\n",
    "print(original_series.diff().tolist())\n",
    "print(original_series.diff().diff().tolist())"
   ]
  },
  {
   "cell_type": "code",
   "execution_count": 62,
   "id": "4a61655e-83d9-4b00-9b60-2b3de7d6be13",
   "metadata": {
    "tags": []
   },
   "outputs": [
    {
     "name": "stdout",
     "output_type": "stream",
     "text": [
      "Original Series\n",
      "0         01 Jan 2015\n",
      "1          10-02-2016\n",
      "2            20180307\n",
      "3          2014/05/06\n",
      "4          2016-04-12\n",
      "5    2019-04-06T11:20\n",
      "dtype: object\n",
      "Converted a Series of Date strings to TIME series\n",
      "0   2015-01-01 00:00:00\n",
      "1   2016-10-02 00:00:00\n",
      "2   2018-03-07 00:00:00\n",
      "3   2014-05-06 00:00:00\n",
      "4   2016-04-12 00:00:00\n",
      "5   2019-04-06 11:20:00\n",
      "dtype: datetime64[ns]\n"
     ]
    }
   ],
   "source": [
    "# Write a pandas program to convert a series of Date strings to a time Series\n",
    "import pandas as pd\n",
    "date_series = pd.Series(['01 Jan 2015', '10-02-2016', '20180307', '2014/05/06', '2016-04-12', '2019-04-06T11:20'])\n",
    "print(\"Original Series\")\n",
    "print(date_series)\n",
    "print(\"Converted a Series of Date strings to TIME series\")\n",
    "print(pd.to_datetime(date_series,format='mixed'))"
   ]
  },
  {
   "cell_type": "code",
   "execution_count": 63,
   "id": "e649d8cd-d4e5-4faf-b891-29f73d183f49",
   "metadata": {
    "tags": []
   },
   "outputs": [
    {
     "name": "stdout",
     "output_type": "stream",
     "text": [
      "Original Date Series\n",
      "0   2015-01-01 00:00:00\n",
      "1   2016-10-02 00:00:00\n",
      "2   2018-03-07 00:00:00\n",
      "3   2014-05-06 00:00:00\n",
      "4   2016-04-12 00:00:00\n",
      "5   2019-04-06 11:20:00\n",
      "dtype: datetime64[ns]\n",
      "Day of the Month\n",
      "[1, 2, 7, 6, 12, 6]\n",
      "Day of the Year\n",
      "Week Number\n",
      "Day of Week\n"
     ]
    },
    {
     "ename": "AttributeError",
     "evalue": "'DatetimeProperties' object has no attribute 'weekday_name'",
     "output_type": "error",
     "traceback": [
      "\u001b[1;31m---------------------------------------------------------------------------\u001b[0m",
      "\u001b[1;31mAttributeError\u001b[0m                            Traceback (most recent call last)",
      "Cell \u001b[1;32mIn[63], line 15\u001b[0m\n\u001b[0;32m     12\u001b[0m \u001b[38;5;28mprint\u001b[39m(\u001b[38;5;124m\"\u001b[39m\u001b[38;5;124mWeek Number\u001b[39m\u001b[38;5;124m\"\u001b[39m)\n\u001b[0;32m     14\u001b[0m \u001b[38;5;28mprint\u001b[39m(\u001b[38;5;124m\"\u001b[39m\u001b[38;5;124mDay of Week\u001b[39m\u001b[38;5;124m\"\u001b[39m)\n\u001b[1;32m---> 15\u001b[0m \u001b[38;5;28mprint\u001b[39m(date_series\u001b[38;5;241m.\u001b[39mdt\u001b[38;5;241m.\u001b[39mweekday_name\u001b[38;5;241m.\u001b[39mtolist())\n",
      "\u001b[1;31mAttributeError\u001b[0m: 'DatetimeProperties' object has no attribute 'weekday_name'"
     ]
    }
   ],
   "source": [
    "# Write a pandas program to get the day of month, day of year, week number and day of week.\n",
    "import pandas as pd\n",
    "from dateutil.parser import parse\n",
    "\n",
    "date_series = date_series.map(lambda x: parse(x))\n",
    "print(\"Original Date Series\")\n",
    "print(date_series)\n",
    "print(\"Day of the Month\")\n",
    "print(date_series.dt.day.tolist())\n",
    "print(\"Day of the Year\")\n",
    "# print(date_series.dt.dayofyear.tolist())\n",
    "print(\"Week Number\")\n",
    "\n",
    "print(\"Day of Week\")\n",
    "print(date_series.dt.weekday_name.tolist())\n"
   ]
  },
  {
   "cell_type": "code",
   "execution_count": 64,
   "id": "b6f2b127-9fe8-4cc1-92e5-0e7d8f7549d7",
   "metadata": {
    "tags": []
   },
   "outputs": [
    {
     "name": "stdout",
     "output_type": "stream",
     "text": [
      "Original Series\n",
      "0    Jan 2015\n",
      "1    Feb 2016\n",
      "2    Mar 2017\n",
      "3    Apr 2018\n",
      "4    May 2019\n",
      "dtype: object\n",
      "\n",
      " New Dates\n",
      "0   2015-01-11\n",
      "1   2016-02-11\n",
      "2   2017-03-11\n",
      "3   2018-04-11\n",
      "4   2019-05-11\n",
      "dtype: datetime64[ns]\n"
     ]
    }
   ],
   "source": [
    "# Write a Pandas Program to convert year-month string to dates adding a specified day of the month\n",
    "\n",
    "import pandas as pd\n",
    "from dateutil.parser import parse\n",
    "date_series = pd.Series(['Jan 2015', 'Feb 2016', 'Mar 2017', 'Apr 2018', 'May 2019'])\n",
    "print(\"Original Series\")\n",
    "print(date_series)\n",
    "print(\"\\n New Dates\")\n",
    "result = date_series.map(lambda d: parse('11'+d))\n",
    "print(result)"
   ]
  },
  {
   "cell_type": "code",
   "execution_count": 77,
   "id": "df5dc831-0bef-4a99-af02-6ca8431b7407",
   "metadata": {
    "tags": []
   },
   "outputs": [
    {
     "name": "stdout",
     "output_type": "stream",
     "text": [
      "Filtered Words\n",
      "1     Green\n",
      "2    Orange\n",
      "4    Yellow\n",
      "dtype: object\n"
     ]
    }
   ],
   "source": [
    "# Write a Pandas program to filter words from a given series that contain atleast two vowels.\n",
    "import pandas as pd\n",
    "from collections import Counter\n",
    "color_series = pd.Series(['Red','Green','Orange','Pink','Yellow'])\n",
    "print('Filtered Words')\n",
    "result = color_series.map(lambda c: sum([Counter(c.lower()).get(i,0) for i in list('aeiou')])>=2)\n",
    "print(color_series[result])"
   ]
  },
  {
   "cell_type": "code",
   "execution_count": 79,
   "id": "e3a9368d-791e-49c6-bda1-c90efc83f10f",
   "metadata": {
    "tags": []
   },
   "outputs": [
    {
     "name": "stdout",
     "output_type": "stream",
     "text": [
      "1     Green\n",
      "2    Orange\n",
      "4    Yellow\n",
      "dtype: object\n"
     ]
    }
   ],
   "source": [
    "filtered_words = color_series[color_series.str.lower().str.count('[aeiou]') >= 2]\n",
    "print(filtered_words)"
   ]
  },
  {
   "cell_type": "code",
   "execution_count": 83,
   "id": "1e9685c1-a27e-421b-80df-e6120f57c345",
   "metadata": {
    "tags": []
   },
   "outputs": [
    {
     "name": "stdout",
     "output_type": "stream",
     "text": [
      "Euclidean Distance between two said series\n",
      "16.492422502470642\n"
     ]
    }
   ],
   "source": [
    "# Write pandas program to compute the Euclidean desitance between two given series.\n",
    "import pandas as pd\n",
    "import numpy as np\n",
    "x = pd.Series([1,2,3,4,5,6,7,8,9,10])\n",
    "y = pd.Series([11,8,7,5,6,5,3,4,7,1])\n",
    "print('Euclidean Distance between two said series')\n",
    "print(np.linalg.norm(x-y))"
   ]
  },
  {
   "cell_type": "code",
   "execution_count": 87,
   "id": "eeb75337-a15a-4a40-b282-75cc74b83b89",
   "metadata": {
    "tags": []
   },
   "outputs": [
    {
     "name": "stdout",
     "output_type": "stream",
     "text": [
      "[1 4 6 8]\n"
     ]
    }
   ],
   "source": [
    "# Write a pandas program to find the position of the values neightbourhood by smaller values on both sides in a given series.\n",
    "import pandas as pd\n",
    "import numpy as np\n",
    "\n",
    "num = pd.Series([1,8,7,5,6,-2,3,-1,7,1])\n",
    "\n",
    "temp = np.diff(np.sign(np.diff(num)))\n",
    "result = np.where(temp==-2)[0] + 1\n",
    "print(result)"
   ]
  },
  {
   "cell_type": "code",
   "execution_count": 88,
   "id": "06c92268-1617-4a21-8c7e-1a31b303efe3",
   "metadata": {
    "tags": []
   },
   "outputs": [
    {
     "name": "stdout",
     "output_type": "stream",
     "text": [
      "Original Series\n",
      "c    3\n",
      "     3\n",
      "d    3\n",
      "a    2\n",
      "b    2\n",
      "e    2\n",
      "f    2\n",
      "i    1\n",
      "Name: count, dtype: int64\n",
      "abcidefiabcdefiicd\n"
     ]
    }
   ],
   "source": [
    "# pandas program to replace missing white spaces in a given string with the least frequent character\n",
    "import pandas as pd\n",
    "\n",
    "str1 = 'abc def abcdef icd'\n",
    "print('Original Series')\n",
    "ser = pd.Series(list(str1))\n",
    "element_freq = ser.value_counts()\n",
    "print(element_freq)\n",
    "current_freq = element_freq.dropna().index[-1]\n",
    "result = \"\".join(ser.replace(' ',current_freq))\n",
    "print(result)"
   ]
  },
  {
   "cell_type": "code",
   "execution_count": 90,
   "id": "ce3a3f64-cd98-4c95-92db-665f72127ec0",
   "metadata": {
    "tags": []
   },
   "outputs": [
    {
     "name": "stdout",
     "output_type": "stream",
     "text": [
      "[1.0, 0.11, -0.2, -0.05, -0.38, -0.08, 0.12, -0.2, 0.1, 0.63, 0.77]\n"
     ]
    }
   ],
   "source": [
    "# Write a pandas program to compute the autocorrelation of a given numeric series\n",
    "import pandas as pd\n",
    "import numpy as np\n",
    "num_series = pd.Series(np.arange(15) + np.random.normal(1,10,15))\n",
    "autocorelations = [num_series.autocorr(i).round(2) for i in range(11)]\n",
    "print(autocorelations)"
   ]
  },
  {
   "cell_type": "code",
   "execution_count": 104,
   "id": "bd0e56e9-2a3e-4539-9421-089effa611e0",
   "metadata": {
    "tags": []
   },
   "outputs": [
    {
     "name": "stdout",
     "output_type": "stream",
     "text": [
      "  index  0\n",
      "0     A  0\n",
      "1     B  1\n",
      "2     C  2\n",
      "3     D  3\n",
      "4     E  4\n"
     ]
    }
   ],
   "source": [
    "# Write a python program to convert given series into a dataframe with its index as another column on the data frame\n",
    "\n",
    "import pandas as pd\n",
    "import numpy as np\n",
    "char_list = list('ABCDEFGHIJKLMNOPQRSTUVWXYZ')\n",
    "num_arra = np.arange(8)\n",
    "num_dict = dict(zip(char_list,num_arra))\n",
    "num_ser = pd.Series(num_dict)\n",
    "df = num_ser.to_frame().reset_index()\n",
    "print(df.head())"
   ]
  },
  {
   "cell_type": "code",
   "execution_count": 105,
   "id": "ee7c2cba-c867-44e1-b577-28d34c3fa1d2",
   "metadata": {
    "tags": []
   },
   "outputs": [
    {
     "name": "stdout",
     "output_type": "stream",
     "text": [
      "Original Series\n",
      "0     1\n",
      "1     3\n",
      "2     7\n",
      "3    12\n",
      "4    88\n",
      "5    23\n",
      "6     3\n",
      "7     1\n",
      "8     9\n",
      "9     0\n",
      "dtype: int64\n",
      "Index of the smallest and the largest number in the series\n",
      "9\n",
      "4\n"
     ]
    }
   ],
   "source": [
    "# Write a Pandas Program to find the index of the first occurence of the smallest and largest value of a given series\n",
    "\n",
    "nums = pd.Series([1, 3, 7, 12, 88, 23, 3, 1, 9, 0])\n",
    "print(\"Original Series\")\n",
    "print(nums)\n",
    "print(\"Index of the smallest and the largest number in the series\")\n",
    "print(nums.idxmin())\n",
    "print(nums.idxmax())"
   ]
  },
  {
   "cell_type": "markdown",
   "id": "c25a7e7f-3404-4e18-8b90-d9e9a0f1fbc6",
   "metadata": {},
   "source": [
    "# Pandas Data Frame Exercises"
   ]
  },
  {
   "cell_type": "code",
   "execution_count": 106,
   "id": "4e2ffec4-9c1c-4207-b5cf-283f0cb14dd8",
   "metadata": {
    "tags": []
   },
   "outputs": [
    {
     "name": "stdout",
     "output_type": "stream",
     "text": [
      "    X   Y   Z\n",
      "0  78  84  86\n",
      "1  85  94  97\n",
      "2  96  89  96\n",
      "3  80  83  72\n",
      "4  86  86  83\n"
     ]
    }
   ],
   "source": [
    "# write a pandas program to create a dataframe from a dictionary and display it\n",
    "import pandas as pd\n",
    "df = pd.DataFrame({'X':[78,85,96,80,86], 'Y':[84,94,89,83,86],'Z':[86,97,96,72,83]});\n",
    "print(df)"
   ]
  },
  {
   "cell_type": "code",
   "execution_count": 110,
   "id": "420855d4-1306-4e47-af5d-cf8b762ffe03",
   "metadata": {
    "tags": []
   },
   "outputs": [
    {
     "name": "stdout",
     "output_type": "stream",
     "text": [
      "        name  score  attempts qualify\n",
      "a  Anastasia   12.5         1     yes\n",
      "b       Dima    9.0         3      no\n",
      "c  Katherine   16.5         2     yes\n",
      "d      James    NaN         3      no\n",
      "e      Emily    9.0         2      no\n",
      "f    Michael   20.0         3     yes\n",
      "g    Matthew   14.5         1     yes\n",
      "h      Laura    NaN         1      no\n",
      "i      Kevin    8.0         2      no\n",
      "j      Jonas   19.0         1     yes\n"
     ]
    }
   ],
   "source": [
    "# dictonary data to dataframe using pandas\n",
    "\n",
    "exam_data = {'name': ['Anastasia', 'Dima', 'Katherine', 'James', 'Emily', 'Michael', 'Matthew', 'Laura', 'Kevin', 'Jonas'],\n",
    "'score': [12.5, 9, 16.5, np.nan, 9, 20, 14.5, np.nan, 8, 19],\n",
    "'attempts': [1, 3, 2, 3, 2, 3, 1, 1, 2, 1],\n",
    "'qualify': ['yes', 'no', 'yes', 'no', 'no', 'yes', 'yes', 'no', 'no', 'yes']}\n",
    "labels = ['a', 'b', 'c', 'd', 'e', 'f', 'g', 'h', 'i', 'j']\n",
    "\n",
    "df = pd.DataFrame(exam_data, index= labels)\n",
    "print(df)"
   ]
  },
  {
   "cell_type": "code",
   "execution_count": 113,
   "id": "3e70e1a4-a888-4c67-9f5c-2c2ac369b197",
   "metadata": {
    "tags": []
   },
   "outputs": [
    {
     "name": "stdout",
     "output_type": "stream",
     "text": [
      "<class 'pandas.core.frame.DataFrame'>\n",
      "Index: 10 entries, a to j\n",
      "Data columns (total 4 columns):\n",
      " #   Column    Non-Null Count  Dtype  \n",
      "---  ------    --------------  -----  \n",
      " 0   name      10 non-null     object \n",
      " 1   score     8 non-null      float64\n",
      " 2   attempts  10 non-null     int64  \n",
      " 3   qualify   10 non-null     object \n",
      "dtypes: float64(1), int64(1), object(2)\n",
      "memory usage: 400.0+ bytes\n"
     ]
    }
   ],
   "source": [
    "df.info()"
   ]
  },
  {
   "cell_type": "code",
   "execution_count": 118,
   "id": "ef02902b-abfe-4e58-8982-ec4654374d76",
   "metadata": {
    "tags": []
   },
   "outputs": [
    {
     "name": "stdout",
     "output_type": "stream",
     "text": [
      "First Three Rows of the Data Frame\n",
      "        name  score  attempts qualify\n",
      "a  Anastasia   12.5         1     yes\n",
      "b       Dima    9.0         3      no\n",
      "c  Katherine   16.5         2     yes\n"
     ]
    }
   ],
   "source": [
    "#  Write a program to get the first 3 rows of a given DataFrame\n",
    "exam_data = {'name': ['Anastasia', 'Dima', 'Katherine', 'James', 'Emily', 'Michael', 'Matthew', 'Laura', 'Kevin', 'Jonas'],\n",
    "'score': [12.5, 9, 16.5, np.nan, 9, 20, 14.5, np.nan, 8, 19],\n",
    "'attempts': [1, 3, 2, 3, 2, 3, 1, 1, 2, 1],\n",
    "'qualify': ['yes', 'no', 'yes', 'no', 'no', 'yes', 'yes', 'no', 'no', 'yes']}\n",
    "labels = ['a', 'b', 'c', 'd', 'e', 'f', 'g', 'h', 'i', 'j']\n",
    "df = pd.DataFrame(exam_data, index=labels)\n",
    "print(\"First Three Rows of the Data Frame\")\n",
    "\n",
    "print(df.iloc[0:3])"
   ]
  },
  {
   "cell_type": "code",
   "execution_count": null,
   "id": "11839309-a1a5-4a00-b235-1d79c9a1ba14",
   "metadata": {},
   "outputs": [],
   "source": []
  }
 ],
 "metadata": {
  "kernelspec": {
   "display_name": "Python 3 (ipykernel)",
   "language": "python",
   "name": "python3"
  },
  "language_info": {
   "codemirror_mode": {
    "name": "ipython",
    "version": 3
   },
   "file_extension": ".py",
   "mimetype": "text/x-python",
   "name": "python",
   "nbconvert_exporter": "python",
   "pygments_lexer": "ipython3",
   "version": "3.11.5"
  }
 },
 "nbformat": 4,
 "nbformat_minor": 5
}
