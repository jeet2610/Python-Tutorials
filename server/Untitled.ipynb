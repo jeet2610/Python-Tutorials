{
 "cells": [
  {
   "cell_type": "code",
   "execution_count": null,
   "id": "3436e3e0-b5f3-4708-b09c-0c16011ec390",
   "metadata": {
    "tags": []
   },
   "outputs": [
    {
     "name": "stdout",
     "output_type": "stream",
     "text": [
      " * Serving Flask app '__main__'\n",
      " * Debug mode: off\n"
     ]
    },
    {
     "name": "stderr",
     "output_type": "stream",
     "text": [
      "WARNING: This is a development server. Do not use it in a production deployment. Use a production WSGI server instead.\n",
      " * Running on http://127.0.0.1:5000\n",
      "Press CTRL+C to quit\n",
      "127.0.0.1 - - [11/Dec/2023 13:20:14] \"GET / HTTP/1.1\" 404 -\n",
      "127.0.0.1 - - [11/Dec/2023 13:20:19] \"GET /form.html HTTP/1.1\" 404 -\n",
      "127.0.0.1 - - [11/Dec/2023 13:21:16] \"POST /post-example HTTP/1.1\" 400 -\n"
     ]
    }
   ],
   "source": [
    "from flask import Flask, request, jsonify\n",
    "\n",
    "app = Flask(__name__)\n",
    "\n",
    "# Endpoint to handle GET requests\n",
    "@app.route('/hello', methods=['GET'])\n",
    "def hello():\n",
    "    return 'Hello, this is a GET request!'\n",
    "\n",
    "# Endpoint to handle POST requests\n",
    "@app.route('/post-example', methods=['POST'])\n",
    "def post_example():\n",
    "    if request.method == 'POST':\n",
    "        data = request.get_json()  # Get JSON data from POST request\n",
    "        return jsonify({'received_data': data}), 200\n",
    "\n",
    "if __name__ == '__main__':\n",
    "    app.run(host='127.0.0.1', port=5000)\n"
   ]
  }
 ],
 "metadata": {
  "kernelspec": {
   "display_name": "Python 3 (ipykernel)",
   "language": "python",
   "name": "python3"
  },
  "language_info": {
   "codemirror_mode": {
    "name": "ipython",
    "version": 3
   },
   "file_extension": ".py",
   "mimetype": "text/x-python",
   "name": "python",
   "nbconvert_exporter": "python",
   "pygments_lexer": "ipython3",
   "version": "3.11.5"
  }
 },
 "nbformat": 4,
 "nbformat_minor": 5
}
