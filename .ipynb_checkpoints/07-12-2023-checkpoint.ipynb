{
 "cells": [
  {
   "cell_type": "markdown",
   "id": "cb84b178-11dc-41bf-9a29-eb66bc30f4b8",
   "metadata": {
    "jp-MarkdownHeadingCollapsed": true,
    "tags": []
   },
   "source": [
    "#### Try Except... ####"
   ]
  },
  {
   "cell_type": "code",
   "execution_count": 2,
   "id": "9cb20d7c-8032-45d1-9554-97517abeb89e",
   "metadata": {
    "tags": []
   },
   "outputs": [
    {
     "name": "stdout",
     "output_type": "stream",
     "text": [
      "Exception handled with type: <class 'ZeroDivisionError'>\n"
     ]
    }
   ],
   "source": [
    "try:\n",
    "    print(9/0)\n",
    "except Exception as e:\n",
    "    print(\"Exception handled with type:\",type(e))"
   ]
  },
  {
   "cell_type": "code",
   "execution_count": 7,
   "id": "efe9ceb6-c621-4288-9121-971a216dd8ad",
   "metadata": {
    "tags": []
   },
   "outputs": [
    {
     "name": "stdout",
     "output_type": "stream",
     "text": [
      "<class 'NameError'>\n"
     ]
    }
   ],
   "source": [
    "try:\n",
    "    print(\"Hello with World\",i);\n",
    "except Exception as e:\n",
    "    print(type(e))"
   ]
  },
  {
   "cell_type": "markdown",
   "id": "b1001f7e-1205-42eb-9658-c1f95f6660e0",
   "metadata": {
    "jp-MarkdownHeadingCollapsed": true,
    "tags": []
   },
   "source": [
    "#### Task to find Palindrome or Not ####"
   ]
  },
  {
   "cell_type": "code",
   "execution_count": 31,
   "id": "5a1027cc-3ca2-4087-9cf2-fa7319bd47ea",
   "metadata": {
    "tags": []
   },
   "outputs": [
    {
     "name": "stdin",
     "output_type": "stream",
     "text": [
      "Enter a string to find palindrome eeeee\n"
     ]
    },
    {
     "name": "stdout",
     "output_type": "stream",
     "text": [
      "Palindrome\n"
     ]
    }
   ],
   "source": [
    "# Write a program to find the palindrome of a string\n",
    "\n",
    "string = input(\"Enter a string to find palindrome\")\n",
    "reversed_string = string[::-1]\n",
    "\n",
    "if string==reversed_string:\n",
    "    print(\"Palindrome\")\n",
    "else:\n",
    "    print(\"not palindrome\")\n"
   ]
  },
  {
   "cell_type": "code",
   "execution_count": 34,
   "id": "9d34ed97-299b-4ebf-b925-fcd414aaf0e3",
   "metadata": {
    "tags": []
   },
   "outputs": [
    {
     "name": "stdin",
     "output_type": "stream",
     "text": [
      "Enter number 200\n"
     ]
    },
    {
     "name": "stdout",
     "output_type": "stream",
     "text": [
      "not\n"
     ]
    }
   ],
   "source": [
    "#Write a program to find the palindrome of a number\n",
    "\n",
    "number = input(\"Enter number\")\n",
    "reversed_number = number[::-1]\n",
    "if number==reversed_number:\n",
    "    print(\"Palin\")\n",
    "else:\n",
    "    print(\"not\")"
   ]
  },
  {
   "cell_type": "markdown",
   "id": "aea2f362-de30-41f7-ab2e-e110482ee613",
   "metadata": {
    "tags": []
   },
   "source": [
    "#### File Opening Operations in Python ####"
   ]
  },
  {
   "cell_type": "code",
   "execution_count": 36,
   "id": "ba9de179-32ab-44c7-a3fe-bc09dc467cad",
   "metadata": {
    "tags": []
   },
   "outputs": [],
   "source": [
    "# code to open file and write\n",
    "\n",
    "# \"r\" - Read - Default value. Opens a file for reading, error if the file does not exist\n",
    "\n",
    "# \"a\" - Append - Opens a file for appending, creates the file if it does not exist\n",
    "\n",
    "# \"w\" - Write - Opens a file for writing, creates the file if it does not exist\n",
    "\n",
    "# \"x\" - Create - Creates the specified file, returns an error if the file exists\n",
    "# \"t\" - Text - Default value. Text mode\n",
    "\n",
    "# \"b\" - Binary - Binary mode (e.g. images)\n"
   ]
  },
  {
   "cell_type": "code",
   "execution_count": 15,
   "id": "2224ddd9-1df1-4721-a6fc-411b7fa64a58",
   "metadata": {
    "tags": []
   },
   "outputs": [],
   "source": [
    "e = open(\"mymod.txt\",\"r\")\n"
   ]
  },
  {
   "cell_type": "code",
   "execution_count": 16,
   "id": "355fa4d3-a615-400f-97af-f1bf6e6a0728",
   "metadata": {
    "tags": []
   },
   "outputs": [
    {
     "name": "stdout",
     "output_type": "stream",
     "text": [
      "Hello\n"
     ]
    }
   ],
   "source": [
    "# print(e.read(5))"
   ]
  },
  {
   "cell_type": "code",
   "execution_count": 28,
   "id": "d7057bb8-943e-475d-8fed-3299867371e8",
   "metadata": {
    "tags": []
   },
   "outputs": [],
   "source": [
    "# print(e.readline())\n",
    "# print(e.readline())"
   ]
  },
  {
   "cell_type": "code",
   "execution_count": 44,
   "id": "66e8c50e-cfac-4e1c-99d1-7ee0f25ed335",
   "metadata": {
    "tags": []
   },
   "outputs": [
    {
     "name": "stdout",
     "output_type": "stream",
     "text": [
      "Wooops!, i have deleted the content , is it any how i can get back the data?\n"
     ]
    }
   ],
   "source": [
    "f = open(\"mymod.txt\",\"r\")\n",
    "for x in f:\n",
    "    print(x)\n",
    "f.close()"
   ]
  },
  {
   "cell_type": "code",
   "execution_count": 38,
   "id": "35fe9275-0979-4f1c-b704-97b3e218205e",
   "metadata": {
    "tags": []
   },
   "outputs": [],
   "source": [
    "# Writing to an existing file\n",
    "\n",
    "f = open(\"mymod.txt\",\"a\")\n",
    "f.write(\"\\n Now the file has added one more line with this\")\n",
    "f.close()\n"
   ]
  },
  {
   "cell_type": "code",
   "execution_count": 43,
   "id": "7fbaf5b9-06a3-4719-81ab-f321307dc727",
   "metadata": {
    "tags": []
   },
   "outputs": [],
   "source": [
    "#Over Writing the content \n",
    "f = open(\"mymod.txt\",\"w\")\n",
    "f.write(\"Wooops!, i have deleted the content , is it any how i can get back the data?\")\n",
    "f.close()\n"
   ]
  },
  {
   "cell_type": "code",
   "execution_count": 47,
   "id": "210557c8-51f0-4791-967d-5fdaa24982e2",
   "metadata": {
    "tags": []
   },
   "outputs": [
    {
     "name": "stdout",
     "output_type": "stream",
     "text": [
      "<class 'FileExistsError'>\n"
     ]
    }
   ],
   "source": [
    "# Create an empty file using python command\n",
    "try:\n",
    "    new_file = open(\"new_txt_file.txt\",\"x\")\n",
    "except Exception as e:\n",
    "    print(type(e))\n",
    "finally:\n",
    "    new_file.close()"
   ]
  },
  {
   "cell_type": "code",
   "execution_count": 49,
   "id": "095192ca-4100-439d-a365-4c7b4b59eba4",
   "metadata": {
    "tags": []
   },
   "outputs": [
    {
     "name": "stdout",
     "output_type": "stream",
     "text": [
      "Written Sucessfully\n"
     ]
    }
   ],
   "source": [
    "write_file = open(\"new_txt_file.txt\",\"w\")\n",
    "try:\n",
    "    write_file.write(\"---This file is created by python code----\")\n",
    "    print(\"Written Sucessfully\")\n",
    "except Exception as e:\n",
    "    print(type(e))\n",
    "finally:\n",
    "    write_file.close"
   ]
  },
  {
   "cell_type": "code",
   "execution_count": null,
   "id": "098ceb10-0b7e-4f78-a75b-3902693e0caa",
   "metadata": {
    "tags": []
   },
   "outputs": [],
   "source": [
    "# Delete the file command command\n",
    "\n",
    "import os\n",
    "if os.path.exists(\"mymod.txt\"):\n",
    "  os.remove(\"mymod.txt\")\n",
    "else:\n",
    "  print(\"The file does not exist\")"
   ]
  },
  {
   "cell_type": "code",
   "execution_count": 55,
   "id": "6f428181-c111-4a3a-959a-e332eb1f45e5",
   "metadata": {
    "tags": []
   },
   "outputs": [],
   "source": [
    "#Remove the Empty Directory\n",
    "\n",
    "import os\n",
    "os.rmdir(\"myfolder\") #working successfully"
   ]
  },
  {
   "cell_type": "markdown",
   "id": "c2d66425-7ac7-43a4-9332-146fea0b653f",
   "metadata": {},
   "source": [
    "#### Random Function "
   ]
  },
  {
   "cell_type": "code",
   "execution_count": 57,
   "id": "fffd8fba-9a38-4ed5-ad0e-bcb80ccc7e03",
   "metadata": {
    "tags": []
   },
   "outputs": [
    {
     "name": "stdout",
     "output_type": "stream",
     "text": [
      "75\n"
     ]
    }
   ],
   "source": [
    "import random\n",
    "random_int = random.randint(0,100)\n",
    "print(random_int)"
   ]
  },
  {
   "cell_type": "code",
   "execution_count": 58,
   "id": "951abb4f-da63-420f-89e4-17e29368490f",
   "metadata": {
    "tags": []
   },
   "outputs": [
    {
     "name": "stdout",
     "output_type": "stream",
     "text": [
      "0.1029964665422588\n"
     ]
    }
   ],
   "source": [
    "random_float = random.random()\n",
    "print(random_float)"
   ]
  },
  {
   "cell_type": "code",
   "execution_count": 59,
   "id": "ad647db6-c3db-456d-b580-03b35efe4d6f",
   "metadata": {
    "tags": []
   },
   "outputs": [
    {
     "name": "stdout",
     "output_type": "stream",
     "text": [
      "2\n"
     ]
    }
   ],
   "source": [
    "# picking a random element from a list\n",
    "\n",
    "my_list = [1,2,4,5,6]\n",
    "random_ele = random.choice(my_list)\n",
    "print(random_ele)"
   ]
  },
  {
   "cell_type": "code",
   "execution_count": 60,
   "id": "d60f194c-fc9a-42e4-bd6d-64df445a2709",
   "metadata": {
    "tags": []
   },
   "outputs": [
    {
     "name": "stdout",
     "output_type": "stream",
     "text": [
      "[4, 2, 5, 1, 6]\n"
     ]
    }
   ],
   "source": [
    "#shuffling an element\n",
    "random.shuffle(my_list)\n",
    "print(my_list)"
   ]
  },
  {
   "cell_type": "code",
   "execution_count": 61,
   "id": "a9b5b741-3a6a-4b12-b3a8-96bdbdc5879f",
   "metadata": {
    "tags": []
   },
   "outputs": [
    {
     "name": "stdout",
     "output_type": "stream",
     "text": [
      "[12, 40, 1, 5, 37]\n"
     ]
    }
   ],
   "source": [
    "#Generating a random sample from a popluation\n",
    "random_sample = random.sample(range(1,50),5)\n",
    "print(random_sample)"
   ]
  },
  {
   "cell_type": "code",
   "execution_count": 127,
   "id": "82a2b282-a433-417c-9af2-92e1577ebe56",
   "metadata": {
    "tags": []
   },
   "outputs": [
    {
     "name": "stdout",
     "output_type": "stream",
     "text": [
      "0.4586067093870614\n",
      "0.87786790373901\n"
     ]
    }
   ],
   "source": [
    "# Seed for reproduciblity\n",
    "random.seed(40)\n",
    "re_random = random.random()\n",
    "print(re_random)\n",
    "re_re = random.random()\n",
    "print(re_re)"
   ]
  },
  {
   "cell_type": "code",
   "execution_count": 139,
   "id": "66e74d8e-852b-4034-853b-ba42f4c1cae7",
   "metadata": {
    "tags": []
   },
   "outputs": [
    {
     "name": "stdout",
     "output_type": "stream",
     "text": [
      "1.0430371068892579\n"
     ]
    }
   ],
   "source": [
    "#Gaussian distribution (NORMAL DISTRIBUTION)- 0 mean and standard deviation 1\n",
    "\n",
    "gaussian_random = random.gauss(0,1)\n",
    "print(gaussian_random)"
   ]
  },
  {
   "cell_type": "code",
   "execution_count": 155,
   "id": "291db07a-3b80-4760-bfaa-b005b132d7f9",
   "metadata": {
    "tags": []
   },
   "outputs": [
    {
     "name": "stdout",
     "output_type": "stream",
     "text": [
      "0.11226477616367314\n",
      "New random with changed state: 0.8410193416543026\n",
      "restored random number from previous state: 0.8410193416543026\n"
     ]
    }
   ],
   "source": [
    "import random\n",
    "#Generating a random number\n",
    "rand_number = random.random()\n",
    "print(rand_number)\n",
    "\n",
    "#Get the state of the random number generator\n",
    "state = random.getstate()\n",
    "\n",
    "#simulate some changes to the random number generator\n",
    "new_random_num = random.random()\n",
    "print(\"New random with changed state:\",new_random_num)\n",
    "\n",
    "random.setstate(state)\n",
    "restored_ran_num = random.random()\n",
    "print(\"restored random number from previous state:\",restored_ran_num)"
   ]
  },
  {
   "cell_type": "code",
   "execution_count": 192,
   "id": "c4059526-a398-4726-8c24-a439a76a641b",
   "metadata": {
    "tags": []
   },
   "outputs": [
    {
     "name": "stdout",
     "output_type": "stream",
     "text": [
      "5g$H%Cl,\n"
     ]
    }
   ],
   "source": [
    "#Task to implement strong password\n",
    "import random as rd\n",
    "import string\n",
    "length = rd.randint(8,16)\n",
    "# print(length)\n",
    "lowercase = string.ascii_lowercase\n",
    "uppercase = string.ascii_uppercase\n",
    "\n",
    "password = lowercase + uppercase + special + string.digits\n",
    "\n",
    "password_str = ''.join(random.choice(password) for _ in range(length))\n",
    "\n",
    "print(password_str)\n"
   ]
  },
  {
   "cell_type": "code",
   "execution_count": 218,
   "id": "999df5e7-aaf2-4078-a4a3-af7311ab75d3",
   "metadata": {
    "tags": []
   },
   "outputs": [
    {
     "name": "stdin",
     "output_type": "stream",
     "text": [
      "enter a password to fund if the password is safe or not Bhautik.com123\n"
     ]
    },
    {
     "name": "stdout",
     "output_type": "stream",
     "text": [
      "Valid Password\n"
     ]
    }
   ],
   "source": [
    "# Task to Check whether the password is safe or not\n",
    "\n",
    "import re\n",
    "password = input(\"enter a password to fund if the password is safe or not\")\n",
    "flag = 0\n",
    "while True:\n",
    "    if (len(password)<=8):\n",
    "        flag = -1\n",
    "        break\n",
    "    elif not re.search(\"[a-z]\", password):\n",
    "        flag = -1\n",
    "        break\n",
    "    elif not re.search(\"[A-Z]\", password):\n",
    "        flag = -1\n",
    "        break\n",
    "    elif not re.search(\"[0-9]\", password):\n",
    "        flag = -1\n",
    "        break\n",
    "    elif not re.search(\"[_@$.]\" , password):\n",
    "        flag = -1\n",
    "        break\n",
    "    elif re.search(\"\\s\" , password):\n",
    "        flag = -1\n",
    "        break\n",
    "    else:\n",
    "        flag = 0\n",
    "        print(\"Valid Password\")\n",
    "        break\n",
    "\n",
    "if flag == -1:\n",
    "    print(\"Not a Valid Password \")\n"
   ]
  },
  {
   "cell_type": "code",
   "execution_count": 243,
   "id": "f6f247ff-bb9e-42f7-8b6d-d9b16340f507",
   "metadata": {
    "tags": []
   },
   "outputs": [
    {
     "name": "stdin",
     "output_type": "stream",
     "text": [
      "Enter mobile number: 8488093696\n",
      "Enter Email Id: jeetshah0@icloud.com\n"
     ]
    },
    {
     "name": "stdout",
     "output_type": "stream",
     "text": [
      "mobile\n",
      "email\n",
      "data updated\n"
     ]
    }
   ],
   "source": [
    "#task to validate mobilenumber and email\n",
    "import re\n",
    "import json\n",
    "mob = input(\"Enter mobile number:\")\n",
    "email = input(\"Enter Email Id:\")\n",
    "\n",
    "regex = r'^[6-9]\\d{9}$' \n",
    "mobile_flag =0\n",
    "email_flag = 0\n",
    "try:\n",
    "    if len(mob)==10:\n",
    "        if re.match(regex, mob):\n",
    "            print(\"mobile\")\n",
    "            mobile_flag=1\n",
    "        else:\n",
    "            print(\"spam mobile number\")\n",
    "    else:\n",
    "        print(\"Not a number\")\n",
    "except Exception as e:\n",
    "    print(\"Your Mobile number contains Characters\")\n",
    "    \n",
    "regex = r'\\b[A-Za-z0-9.%_-]+@[A-Za-z0-9.%_-]+\\.[A-Za-z]{2,}\\b'\n",
    "\n",
    "if(re.fullmatch(regex, email)):\n",
    "    print(\"email\")\n",
    "    email_flag = 1\n",
    "else:\n",
    "    print(\"Not an Email\")\n",
    "if email_flag==1 and mobile_flag==1:\n",
    "    with open(\"personal.json\", \"w+\") as f:\n",
    "            f.write(\"data = \" + json.dumps({\"mobile\": mob, \"email\": email}))\n",
    "            print(\"data updated\")"
   ]
  },
  {
   "cell_type": "code",
   "execution_count": 244,
   "id": "74fb8991-cef1-4e9b-a623-d143538835d1",
   "metadata": {
    "tags": []
   },
   "outputs": [
    {
     "name": "stdin",
     "output_type": "stream",
     "text": [
      "Enter Name:  Jeet Shah\n",
      "Enter Mobile Number:  8488093696\n",
      "Enter Email:  jeetshah0@icloud.com\n"
     ]
    },
    {
     "name": "stdout",
     "output_type": "stream",
     "text": [
      "Data added successfully!\n"
     ]
    },
    {
     "name": "stdin",
     "output_type": "stream",
     "text": [
      "Do you want to add more entries? (yes/no):  yes\n",
      "Enter Name:  Mirage Thakore\n",
      "Enter Mobile Number:  9825720827\n",
      "Enter Email:  mthakore12@gmail.com\n"
     ]
    },
    {
     "name": "stdout",
     "output_type": "stream",
     "text": [
      "Data added successfully!\n"
     ]
    },
    {
     "name": "stdin",
     "output_type": "stream",
     "text": [
      "Do you want to add more entries? (yes/no):  yes\n",
      "Enter Name:  Aditya Mohite\n",
      "Enter Mobile Number:  6352624583\n",
      "Enter Email:  adityamohite2221@gmail.com\n"
     ]
    },
    {
     "name": "stdout",
     "output_type": "stream",
     "text": [
      "Data added successfully!\n"
     ]
    },
    {
     "name": "stdin",
     "output_type": "stream",
     "text": [
      "Do you want to add more entries? (yes/no):  yes\n",
      "Enter Name:  Chintan Tailor\n",
      "Enter Mobile Number:  9726252766\n",
      "Enter Email:  tailorc96@gmail.com'\n"
     ]
    },
    {
     "name": "stdout",
     "output_type": "stream",
     "text": [
      "Invalid input! Please enter valid mobile number and email.\n"
     ]
    },
    {
     "name": "stdin",
     "output_type": "stream",
     "text": [
      "Do you want to add more entries? (yes/no):  ye\n"
     ]
    },
    {
     "name": "stdout",
     "output_type": "stream",
     "text": [
      "Data exported to data.json file.\n"
     ]
    }
   ],
   "source": [
    "import re\n",
    "import json\n",
    "\n",
    "def validate_mobile_number(mob):\n",
    "    # Regular expression to match a common mobile number pattern\n",
    "    regex = r'^[6-9]\\d{9}$'  # Assuming Indian mobile numbers (starting with 6, 7, 8, or 9)\n",
    "    return re.match(regex, mob)\n",
    "\n",
    "def validate_email(email):\n",
    "    regex = r'\\b[A-Za-z0-9._%+-]+@[A-Za-z0-9.-]+\\.[A-Za-z]{2,}\\b'\n",
    "    return re.fullmatch(regex, email)\n",
    "\n",
    "data = []\n",
    "\n",
    "while True:\n",
    "    name = input(\"Enter Name: \")\n",
    "    mobile = input(\"Enter Mobile Number: \")\n",
    "    email = input(\"Enter Email: \")\n",
    "\n",
    "    if validate_mobile_number(mobile) and validate_email(email):\n",
    "        entry = {\n",
    "            \"index\": len(data) + 1,\n",
    "            \"name\": name,\n",
    "            \"mobile\": mobile,\n",
    "            \"email\": email\n",
    "        }\n",
    "        data.append(entry)\n",
    "        print(\"Data added successfully!\")\n",
    "    else:\n",
    "        print(\"Invalid input! Please enter valid mobile number and email.\")\n",
    "    \n",
    "    more_entries = input(\"Do you want to add more entries? (yes/no): \")\n",
    "    if more_entries.lower() != 'yes':\n",
    "        break\n",
    "\n",
    "# Writing data to a JSON file\n",
    "with open('data.json', 'w') as file:\n",
    "    json.dump(data, file, indent=4)\n",
    "\n",
    "print(\"Data exported to data.json file.\")\n"
   ]
  }
 ],
 "metadata": {
  "kernelspec": {
   "display_name": "Python 3 (ipykernel)",
   "language": "python",
   "name": "python3"
  },
  "language_info": {
   "codemirror_mode": {
    "name": "ipython",
    "version": 3
   },
   "file_extension": ".py",
   "mimetype": "text/x-python",
   "name": "python",
   "nbconvert_exporter": "python",
   "pygments_lexer": "ipython3",
   "version": "3.11.5"
  }
 },
 "nbformat": 4,
 "nbformat_minor": 5
}
