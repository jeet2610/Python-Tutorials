{
 "cells": [
  {
   "cell_type": "code",
   "execution_count": 2,
   "id": "13243f7c-ba77-4f4b-bb11-135dfe4bae83",
   "metadata": {
    "tags": []
   },
   "outputs": [],
   "source": [
    "import pandas as pd"
   ]
  },
  {
   "cell_type": "code",
   "execution_count": 9,
   "id": "fdea6e49-743f-492a-b145-88c020e99c98",
   "metadata": {
    "scrolled": true,
    "tags": []
   },
   "outputs": [
    {
     "name": "stdout",
     "output_type": "stream",
     "text": [
      "Product Name: <div class=\"plp-card-details-name line-clamp jm-body-xs jm-fc-primary-grey-80\"> Good Life Chilli Powder 100 g </div>\n",
      "Price: None\n",
      "Discount: <span class=\"jm-badge\"> 32% OFF </span>\n",
      "\n",
      "Product Name: <div class=\"plp-card-details-name line-clamp jm-body-xs jm-fc-primary-grey-80\"> Good Life Coriander Powder 100 g </div>\n",
      "Price: None\n",
      "Discount: <span class=\"jm-badge\"> 24% OFF </span>\n",
      "\n",
      "Product Name: <div class=\"plp-card-details-name line-clamp jm-body-xs jm-fc-primary-grey-80\"> Tata Sampann Unpolished Green Whole Moong 500 g </div>\n",
      "Price: None\n",
      "Discount: <span class=\"jm-badge\"> 10% OFF </span>\n",
      "\n",
      "Product Name: <div class=\"plp-card-details-name line-clamp jm-body-xs jm-fc-primary-grey-80\"> Besan 1 kg </div>\n",
      "Price: None\n",
      "Discount: <span class=\"jm-badge\"> 53% OFF </span>\n",
      "\n",
      "Product Name: <div class=\"plp-card-details-name line-clamp jm-body-xs jm-fc-primary-grey-80\"> Gulab Sungold Refined Sunflower Oil 1 L </div>\n",
      "Price: None\n",
      "Discount: <span class=\"jm-badge\"> 35% OFF </span>\n",
      "\n",
      "Product Name: <div class=\"plp-card-details-name line-clamp jm-body-xs jm-fc-primary-grey-80\"> Gowardhan Pure Cow Ghee 1 L (Jar) </div>\n",
      "Price: None\n",
      "Discount: <span class=\"jm-badge\"> 9% OFF </span>\n",
      "\n",
      "Product Name: <div class=\"plp-card-details-name line-clamp jm-body-xs jm-fc-primary-grey-80\"> Farmley Whole Cashews Natural Raw W400 Kaju 500g </div>\n",
      "Price: None\n",
      "Discount: <span class=\"jm-badge\"> 45% OFF </span>\n",
      "\n",
      "Product Name: <div class=\"plp-card-details-name line-clamp jm-body-xs jm-fc-primary-grey-80\"> Tata Sampann Unpolished Masoor Dal 1 kg </div>\n",
      "Price: None\n",
      "Discount: <span class=\"jm-badge\"> 10% OFF </span>\n",
      "\n",
      "Product Name: <div class=\"plp-card-details-name line-clamp jm-body-xs jm-fc-primary-grey-80\"> Fortune Everyday Full Grain Basmati Rice 1 kg </div>\n",
      "Price: None\n",
      "Discount: <span class=\"jm-badge\"> 23% OFF </span>\n",
      "\n",
      "Product Name: <div class=\"plp-card-details-name line-clamp jm-body-xs jm-fc-primary-grey-80\"> Fortune Rice Bran Health Physically Refined Rice Bran Oil 5 L </div>\n",
      "Price: None\n",
      "Discount: <span class=\"jm-badge\"> 13% OFF </span>\n",
      "\n",
      "Product Name: <div class=\"plp-card-details-name line-clamp jm-body-xs jm-fc-primary-grey-80\"> Good Life Compounded Hing Powder 50 g </div>\n",
      "Price: None\n",
      "Discount: <span class=\"jm-badge\"> 42% OFF </span>\n",
      "\n",
      "Product Name: <div class=\"plp-card-details-name line-clamp jm-body-xs jm-fc-primary-grey-80\"> Maida 500 g </div>\n",
      "Price: None\n",
      "Discount: <span class=\"jm-badge\"> 52% OFF </span>\n",
      "\n"
     ]
    }
   ],
   "source": [
    "import time\n",
    "from selenium import webdriver\n",
    "from bs4 import BeautifulSoup\n",
    "\n",
    "url = \"https://www.jiomart.com/c/groceries/staples/13\"\n",
    "\n",
    "# Initialize the webdriver\n",
    "driver = webdriver.Chrome()  # You need to have chromedriver installed and in your PATH\n",
    "\n",
    "# Open the URL\n",
    "driver.get(url)\n",
    "\n",
    "# Scroll to the bottom of the page to load more items\n",
    "scroll_pause_time = 7 # Adjust this value as needed\n",
    "last_height = driver.execute_script(\"return document.body.scrollHeight\")\n",
    "while True:\n",
    "    driver.execute_script(\"window.scrollTo(0, document.body.scrollHeight);\")\n",
    "    time.sleep(scroll_pause_time)\n",
    "    new_height = driver.execute_script(\"return document.body.scrollHeight\")\n",
    "    if new_height == last_height:\n",
    "        break\n",
    "    last_height = new_height\n",
    "\n",
    "# Once all items are loaded, extract the HTML content\n",
    "html_content = driver.page_source\n",
    "\n",
    "# Close the webdriver\n",
    "driver.quit()\n",
    "\n",
    "# Use BeautifulSoup to parse the HTML content\n",
    "soup = BeautifulSoup(html_content, 'html.parser')\n",
    "\n",
    "# Find all items using a refined selector\n",
    "results = soup.find_all('div', {'class': 'plp-card-details-container'})\n",
    "\n",
    "# Now you can proceed with processing the results\n",
    "for result in results:\n",
    "    # Process each item as needed\n",
    "    product_name = result.find('div', {'class': 'plp-card-details-name line-clamp jm-body-xs jm-fc-primary-grey-80'})\n",
    "    \n",
    "    product_price = result.find('div', {'class': 'jm-heading-xxs jm-mb-xxs'})\n",
    "    product_discount = result.find('span', {'class': 'jm-badge'})\n",
    "\n",
    "    print(\"Product Name:\", product_name)\n",
    "    print(\"Price:\", product_price)\n",
    "    print(\"Discount:\", product_discount)\n",
    "    print()  # Print an empty line for better readability\n"
   ]
  },
  {
   "cell_type": "code",
   "execution_count": 10,
   "id": "25532aa7-c000-44dc-8cec-59900d6cc292",
   "metadata": {
    "tags": []
   },
   "outputs": [
    {
     "data": {
      "text/plain": [
       "12"
      ]
     },
     "execution_count": 10,
     "metadata": {},
     "output_type": "execute_result"
    }
   ],
   "source": [
    "len(results)"
   ]
  },
  {
   "cell_type": "code",
   "execution_count": 110,
   "id": "4a5e276a-1fcf-4d68-9977-71af5bc9ab18",
   "metadata": {
    "tags": []
   },
   "outputs": [],
   "source": [
    "# Puting Everything in loop\n",
    "\n",
    "product_name = []\n",
    "product_price = []\n",
    "product_discount = []\n",
    "for i in range(len(results)):\n",
    "    badge_element = results[i].find('span', {'class': 'jm-badge'})\n",
    "    product_name.append(results[i].find('div',{'class':'plp-card-details-name line-clamp jm-body-xs jm-fc-primary-grey-80'}).get_text().strip())\n",
    "    product_price.append(results[i].find('span',{'class':'jm-heading-xxs jm-mb-xxs'}).get_text().strip())\n",
    "    if badge_element is not None:\n",
    "        text_inside_badge = badge_element.get_text().strip()\n",
    "        if text_inside_badge:  # Check if the text is not an empty string\n",
    "            product_discount.append(text_inside_badge)\n",
    "        else:\n",
    "            # Handle the case when the text is empty, e.g., set a default value\n",
    "            product_discount.append(\"None\")  # Replace \"No Discount\" with your desired default value\n",
    "    else:\n",
    "        # Handle the case when the element is not found, e.g., set a default value\n",
    "        product_discount.append(\"None\")"
   ]
  },
  {
   "cell_type": "code",
   "execution_count": 120,
   "id": "1b8d729e-e819-4b0c-91c8-7578e73b31a5",
   "metadata": {
    "tags": []
   },
   "outputs": [],
   "source": [
    "data = {'Product Name':product_name,'Price':product_price,'Discount':product_discount}\n",
    "df = pd.DataFrame(data)"
   ]
  },
  {
   "cell_type": "code",
   "execution_count": 121,
   "id": "a3da1c4e-e643-4957-9584-c17414fe520f",
   "metadata": {
    "tags": []
   },
   "outputs": [],
   "source": [
    "df['Discount'] = df['Discount'].replace('None','0% OFF')"
   ]
  },
  {
   "cell_type": "code",
   "execution_count": 122,
   "id": "63ef91f8-df55-45f9-bbe2-d5665f0e2942",
   "metadata": {
    "tags": []
   },
   "outputs": [],
   "source": [
    "# Price C\n",
    "df['Price'] = df['Price'].str[1:]"
   ]
  },
  {
   "cell_type": "code",
   "execution_count": 123,
   "id": "7bb79045-2381-49b3-b414-e7c54e7cc127",
   "metadata": {
    "tags": []
   },
   "outputs": [],
   "source": [
    "df['Price'] = df['Price'].str.replace(',', '').astype(float)"
   ]
  },
  {
   "cell_type": "code",
   "execution_count": 125,
   "id": "066ea9e1-a09e-40f5-8f3c-20d6535deb8a",
   "metadata": {
    "tags": []
   },
   "outputs": [],
   "source": [
    "# discount data from 0% off to 0\n",
    "df['Discount'] = df['Discount'].str[0:-5]"
   ]
  },
  {
   "cell_type": "code",
   "execution_count": 126,
   "id": "b16a3abc-6e0b-463a-bd96-6aae381a1169",
   "metadata": {
    "tags": []
   },
   "outputs": [
    {
     "data": {
      "text/html": [
       "<div>\n",
       "<style scoped>\n",
       "    .dataframe tbody tr th:only-of-type {\n",
       "        vertical-align: middle;\n",
       "    }\n",
       "\n",
       "    .dataframe tbody tr th {\n",
       "        vertical-align: top;\n",
       "    }\n",
       "\n",
       "    .dataframe thead th {\n",
       "        text-align: right;\n",
       "    }\n",
       "</style>\n",
       "<table border=\"1\" class=\"dataframe\">\n",
       "  <thead>\n",
       "    <tr style=\"text-align: right;\">\n",
       "      <th></th>\n",
       "      <th>Product Name</th>\n",
       "      <th>Price</th>\n",
       "      <th>Discount</th>\n",
       "    </tr>\n",
       "  </thead>\n",
       "  <tbody>\n",
       "    <tr>\n",
       "      <th>0</th>\n",
       "      <td>Super Sarvottam Physically Refined Rice Bran O...</td>\n",
       "      <td>97.0</td>\n",
       "      <td>51</td>\n",
       "    </tr>\n",
       "    <tr>\n",
       "      <th>1</th>\n",
       "      <td>KRISHIVAL NUTS King of cashews+ California Alm...</td>\n",
       "      <td>600.0</td>\n",
       "      <td>25</td>\n",
       "    </tr>\n",
       "    <tr>\n",
       "      <th>2</th>\n",
       "      <td>Bharat Chana Dal 1 Kg</td>\n",
       "      <td>60.0</td>\n",
       "      <td>0</td>\n",
       "    </tr>\n",
       "    <tr>\n",
       "      <th>3</th>\n",
       "      <td>Priya Fortified With Vitamin A &amp; D Refined Sun...</td>\n",
       "      <td>96.0</td>\n",
       "      <td>40</td>\n",
       "    </tr>\n",
       "    <tr>\n",
       "      <th>4</th>\n",
       "      <td>Saffola Active Pro Weight Watchers Rice Bran B...</td>\n",
       "      <td>106.0</td>\n",
       "      <td>33</td>\n",
       "    </tr>\n",
       "    <tr>\n",
       "      <th>...</th>\n",
       "      <td>...</td>\n",
       "      <td>...</td>\n",
       "      <td>...</td>\n",
       "    </tr>\n",
       "    <tr>\n",
       "      <th>100</th>\n",
       "      <td>BLK Foods Select 1Kg Californian Almond Kernel...</td>\n",
       "      <td>699.0</td>\n",
       "      <td>69</td>\n",
       "    </tr>\n",
       "    <tr>\n",
       "      <th>101</th>\n",
       "      <td>Good Life Kabuli Chana 500 g</td>\n",
       "      <td>111.0</td>\n",
       "      <td>17</td>\n",
       "    </tr>\n",
       "    <tr>\n",
       "      <th>102</th>\n",
       "      <td>Amul Cow Ghee 1 L (Tin)</td>\n",
       "      <td>618.0</td>\n",
       "      <td>7</td>\n",
       "    </tr>\n",
       "    <tr>\n",
       "      <th>103</th>\n",
       "      <td>Regular Value Pack Plain Cashews 500 g</td>\n",
       "      <td>355.0</td>\n",
       "      <td>29</td>\n",
       "    </tr>\n",
       "    <tr>\n",
       "      <th>104</th>\n",
       "      <td>Anjani Anjeer 100% Natural Anjeer (Dry Figs) 500g</td>\n",
       "      <td>385.0</td>\n",
       "      <td>57</td>\n",
       "    </tr>\n",
       "  </tbody>\n",
       "</table>\n",
       "<p>105 rows × 3 columns</p>\n",
       "</div>"
      ],
      "text/plain": [
       "                                          Product Name  Price Discount\n",
       "0    Super Sarvottam Physically Refined Rice Bran O...   97.0       51\n",
       "1    KRISHIVAL NUTS King of cashews+ California Alm...  600.0       25\n",
       "2                                Bharat Chana Dal 1 Kg   60.0        0\n",
       "3    Priya Fortified With Vitamin A & D Refined Sun...   96.0       40\n",
       "4    Saffola Active Pro Weight Watchers Rice Bran B...  106.0       33\n",
       "..                                                 ...    ...      ...\n",
       "100  BLK Foods Select 1Kg Californian Almond Kernel...  699.0       69\n",
       "101                       Good Life Kabuli Chana 500 g  111.0       17\n",
       "102                            Amul Cow Ghee 1 L (Tin)  618.0        7\n",
       "103             Regular Value Pack Plain Cashews 500 g  355.0       29\n",
       "104  Anjani Anjeer 100% Natural Anjeer (Dry Figs) 500g  385.0       57\n",
       "\n",
       "[105 rows x 3 columns]"
      ]
     },
     "execution_count": 126,
     "metadata": {},
     "output_type": "execute_result"
    }
   ],
   "source": [
    "df"
   ]
  },
  {
   "cell_type": "code",
   "execution_count": 127,
   "id": "3fcaaf4a-7fd1-48e4-927d-295735a82a62",
   "metadata": {
    "tags": []
   },
   "outputs": [],
   "source": [
    "# converting discount column to FLOAT\n",
    "df['Discount'] = df['Discount'].astype(float)\n",
    "print(\"executed......\")"
   ]
  },
  {
   "cell_type": "code",
   "execution_count": 128,
   "id": "42b63ab6-b194-4d76-afa5-969700819d98",
   "metadata": {
    "tags": []
   },
   "outputs": [
    {
     "name": "stdout",
     "output_type": "stream",
     "text": [
      "executed..........\n"
     ]
    }
   ],
   "source": [
    "df['Price'] = pd.to_numeric(df['Price'], errors='coerce')\n",
    "df['Discount'] = pd.to_numeric(df['Discount'], errors='coerce')\n",
    "print(\"executed..........\")"
   ]
  },
  {
   "cell_type": "code",
   "execution_count": 129,
   "id": "241ae85a-a032-4aed-a315-455ebbcc54eb",
   "metadata": {
    "tags": []
   },
   "outputs": [
    {
     "name": "stdout",
     "output_type": "stream",
     "text": [
      "executed..........\n"
     ]
    }
   ],
   "source": [
    "df['Original Price'] = df['Price']/ (1-df['Discount']/100)\n",
    "print('executed..........')"
   ]
  },
  {
   "cell_type": "code",
   "execution_count": 130,
   "id": "1356fd03-b94c-4ea9-811c-39580dbd3083",
   "metadata": {
    "tags": []
   },
   "outputs": [
    {
     "name": "stdout",
     "output_type": "stream",
     "text": [
      "executed ...... ...... ..\n"
     ]
    }
   ],
   "source": [
    "df['Original Price'] = round(df['Original Price'])\n",
    "print('executed ...... ...... ..')"
   ]
  },
  {
   "cell_type": "code",
   "execution_count": 131,
   "id": "8d132ac6-675c-4964-9761-46182d9a0e85",
   "metadata": {
    "tags": []
   },
   "outputs": [
    {
     "data": {
      "text/plain": [
       "3925.0"
      ]
     },
     "execution_count": 131,
     "metadata": {},
     "output_type": "execute_result"
    }
   ],
   "source": [
    "df['Original Price'].max()"
   ]
  },
  {
   "cell_type": "code",
   "execution_count": 132,
   "id": "4d23f3d1-3399-4313-986f-c8f4da963510",
   "metadata": {
    "tags": []
   },
   "outputs": [],
   "source": [
    "df.to_csv('Jiomart_staples(14-02-2024).csv',index=False)"
   ]
  },
  {
   "cell_type": "markdown",
   "id": "83721a4b-cea3-4b20-a4ba-c6bb7cfcf6f9",
   "metadata": {},
   "source": [
    "### Snacks"
   ]
  },
  {
   "cell_type": "code",
   "execution_count": null,
   "id": "8460ed9f-d6af-49f7-a12c-59faa3a4627a",
   "metadata": {},
   "outputs": [],
   "source": []
  }
 ],
 "metadata": {
  "kernelspec": {
   "display_name": "Python 3 (ipykernel)",
   "language": "python",
   "name": "python3"
  },
  "language_info": {
   "codemirror_mode": {
    "name": "ipython",
    "version": 3
   },
   "file_extension": ".py",
   "mimetype": "text/x-python",
   "name": "python",
   "nbconvert_exporter": "python",
   "pygments_lexer": "ipython3",
   "version": "3.11.5"
  }
 },
 "nbformat": 4,
 "nbformat_minor": 5
}
