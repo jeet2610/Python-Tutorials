{
 "cells": [
  {
   "cell_type": "code",
   "execution_count": 10,
   "id": "d6dc9f60-74eb-4289-9a30-5ad3485fc635",
   "metadata": {
    "tags": []
   },
   "outputs": [
    {
     "name": "stdout",
     "output_type": "stream",
     "text": [
      "                            OLS Regression Results                            \n",
      "==============================================================================\n",
      "Dep. Variable:        Calorie_Burnage   R-squared:                       0.000\n",
      "Model:                            OLS   Adj. R-squared:                 -0.006\n",
      "Method:                 Least Squares   F-statistic:                   0.04975\n",
      "Date:                Thu, 22 Feb 2024   Prob (F-statistic):              0.824\n",
      "Time:                        11:23:02   Log-Likelihood:                -1145.8\n",
      "No. Observations:                 163   AIC:                             2296.\n",
      "Df Residuals:                     161   BIC:                             2302.\n",
      "Df Model:                           1                                         \n",
      "Covariance Type:            nonrobust                                         \n",
      "=================================================================================\n",
      "                    coef    std err          t      P>|t|      [0.025      0.975]\n",
      "---------------------------------------------------------------------------------\n",
      "Intercept       346.8662    160.615      2.160      0.032      29.682     664.050\n",
      "Average_Pulse     0.3296      1.478      0.223      0.824      -2.588       3.247\n",
      "==============================================================================\n",
      "Omnibus:                      124.542   Durbin-Watson:                   1.620\n",
      "Prob(Omnibus):                  0.000   Jarque-Bera (JB):              938.541\n",
      "Skew:                           2.927   Prob(JB):                    1.58e-204\n",
      "Kurtosis:                      13.195   Cond. No.                         811.\n",
      "==============================================================================\n",
      "\n",
      "Notes:\n",
      "[1] Standard Errors assume that the covariance matrix of the errors is correctly specified.\n"
     ]
    }
   ],
   "source": [
    "import pandas as pd\n",
    "import matplotlib.pyplot as plt\n",
    "import statsmodels.formula.api as smf\n",
    "\n",
    "full_health_data = pd.read_csv('dataset/data_updated.csv')\n",
    "model = smf.ols('Calorie_Burnage ~ Average_Pulse',data=full_health_data)\n",
    "results = model.fit()\n",
    "print(results.summary())"
   ]
  },
  {
   "cell_type": "markdown",
   "id": "e43218df-a705-4509-85ca-09569895e828",
   "metadata": {},
   "source": [
    "### Coefficients"
   ]
  },
  {
   "cell_type": "code",
   "execution_count": 12,
   "id": "39e85665-14b6-46c2-b767-94ef3c243a06",
   "metadata": {
    "tags": []
   },
   "outputs": [
    {
     "name": "stdout",
     "output_type": "stream",
     "text": [
      "386.4182\n",
      "379.8262\n"
     ]
    }
   ],
   "source": [
    "def Predict_Calorie(Average_Pulse):\n",
    "    return (0.3296*Average_Pulse + 346.8662)\n",
    "print(Predict_Calorie(120))\n",
    "print(Predict_Calorie(100))"
   ]
  },
  {
   "cell_type": "markdown",
   "id": "e0d66e5d-66cd-4832-9b60-d1d55bfd59cb",
   "metadata": {
    "tags": []
   },
   "source": [
    "### Visual Example of a High R-Squared Value "
   ]
  },
  {
   "cell_type": "code",
   "execution_count": 14,
   "id": "8a5c1a2d-1855-4d4f-81c6-cce384c6c9f8",
   "metadata": {
    "tags": []
   },
   "outputs": [],
   "source": [
    "import pandas as pd\n",
    "import matplotlib.pyplot as plt\n",
    "from scipy import stats"
   ]
  },
  {
   "cell_type": "code",
   "execution_count": 15,
   "id": "142cec18-3a32-466a-97c9-77588ce19089",
   "metadata": {
    "tags": []
   },
   "outputs": [],
   "source": [
    "full_health_data = pd.read_csv(\"dataset/data_updated.csv\")\n",
    "x = full_health_data[\"Duration\"]\n",
    "y = full_health_data[\"Calorie_Burnage\"]"
   ]
  },
  {
   "cell_type": "code",
   "execution_count": 17,
   "id": "32de8fd0-e898-48dd-9685-2b91a68f1ef1",
   "metadata": {
    "tags": []
   },
   "outputs": [
    {
     "name": "stdout",
     "output_type": "stream",
     "text": [
      "0.8880545180090471\n"
     ]
    },
    {
     "data": {
      "text/plain": [
       "[]"
      ]
     },
     "execution_count": 17,
     "metadata": {},
     "output_type": "execute_result"
    },
    {
     "data": {
      "image/png": "[encoded data removed]",
      "text/plain": [
       "<Figure size 640x480 with 1 Axes>"
      ]
     },
     "metadata": {},
     "output_type": "display_data"
    }
   ],
   "source": [
    "slope, intercept, r, p, std_err = stats.linregress(x,y)\n",
    "print(r)\n",
    "def myfunc(x):\n",
    "    return slope*x+ intercept\n",
    "\n",
    "mymodel = list(map(myfunc,x))\n",
    "plt.scatter(x,y)\n",
    "plt.plot(x,mymodel)\n",
    "plt.plot()"
   ]
  },
  {
   "cell_type": "markdown",
   "id": "4424b546-d858-4fbd-878f-e08d941d239d",
   "metadata": {
    "tags": []
   },
   "source": [
    "## Average Pulse + Duration and Calorie_Burnage"
   ]
  },
  {
   "cell_type": "code",
   "execution_count": 29,
   "id": "4f70e26a-b50a-456c-84f6-739774a5b727",
   "metadata": {
    "tags": []
   },
   "outputs": [
    {
     "name": "stdout",
     "output_type": "stream",
     "text": [
      "0      170\n",
      "1      177\n",
      "2      163\n",
      "3      154\n",
      "4      162\n",
      "      ... \n",
      "158    165\n",
      "159    170\n",
      "160    175\n",
      "161    195\n",
      "162    200\n",
      "Length: 163, dtype: int64\n",
      "0.8925972721903734\n"
     ]
    },
    {
     "data": {
      "image/png": "[encoded data removed]",
      "text/plain": [
       "<Figure size 640x480 with 1 Axes>"
      ]
     },
     "metadata": {},
     "output_type": "display_data"
    }
   ],
   "source": [
    "full_health_data = pd.read_csv(\"dataset/data_updated.csv\")\n",
    "x = full_health_data['Duration']+full_health_data['Average_Pulse']\n",
    "y = full_health_data['Calorie_Burnage']\n",
    "print(x)\n",
    "slope, intercept,r, p, std_err = stats.linregress(x,y)\n",
    "print(r)\n",
    "def myfunc(x):\n",
    "    return slope*x+intercept\n",
    "mymodel = list(map(myfunc,x))\n",
    "plt.scatter(x,y)\n",
    "plt.plot(x,mymodel)\n",
    "plt.show()"
   ]
  },
  {
   "cell_type": "markdown",
   "id": "6c844009-4ea6-4582-8c37-3fe77558fb2c",
   "metadata": {
    "tags": []
   },
   "source": [
    "## linear regression case"
   ]
  },
  {
   "cell_type": "code",
   "execution_count": 31,
   "id": "8020cef2-6012-437b-b72f-efd2246cf114",
   "metadata": {
    "tags": []
   },
   "outputs": [
    {
     "name": "stdout",
     "output_type": "stream",
     "text": [
      "                            OLS Regression Results                            \n",
      "==============================================================================\n",
      "Dep. Variable:        Calorie_Burnage   R-squared:                       0.816\n",
      "Model:                            OLS   Adj. R-squared:                  0.814\n",
      "Method:                 Least Squares   F-statistic:                     355.8\n",
      "Date:                Thu, 22 Feb 2024   Prob (F-statistic):           1.27e-59\n",
      "Time:                        12:42:27   Log-Likelihood:                -1007.7\n",
      "No. Observations:                 163   AIC:                             2021.\n",
      "Df Residuals:                     160   BIC:                             2031.\n",
      "Df Model:                           2                                         \n",
      "Covariance Type:            nonrobust                                         \n",
      "=================================================================================\n",
      "                    coef    std err          t      P>|t|      [0.025      0.975]\n",
      "---------------------------------------------------------------------------------\n",
      "Intercept      -334.5194     73.616     -4.544      0.000    -479.904    -189.135\n",
      "Average_Pulse     3.1695      0.644      4.922      0.000       1.898       4.441\n",
      "Duration          5.8424      0.219     26.671      0.000       5.410       6.275\n",
      "==============================================================================\n",
      "Omnibus:                      160.167   Durbin-Watson:                   2.339\n",
      "Prob(Omnibus):                  0.000   Jarque-Bera (JB):             5096.292\n",
      "Skew:                           3.383   Prob(JB):                         0.00\n",
      "Kurtosis:                      29.544   Cond. No.                     1.02e+03\n",
      "==============================================================================\n",
      "\n",
      "Notes:\n",
      "[1] Standard Errors assume that the covariance matrix of the errors is correctly specified.\n",
      "[2] The condition number is large, 1.02e+03. This might indicate that there are\n",
      "strong multicollinearity or other numerical problems.\n"
     ]
    }
   ],
   "source": [
    "import pandas as pd\n",
    "import statsmodels.formula.api as smf\n",
    "full_health_data = pd.read_csv('dataset/data_updated.csv',header=0,sep=',')\n",
    "model = smf.ols('Calorie_Burnage ~ Average_Pulse + Duration',data = full_health_data)\n",
    "results = model.fit()\n",
    "print(results.summary())"
   ]
  },
  {
   "cell_type": "code",
   "execution_count": null,
   "id": "d2007cc9-202a-4cad-a84f-4bde177f4a32",
   "metadata": {},
   "outputs": [],
   "source": []
  },
  {
   "cell_type": "code",
   "execution_count": null,
   "id": "799c51de-6fdd-4591-8208-d8558ad870e4",
   "metadata": {},
   "outputs": [],
   "source": []
  },
  {
   "cell_type": "code",
   "execution_count": null,
   "id": "b7eca8de-2e5c-4962-978e-e7dfc3f275d7",
   "metadata": {},
   "outputs": [],
   "source": []
  },
  {
   "cell_type": "code",
   "execution_count": null,
   "id": "421344c8-6415-42b0-a80d-0d9c7d84c064",
   "metadata": {},
   "outputs": [],
   "source": []
  },
  {
   "cell_type": "code",
   "execution_count": 26,
   "id": "643957f9-ee1c-4301-ae3d-dcad3147a481",
   "metadata": {
    "scrolled": true,
    "tags": []
   },
   "outputs": [
    {
     "data": {
      "text/html": [
       "<div>\n",
       "<style scoped>\n",
       "    .dataframe tbody tr th:only-of-type {\n",
       "        vertical-align: middle;\n",
       "    }\n",
       "\n",
       "    .dataframe tbody tr th {\n",
       "        vertical-align: top;\n",
       "    }\n",
       "\n",
       "    .dataframe thead th {\n",
       "        text-align: right;\n",
       "    }\n",
       "</style>\n",
       "<table border=\"1\" class=\"dataframe\">\n",
       "  <thead>\n",
       "    <tr style=\"text-align: right;\">\n",
       "      <th></th>\n",
       "      <th>Duration</th>\n",
       "      <th>Average_Pulse</th>\n",
       "      <th>Max_Pulse</th>\n",
       "      <th>Calorie_Burnage</th>\n",
       "      <th>Hours_Work</th>\n",
       "      <th>Hours_Sleep</th>\n",
       "    </tr>\n",
       "  </thead>\n",
       "  <tbody>\n",
       "    <tr>\n",
       "      <th>0</th>\n",
       "      <td>60</td>\n",
       "      <td>110</td>\n",
       "      <td>130</td>\n",
       "      <td>409</td>\n",
       "      <td>0.0</td>\n",
       "      <td>8.0</td>\n",
       "    </tr>\n",
       "    <tr>\n",
       "      <th>1</th>\n",
       "      <td>60</td>\n",
       "      <td>117</td>\n",
       "      <td>145</td>\n",
       "      <td>479</td>\n",
       "      <td>0.0</td>\n",
       "      <td>8.0</td>\n",
       "    </tr>\n",
       "    <tr>\n",
       "      <th>2</th>\n",
       "      <td>60</td>\n",
       "      <td>103</td>\n",
       "      <td>135</td>\n",
       "      <td>340</td>\n",
       "      <td>8.0</td>\n",
       "      <td>7.5</td>\n",
       "    </tr>\n",
       "    <tr>\n",
       "      <th>3</th>\n",
       "      <td>45</td>\n",
       "      <td>109</td>\n",
       "      <td>175</td>\n",
       "      <td>282</td>\n",
       "      <td>8.0</td>\n",
       "      <td>8.0</td>\n",
       "    </tr>\n",
       "    <tr>\n",
       "      <th>4</th>\n",
       "      <td>45</td>\n",
       "      <td>117</td>\n",
       "      <td>148</td>\n",
       "      <td>406</td>\n",
       "      <td>0.0</td>\n",
       "      <td>6.5</td>\n",
       "    </tr>\n",
       "    <tr>\n",
       "      <th>...</th>\n",
       "      <td>...</td>\n",
       "      <td>...</td>\n",
       "      <td>...</td>\n",
       "      <td>...</td>\n",
       "      <td>...</td>\n",
       "      <td>...</td>\n",
       "    </tr>\n",
       "    <tr>\n",
       "      <th>158</th>\n",
       "      <td>60</td>\n",
       "      <td>105</td>\n",
       "      <td>140</td>\n",
       "      <td>290</td>\n",
       "      <td>7.0</td>\n",
       "      <td>8.0</td>\n",
       "    </tr>\n",
       "    <tr>\n",
       "      <th>159</th>\n",
       "      <td>60</td>\n",
       "      <td>110</td>\n",
       "      <td>145</td>\n",
       "      <td>300</td>\n",
       "      <td>7.0</td>\n",
       "      <td>8.0</td>\n",
       "    </tr>\n",
       "    <tr>\n",
       "      <th>160</th>\n",
       "      <td>60</td>\n",
       "      <td>115</td>\n",
       "      <td>145</td>\n",
       "      <td>310</td>\n",
       "      <td>8.0</td>\n",
       "      <td>8.0</td>\n",
       "    </tr>\n",
       "    <tr>\n",
       "      <th>161</th>\n",
       "      <td>75</td>\n",
       "      <td>120</td>\n",
       "      <td>150</td>\n",
       "      <td>320</td>\n",
       "      <td>0.0</td>\n",
       "      <td>8.0</td>\n",
       "    </tr>\n",
       "    <tr>\n",
       "      <th>162</th>\n",
       "      <td>75</td>\n",
       "      <td>125</td>\n",
       "      <td>150</td>\n",
       "      <td>330</td>\n",
       "      <td>8.0</td>\n",
       "      <td>8.0</td>\n",
       "    </tr>\n",
       "  </tbody>\n",
       "</table>\n",
       "<p>163 rows × 6 columns</p>\n",
       "</div>"
      ],
      "text/plain": [
       "     Duration  Average_Pulse  ...  Hours_Work  Hours_Sleep\n",
       "0          60            110  ...         0.0          8.0\n",
       "1          60            117  ...         0.0          8.0\n",
       "2          60            103  ...         8.0          7.5\n",
       "3          45            109  ...         8.0          8.0\n",
       "4          45            117  ...         0.0          6.5\n",
       "..        ...            ...  ...         ...          ...\n",
       "158        60            105  ...         7.0          8.0\n",
       "159        60            110  ...         7.0          8.0\n",
       "160        60            115  ...         8.0          8.0\n",
       "161        75            120  ...         0.0          8.0\n",
       "162        75            125  ...         8.0          8.0\n",
       "\n",
       "[163 rows x 6 columns]"
      ]
     },
     "execution_count": 26,
     "metadata": {},
     "output_type": "execute_result"
    }
   ],
   "source": [
    "full_health_data"
   ]
  }
 ],
 "metadata": {
  "kernelspec": {
   "display_name": "Python 3 (ipykernel)",
   "language": "python",
   "name": "python3"
  },
  "language_info": {
   "codemirror_mode": {
    "name": "ipython",
    "version": 3
   },
   "file_extension": ".py",
   "mimetype": "text/x-python",
   "name": "python",
   "nbconvert_exporter": "python",
   "pygments_lexer": "ipython3",
   "version": "3.11.5"
  }
 },
 "nbformat": 4,
 "nbformat_minor": 5
}
