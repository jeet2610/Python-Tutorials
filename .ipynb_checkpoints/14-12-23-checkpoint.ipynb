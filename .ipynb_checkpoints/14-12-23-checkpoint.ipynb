{
 "cells": [
  {
   "cell_type": "code",
   "execution_count": 81,
   "id": "4677583b-99b1-4b7b-bc3e-882d75139641",
   "metadata": {
    "tags": []
   },
   "outputs": [],
   "source": [
    "import numpy as np\n",
    "from numpy import random"
   ]
  },
  {
   "cell_type": "markdown",
   "id": "8765bb13-507b-4b32-842b-5164a2629e04",
   "metadata": {
    "jp-MarkdownHeadingCollapsed": true,
    "tags": []
   },
   "source": [
    "###### Test whether two arrays are element-wise equal within a tolerance"
   ]
  },
  {
   "cell_type": "code",
   "execution_count": 48,
   "id": "1124bd1a-8787-4207-96e8-2c252f6d43ee",
   "metadata": {
    "tags": []
   },
   "outputs": [
    {
     "name": "stdout",
     "output_type": "stream",
     "text": [
      "Arrays are element-wise equal within the tolerance.\n"
     ]
    }
   ],
   "source": [
    "\n",
    "import numpy as np\n",
    "from numpy import random\n",
    "\n",
    "array1 = random.rand(1,5)\n",
    "array2 = random.rand(1,5)\n",
    "\n",
    "# Define a tolerance value\n",
    "tolerance = 1.05\n",
    "\n",
    "# Check if arrays are element-wise equal within the tolerance\n",
    "result = np.allclose(array1, array2, rtol=tolerance)\n",
    "\n",
    "if result:\n",
    "    print(\"Arrays are element-wise equal within the tolerance.\")\n",
    "else:\n",
    "    print(\"Arrays are not element-wise equal within the tolerance.\")\n"
   ]
  },
  {
   "cell_type": "markdown",
   "id": "9c8fc516-3f7e-4900-a3e9-9c5779bb4979",
   "metadata": {
    "jp-MarkdownHeadingCollapsed": true,
    "tags": []
   },
   "source": [
    "###### Write a NumPy program to create an element-wise comparison (greater, greater_equal, less and less_equal) of two given arrays"
   ]
  },
  {
   "cell_type": "code",
   "execution_count": 56,
   "id": "7bf3a6b2-bed4-4b75-a925-a619dce7cb00",
   "metadata": {
    "tags": []
   },
   "outputs": [
    {
     "name": "stdout",
     "output_type": "stream",
     "text": [
      "Original array\n",
      "[3 6 2 3 9 6 8 2 9 3]\n",
      "[3 0 8 2 3 0 4 2 0 4]\n",
      "Greater Than\n",
      "[False  True False  True  True  True  True False  True False]\n",
      "Greater Than Equal\n",
      "[ True  True False  True  True  True  True  True  True False]\n",
      "Less Than\n",
      "[False False  True False False False False False False  True]\n",
      "Less than Equal To\n",
      "[ True False  True False False False False  True False  True]\n"
     ]
    }
   ],
   "source": [
    "import numpy as np\n",
    "from numpy import random\n",
    "arr1 = random.randint(10,size =10)\n",
    "arr2 = random.randint(10,size =10)\n",
    "x = np.array(arr1)\n",
    "y = np.array(arr2)\n",
    "print(\"Original array\")\n",
    "print(x)\n",
    "print(y)\n",
    "print(\"Greater Than\")\n",
    "print(np.greater(x,y))\n",
    "print(\"Greater Than Equal\")\n",
    "print(np.greater_equal(x,y))\n",
    "print(\"Less Than\")\n",
    "print(np.less(x,y))\n",
    "print(\"Less than Equal To\")\n",
    "print(np.less_equal(x,y))"
   ]
  },
  {
   "cell_type": "markdown",
   "id": "94088f66-ada5-47ff-9a3f-c78f430d97f6",
   "metadata": {
    "jp-MarkdownHeadingCollapsed": true,
    "tags": []
   },
   "source": [
    "###### Write a NumPy program to create an array with the values 1, 7, 13, 105 and determine the size of the memory occupied by the array "
   ]
  },
  {
   "cell_type": "code",
   "execution_count": 57,
   "id": "df30bd3e-5685-466f-83d1-e24bf652ce4a",
   "metadata": {
    "tags": []
   },
   "outputs": [
    {
     "name": "stdout",
     "output_type": "stream",
     "text": [
      "Original Array\n",
      "[  1   7  13 105]\n",
      "Memory occupied\n",
      "16 bytes\n"
     ]
    }
   ],
   "source": [
    "import numpy as np\n",
    "X = np.array([1, 7, 13, 105])\n",
    "print(\"Original Array\")\n",
    "print(X)\n",
    "print(\"Memory occupied\")\n",
    "print(\"%d bytes\"%(X.size * X.itemsize))"
   ]
  },
  {
   "cell_type": "markdown",
   "id": "efa1220b-0fbd-4175-b486-b35ffb566181",
   "metadata": {
    "jp-MarkdownHeadingCollapsed": true,
    "tags": []
   },
   "source": [
    "###### Write a NumPy program to create an array of 10 zeros, 10 ones, and 10 fives"
   ]
  },
  {
   "cell_type": "code",
   "execution_count": 65,
   "id": "0d81e26b-b15c-48fe-8a28-9406f781b48b",
   "metadata": {
    "tags": []
   },
   "outputs": [
    {
     "name": "stdout",
     "output_type": "stream",
     "text": [
      "Aray of 10 Zeros\n",
      "[0. 0. 0. 0. 0. 0. 0. 0. 0. 0.]\n",
      "Array of 10 ones\n",
      "[1. 1. 1. 1. 1. 1. 1. 1. 1. 1.]\n",
      "Array of 10 Fives\n",
      "[5. 5. 5. 5. 5. 5. 5. 5. 5. 5.]\n"
     ]
    }
   ],
   "source": [
    "import numpy as np\n",
    "arr_zeros = np.zeros(10)\n",
    "print(\"Aray of 10 Zeros\")\n",
    "print(arr_zeros)\n",
    "arr_ones = np.ones(10)\n",
    "print(\"Array of 10 ones\")\n",
    "print(arr_ones)\n",
    "arr_fives = np.ones(10)*5\n",
    "print(\"Array of 10 Fives\")\n",
    "print(arr_fives)"
   ]
  },
  {
   "cell_type": "markdown",
   "id": "a61166c9-9b33-4668-9c4f-7dc16beddcac",
   "metadata": {
    "jp-MarkdownHeadingCollapsed": true,
    "tags": []
   },
   "source": [
    "###### Write a NumPy program to create an array of integers from 30 to 70"
   ]
  },
  {
   "cell_type": "code",
   "execution_count": 69,
   "id": "a3bea200-10fe-48c6-b03e-f3dbfb2fd2c7",
   "metadata": {
    "tags": []
   },
   "outputs": [
    {
     "name": "stdout",
     "output_type": "stream",
     "text": [
      "Printing Array from Range(30 to 70): [30 31 32 33 34 35 36 37 38 39 40 41 42 43 44 45 46 47 48 49 50 51 52 53\n",
      " 54 55 56 57 58 59 60 61 62 63 64 65 66 67 68 69 70]\n"
     ]
    }
   ],
   "source": [
    "import numpy as np\n",
    "array = np.arange(30,71)\n",
    "\n",
    "print(\"Printing Array from Range(30 to 70):\",array)"
   ]
  },
  {
   "cell_type": "markdown",
   "id": "64329db2-cf7f-4c94-a1d7-3678ef3caad9",
   "metadata": {
    "jp-MarkdownHeadingCollapsed": true,
    "tags": []
   },
   "source": [
    "###### Write a NumPy program to create an array of all even integers from 30 to 70."
   ]
  },
  {
   "cell_type": "code",
   "execution_count": 70,
   "id": "fa3364af-95cb-4e7c-8dec-1d8d26d983bb",
   "metadata": {
    "tags": []
   },
   "outputs": [
    {
     "name": "stdout",
     "output_type": "stream",
     "text": [
      "Array from range(30 to 70) EVEN [30 32 34 36 38 40 42 44 46 48 50 52 54 56 58 60 62 64 66 68 70]\n"
     ]
    }
   ],
   "source": [
    "import numpy as np\n",
    "arr1 = np.arange(30,71,2)\n",
    "print(\"Array from range(30 to 70) EVEN\",arr1)"
   ]
  },
  {
   "cell_type": "markdown",
   "id": "e3e41947-edd2-4e39-b8b1-59c59431be07",
   "metadata": {
    "jp-MarkdownHeadingCollapsed": true,
    "tags": []
   },
   "source": [
    "###### Write a NumPy program to create a 3x3 identity matrix"
   ]
  },
  {
   "cell_type": "code",
   "execution_count": 73,
   "id": "3f54763d-5a20-46cd-a131-4f793f12585c",
   "metadata": {
    "tags": []
   },
   "outputs": [
    {
     "name": "stdout",
     "output_type": "stream",
     "text": [
      "[[3 6 3]\n",
      " [4 3 2]\n",
      " [4 1 4]]\n"
     ]
    }
   ],
   "source": [
    "import numpy as np\n",
    "A = random.randint(10,size=(3,3))\n",
    "print(A)"
   ]
  },
  {
   "cell_type": "markdown",
   "id": "2d9be86a-84f6-4159-872a-30d7bd358fc4",
   "metadata": {
    "jp-MarkdownHeadingCollapsed": true,
    "tags": []
   },
   "source": [
    "###### Write a NumPy program to generate a random number between 0 and 1"
   ]
  },
  {
   "cell_type": "code",
   "execution_count": 80,
   "id": "ee499875-4ea1-41c2-908c-e57f5bf19b84",
   "metadata": {
    "tags": []
   },
   "outputs": [
    {
     "name": "stdout",
     "output_type": "stream",
     "text": [
      "[0]\n"
     ]
    }
   ],
   "source": [
    "import numpy as np\n",
    "from numpy import random\n",
    "r_num = random.randint(2,size=1)\n",
    "print(r_num)"
   ]
  },
  {
   "cell_type": "markdown",
   "id": "9e198582-cb18-43c0-9084-96777dd60940",
   "metadata": {
    "jp-MarkdownHeadingCollapsed": true,
    "tags": []
   },
   "source": [
    "###### Write a NumPy program to generate an array of 15 random numbers from a standard normal distribution"
   ]
  },
  {
   "cell_type": "code",
   "execution_count": 84,
   "id": "173a87e9-a581-4299-9bec-222c9faaf489",
   "metadata": {
    "tags": []
   },
   "outputs": [
    {
     "name": "stdout",
     "output_type": "stream",
     "text": [
      "Standard Normal Distribution\n",
      "[ 1.60869239 -0.23220683 -1.26442497  3.71054105  1.61162503  1.4418064\n",
      "  3.5256992   0.56979656  2.07039174 -0.05142473 -0.30432492  3.72015853\n",
      "  1.39919565 -0.45064404  0.60565814]\n"
     ]
    }
   ],
   "source": [
    "normal = random.normal(1,2,size=15)\n",
    "print(\"Standard Normal Distribution\")\n",
    "print(normal)"
   ]
  },
  {
   "cell_type": "markdown",
   "id": "9b44213c-8eec-4013-b7d2-641a624e0d81",
   "metadata": {},
   "source": [
    "###### Write a NumPy program to create a vector with values ranging from 15 to 55 and print all values except the first and last"
   ]
  },
  {
   "cell_type": "code",
   "execution_count": 86,
   "id": "7262a8af-e1d3-4c02-aa59-3ef9f84ca38c",
   "metadata": {
    "tags": []
   },
   "outputs": [
    {
     "name": "stdout",
     "output_type": "stream",
     "text": [
      "Original Array\n",
      "[15 16 17 18 19 20 21 22 23 24 25 26 27 28 29 30 31 32 33 34 35 36 37 38\n",
      " 39 40 41 42 43 44 45 46 47 48 49 50 51 52 53 54 55]\n",
      "Array Except first and last element\n",
      "[16 17 18 19 20 21 22 23 24 25 26 27 28 29 30 31 32 33 34 35 36 37 38 39\n",
      " 40 41 42 43 44 45 46 47 48 49 50 51 52 53 54]\n"
     ]
    }
   ],
   "source": [
    "arr_vector = np.arange(15,56)\n",
    "print(\"Original Array\")\n",
    "print(arr_vector)\n",
    "print(\"Array Except first and last element\")\n",
    "print(arr_vector[1:-1])"
   ]
  },
  {
   "cell_type": "markdown",
   "id": "5d30c3a5-6edf-4b91-a3cf-9c992b4ef1d5",
   "metadata": {
    "jp-MarkdownHeadingCollapsed": true,
    "tags": []
   },
   "source": [
    "###### Write a NumPy program to create a 3X4 array and iterate over it"
   ]
  },
  {
   "cell_type": "code",
   "execution_count": 93,
   "id": "221f95c0-e049-49f1-969e-74e04a945a49",
   "metadata": {
    "collapsed": true,
    "jupyter": {
     "outputs_hidden": true
    },
    "tags": []
   },
   "outputs": [
    {
     "name": "stdout",
     "output_type": "stream",
     "text": [
      "Original Array: \n",
      "[[94 47 81 93]\n",
      " [23  5 93 74]\n",
      " [79 89 47 85]]\n",
      "Iterated Array: \n",
      "94\n",
      "47\n",
      "81\n",
      "93\n",
      "23\n",
      "5\n",
      "93\n",
      "74\n",
      "79\n",
      "89\n",
      "47\n",
      "85\n"
     ]
    }
   ],
   "source": [
    "array = random.randint(100,size=(3,4))\n",
    "print(\"Original Array: \")\n",
    "print(array)\n",
    "print(\"Iterated Array: \")\n",
    "for i in np.nditer(array):\n",
    "    print(i)"
   ]
  },
  {
   "cell_type": "markdown",
   "id": "ccd3459c-1124-455b-9d68-98b179c0d4ed",
   "metadata": {
    "jp-MarkdownHeadingCollapsed": true,
    "tags": []
   },
   "source": [
    "###### Write a NumPy program to create a vector of length 10 with values evenly distributed between 5 and 50"
   ]
  },
  {
   "cell_type": "code",
   "execution_count": 108,
   "id": "a6f3b50e-1c72-4781-824c-41a5f433623a",
   "metadata": {
    "tags": []
   },
   "outputs": [
    {
     "name": "stdout",
     "output_type": "stream",
     "text": [
      "[ 5. 10. 15. 20. 25. 30. 35. 40. 45. 50.]\n"
     ]
    }
   ],
   "source": [
    "a1 = np.linspace(5,50,10)\n",
    "print(a1)"
   ]
  },
  {
   "cell_type": "markdown",
   "id": "a5119743-b778-4a14-be04-aea12b05a74b",
   "metadata": {
    "jp-MarkdownHeadingCollapsed": true,
    "tags": []
   },
   "source": [
    "###### Write a NumPy program to create a vector with values from 0 to 20 and change the sign of the numbers in the range from 9 to 15"
   ]
  },
  {
   "cell_type": "code",
   "execution_count": 112,
   "id": "2c740806-6524-4475-affe-5b4648d01608",
   "metadata": {
    "tags": []
   },
   "outputs": [
    {
     "name": "stdout",
     "output_type": "stream",
     "text": [
      "Original Array\n",
      "[ 9  3  9  8 17 12 13 17 17  5 17  5  5 12 18 14  9  9  5  2]\n",
      "Changed Vector Array\n",
      "[ -9   3  -9   8  17 -12 -13  17  17   5  17   5   5 -12  18 -14  -9  -9\n",
      "   5   2]\n"
     ]
    }
   ],
   "source": [
    "B = random.randint(20,size=20)\n",
    "print(\"Original Array\")\n",
    "print(B)\n",
    "B[(B>=9)&(B<=15)] *=-1\n",
    "print(\"Changed Vector Array\")\n",
    "print(B)"
   ]
  },
  {
   "cell_type": "markdown",
   "id": "2b6b6331-27e2-4fb8-a902-0771ab6d285b",
   "metadata": {
    "jp-MarkdownHeadingCollapsed": true,
    "tags": []
   },
   "source": [
    "###### Write a NumPy program to create a vector of length 5 filled with arbitrary integers from 0 to 10."
   ]
  },
  {
   "cell_type": "code",
   "execution_count": 114,
   "id": "3708a006-b367-4c6d-8033-3b250a65ec9a",
   "metadata": {
    "tags": []
   },
   "outputs": [
    {
     "name": "stdout",
     "output_type": "stream",
     "text": [
      "[ 9  1  0 10  9]\n"
     ]
    }
   ],
   "source": [
    "C = random.randint(0,11,size=5)\n",
    "print(C)"
   ]
  },
  {
   "cell_type": "markdown",
   "id": "500dbaa0-aabf-4262-adb3-45ceb26a4426",
   "metadata": {
    "jp-MarkdownHeadingCollapsed": true,
    "tags": []
   },
   "source": [
    "###### Write a NumPy program to multiply the values of two given vectors.\n"
   ]
  },
  {
   "cell_type": "code",
   "execution_count": 115,
   "id": "67419814-140f-4fea-aa29-1b0c5df23bdf",
   "metadata": {
    "tags": []
   },
   "outputs": [
    {
     "name": "stdout",
     "output_type": "stream",
     "text": [
      "Original Array\n",
      "[2 4 1 3 2]\n",
      "[9 6 8 7 8]\n",
      "Multiplied Array\n",
      "[18 24  8 21 16]\n"
     ]
    }
   ],
   "source": [
    "x = random.randint(1,5,5)\n",
    "y = random.randint(5,10,5)\n",
    "print(\"Original Array\")\n",
    "print(x)\n",
    "print(y)\n",
    "print(\"Multiplied Array\")\n",
    "print(x*y)\n"
   ]
  },
  {
   "cell_type": "markdown",
   "id": "40a99c10-94cd-47fd-8421-bf0e9c43e590",
   "metadata": {
    "jp-MarkdownHeadingCollapsed": true,
    "tags": []
   },
   "source": [
    "###### Write a NumPy program to create a 3x4 matrix filled with values from 10 to 21"
   ]
  },
  {
   "cell_type": "code",
   "execution_count": 118,
   "id": "c6f6cf1d-945f-4fb6-ab0a-88ff7c684e1c",
   "metadata": {
    "tags": []
   },
   "outputs": [
    {
     "name": "stdout",
     "output_type": "stream",
     "text": [
      "[[15 19 13 14]\n",
      " [14 14 13 20]\n",
      " [19 19 13 19]]\n"
     ]
    }
   ],
   "source": [
    "mat = random.randint(10,21,size=(3,4))\n",
    "print(mat)"
   ]
  },
  {
   "cell_type": "markdown",
   "id": "973af8ed-b236-4bd4-b4d5-1d9bdda2faad",
   "metadata": {
    "jp-MarkdownHeadingCollapsed": true,
    "tags": []
   },
   "source": [
    "###### Write a NumPy program to find the number of rows and columns in a given matrix."
   ]
  },
  {
   "cell_type": "code",
   "execution_count": 124,
   "id": "71045e01-7cc4-4585-a88e-895be9fe548b",
   "metadata": {
    "tags": []
   },
   "outputs": [
    {
     "name": "stdout",
     "output_type": "stream",
     "text": [
      "[[5 4 6 6]\n",
      " [9 4 8 5]\n",
      " [5 9 9 4]]\n",
      "Row =  3 Column = 4\n"
     ]
    }
   ],
   "source": [
    "s = random.randint(4,10,size=(3,4))\n",
    "print(s)\n",
    "print(\"Row = \",s.shape[0],\"Column =\",s.shape[1])"
   ]
  },
  {
   "cell_type": "markdown",
   "id": "6c0b05e6-4bb3-433d-987d-00d86f403717",
   "metadata": {},
   "source": [
    "###### Write a NumPy program to create a 3x3 identity matrix, i.e. the diagonal elements are 1, the rest are 0"
   ]
  },
  {
   "cell_type": "code",
   "execution_count": 217,
   "id": "90254ccf-40bf-4cc5-9335-e90106ebf48e",
   "metadata": {
    "tags": []
   },
   "outputs": [
    {
     "name": "stdout",
     "output_type": "stream",
     "text": [
      "Original Array\n",
      "[[0. 0. 0.]\n",
      " [0. 0. 0.]\n",
      " [0. 0. 0.]]\n",
      "Diagonally printing Ones\n",
      "[[1. 0. 0.]\n",
      " [0. 1. 0.]\n",
      " [0. 0. 1.]]\n"
     ]
    }
   ],
   "source": [
    "matrix = np.zeros((3,3))\n",
    "print(\"Original Array\")\n",
    "print(matrix)\n",
    "for i in range(len(matrix)):\n",
    "    \n",
    "    for j in range(len(matrix[i])):\n",
    "        if i==j:\n",
    "            matrix[i][j]=1\n",
    "print(\"Diagonally printing Ones\")\n",
    "print(matrix)\n",
    "            "
   ]
  },
  {
   "cell_type": "markdown",
   "id": "e23f18e5-9592-4b3a-8c7f-0b563b011f83",
   "metadata": {},
   "source": [
    "###### Write a NumPy program to create a 10x10 matrix, in which the elements on the borders will be equal to 1, and inside 0."
   ]
  },
  {
   "cell_type": "code",
   "execution_count": 238,
   "id": "73cd5ed2-b281-444c-9a24-7f03f26c5803",
   "metadata": {
    "tags": []
   },
   "outputs": [
    {
     "name": "stdout",
     "output_type": "stream",
     "text": [
      "[[1. 1. 1. 1. 1. 1. 1. 1. 1. 1.]\n",
      " [1. 0. 0. 0. 0. 0. 0. 0. 0. 1.]\n",
      " [1. 0. 0. 0. 0. 0. 0. 0. 0. 1.]\n",
      " [1. 0. 0. 0. 0. 0. 0. 0. 0. 1.]\n",
      " [1. 0. 0. 0. 0. 0. 0. 0. 0. 1.]\n",
      " [1. 0. 0. 0. 0. 0. 0. 0. 0. 1.]\n",
      " [1. 0. 0. 0. 0. 0. 0. 0. 0. 1.]\n",
      " [1. 0. 0. 0. 0. 0. 0. 0. 0. 1.]\n",
      " [1. 0. 0. 0. 0. 0. 0. 0. 0. 1.]\n",
      " [1. 1. 1. 1. 1. 1. 1. 1. 1. 1.]]\n",
      "10\n"
     ]
    }
   ],
   "source": [
    "ones = np.zeros((10,10))\n",
    "x =len(ones)\n",
    "for i in range(len(ones)):\n",
    "    for j in range(len(ones[i])):\n",
    "        if j==0:\n",
    "            ones[i][j]=1\n",
    "        if j==x-1:\n",
    "            ones[i][j]=1\n",
    "        if i==x-1:\n",
    "            ones[i][j]=1\n",
    "        if i==0:\n",
    "            ones[i][j]=1\n",
    "print(ones)\n",
    "\n",
    "                 "
   ]
  },
  {
   "cell_type": "code",
   "execution_count": 240,
   "id": "d1fa4f22-00ba-43f1-95d9-b7b3e3434cde",
   "metadata": {
    "tags": []
   },
   "outputs": [
    {
     "name": "stdout",
     "output_type": "stream",
     "text": [
      "[[1. 1. 1. 1. 1. 1.]\n",
      " [1. 0. 0. 0. 0. 1.]\n",
      " [1. 0. 0. 0. 0. 1.]\n",
      " [1. 0. 0. 0. 0. 1.]\n",
      " [1. 0. 0. 0. 0. 1.]\n",
      " [1. 1. 1. 1. 1. 1.]]\n"
     ]
    }
   ],
   "source": [
    "ones = np.zeros((6,6))\n",
    "x =len(ones)\n",
    "for i in range(len(ones)):\n",
    "    for j in range(len(ones[i])):\n",
    "        if j==0:\n",
    "            ones[i][j]=1\n",
    "        if j==x-1:\n",
    "            ones[i][j]=1\n",
    "        if i==x-1:\n",
    "            ones[i][j]=1\n",
    "        if i==0:\n",
    "            ones[i][j]=1\n",
    "print(ones)\n",
    "\n",
    "   "
   ]
  },
  {
   "cell_type": "code",
   "execution_count": 241,
   "id": "c3ffb202-2706-4b3c-b884-24a6c933fe43",
   "metadata": {
    "tags": []
   },
   "outputs": [
    {
     "name": "stdout",
     "output_type": "stream",
     "text": [
      "[[1. 1. 1. 1. 1. 1. 1. 1. 1. 1.]\n",
      " [1. 0. 0. 0. 0. 0. 0. 0. 0. 1.]\n",
      " [1. 0. 0. 0. 0. 0. 0. 0. 0. 1.]\n",
      " [1. 0. 0. 0. 0. 0. 0. 0. 0. 1.]\n",
      " [1. 0. 0. 0. 0. 0. 0. 0. 0. 1.]\n",
      " [1. 0. 0. 0. 0. 0. 0. 0. 0. 1.]\n",
      " [1. 0. 0. 0. 0. 0. 0. 0. 0. 1.]\n",
      " [1. 0. 0. 0. 0. 0. 0. 0. 0. 1.]\n",
      " [1. 0. 0. 0. 0. 0. 0. 0. 0. 1.]\n",
      " [1. 1. 1. 1. 1. 1. 1. 1. 1. 1.]]\n"
     ]
    }
   ],
   "source": [
    "#Second Method\n",
    "\n",
    "x = np.ones((10,10))\n",
    "x[1:-1,1:-1]=0\n",
    "print(x)"
   ]
  },
  {
   "cell_type": "markdown",
   "id": "843d9e95-9b1c-478e-87db-f7a29808fa64",
   "metadata": {},
   "source": [
    "###### Write a NumPy program to create a 5x5 zero matrix with elements on the main diagonal equal to 1, 2, 3, 4, 5.\n",
    "\n"
   ]
  },
  {
   "cell_type": "code",
   "execution_count": 243,
   "id": "3da12bcc-9736-4d2f-9d91-38e368531321",
   "metadata": {
    "tags": []
   },
   "outputs": [
    {
     "name": "stdout",
     "output_type": "stream",
     "text": [
      "[[1 0 0 0 0]\n",
      " [0 2 0 0 0]\n",
      " [0 0 3 0 0]\n",
      " [0 0 0 4 0]\n",
      " [0 0 0 0 5]]\n"
     ]
    }
   ],
   "source": [
    "x = np.diag([1,2,3,4,5])\n",
    "print(x)"
   ]
  },
  {
   "cell_type": "markdown",
   "id": "fea5a4e7-2385-4662-a404-82e957eb7cdb",
   "metadata": {},
   "source": [
    "###### Write a NumPy program to create a 4x4 matrix in which 0 and 1 are staggered, with zeros on the main diagonal"
   ]
  },
  {
   "cell_type": "code",
   "execution_count": 245,
   "id": "4d86bf61-a5a4-47e7-8435-8e02bfb54064",
   "metadata": {
    "tags": []
   },
   "outputs": [
    {
     "name": "stdout",
     "output_type": "stream",
     "text": [
      "[[0. 1. 0. 1.]\n",
      " [1. 0. 1. 0.]\n",
      " [0. 1. 0. 1.]\n",
      " [1. 0. 1. 0.]]\n"
     ]
    }
   ],
   "source": [
    "x = np.zeros((4,4))\n",
    "x[::2,1::2]=1\n",
    "x[1::2,::2]=1\n",
    "print(x)"
   ]
  },
  {
   "cell_type": "markdown",
   "id": "5912a6de-c07e-43f6-8299-e9e407002635",
   "metadata": {},
   "source": [
    "###### Write a NumPy program to create a 3x3x3 array filled with arbitrary values."
   ]
  },
  {
   "cell_type": "code",
   "execution_count": 248,
   "id": "e30f7590-8a60-4e1e-97c4-efc8df340776",
   "metadata": {
    "tags": []
   },
   "outputs": [
    {
     "name": "stdout",
     "output_type": "stream",
     "text": [
      "[[[0.3998958  0.75417859 0.88751052]\n",
      "  [0.24108097 0.01570386 0.35343446]\n",
      "  [0.00298049 0.16091618 0.16680575]]\n",
      "\n",
      " [[0.79687764 0.52044367 0.48544188]\n",
      "  [0.30526776 0.51869981 0.75152944]\n",
      "  [0.98573733 0.64972952 0.47433426]]\n",
      "\n",
      " [[0.88477819 0.09063385 0.51099165]\n",
      "  [0.88230238 0.03507977 0.34326973]\n",
      "  [0.90715698 0.20841189 0.28869741]]]\n"
     ]
    }
   ],
   "source": [
    "x = np.random.random((3,3,3))\n",
    "print(x)"
   ]
  },
  {
   "cell_type": "markdown",
   "id": "51510479-4381-4d8f-9d9f-83607f440b9e",
   "metadata": {
    "jp-MarkdownHeadingCollapsed": true,
    "tags": []
   },
   "source": [
    "###### Write a NumPy program to compute the sum of all elements, the sum of each column and the sum of each row in a given array"
   ]
  },
  {
   "cell_type": "code",
   "execution_count": 257,
   "id": "ea337aef-ba09-4812-9132-5842a7bdfbdc",
   "metadata": {
    "tags": []
   },
   "outputs": [
    {
     "name": "stdout",
     "output_type": "stream",
     "text": [
      "Original Array\n",
      "[[7 1 1]\n",
      " [3 3 8]\n",
      " [3 8 4]]\n",
      "Sum of all elements\n",
      "38\n",
      "Sum of all Columns\n",
      "[13 12 13]\n",
      "Sum of Each Row\n",
      "[ 9 14 15]\n"
     ]
    }
   ],
   "source": [
    "x = random.randint(10,size=(3,3))\n",
    "\n",
    "print(\"Original Array\")\n",
    "print(x)\n",
    "\n",
    "print(\"Sum of all elements\")\n",
    "print(np.sum(x))\n",
    "print(\"Sum of all Columns\")\n",
    "print(np.sum(x,axis=0))\n",
    "print(\"Sum of Each Row\")\n",
    "print(np.sum(x,axis=1))"
   ]
  },
  {
   "cell_type": "markdown",
   "id": "cb56b19a-357c-4feb-98a9-41dd2bb97b88",
   "metadata": {},
   "source": [
    "###### Write a NumPy program to compute the inner product of two given vectors"
   ]
  },
  {
   "cell_type": "code",
   "execution_count": 273,
   "id": "92f8304c-0d90-4e99-9599-c982dc49dc61",
   "metadata": {
    "tags": []
   },
   "outputs": [
    {
     "name": "stdout",
     "output_type": "stream",
     "text": [
      "[8 0] [0 0]\n",
      "Inner Product of said Vectors:\n",
      "0\n"
     ]
    }
   ],
   "source": [
    "x = random.randint(10,size=2)\n",
    "y = random.randint(10,size=2)\n",
    "print(x,y)\n",
    "print(\"Inner Product of said Vectors:\")\n",
    "print(np.dot(x,y))\n",
    "#dot function is used to product the vector.\n"
   ]
  },
  {
   "cell_type": "markdown",
   "id": "a80b0e26-34fd-4bb9-a1f6-6740a88c3109",
   "metadata": {},
   "source": [
    "###### Write a NumPy program to add a vector to each row of a given matrix"
   ]
  },
  {
   "cell_type": "code",
   "execution_count": 276,
   "id": "8641b13b-ea20-4505-8354-960026aab261",
   "metadata": {
    "tags": []
   },
   "outputs": [
    {
     "name": "stdout",
     "output_type": "stream",
     "text": [
      "[[ 4  4 12]\n",
      " [ 7  7 15]\n",
      " [10 10 18]\n",
      " [13 13 21]]\n"
     ]
    }
   ],
   "source": [
    "# empty_like() function refers to the one matrix or vector we want to copy but not the data just the size\n",
    "m = np.array([[1, 2, 3], [4, 5, 6], [7, 8, 9], [10, 11, 12]])\n",
    "v = np.array([3,2,9])\n",
    "\n",
    "result = np.empty_like(m)\n",
    "\n",
    "for i in range(4):\n",
    "    result[i,:]=m[i,:]+v\n",
    "print(result)"
   ]
  },
  {
   "cell_type": "markdown",
   "id": "1d96cd90-6175-4525-b90e-d2f683719113",
   "metadata": {},
   "source": [
    "###### Write a NumPy program to save a given array to a binary file"
   ]
  },
  {
   "cell_type": "code",
   "execution_count": 279,
   "id": "83c736f6-25d5-4d0a-80df-3ce6e88009d5",
   "metadata": {
    "tags": []
   },
   "outputs": [
    {
     "name": "stdout",
     "output_type": "stream",
     "text": [
      "Check if 'temp_arra.npy' exists or not?\n",
      "True\n"
     ]
    }
   ],
   "source": [
    "import numpy as np\n",
    "import os\n",
    "a = np.arange(20)\n",
    "np.save('temp_array.npy',a)\n",
    "print(\"Check if 'temp_arra.npy' exists or not?\")\n",
    "\n",
    "if os.path.exists('temp_array.npy'):\n",
    "    x2 = np.load('temp_array.npy')\n",
    "    print(np.array_equal(a, x2))"
   ]
  },
  {
   "cell_type": "code",
   "execution_count": 289,
   "id": "ff7db621-4d06-4f51-beaf-78583c4b6352",
   "metadata": {
    "tags": []
   },
   "outputs": [
    {
     "name": "stdout",
     "output_type": "stream",
     "text": [
      "Original arrays:\n",
      "[0 1 2 3 4 5 6 7 8 9]\n",
      "[11 12 13 14 15 16 17 18 19]\n",
      "Load arrays from the 'temp_arra.npz' file:\n",
      "[0 1 2 3 4 5 6 7 8 9]\n",
      "[11 12 13 14 15 16 17 18 19]\n"
     ]
    }
   ],
   "source": [
    "import numpy as np\n",
    "\n",
    "import os\n",
    "\n",
    "# Creating a NumPy array 'x' containing integers from 0 to 9 using np.arange()\n",
    "x = np.arange(10)\n",
    "\n",
    "# Creating a NumPy array 'y' containing integers from 11 to 19 using np.arange()\n",
    "y = np.arange(11, 20)\n",
    "\n",
    "# Printing a message indicating the original arrays 'x' and 'y'\n",
    "print(\"Original arrays:\")\n",
    "print(x)\n",
    "print(y)\n",
    "\n",
    "# Saving the arrays 'x' and 'y' into a '.npz' file named 'temp_arra.npz' using np.savez()\n",
    "np.savez('temp_arra.npz', x=x, y=y)\n",
    "\n",
    "# Printing a message indicating loading arrays from the 'temp_arra.npz' file\n",
    "print(\"Load arrays from the 'temp_arra.npz' file:\")\n",
    "\n",
    "# Loading data from 'temp_arra.npz' into variables 'x2' and 'y2' using np.load()\n",
    "with np.load('temp_arra.npz') as data:\n",
    "    x2 = data['x']\n",
    "    y2 = data['y']\n",
    "    \n",
    "    # Printing the loaded arrays 'x2' and 'y2'\n",
    "    print(x2)\n",
    "    print(y2) \n"
   ]
  },
  {
   "cell_type": "markdown",
   "id": "fdc53b61-1adf-4fe7-bc0d-db0e625070fa",
   "metadata": {
    "tags": []
   },
   "source": [
    "###### Write a NumPy program to save a given array to a text file and load it"
   ]
  },
  {
   "cell_type": "code",
   "execution_count": 293,
   "id": "3aaf4b74-ce0b-4841-89da-063b5bb8ec7c",
   "metadata": {
    "tags": []
   },
   "outputs": [
    {
     "name": "stdout",
     "output_type": "stream",
     "text": [
      "[[ 0  1  2]\n",
      " [ 3  4  5]\n",
      " [ 6  7  8]\n",
      " [ 9 10 11]]\n",
      "[[ 0.  1.  2.]\n",
      " [ 3.  4.  5.]\n",
      " [ 6.  7.  8.]\n",
      " [ 9. 10. 11.]]\n"
     ]
    }
   ],
   "source": [
    "import numpy as np\n",
    "import os\n",
    "x = np.arange(12).reshape(4,3)\n",
    "\n",
    "print(x)\n",
    "head = 'col1 col2 col3'\n",
    "np.savetxt('temp.txt',x,fmt=\"%d\",header=head)\n",
    "result = np.loadtxt('temp.txt')\n",
    "print(result)"
   ]
  },
  {
   "cell_type": "markdown",
   "id": "e58c034f-4858-45c4-8250-e40449aa93e9",
   "metadata": {
    "tags": []
   },
   "source": [
    "###### Write a NumPy program to add elements to a matrix. If an element in the matrix is 0, we will not add the element below this element."
   ]
  },
  {
   "cell_type": "code",
   "execution_count": 313,
   "id": "a2845613-3e0f-4050-8399-4b4328ed137f",
   "metadata": {
    "tags": []
   },
   "outputs": [
    {
     "name": "stdout",
     "output_type": "stream",
     "text": [
      "[[2 0 0]\n",
      " [1 2 0]\n",
      " [0 1 2]\n",
      " [2 0 2]]\n",
      "2\n",
      "2\n",
      "2\n",
      "3\n",
      "3\n",
      "3\n",
      "3\n",
      "3\n",
      "3\n",
      "3\n",
      "3\n",
      "3\n",
      "sum 3\n"
     ]
    }
   ],
   "source": [
    "x = random.randint(3,size=(4,3))\n",
    "a = 0\n",
    "print(x)\n",
    "for i in range(len(x)):\n",
    "    for j in range(len(x[i])):\n",
    "        if x[i][j] ==0  and i< len(x)-1:\n",
    "            x[i+1][j] = 0\n",
    "        a += x[i][j]\n",
    "        print(a)\n",
    "print(\"sum\",a)\n",
    "                              "
   ]
  },
  {
   "cell_type": "markdown",
   "id": "817497ec-8edd-4c6e-bc1f-738deaf2a7df",
   "metadata": {},
   "source": [
    "###### Write a NumPy program to find missing data in a given array"
   ]
  },
  {
   "cell_type": "code",
   "execution_count": 326,
   "id": "fb16040f-430c-404c-bace-4537e989c3e3",
   "metadata": {
    "tags": []
   },
   "outputs": [
    {
     "name": "stdout",
     "output_type": "stream",
     "text": [
      "[0.60989858 0.83799334 0.16759689 0.29213821 0.94602585 0.38546335\n",
      " 0.72314783 0.32523141 0.8761962  0.22018367]\n"
     ]
    }
   ],
   "source": [
    "# Importing the NumPy library with an alias 'np'\n",
    "import numpy as np\n",
    " \n",
    "nums = random.random(size=10)\n",
    "for i in range(len(nums)):\n",
    "    if nums[i]==0:\n",
    "        nums[i]=np.nan\n",
    "print(nums)\n",
    "               "
   ]
  },
  {
   "cell_type": "code",
   "execution_count": null,
   "id": "4c157d86-97fe-4cae-af2d-026783809a90",
   "metadata": {},
   "outputs": [],
   "source": []
  }
 ],
 "metadata": {
  "kernelspec": {
   "display_name": "Python 3 (ipykernel)",
   "language": "python",
   "name": "python3"
  },
  "language_info": {
   "codemirror_mode": {
    "name": "ipython",
    "version": 3
   },
   "file_extension": ".py",
   "mimetype": "text/x-python",
   "name": "python",
   "nbconvert_exporter": "python",
   "pygments_lexer": "ipython3",
   "version": "3.11.5"
  }
 },
 "nbformat": 4,
 "nbformat_minor": 5
}
