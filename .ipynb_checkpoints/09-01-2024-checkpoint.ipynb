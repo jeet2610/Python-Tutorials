{
 "cells": [
  {
   "cell_type": "code",
   "execution_count": 3,
   "id": "9551410b-513e-496c-b500-386969098171",
   "metadata": {
    "tags": []
   },
   "outputs": [],
   "source": [
    "import pandas as pd"
   ]
  },
  {
   "cell_type": "code",
   "execution_count": 5,
   "id": "67a5b51d-d908-4862-94c4-f1110edd41f9",
   "metadata": {
    "tags": []
   },
   "outputs": [
    {
     "name": "stdout",
     "output_type": "stream",
     "text": [
      "0     2\n",
      "1     4\n",
      "2     6\n",
      "3     8\n",
      "4    10\n",
      "dtype: int64\n"
     ]
    }
   ],
   "source": [
    "ds = pd.Series([2,4,6,8,10])\n",
    "print(ds)"
   ]
  },
  {
   "cell_type": "code",
   "execution_count": 7,
   "id": "fea516f7-2ffd-4eb0-b833-1726695507c4",
   "metadata": {
    "tags": []
   },
   "outputs": [
    {
     "name": "stdout",
     "output_type": "stream",
     "text": [
      "Pandas Series and type\n",
      "0     2\n",
      "1     4\n",
      "2     6\n",
      "3     8\n",
      "4    10\n",
      "dtype: int64\n",
      "<class 'pandas.core.series.Series'>\n",
      "Convert Pandas to List\n",
      "[2, 4, 6, 8, 10]\n",
      "<class 'list'>\n"
     ]
    }
   ],
   "source": [
    "# Write a pandas program to convert a pandas module series to python list and it's Type\n",
    "\n",
    "import pandas as pd\n",
    "ds = pd.Series([2,4,6,8,10])\n",
    "print(\"Pandas Series and type\")\n",
    "print(ds)\n",
    "print(type(ds))\n",
    "print(\"Convert Pandas to List\")\n",
    "print(ds.tolist())\n",
    "print(type(ds.tolist()))"
   ]
  },
  {
   "cell_type": "code",
   "execution_count": 13,
   "id": "763e6a1f-79e4-43ea-a167-1aeff29eab01",
   "metadata": {
    "tags": []
   },
   "outputs": [
    {
     "name": "stdout",
     "output_type": "stream",
     "text": [
      "Add Two Series\n",
      "0     3\n",
      "1     7\n",
      "2    11\n",
      "3    15\n",
      "4    19\n",
      "dtype: int64\n",
      "Sub Two Series\n",
      "0    1\n",
      "1    1\n",
      "2    1\n",
      "3    1\n",
      "4    1\n",
      "dtype: int64\n",
      "Mul Two Series\n",
      "0     2\n",
      "1    12\n",
      "2    30\n",
      "3    56\n",
      "4    90\n",
      "dtype: int64\n",
      "Div Two Series\n",
      "0    2.000000\n",
      "1    1.333333\n",
      "2    1.200000\n",
      "3    1.142857\n",
      "4    1.111111\n",
      "dtype: float64\n"
     ]
    }
   ],
   "source": [
    "# Pandas Program to Add, Sub, Mul and Divide two pandas series\n",
    "\n",
    "import pandas as pd\n",
    "ds1 = pd.Series([2,4,6,8,10])\n",
    "ds2 = pd.Series([1,3,5,7,9])\n",
    "ds = ds1 + ds2\n",
    "print(\"Add Two Series\")\n",
    "print(ds)\n",
    "ds = ds1-ds2\n",
    "print(\"Sub Two Series\")\n",
    "print(ds)\n",
    "ds = ds1*ds2\n",
    "print(\"Mul Two Series\")\n",
    "print(ds)\n",
    "ds = ds1/ds2\n",
    "print(\"Div Two Series\")\n",
    "print(ds)"
   ]
  },
  {
   "cell_type": "code",
   "execution_count": 15,
   "id": "71409abf-5c4c-403b-b5e8-0c73b75ffc8e",
   "metadata": {
    "tags": []
   },
   "outputs": [
    {
     "name": "stdout",
     "output_type": "stream",
     "text": [
      "Comparing the elements of the said Series:\n",
      "Equals\n",
      "0    False\n",
      "1    False\n",
      "2    False\n",
      "3    False\n",
      "4    False\n",
      "dtype: bool\n",
      "Greater\n",
      "0    True\n",
      "1    True\n",
      "2    True\n",
      "3    True\n",
      "4    True\n",
      "dtype: bool\n",
      "Lesser\n",
      "0    False\n",
      "1    False\n",
      "2    False\n",
      "3    False\n",
      "4    False\n",
      "dtype: bool\n"
     ]
    }
   ],
   "source": [
    "# Write a Pandas Program to compare the elements of two pandas series\n",
    "\n",
    "import pandas as pd\n",
    "ds1 = pd.Series([2,4,6,8,10])\n",
    "ds2 = pd.Series([1,3,5,7,9])\n",
    "# Comparing with Equals\n",
    "print(\"Comparing the elements of the said Series:\")\n",
    "print(\"Equals\")\n",
    "print(ds1==ds2)\n",
    "print(\"Greater\")\n",
    "print(ds1>ds2)\n",
    "print(\"Lesser\")\n",
    "print(ds1<ds2)"
   ]
  },
  {
   "cell_type": "code",
   "execution_count": 17,
   "id": "b186d264-5e9a-428c-bc4b-b9804c931a49",
   "metadata": {
    "tags": []
   },
   "outputs": [
    {
     "name": "stdout",
     "output_type": "stream",
     "text": [
      "Original Dict\n",
      "{'a': 100, 'b': 200, 'c': 300, 'd': 400, 'e': 800}\n",
      "Pandas Series\n",
      "a    100\n",
      "b    200\n",
      "c    300\n",
      "d    400\n",
      "e    800\n",
      "dtype: int64\n"
     ]
    }
   ],
   "source": [
    "# Pandas Program to convert a dictonary to a pandas series\n",
    "import pandas as pd\n",
    "a = {'a': 100, 'b': 200, 'c': 300, 'd': 400, 'e': 800}\n",
    "print(\"Original Dict\")\n",
    "print(a)\n",
    "new_series = pd.Series(a)\n",
    "print(\"Pandas Series\")\n",
    "print(new_series)"
   ]
  },
  {
   "cell_type": "code",
   "execution_count": 25,
   "id": "7f604069-b334-4ec6-a378-d790cb1b9155",
   "metadata": {
    "tags": []
   },
   "outputs": [
    {
     "name": "stdout",
     "output_type": "stream",
     "text": [
      "Numpy Array\n",
      "[10 20 30 40 50]\n",
      "<class 'numpy.ndarray'>\n",
      "Pandas Series\n",
      "0    10\n",
      "1    20\n",
      "2    30\n",
      "3    40\n",
      "4    50\n",
      "dtype: int32\n",
      "<class 'pandas.core.series.Series'>\n"
     ]
    }
   ],
   "source": [
    "# Write a pandas program to convert a Numpy array to Pandas series\n",
    "import numpy as np\n",
    "import pandas as pd\n",
    "\n",
    "n = np.array([10,20,30,40,50])\n",
    "print(\"Numpy Array\")\n",
    "print(n)\n",
    "print(type(n))\n",
    "print(\"Pandas Series\")\n",
    "new_series = pd.Series(n)\n",
    "print(new_series)\n",
    "print(type(new_series))"
   ]
  },
  {
   "cell_type": "code",
   "execution_count": 26,
   "id": "40577fc8-83d4-4922-8341-81fd05ee36a3",
   "metadata": {
    "tags": []
   },
   "outputs": [
    {
     "name": "stdout",
     "output_type": "stream",
     "text": [
      "\n",
      " 1st Column as a Series\n",
      "0     1\n",
      "1     2\n",
      "2     3\n",
      "3     4\n",
      "4     7\n",
      "5    11\n",
      "Name: col1, dtype: int64\n",
      "<class 'pandas.core.series.Series'>\n"
     ]
    }
   ],
   "source": [
    "# Write a Pandas Program to Convert the first column of a DataFrame as a Series\n",
    "import pandas as pd\n",
    "d = {'col1':[1,2,3,4,7,11],'col2':[4,5,6,9,5,0],'col3':[7,5,8,12,1,11]}\n",
    "df = pd.DataFrame(data=d)\n",
    "# Using iloc\n",
    "s1 = df.iloc[:,0]\n",
    "#alternatively we can directly refer the column by name\n",
    "# s1 = df['col1']\n",
    "print(\"\\n 1st Column as a Series\")\n",
    "print(s1)\n",
    "print(type(s1))"
   ]
  },
  {
   "cell_type": "code",
   "execution_count": 30,
   "id": "684faedf-2e4f-4caf-b0b3-5aca14ff72e8",
   "metadata": {
    "tags": []
   },
   "outputs": [
    {
     "name": "stdout",
     "output_type": "stream",
     "text": [
      "Original Data Series\n",
      "0       100\n",
      "1       200\n",
      "2    Python\n",
      "3    300.12\n",
      "4       400\n",
      "dtype: object\n",
      "Series to an Aray\n",
      "['100' '200' 'Python' '300.12' '400']\n",
      "<class 'numpy.ndarray'>\n"
     ]
    }
   ],
   "source": [
    "# Pandas program to convert a given series to an Array\n",
    "\n",
    "ds = pd.Series(['100','200','Python','300.12','400'])\n",
    "print(\"Original Data Series\")\n",
    "print(ds)\n",
    "print('Series to an Aray')\n",
    "a = np.array(ds)\n",
    "print(a)\n",
    "print(type(a))"
   ]
  },
  {
   "cell_type": "code",
   "execution_count": 3,
   "id": "35ff7913-b045-429b-85e4-d5fe2820c81f",
   "metadata": {
    "tags": []
   },
   "outputs": [
    {
     "name": "stdout",
     "output_type": "stream",
     "text": [
      "Original Series of List\n",
      "0    [Red, Green, White]\n",
      "1           [Red, Black]\n",
      "2               [Yellow]\n",
      "dtype: object\n",
      "One Series\n",
      "0       Red\n",
      "1     Green\n",
      "2     White\n",
      "3       Red\n",
      "4     Black\n",
      "5    Yellow\n",
      "dtype: object\n"
     ]
    }
   ],
   "source": [
    "# Write a Pandas Program to Convert Series of Lists to one Series\n",
    "import pandas as pd\n",
    "s = pd.Series([\n",
    "    ['Red','Green','White'],\n",
    "    ['Red','Black'],\n",
    "    ['Yellow']])\n",
    "print(\"Original Series of List\")\n",
    "print(s)\n",
    "s = s.apply(pd.Series).stack().reset_index(drop=True)\n",
    "print(\"One Series\")\n",
    "print(s)"
   ]
  },
  {
   "cell_type": "code",
   "execution_count": 4,
   "id": "11358313-b809-499b-92be-a9f9d7d2ff2b",
   "metadata": {
    "tags": []
   },
   "outputs": [
    {
     "name": "stdout",
     "output_type": "stream",
     "text": [
      "Original Data Series:\n",
      "0       100\n",
      "1       200\n",
      "2    python\n",
      "3    300.12\n",
      "4       400\n",
      "dtype: object\n",
      "0       100\n",
      "1       200\n",
      "3    300.12\n",
      "4       400\n",
      "2    python\n",
      "dtype: object\n"
     ]
    }
   ],
   "source": [
    "# Write a pandas program to sort a given Series\n",
    "\n",
    "import pandas as pd\n",
    "s = pd.Series(['100','200','python','300.12','400'])\n",
    "print(\"Original Data Series:\")\n",
    "print(s)\n",
    "new_s = pd.Series(s).sort_values()\n",
    "print(new_s)\n"
   ]
  },
  {
   "cell_type": "code",
   "execution_count": 10,
   "id": "31e28bb6-7b67-43ae-8ef2-355144cf720e",
   "metadata": {
    "tags": []
   },
   "outputs": [
    {
     "name": "stdout",
     "output_type": "stream",
     "text": [
      "Original Series\n",
      "0       100\n",
      "1       200\n",
      "2    python\n",
      "3    300.12\n",
      "4       400\n",
      "dtype: object\n",
      "Data Series after adding some data\n",
      "0       100\n",
      "1       200\n",
      "2    python\n",
      "3    300.12\n",
      "4       400\n",
      "5       500\n",
      "6       php\n",
      "dtype: object\n"
     ]
    }
   ],
   "source": [
    "# Write a pandas program to add some data to existing series\n",
    "\n",
    "import pandas as pd\n",
    "s = pd.Series(['100','200','python','300.12','400'])\n",
    "print(\"Original Series\")\n",
    "print(s)\n",
    "print('Data Series after adding some data')\n",
    "new_s = pd.concat([s,pd.Series([500,'php'])],ignore_index=True)\n",
    "print(new_s)"
   ]
  },
  {
   "cell_type": "code",
   "execution_count": 9,
   "id": "5983133a-8aaf-4215-b820-4e3484de62d2",
   "metadata": {
    "tags": []
   },
   "outputs": [
    {
     "name": "stdout",
     "output_type": "stream",
     "text": [
      "0    10\n",
      "1    20\n",
      "2    30\n",
      "3    40\n",
      "dtype: int64\n"
     ]
    }
   ],
   "source": [
    "# Concatenating Two Series of Pandas\n",
    "s = pd.Series([10,20])\n",
    "s1 = pd.Series([30,40])\n",
    "s_new = pd.concat([s,s1],ignore_index = True)\n",
    "print(s_new)"
   ]
  },
  {
   "cell_type": "code",
   "execution_count": 19,
   "id": "3ad4622b-cee6-4baa-8300-ed00f5dd64e8",
   "metadata": {
    "tags": []
   },
   "outputs": [
    {
     "name": "stdout",
     "output_type": "stream",
     "text": [
      "Original Series\n",
      "0      0\n",
      "1      1\n",
      "2      2\n",
      "3      3\n",
      "4      4\n",
      "5      5\n",
      "6      6\n",
      "7      7\n",
      "8      8\n",
      "9      9\n",
      "10    10\n",
      "dtype: int64\n",
      "Subset of the above Data Series:\n",
      "0    0\n",
      "1    1\n",
      "2    2\n",
      "3    3\n",
      "4    4\n",
      "dtype: int64\n",
      "5    5\n",
      "6    6\n",
      "7    7\n",
      "8    8\n",
      "9    9\n",
      "dtype: int64\n"
     ]
    }
   ],
   "source": [
    "# Write a Pandas program to create a subset of a given series based on value and condition.\n",
    "import pandas as pd\n",
    "s = pd.Series([0,1,2,3,4,5,6,7,8,9,10])\n",
    "print(\"Original Series\")\n",
    "print(s)\n",
    "print(\"Subset of the above Data Series:\")\n",
    "n =6\n",
    "new_s = s[0:5]\n",
    "new_s2 = s[5:10]\n",
    "print(new_s)\n",
    "print(new_s2)"
   ]
  },
  {
   "cell_type": "code",
   "execution_count": 20,
   "id": "1235b39d-191a-4274-bc40-7fff500e8b2f",
   "metadata": {
    "tags": []
   },
   "outputs": [
    {
     "name": "stdout",
     "output_type": "stream",
     "text": [
      "Original Data Series\n",
      "0     1\n",
      "1     2\n",
      "2     3\n",
      "3     4\n",
      "4     5\n",
      "5     6\n",
      "6     7\n",
      "7     8\n",
      "8     9\n",
      "9     5\n",
      "10    3\n",
      "dtype: int64\n",
      "Mean of the Series\n",
      "4.818181818181818\n",
      "Standard Deviation\n",
      "2.522624895547565\n"
     ]
    }
   ],
   "source": [
    "# Write a Pandas program to create the mean and standard deviation of the data of a given Series.\n",
    "\n",
    "import pandas as pd\n",
    "s = pd.Series(data = [1,2,3,4,5,6,7,8,9,5,3])\n",
    "print(\"Original Data Series\")\n",
    "print(s)\n",
    "print(\"Mean of the Series\")\n",
    "print(s.mean())\n",
    "print('Standard Deviation')\n",
    "print(s.std())"
   ]
  },
  {
   "cell_type": "code",
   "execution_count": 22,
   "id": "cf4704fb-7153-4b5b-8d03-36d6a45b3bc2",
   "metadata": {
    "tags": []
   },
   "outputs": [
    {
     "name": "stdout",
     "output_type": "stream",
     "text": [
      "Original Series \n",
      "0    1\n",
      "1    2\n",
      "2    3\n",
      "3    4\n",
      "4    5\n",
      "dtype: int64 0     2\n",
      "1     4\n",
      "2     6\n",
      "3     8\n",
      "4    10\n",
      "dtype: int64\n",
      "0    1\n",
      "2    3\n",
      "4    5\n",
      "dtype: int64\n"
     ]
    }
   ],
   "source": [
    "# Write a pandas program to get the items of a given series not present in another given series.\n",
    "import pandas as pd\n",
    "sr1 = pd.Series([1,2,3,4,5])\n",
    "sr2 = pd.Series([2,4,6,8,10])\n",
    "result = sr1[~sr1.isin(sr2)]\n",
    "print('Original Series ')\n",
    "print(sr1,sr2)\n",
    "print(result)"
   ]
  },
  {
   "cell_type": "code",
   "execution_count": 26,
   "id": "5c85ed0d-12f4-400e-b663-1de28d9e5c42",
   "metadata": {
    "tags": []
   },
   "outputs": [
    {
     "name": "stdout",
     "output_type": "stream",
     "text": [
      "0    1\n",
      "1    2\n",
      "2    3\n",
      "3    4\n",
      "4    5\n",
      "5    6\n",
      "6    8\n",
      "dtype: int64\n",
      "0    2\n",
      "1    4\n",
      "dtype: int64\n",
      "0    1\n",
      "2    3\n",
      "4    5\n",
      "5    6\n",
      "6    8\n",
      "dtype: int64\n"
     ]
    }
   ],
   "source": [
    "# Write a pandas program to get the items which are not comoon of two given arrays\n",
    "import numpy as np\n",
    "import pandas as pd\n",
    "s1 = pd.Series([1,2,3,4,5])\n",
    "s2 = pd.Series([2,4,6,8])\n",
    "sr11 = pd.Series(np.union1d(s1,s2))\n",
    "print(sr11)\n",
    "sr22 = pd.Series(np.intersect1d(s1,s2))\n",
    "print(sr22)\n",
    "result = sr11[~sr11.isin(sr22)]\n",
    "print(result)"
   ]
  },
  {
   "cell_type": "code",
   "execution_count": null,
   "id": "9cfe4d4f-4edb-41dc-8b82-141dce0f97bf",
   "metadata": {},
   "outputs": [],
   "source": [
    "# 18 exercise"
   ]
  }
 ],
 "metadata": {
  "kernelspec": {
   "display_name": "Python 3 (ipykernel)",
   "language": "python",
   "name": "python3"
  },
  "language_info": {
   "codemirror_mode": {
    "name": "ipython",
    "version": 3
   },
   "file_extension": ".py",
   "mimetype": "text/x-python",
   "name": "python",
   "nbconvert_exporter": "python",
   "pygments_lexer": "ipython3",
   "version": "3.11.5"
  }
 },
 "nbformat": 4,
 "nbformat_minor": 5
}
