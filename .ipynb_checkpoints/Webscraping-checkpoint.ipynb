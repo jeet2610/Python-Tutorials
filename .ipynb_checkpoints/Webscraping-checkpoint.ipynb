{
 "cells": [
  {
   "cell_type": "code",
   "execution_count": 2,
   "id": "406997e8-1403-47e8-b71c-2a83960bb775",
   "metadata": {
    "tags": []
   },
   "outputs": [],
   "source": [
    "import numpy as np\n",
    "import pandas as pd\n",
    "import requests\n",
    "from bs4 import BeautifulSoup"
   ]
  },
  {
   "cell_type": "code",
   "execution_count": 22,
   "id": "fef95a6b-ec1a-4693-9f62-4587205ea245",
   "metadata": {
    "tags": []
   },
   "outputs": [],
   "source": [
    "url = 'https://www.jiomart.com/c/groceries/2?prod_mart_groceries_products_popularity%5Bpage%5D=2'"
   ]
  },
  {
   "cell_type": "code",
   "execution_count": 23,
   "id": "6e20b541-afbf-455c-898a-aeed1c83c2de",
   "metadata": {
    "tags": []
   },
   "outputs": [],
   "source": [
    "response = requests.get(url)"
   ]
  },
  {
   "cell_type": "code",
   "execution_count": 24,
   "id": "5b68233f-440e-4793-b12c-2795654eabd8",
   "metadata": {
    "tags": []
   },
   "outputs": [
    {
     "data": {
      "text/plain": [
       "200"
      ]
     },
     "execution_count": 24,
     "metadata": {},
     "output_type": "execute_result"
    }
   ],
   "source": [
    "response.status_code"
   ]
  },
  {
   "cell_type": "code",
   "execution_count": 25,
   "id": "052d1ac1-b3df-4fcd-ab40-0010fca422ed",
   "metadata": {
    "tags": []
   },
   "outputs": [],
   "source": [
    "soup = BeautifulSoup(response.content,'html.parser')"
   ]
  },
  {
   "cell_type": "code",
   "execution_count": 31,
   "id": "d72e13a0-2386-4d50-91b3-568ce472e6db",
   "metadata": {
    "tags": []
   },
   "outputs": [],
   "source": [
    "results = soup.find_all('div',{'class':'plp-card-details-container'})"
   ]
  },
  {
   "cell_type": "code",
   "execution_count": 32,
   "id": "3988ca94-230b-4967-8939-8e79acfe3ca1",
   "metadata": {
    "tags": []
   },
   "outputs": [
    {
     "data": {
      "text/plain": [
       "12"
      ]
     },
     "execution_count": 32,
     "metadata": {},
     "output_type": "execute_result"
    }
   ],
   "source": [
    "len(results)"
   ]
  },
  {
   "cell_type": "code",
   "execution_count": 36,
   "id": "8adc7c91-f488-4812-b9a0-37d00aacf43f",
   "metadata": {
    "tags": []
   },
   "outputs": [
    {
     "data": {
      "text/plain": [
       "'Super Sarvottam Physically Refined Rice Bran Oil 1 L'"
      ]
     },
     "execution_count": 36,
     "metadata": {},
     "output_type": "execute_result"
    }
   ],
   "source": [
    "#title\n",
    "results[0].find('div',{'class':'plp-card-details-name line-clamp jm-body-xs jm-fc-primary-grey-80'}).get_text().strip()"
   ]
  },
  {
   "cell_type": "code",
   "execution_count": 37,
   "id": "a58af047-93f1-4db1-9781-8f94e3466355",
   "metadata": {
    "tags": []
   },
   "outputs": [
    {
     "data": {
      "text/plain": [
       "'₹99.00'"
      ]
     },
     "execution_count": 37,
     "metadata": {},
     "output_type": "execute_result"
    }
   ],
   "source": [
    "# price\n",
    "results[0].find('span',{'class':'jm-heading-xxs jm-mb-xxs'}).get_text().strip()"
   ]
  },
  {
   "cell_type": "code",
   "execution_count": 41,
   "id": "37d0de3f-1c57-42b8-a3f8-67305d99ec03",
   "metadata": {
    "tags": []
   },
   "outputs": [
    {
     "data": {
      "text/plain": [
       "'50% OFF'"
      ]
     },
     "execution_count": 41,
     "metadata": {},
     "output_type": "execute_result"
    }
   ],
   "source": [
    "#discount\n",
    "results[0].find('span',{'class':'jm-badge'}).get_text().strip()"
   ]
  },
  {
   "cell_type": "code",
   "execution_count": 88,
   "id": "162ba18a-0795-4c59-a4d0-53999d8bc5f8",
   "metadata": {
    "tags": []
   },
   "outputs": [],
   "source": [
    "# Puting Everything in loop\n",
    "\n",
    "product_name = []\n",
    "product_price = []\n",
    "product_discount = []\n",
    "for i in range(len(results)):\n",
    "    badge_element = results[i].find('span', {'class': 'jm-badge'})\n",
    "    product_name.append(results[i].find('div',{'class':'plp-card-details-name line-clamp jm-body-xs jm-fc-primary-grey-80'}).get_text().strip())\n",
    "    product_price.append(results[i].find('span',{'class':'jm-heading-xxs jm-mb-xxs'}).get_text().strip())\n",
    "    if badge_element is not None:\n",
    "        text_inside_badge = badge_element.get_text().strip()\n",
    "        if text_inside_badge:  # Check if the text is not an empty string\n",
    "            product_discount.append(text_inside_badge)\n",
    "        else:\n",
    "            # Handle the case when the text is empty, e.g., set a default value\n",
    "            product_discount.append(\"None\")  # Replace \"No Discount\" with your desired default value\n",
    "    else:\n",
    "        # Handle the case when the element is not found, e.g., set a default value\n",
    "        product_discount.append(\"None\")"
   ]
  },
  {
   "cell_type": "code",
   "execution_count": 91,
   "id": "7be1d76b-a3df-4a76-a4d1-6a8eb87f5bc4",
   "metadata": {
    "tags": []
   },
   "outputs": [
    {
     "data": {
      "text/plain": [
       "['Super Sarvottam Physically Refined Rice Bran Oil 1 L',\n",
       " 'Closeup Everfresh+ Red Hot Gel Toothpaste 150 g (Pack of 2)',\n",
       " 'Surf Excel Easy Wash Detergent Powder 5 kg',\n",
       " 'Priya Fortified With Vitamin A & D Refined Sunflower Oil 1 L',\n",
       " 'Bharat Chana Dal 1 Kg',\n",
       " 'Pears Pure & Gentle Soap with Natural Oils 125 g (Buy 4 Get 1 Free)',\n",
       " 'Maaza Mango Drink 1.2 L',\n",
       " 'Surf Excel Detergent Bar 200 g (Pack of 4)',\n",
       " 'Rin Detergent Bar 110 g',\n",
       " 'Kissan Fresh Tomato Ketchup 1.1 kg',\n",
       " 'Tata Iodised Salt 1 kg',\n",
       " 'Maggi 2-Minute Masala Noodles 70 g']"
      ]
     },
     "execution_count": 91,
     "metadata": {},
     "output_type": "execute_result"
    }
   ],
   "source": [
    "product_name"
   ]
  },
  {
   "cell_type": "code",
   "execution_count": 92,
   "id": "bdeffb23-f4a6-431e-ae47-2ca5b56ec0c2",
   "metadata": {
    "tags": []
   },
   "outputs": [
    {
     "data": {
      "text/plain": [
       "['₹99.00',\n",
       " '₹154.00',\n",
       " '₹678.00',\n",
       " '₹96.00',\n",
       " '₹60.00',\n",
       " '₹250.00',\n",
       " '₹50.00',\n",
       " '₹112.00',\n",
       " '₹9.00',\n",
       " '₹110.00',\n",
       " '₹24.00',\n",
       " '₹13.00']"
      ]
     },
     "execution_count": 92,
     "metadata": {},
     "output_type": "execute_result"
    }
   ],
   "source": [
    "product_price"
   ]
  },
  {
   "cell_type": "code",
   "execution_count": 120,
   "id": "72e61463-4274-4c1a-b796-b2272a7c5568",
   "metadata": {
    "tags": []
   },
   "outputs": [
    {
     "data": {
      "text/plain": [
       "['50% OFF',\n",
       " '33% OFF',\n",
       " '7% OFF',\n",
       " '40% OFF',\n",
       " 'None',\n",
       " '33% OFF',\n",
       " '33% OFF',\n",
       " '8% OFF',\n",
       " '10% OFF',\n",
       " '26% OFF',\n",
       " '14% OFF',\n",
       " '7% OFF']"
      ]
     },
     "execution_count": 120,
     "metadata": {},
     "output_type": "execute_result"
    }
   ],
   "source": [
    "product_discount"
   ]
  },
  {
   "cell_type": "code",
   "execution_count": 162,
   "id": "e85329f6-d28e-4ea5-ad26-de6104baa5f5",
   "metadata": {
    "tags": []
   },
   "outputs": [],
   "source": [
    "data = {'Product Name':product_name,'Price':product_price,'Discount':product_discount}\n",
    "df = pd.DataFrame(data)\n"
   ]
  },
  {
   "cell_type": "code",
   "execution_count": 163,
   "id": "6f0209eb-d40c-4b4f-a028-a3c20ef766a0",
   "metadata": {
    "tags": []
   },
   "outputs": [],
   "source": [
    "df['Discount'] = df['Discount'].replace('None','0% OFF')"
   ]
  },
  {
   "cell_type": "code",
   "execution_count": 164,
   "id": "ee200499-6494-404f-8bc5-70290193c9c4",
   "metadata": {
    "tags": []
   },
   "outputs": [
    {
     "data": {
      "text/html": [
       "<div>\n",
       "<style scoped>\n",
       "    .dataframe tbody tr th:only-of-type {\n",
       "        vertical-align: middle;\n",
       "    }\n",
       "\n",
       "    .dataframe tbody tr th {\n",
       "        vertical-align: top;\n",
       "    }\n",
       "\n",
       "    .dataframe thead th {\n",
       "        text-align: right;\n",
       "    }\n",
       "</style>\n",
       "<table border=\"1\" class=\"dataframe\">\n",
       "  <thead>\n",
       "    <tr style=\"text-align: right;\">\n",
       "      <th></th>\n",
       "      <th>Product Name</th>\n",
       "      <th>Price</th>\n",
       "      <th>Discount</th>\n",
       "    </tr>\n",
       "  </thead>\n",
       "  <tbody>\n",
       "    <tr>\n",
       "      <th>0</th>\n",
       "      <td>Super Sarvottam Physically Refined Rice Bran O...</td>\n",
       "      <td>₹99.00</td>\n",
       "      <td>50% OFF</td>\n",
       "    </tr>\n",
       "    <tr>\n",
       "      <th>1</th>\n",
       "      <td>Closeup Everfresh+ Red Hot Gel Toothpaste 150 ...</td>\n",
       "      <td>₹154.00</td>\n",
       "      <td>33% OFF</td>\n",
       "    </tr>\n",
       "    <tr>\n",
       "      <th>2</th>\n",
       "      <td>Surf Excel Easy Wash Detergent Powder 5 kg</td>\n",
       "      <td>₹678.00</td>\n",
       "      <td>7% OFF</td>\n",
       "    </tr>\n",
       "    <tr>\n",
       "      <th>3</th>\n",
       "      <td>Priya Fortified With Vitamin A &amp; D Refined Sun...</td>\n",
       "      <td>₹96.00</td>\n",
       "      <td>40% OFF</td>\n",
       "    </tr>\n",
       "    <tr>\n",
       "      <th>4</th>\n",
       "      <td>Bharat Chana Dal 1 Kg</td>\n",
       "      <td>₹60.00</td>\n",
       "      <td>0% OFF</td>\n",
       "    </tr>\n",
       "    <tr>\n",
       "      <th>5</th>\n",
       "      <td>Pears Pure &amp; Gentle Soap with Natural Oils 125...</td>\n",
       "      <td>₹250.00</td>\n",
       "      <td>33% OFF</td>\n",
       "    </tr>\n",
       "    <tr>\n",
       "      <th>6</th>\n",
       "      <td>Maaza Mango Drink 1.2 L</td>\n",
       "      <td>₹50.00</td>\n",
       "      <td>33% OFF</td>\n",
       "    </tr>\n",
       "    <tr>\n",
       "      <th>7</th>\n",
       "      <td>Surf Excel Detergent Bar 200 g (Pack of 4)</td>\n",
       "      <td>₹112.00</td>\n",
       "      <td>8% OFF</td>\n",
       "    </tr>\n",
       "    <tr>\n",
       "      <th>8</th>\n",
       "      <td>Rin Detergent Bar 110 g</td>\n",
       "      <td>₹9.00</td>\n",
       "      <td>10% OFF</td>\n",
       "    </tr>\n",
       "    <tr>\n",
       "      <th>9</th>\n",
       "      <td>Kissan Fresh Tomato Ketchup 1.1 kg</td>\n",
       "      <td>₹110.00</td>\n",
       "      <td>26% OFF</td>\n",
       "    </tr>\n",
       "    <tr>\n",
       "      <th>10</th>\n",
       "      <td>Tata Iodised Salt 1 kg</td>\n",
       "      <td>₹24.00</td>\n",
       "      <td>14% OFF</td>\n",
       "    </tr>\n",
       "    <tr>\n",
       "      <th>11</th>\n",
       "      <td>Maggi 2-Minute Masala Noodles 70 g</td>\n",
       "      <td>₹13.00</td>\n",
       "      <td>7% OFF</td>\n",
       "    </tr>\n",
       "  </tbody>\n",
       "</table>\n",
       "</div>"
      ],
      "text/plain": [
       "                                         Product Name    Price Discount\n",
       "0   Super Sarvottam Physically Refined Rice Bran O...   ₹99.00  50% OFF\n",
       "1   Closeup Everfresh+ Red Hot Gel Toothpaste 150 ...  ₹154.00  33% OFF\n",
       "2          Surf Excel Easy Wash Detergent Powder 5 kg  ₹678.00   7% OFF\n",
       "3   Priya Fortified With Vitamin A & D Refined Sun...   ₹96.00  40% OFF\n",
       "4                               Bharat Chana Dal 1 Kg   ₹60.00   0% OFF\n",
       "5   Pears Pure & Gentle Soap with Natural Oils 125...  ₹250.00  33% OFF\n",
       "6                             Maaza Mango Drink 1.2 L   ₹50.00  33% OFF\n",
       "7          Surf Excel Detergent Bar 200 g (Pack of 4)  ₹112.00   8% OFF\n",
       "8                             Rin Detergent Bar 110 g    ₹9.00  10% OFF\n",
       "9                  Kissan Fresh Tomato Ketchup 1.1 kg  ₹110.00  26% OFF\n",
       "10                             Tata Iodised Salt 1 kg   ₹24.00  14% OFF\n",
       "11                 Maggi 2-Minute Masala Noodles 70 g   ₹13.00   7% OFF"
      ]
     },
     "execution_count": 164,
     "metadata": {},
     "output_type": "execute_result"
    }
   ],
   "source": [
    "df"
   ]
  },
  {
   "cell_type": "code",
   "execution_count": 165,
   "id": "30051c4c-72e1-4c13-b67e-32a59df0b7cb",
   "metadata": {
    "tags": []
   },
   "outputs": [],
   "source": [
    "# df['Original Price'] = df['Price']+ (df['Price']*0.5)\n",
    "df['Price'] = df['Price'].str[1:]"
   ]
  },
  {
   "cell_type": "code",
   "execution_count": 166,
   "id": "8feb8eda-4602-4e48-9e97-8b4d1c72fa71",
   "metadata": {
    "tags": []
   },
   "outputs": [],
   "source": [
    "df['Price']=df['Price'].astype(float)"
   ]
  },
  {
   "cell_type": "code",
   "execution_count": 167,
   "id": "51ba013a-6323-40f6-91d1-c91c9ada9b42",
   "metadata": {
    "tags": []
   },
   "outputs": [],
   "source": [
    "df['Discount'] = df['Discount'].str[0:-5]"
   ]
  },
  {
   "cell_type": "code",
   "execution_count": 170,
   "id": "f90301d6-020b-4314-86ab-ceb072987b26",
   "metadata": {
    "tags": []
   },
   "outputs": [],
   "source": [
    "df['Discount'] = df['Discount'].astype(float)"
   ]
  },
  {
   "cell_type": "code",
   "execution_count": 173,
   "id": "01e53aab-9711-4182-8c3e-98d20a1d9874",
   "metadata": {
    "tags": []
   },
   "outputs": [],
   "source": [
    "df['Original Price'] = df['Price'] / (1 - df['Discount']/100)"
   ]
  },
  {
   "cell_type": "code",
   "execution_count": 174,
   "id": "e70d22d3-8013-4ec8-b1c5-66fb4f65c6d7",
   "metadata": {
    "tags": []
   },
   "outputs": [],
   "source": [
    "df['Original Price'] = round(df['Original Price'])"
   ]
  },
  {
   "cell_type": "code",
   "execution_count": 175,
   "id": "a85006a0-43a8-4e14-b2d3-d7c36fd2dc5f",
   "metadata": {
    "tags": []
   },
   "outputs": [
    {
     "data": {
      "text/html": [
       "<div>\n",
       "<style scoped>\n",
       "    .dataframe tbody tr th:only-of-type {\n",
       "        vertical-align: middle;\n",
       "    }\n",
       "\n",
       "    .dataframe tbody tr th {\n",
       "        vertical-align: top;\n",
       "    }\n",
       "\n",
       "    .dataframe thead th {\n",
       "        text-align: right;\n",
       "    }\n",
       "</style>\n",
       "<table border=\"1\" class=\"dataframe\">\n",
       "  <thead>\n",
       "    <tr style=\"text-align: right;\">\n",
       "      <th></th>\n",
       "      <th>Product Name</th>\n",
       "      <th>Price</th>\n",
       "      <th>Discount</th>\n",
       "      <th>Original Price</th>\n",
       "    </tr>\n",
       "  </thead>\n",
       "  <tbody>\n",
       "    <tr>\n",
       "      <th>0</th>\n",
       "      <td>Super Sarvottam Physically Refined Rice Bran O...</td>\n",
       "      <td>99.0</td>\n",
       "      <td>50.0</td>\n",
       "      <td>198.0</td>\n",
       "    </tr>\n",
       "    <tr>\n",
       "      <th>1</th>\n",
       "      <td>Closeup Everfresh+ Red Hot Gel Toothpaste 150 ...</td>\n",
       "      <td>154.0</td>\n",
       "      <td>33.0</td>\n",
       "      <td>230.0</td>\n",
       "    </tr>\n",
       "    <tr>\n",
       "      <th>2</th>\n",
       "      <td>Surf Excel Easy Wash Detergent Powder 5 kg</td>\n",
       "      <td>678.0</td>\n",
       "      <td>7.0</td>\n",
       "      <td>729.0</td>\n",
       "    </tr>\n",
       "    <tr>\n",
       "      <th>3</th>\n",
       "      <td>Priya Fortified With Vitamin A &amp; D Refined Sun...</td>\n",
       "      <td>96.0</td>\n",
       "      <td>40.0</td>\n",
       "      <td>160.0</td>\n",
       "    </tr>\n",
       "    <tr>\n",
       "      <th>4</th>\n",
       "      <td>Bharat Chana Dal 1 Kg</td>\n",
       "      <td>60.0</td>\n",
       "      <td>0.0</td>\n",
       "      <td>60.0</td>\n",
       "    </tr>\n",
       "    <tr>\n",
       "      <th>5</th>\n",
       "      <td>Pears Pure &amp; Gentle Soap with Natural Oils 125...</td>\n",
       "      <td>250.0</td>\n",
       "      <td>33.0</td>\n",
       "      <td>373.0</td>\n",
       "    </tr>\n",
       "    <tr>\n",
       "      <th>6</th>\n",
       "      <td>Maaza Mango Drink 1.2 L</td>\n",
       "      <td>50.0</td>\n",
       "      <td>33.0</td>\n",
       "      <td>75.0</td>\n",
       "    </tr>\n",
       "    <tr>\n",
       "      <th>7</th>\n",
       "      <td>Surf Excel Detergent Bar 200 g (Pack of 4)</td>\n",
       "      <td>112.0</td>\n",
       "      <td>8.0</td>\n",
       "      <td>122.0</td>\n",
       "    </tr>\n",
       "    <tr>\n",
       "      <th>8</th>\n",
       "      <td>Rin Detergent Bar 110 g</td>\n",
       "      <td>9.0</td>\n",
       "      <td>10.0</td>\n",
       "      <td>10.0</td>\n",
       "    </tr>\n",
       "    <tr>\n",
       "      <th>9</th>\n",
       "      <td>Kissan Fresh Tomato Ketchup 1.1 kg</td>\n",
       "      <td>110.0</td>\n",
       "      <td>26.0</td>\n",
       "      <td>149.0</td>\n",
       "    </tr>\n",
       "    <tr>\n",
       "      <th>10</th>\n",
       "      <td>Tata Iodised Salt 1 kg</td>\n",
       "      <td>24.0</td>\n",
       "      <td>14.0</td>\n",
       "      <td>28.0</td>\n",
       "    </tr>\n",
       "    <tr>\n",
       "      <th>11</th>\n",
       "      <td>Maggi 2-Minute Masala Noodles 70 g</td>\n",
       "      <td>13.0</td>\n",
       "      <td>7.0</td>\n",
       "      <td>14.0</td>\n",
       "    </tr>\n",
       "  </tbody>\n",
       "</table>\n",
       "</div>"
      ],
      "text/plain": [
       "                                         Product Name  Price  Discount  \\\n",
       "0   Super Sarvottam Physically Refined Rice Bran O...   99.0      50.0   \n",
       "1   Closeup Everfresh+ Red Hot Gel Toothpaste 150 ...  154.0      33.0   \n",
       "2          Surf Excel Easy Wash Detergent Powder 5 kg  678.0       7.0   \n",
       "3   Priya Fortified With Vitamin A & D Refined Sun...   96.0      40.0   \n",
       "4                               Bharat Chana Dal 1 Kg   60.0       0.0   \n",
       "5   Pears Pure & Gentle Soap with Natural Oils 125...  250.0      33.0   \n",
       "6                             Maaza Mango Drink 1.2 L   50.0      33.0   \n",
       "7          Surf Excel Detergent Bar 200 g (Pack of 4)  112.0       8.0   \n",
       "8                             Rin Detergent Bar 110 g    9.0      10.0   \n",
       "9                  Kissan Fresh Tomato Ketchup 1.1 kg  110.0      26.0   \n",
       "10                             Tata Iodised Salt 1 kg   24.0      14.0   \n",
       "11                 Maggi 2-Minute Masala Noodles 70 g   13.0       7.0   \n",
       "\n",
       "    Original Price  \n",
       "0            198.0  \n",
       "1            230.0  \n",
       "2            729.0  \n",
       "3            160.0  \n",
       "4             60.0  \n",
       "5            373.0  \n",
       "6             75.0  \n",
       "7            122.0  \n",
       "8             10.0  \n",
       "9            149.0  \n",
       "10            28.0  \n",
       "11            14.0  "
      ]
     },
     "execution_count": 175,
     "metadata": {},
     "output_type": "execute_result"
    }
   ],
   "source": [
    "df"
   ]
  },
  {
   "cell_type": "code",
   "execution_count": 176,
   "id": "289d0d65-87a5-4815-97fe-3bb9c9e199e1",
   "metadata": {
    "tags": []
   },
   "outputs": [],
   "source": [
    "df.to_csv('Jio_Mart.csv')"
   ]
  },
  {
   "cell_type": "code",
   "execution_count": null,
   "id": "5fb05f29-4b35-4c13-b41b-64db97b15d40",
   "metadata": {},
   "outputs": [],
   "source": []
  }
 ],
 "metadata": {
  "kernelspec": {
   "display_name": "Python 3 (ipykernel)",
   "language": "python",
   "name": "python3"
  },
  "language_info": {
   "codemirror_mode": {
    "name": "ipython",
    "version": 3
   },
   "file_extension": ".py",
   "mimetype": "text/x-python",
   "name": "python",
   "nbconvert_exporter": "python",
   "pygments_lexer": "ipython3",
   "version": "3.11.5"
  }
 },
 "nbformat": 4,
 "nbformat_minor": 5
}
