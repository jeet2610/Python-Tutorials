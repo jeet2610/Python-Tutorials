{
 "cells": [
  {
   "cell_type": "code",
   "execution_count": 13,
   "id": "4bb09629-b199-44d8-b0cf-a9e6bc5ae53f",
   "metadata": {
    "tags": []
   },
   "outputs": [
    {
     "name": "stdout",
     "output_type": "stream",
     "text": [
      "Original DataFrame\n",
      "        name  score  attempts qualify\n",
      "0  Anastasia   12.5         1     yes\n",
      "1       Dima    9.0         3      no\n",
      "2  Katherine   16.5         2     yes\n",
      "3      James   12.2         3      no\n",
      "4      Emily    9.0         2      no\n",
      "5    Michael   20.0         3     yes\n",
      "6    Matthew   14.5         1     yes\n",
      "7      Laura   15.2         1      no\n",
      "8      Kevin    8.0         2      no\n",
      "9      Jonas   19.0         1     yes\n",
      "Sorting Values using Attempts and Name\n",
      "        name  score  attempts qualify\n",
      "0  Anastasia   12.5         1     yes\n",
      "9      Jonas   19.0         1     yes\n",
      "7      Laura   15.2         1      no\n",
      "6    Matthew   14.5         1     yes\n",
      "4      Emily    9.0         2      no\n",
      "2  Katherine   16.5         2     yes\n",
      "8      Kevin    8.0         2      no\n",
      "1       Dima    9.0         3      no\n",
      "3      James   12.2         3      no\n",
      "5    Michael   20.0         3     yes\n"
     ]
    }
   ],
   "source": [
    "# 50. Write a Pandas program to sort a given DataFrame by two or more columns.\n",
    "import pandas as pd\n",
    "import numpy as np\n",
    "exam_data = {'name': ['Anastasia', 'Dima', 'Katherine', 'James', 'Emily', 'Michael', 'Matthew', 'Laura', 'Kevin', 'Jonas'],\n",
    "        'score': [12.5, 9, 16.5, 12.2, 9, 20, 14.5, 15.2, 8, 19],\n",
    "        'attempts': [1, 3, 2, 3, 2, 3, 1, 1, 2, 1],\n",
    "        'qualify': ['yes', 'no', 'yes', 'no', 'no', 'yes', 'yes', 'no', 'no', 'yes']}\n",
    "df = pd.DataFrame(exam_data)\n",
    "print(\"Original DataFrame\")\n",
    "print(df)\n",
    "print(\"Sorting Values using Attempts and Name\")\n",
    "df = df.sort_values(['attempts','name'], ascending=[True,True])\n",
    "print(df)"
   ]
  },
  {
   "cell_type": "code",
   "execution_count": 15,
   "id": "c5d63e5f-e338-427f-84f3-eb2878fb26ef",
   "metadata": {
    "tags": []
   },
   "outputs": [
    {
     "name": "stdout",
     "output_type": "stream",
     "text": [
      "name        object\n",
      "score        int32\n",
      "attempts     int64\n",
      "qualify     object\n",
      "dtype: object\n",
      "        name  score  attempts qualify\n",
      "0  Anastasia     12         1     yes\n",
      "9      Jonas     19         1     yes\n",
      "7      Laura     15         1      no\n",
      "6    Matthew     14         1     yes\n",
      "4      Emily      9         2      no\n",
      "2  Katherine     16         2     yes\n",
      "8      Kevin      8         2      no\n",
      "1       Dima      9         3      no\n",
      "3      James     12         3      no\n",
      "5    Michael     20         3     yes\n",
      "name        object\n",
      "score        int32\n",
      "attempts     int64\n",
      "qualify     object\n",
      "dtype: object\n"
     ]
    }
   ],
   "source": [
    "#51 Write a Pandas program to convert the datatype of a given column(floats to ints).\n",
    "import pandas as pd\n",
    "\n",
    "print(df.dtypes)\n",
    "\n",
    "df.score = df.score.astype(int)\n",
    "print(df)\n",
    "print(df.dtypes)"
   ]
  },
  {
   "cell_type": "code",
   "execution_count": 16,
   "id": "370c7492-937a-44a3-9997-7c73dac1d342",
   "metadata": {
    "tags": []
   },
   "outputs": [
    {
     "name": "stdout",
     "output_type": "stream",
     "text": [
      "               value\n",
      "2024-01-22  0.321041\n",
      "2024-01-23  0.667199\n",
      "2024-01-24  0.008505\n",
      "2024-01-25  0.283320\n",
      "2024-01-26  0.984259\n",
      "...              ...\n",
      "2029-01-18  0.310093\n",
      "2029-01-19  0.459313\n",
      "2029-01-20  0.961541\n",
      "2029-01-21  0.766609\n",
      "2029-01-22  0.750703\n",
      "\n",
      "[1828 rows x 1 columns]\n"
     ]
    }
   ],
   "source": [
    "# Datetime Series Example and Test\n",
    "\n",
    "import pandas as pd\n",
    "import numpy as np\n",
    "pdt = pd.date_range(start=\"2024-01-22\",end=\"2029-01-22\",freq=\"D\")\n",
    "# print(len(pdt))\n",
    "v = np.random.random(size=len(pdt))\n",
    "df = pd.DataFrame({\"value\": v},index=pdt)\n",
    "print(df)"
   ]
  },
  {
   "cell_type": "code",
   "execution_count": 22,
   "id": "1aee3643-3788-4635-9d99-00f25095d378",
   "metadata": {
    "tags": []
   },
   "outputs": [
    {
     "name": "stdout",
     "output_type": "stream",
     "text": [
      "Number of Columns of a Dataframe\n",
      "3\n"
     ]
    }
   ],
   "source": [
    "# 57. Write a Pandas program to count number of columns of a DataFrame.\n",
    "import pandas as pd\n",
    "import numpy as np\n",
    "d = {'col1': [1, 2, 3, 4, 7], 'col2': [4, 5, 6, 9, 5], 'col3': [7, 8, 12, 1, 11]}\n",
    "df = pd.DataFrame(d)\n",
    "print(\"Number of Columns of a Dataframe\")\n",
    "print(len(df.columns))"
   ]
  },
  {
   "cell_type": "code",
   "execution_count": 41,
   "id": "595fe3d9-be52-4460-9747-ce94449f0152",
   "metadata": {
    "tags": []
   },
   "outputs": [
    {
     "name": "stdout",
     "output_type": "stream",
     "text": [
      "Original Dataframe\n",
      "   col1  col2  col3\n",
      "0     1     4     7\n",
      "1     2     5     5\n",
      "2     3     6     8\n",
      "3     4     9    12\n",
      "4     7     5     1\n",
      "5    11     0    11\n",
      "Top Most for Col1\n",
      "[11  7  4]\n",
      "Top most for Col2\n",
      "[9 6]\n",
      "Top most for column 3\n",
      "[12 11  8  7  5  1]\n"
     ]
    }
   ],
   "source": [
    "#Write a Pandas program to get topmost n records within each group of a DataFrame.\n",
    "\n",
    "import pandas as pd\n",
    "import numpy as np\n",
    "d = {'col1': [1, 2, 3, 4, 7, 11], 'col2': [4, 5, 6, 9, 5, 0], 'col3': [7, 5, 8, 12, 1,11]}\n",
    "df = pd.DataFrame(d)\n",
    "print(\"Original Dataframe\")\n",
    "print(df)\n",
    "print(\"Top Most for Col1\")\n",
    "df1 = df.nlargest(3,'col1')\n",
    "print(df1['col1'].values)\n",
    "print(\"Top most for Col2\")\n",
    "df2 = df.nlargest(2,'col2')\n",
    "print(df2['col2'].values)\n",
    "print(\"Top most for column 3\")\n",
    "df3 = df.nlargest(6,'col3')\n",
    "print(df3['col3'].values)"
   ]
  },
  {
   "cell_type": "code",
   "execution_count": 54,
   "id": "ccf6fa5e-edc4-473f-adc6-ac13e47c8b7f",
   "metadata": {
    "tags": []
   },
   "outputs": [
    {
     "name": "stdout",
     "output_type": "stream",
     "text": [
      "   col1  col2  col3\n",
      "4     7     5     1\n",
      "5    11     0    11\n"
     ]
    }
   ],
   "source": [
    "#62. Write a Pandas program to remove first n rows of a given DataFrame.\n",
    "\n",
    "import pandas as pd\n",
    "import numpy as np\n",
    "d = {'col1': [1, 2, 3, 4, 7, 11], 'col2': [4, 5, 6, 9, 5, 0], 'col3': [7, 5, 8, 12, 1,11]}\n",
    "df = pd.DataFrame(d)\n",
    "df_after_removal = df.iloc[4:]\n",
    "\n",
    "print(df_after_removal)"
   ]
  },
  {
   "cell_type": "code",
   "execution_count": 60,
   "id": "87f5a950-5dfa-4f9e-98b9-b8616cfb6d53",
   "metadata": {
    "tags": []
   },
   "outputs": [
    {
     "name": "stdout",
     "output_type": "stream",
     "text": [
      "[[1 4 7]\n",
      " [2 5 5]\n",
      " [3 6 8]]\n"
     ]
    }
   ],
   "source": [
    "# 81. Write a Pandas program to get lowest n records within each group of a given DataFrame.\n",
    "\n",
    "import pandas as pd\n",
    "import numpy as np\n",
    "d = {'col1': [1, 2, 3, 4, 7, 11], 'col2': [4, 5, 6, 9, 5, 0], 'col3': [7, 5, 8, 12, 1,11]}\n",
    "df = pd.DataFrame(d)\n",
    "df1 = df.nsmallest(3,'col1')\n",
    "df2 = df.nsmallest(3,'col2')\n",
    "df3 = df.nsmallest(3,'col3')\n",
    "print(df1['col1'].values)"
   ]
  },
  {
   "cell_type": "code",
   "execution_count": 64,
   "id": "76d92a52-4f99-4163-8622-ca2a031b830f",
   "metadata": {
    "tags": []
   },
   "outputs": [
    {
     "name": "stdout",
     "output_type": "stream",
     "text": [
      "Original DataFrames:\n",
      "      W     X   Y   Z\n",
      "0  68.0  78.0  84  86\n",
      "1  75.0  85.0  94  97\n",
      "2  86.0   NaN  89  96\n",
      "3  80.0  80.0  83  72\n",
      "4   NaN  86.0  86  83\n",
      "      W   X   Y   Z\n",
      "0  78.0  78  84  86\n",
      "1  75.0  85  84  97\n",
      "2  86.0  96  89  96\n",
      "3  80.0  80  83  72\n",
      "4   NaN  76  86  83\n",
      "\n",
      "Check for inequality of the said dataframes:\n",
      "       W      X      Y      Z\n",
      "0   True  False  False  False\n",
      "1  False  False   True  False\n",
      "2  False   True  False  False\n",
      "3  False  False  False  False\n",
      "4   True   True  False  False\n"
     ]
    }
   ],
   "source": [
    "import pandas as pd\n",
    "df1 = pd.DataFrame({'W':[68,75,86,80,None],'X':[78,85,None,80,86], 'Y':[84,94,89,83,86],'Z':[86,97,96,72,83]});\n",
    "df2 = pd.DataFrame({'W':[78,75,86,80,None],'X':[78,85,96,80,76], 'Y':[84,84,89,83,86],'Z':[86,97,96,72,83]});\n",
    "print(\"Original DataFrames:\")\n",
    "print(df1)\n",
    "print(df2)\n",
    "print(\"\\nCheck for inequality of the said dataframes:\")\n",
    "print(df1.ne(df2))\n"
   ]
  },
  {
   "cell_type": "code",
   "execution_count": 75,
   "id": "0d708301-e75a-4695-b7b2-a0d37519f23f",
   "metadata": {
    "tags": []
   },
   "outputs": [
    {
     "name": "stdout",
     "output_type": "stream",
     "text": [
      "Original DataFrame:\n",
      "               c1    c2\n",
      "2000-01-03  120.0   7.0\n",
      "2000-01-04  130.0   NaN\n",
      "2000-01-05  140.0  10.0\n",
      "2000-01-06  150.0   NaN\n",
      "2000-01-07    NaN   5.5\n",
      "2000-01-10  170.0  16.5\n",
      "\n",
      "DataFrame after interpolate:\n",
      "<bound method DataFrame.interpolate of                c1    c2\n",
      "2000-01-03  120.0   7.0\n",
      "2000-01-04  130.0   NaN\n",
      "2000-01-05  140.0  10.0\n",
      "2000-01-06  150.0   NaN\n",
      "2000-01-07    NaN   5.5\n",
      "2000-01-10  170.0  16.5>\n"
     ]
    }
   ],
   "source": [
    "import pandas as pd\n",
    "import numpy as np\n",
    "\n",
    "sdata = {\"c1\":[120, 130 ,140, 150, np.nan, 170], \"c2\":[7, np.nan, 10, np.nan, 5.5, 16.5]}\n",
    "df = pd.DataFrame(sdata)\n",
    "df.index = pd._testing.makeDateIndex()[0:6]\n",
    "print(\"Original DataFrame:\")\n",
    "print(df)\n",
    "print(\"\\nDataFrame after interpolate:\")\n",
    "print(df.interpolate)\n"
   ]
  },
  {
   "cell_type": "code",
   "execution_count": 78,
   "id": "b19f77c8-fe28-4192-8d2d-70ee7a4da54a",
   "metadata": {
    "tags": []
   },
   "outputs": [
    {
     "name": "stdout",
     "output_type": "stream",
     "text": [
      "   index       0\n",
      "0      1  python\n",
      "1      2    java\n",
      "2      3      c#\n",
      "3      4     c++\n",
      "4      5     NaN\n",
      "        0  1\n",
      "0     php  1\n",
      "1  python  2\n",
      "2    java  3\n",
      "3      c#  4\n",
      "4     c++  5\n",
      "     col1  clo2\n",
      "0     php     1\n",
      "1  python     2\n",
      "2    java     3\n",
      "3      c#     4\n",
      "4     c++     5\n"
     ]
    }
   ],
   "source": [
    "sr1 = pd.Series(['php', 'python', 'java', 'c#', 'c++'])\n",
    "sr2 = pd.Series([1, 2, 3, 4, 5])\n",
    "\n",
    "df_combined = pd.DataFrame(sr1,sr2).reset_index()\n",
    "print(df_combined)\n",
    "df_combined = pd.concat([sr1,sr2],axis=1)\n",
    "print(df_combined)\n",
    "df_combined = pd.DataFrame({\"col1\":sr1,\"clo2\":sr2})\n",
    "print(df_combined)"
   ]
  },
  {
   "cell_type": "code",
   "execution_count": 83,
   "id": "5fd5f037-54e3-43fe-8c3e-6eb145489ad1",
   "metadata": {
    "tags": []
   },
   "outputs": [
    {
     "name": "stdout",
     "output_type": "stream",
     "text": [
      "Original DataFrame\n",
      "             name  age\n",
      "0  Alberto Franco   18\n",
      "1    Gino Mcneill   22\n",
      "2     Ryan Parkes   85\n",
      "3    Eesha Hinton   50\n",
      "4    Syed Wharton   80\n",
      "5   Kierra Gentry    5\n",
      "Age Group\n",
      "After Grouping to Age Group\n",
      "0      kid\n",
      "1    adult\n",
      "2    elder\n",
      "3    adult\n",
      "4    elder\n",
      "5      kid\n",
      "Name: age_groups, dtype: category\n",
      "Categories (3, object): ['kid' < 'adult' < 'elder']\n",
      "AFTER DATAFRAME\n",
      "             name  age age_groups\n",
      "0  Alberto Franco   18        kid\n",
      "1    Gino Mcneill   22      adult\n",
      "2     Ryan Parkes   85      elder\n",
      "3    Eesha Hinton   50      adult\n",
      "4    Syed Wharton   80      elder\n",
      "5   Kierra Gentry    5        kid\n"
     ]
    }
   ],
   "source": [
    "# 70. Write a Pandas program to convert continuous values of a column in a given DataFrame to categorical.\n",
    "import pandas as pd\n",
    "df = pd.DataFrame({\n",
    "    'name': ['Alberto Franco','Gino Mcneill','Ryan Parkes', 'Eesha Hinton', 'Syed Wharton', 'Kierra Gentry'],\n",
    "      'age': [18, 22, 85, 50, 80, 5]\n",
    "})\n",
    "print(\"Original DataFrame\")\n",
    "print(df)\n",
    "print(\"Age Group\")\n",
    "df['age_groups'] = pd.cut(df['age'],bins=[0,18,65,99],labels=['kid','adult','elder'])\n",
    "print(\"After Grouping to Age Group\")\n",
    "print(df['age_groups'])\n",
    "print(\"AFTER DATAFRAME\")\n",
    "print(df)"
   ]
  },
  {
   "cell_type": "code",
   "execution_count": 87,
   "id": "d384a5d7-3130-4135-a7a9-79f8d0f18109",
   "metadata": {
    "tags": []
   },
   "outputs": [
    {
     "name": "stdout",
     "output_type": "stream",
     "text": [
      "Original DataFrame\n",
      "             Name Date_Of_Birth    Age\n",
      "0  Alberto Franco     17/05/2002  18.5\n",
      "1    Gino Mcneill     16/02/1999  21.2\n",
      "2     Ryan Parkes     25/09/1998  22.5\n",
      "3    Eesha Hinton     11/05/2002  22.0\n",
      "4    Syed Wharton     15/09/1997  23.0\n",
      "DF DataFrame            Name Date_Of_Birth    Age\n",
      "2   Ryan Parkes     25/09/1998  22.5\n",
      "3  Eesha Hinton     11/05/2002  22.0\n",
      "4  Syed Wharton     15/09/1997  23.0\n",
      "DF1 DataFrame              Name Date_Of_Birth    Age\n",
      "0  Alberto Franco     17/05/2002  18.5\n",
      "1    Gino Mcneill     16/02/1999  21.2\n",
      "3    Eesha Hinton     11/05/2002  22.0\n",
      "4    Syed Wharton     15/09/1997  23.0\n",
      "one_to_one\n",
      "           Name Date_Of_Birth    Age\n",
      "0  Eesha Hinton     11/05/2002  22.0\n",
      "1  Syed Wharton     15/09/1997  23.0\n",
      "One to Many            Name Date_Of_Birth    Age\n",
      "0  Eesha Hinton     11/05/2002  22.0\n",
      "1  Syed Wharton     15/09/1997  23.0\n",
      "Many to One \n",
      "            Name Date_Of_Birth    Age\n",
      "0  Eesha Hinton     11/05/2002  22.0\n",
      "1  Syed Wharton     15/09/1997  23.0\n"
     ]
    }
   ],
   "source": [
    "# 69. Write a Pandas program to merge datasets and check uniqueness.\n",
    "import pandas as pd\n",
    "import numpy as np\n",
    "df = pd.DataFrame({\n",
    "    'Name': ['Alberto Franco','Gino Mcneill','Ryan Parkes', 'Eesha Hinton', 'Syed Wharton'],\n",
    "    'Date_Of_Birth ': ['17/05/2002','16/02/1999','25/09/1998','11/05/2002','15/09/1997'],\n",
    "    'Age': [18.5, 21.2, 22.5, 22, 23]\n",
    "})\n",
    "print(\"Original DataFrame\")\n",
    "print(df)\n",
    "\n",
    "df1 = df.copy(deep=True)\n",
    "df = df.drop([0,1])\n",
    "df1 = df1.drop([2])\n",
    "print(\"DF DataFrame\",df)\n",
    "print(\"DF1 DataFrame\",df1)\n",
    "print(\"one_to_one\")\n",
    "df_one_to_one = pd.merge(df,df1,validate=\"one_to_one\")\n",
    "print(df_one_to_one)\n",
    "df_one_to_many = pd.merge(df,df1,validate=\"one_to_many\")\n",
    "print(\"One to Many\",df_one_to_many)\n",
    "df_many_to_one = pd.merge(df,df1,validate=\"many_to_one\")\n",
    "print(\"Many to One \\n\",df_many_to_one)"
   ]
  },
  {
   "cell_type": "markdown",
   "id": "8dd79e7e-839e-4c2a-9bea-bf1de87c6682",
   "metadata": {},
   "source": [
    "# 68. Write a Pandas program to rename all columns with the same pattern of a given DataFrame.\n"
   ]
  }
 ],
 "metadata": {
  "kernelspec": {
   "display_name": "Python 3 (ipykernel)",
   "language": "python",
   "name": "python3"
  },
  "language_info": {
   "codemirror_mode": {
    "name": "ipython",
    "version": 3
   },
   "file_extension": ".py",
   "mimetype": "text/x-python",
   "name": "python",
   "nbconvert_exporter": "python",
   "pygments_lexer": "ipython3",
   "version": "3.11.5"
  }
 },
 "nbformat": 4,
 "nbformat_minor": 5
}
