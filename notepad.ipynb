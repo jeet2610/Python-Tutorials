{
 "cells": [
  {
   "cell_type": "code",
   "execution_count": 6,
   "id": "91bdc915-0146-4eae-8de6-598a08179f65",
   "metadata": {
    "tags": []
   },
   "outputs": [],
   "source": [
    "import tkinter as tk\n",
    "from tkinter import messagebox,filedialog\n",
    "def new_file():\n",
    "    text.delete(1.0, tk.END)\n",
    "\n",
    "def open_file():\n",
    "    file_path = filedialog.askopenfilename(filetypes=[(\"Text Files\", \"*.txt\"), (\"All Files\", \"*.*\")])\n",
    "    if file_path:\n",
    "        with open(file_path, 'r') as file:\n",
    "            content = file.read()\n",
    "            text.delete(1.0, tk.END)\n",
    "            text.insert(tk.END, content)\n",
    "\n",
    "def save_file():\n",
    "    file_path = filedialog.asksaveasfilename(defaultextension=\".txt\", filetypes=[(\"Text Files\", \"*.txt\"), (\"All Files\", \"*.*\")])\n",
    "    if file_path:\n",
    "        content = text.get(1.0, tk.END)\n",
    "        with open(file_path, 'w') as file:\n",
    "            file.write(content)\n",
    "\n",
    "def about():\n",
    "    messagebox.showinfo(\"About\", \"Made by Jeet\")\n",
    "\n",
    "root = tk.Tk()\n",
    "root.title(\"Simple Notepad\")\n",
    "\n",
    "menu = tk.Menu(root)\n",
    "root.config(menu=menu)\n",
    "\n",
    "file_menu = tk.Menu(menu, tearoff=False)\n",
    "menu.add_cascade(label=\"File\", menu=file_menu)\n",
    "file_menu.add_command(label=\"New\", command=new_file)\n",
    "file_menu.add_command(label=\"Open\", command=open_file)\n",
    "file_menu.add_command(label=\"Save\", command=save_file)\n",
    "file_menu.add_separator()\n",
    "file_menu.add_command(label=\"Exit\", command=root.destroy)\n",
    "\n",
    "help_menu = tk.Menu(menu, tearoff=False)\n",
    "menu.add_cascade(label=\"Help\", menu=help_menu)\n",
    "help_menu.add_command(label=\"About\", command=about)\n",
    "\n",
    "text = tk.Text(root, wrap=\"word\")\n",
    "text.pack(expand=True, fill=\"both\")\n",
    "\n",
    "root.mainloop()"
   ]
  },
  {
   "cell_type": "code",
   "execution_count": null,
   "id": "7154121c-41a5-47eb-91ff-90f9ac11f060",
   "metadata": {},
   "outputs": [],
   "source": []
  }
 ],
 "metadata": {
  "kernelspec": {
   "display_name": "Python 3 (ipykernel)",
   "language": "python",
   "name": "python3"
  },
  "language_info": {
   "codemirror_mode": {
    "name": "ipython",
    "version": 3
   },
   "file_extension": ".py",
   "mimetype": "text/x-python",
   "name": "python",
   "nbconvert_exporter": "python",
   "pygments_lexer": "ipython3",
   "version": "3.11.5"
  }
 },
 "nbformat": 4,
 "nbformat_minor": 5
}
