{
 "cells": [
  {
   "cell_type": "code",
   "execution_count": 2,
   "id": "3f3c9ff1-7e3d-4809-b75e-499b9c36e30e",
   "metadata": {
    "tags": []
   },
   "outputs": [],
   "source": [
    "import numpy as np"
   ]
  },
  {
   "cell_type": "markdown",
   "id": "0b71151c-125f-4847-a0f8-9dfa1ab92bd1",
   "metadata": {
    "jp-MarkdownHeadingCollapsed": true,
    "tags": []
   },
   "source": [
    "###### Write a numpy program to find missing values"
   ]
  },
  {
   "cell_type": "code",
   "execution_count": 8,
   "id": "283c547c-9d03-4fc1-a263-f3d25933f1bd",
   "metadata": {
    "tags": []
   },
   "outputs": [
    {
     "name": "stdout",
     "output_type": "stream",
     "text": [
      "[ 1.  2. nan  3.  4. nan  5. nan]\n",
      "[False False  True False False  True False  True]\n"
     ]
    }
   ],
   "source": [
    "x = np.array([1,2,np.nan,3,4,np.nan,5,np.nan])\n",
    "print(x)\n",
    "print(np.isnan(x))"
   ]
  },
  {
   "cell_type": "markdown",
   "id": "34d896fd-1f64-4992-bc7c-2e3d36f25b8d",
   "metadata": {
    "jp-MarkdownHeadingCollapsed": true,
    "tags": []
   },
   "source": [
    "###### Numpy program to check if two arrays are equal"
   ]
  },
  {
   "cell_type": "code",
   "execution_count": 13,
   "id": "73fd7d6a-2e68-40a1-b8cf-16c5bf04e6af",
   "metadata": {
    "tags": []
   },
   "outputs": [
    {
     "name": "stdout",
     "output_type": "stream",
     "text": [
      "Original arrays:\n",
      "[0.5 1.5 0.2]\n",
      "[0.4999999999 1.5          0.2         ]\n",
      "\n",
      "Test said two arrays are equal (element wise) or not:?\n",
      "[False  True  True]\n",
      "\n",
      "Original arrays:\n",
      "[0.5 1.5 0.2]\n",
      "[0.5 1.5 0.2]\n",
      "\n",
      "Test said two arrays are equal (element wise) or not:?\n",
      "[False False  True]\n"
     ]
    }
   ],
   "source": [
    "import numpy as np\n",
    "\n",
    "nums1 = np.array([0.5, 1.5, 0.2])\n",
    "nums2 = np.array([0.4999999999, 1.500000000, 0.2])\n",
    "\n",
    "np.set_printoptions(precision=10)\n",
    "\n",
    "# Printing a message indicating the original arrays 'nums1' and 'nums2'\n",
    "print(\"Original arrays:\")\n",
    "print(nums1)\n",
    "print(nums2)\n",
    "\n",
    "# Printing a message asking whether the two arrays are equal element-wise or not\n",
    "print(\"\\nTest said two arrays are equal (element wise) or not:?\")\n",
    "print(nums1 == nums2)\n",
    "\n",
    "# Reassigning new values to arrays 'nums1' and 'nums2'\n",
    "nums1 = np.array([0.5, 1.5, 0.23])\n",
    "nums2 = np.array([0.4999999999, 1.5000000001, 0.23])\n",
    "\n",
    "# Printing a message indicating the original arrays 'nums1' and 'nums2'\n",
    "print(\"\\nOriginal arrays:\")\n",
    "np.set_printoptions(precision=1)\n",
    "print(nums1)\n",
    "print(nums2)\n",
    "\n",
    "# Printing a message asking whether the two arrays are equal element-wise or not\n",
    "print(\"\\nTest said two arrays are equal (element wise) or not:?\")\n",
    "print(np.equal(nums1, nums2)) \n"
   ]
  },
  {
   "cell_type": "markdown",
   "id": "1b46c1d0-584c-4fc5-827e-6392d095fd7b",
   "metadata": {
    "jp-MarkdownHeadingCollapsed": true,
    "tags": []
   },
   "source": [
    "###### Write a NumPy program to create a new array of given shape (5,6) and type, filled with zeros"
   ]
  },
  {
   "cell_type": "code",
   "execution_count": 17,
   "id": "21fb3ef3-1a23-46ef-ae1b-50ae1f6e900c",
   "metadata": {
    "tags": []
   },
   "outputs": [
    {
     "name": "stdout",
     "output_type": "stream",
     "text": [
      "[[0. 0. 0. 0. 0. 0.]\n",
      " [0. 0. 0. 0. 0. 0.]\n",
      " [0. 0. 0. 0. 0. 0.]\n",
      " [0. 0. 0. 0. 0. 0.]\n",
      " [0. 0. 0. 0. 0. 0.]]\n"
     ]
    }
   ],
   "source": [
    "x = np.zeros((5,6))\n",
    "print(x)"
   ]
  },
  {
   "cell_type": "markdown",
   "id": "83a6a0d8-bae4-4fb4-b982-745ffe16a781",
   "metadata": {
    "jp-MarkdownHeadingCollapsed": true,
    "tags": []
   },
   "source": [
    "###### Write a NumPy program to sort a given array by row and column in ascending order."
   ]
  },
  {
   "cell_type": "code",
   "execution_count": 19,
   "id": "7bc4c576-53b7-4f42-a0c2-3391d7ee004b",
   "metadata": {
    "tags": []
   },
   "outputs": [],
   "source": [
    "b = np.array([[5.54, 3.38, 7.99],\n",
    "              [3.54, 4.38, 6.99],\n",
    "              [1.54, 2.39, 9.29]])"
   ]
  },
  {
   "cell_type": "code",
   "execution_count": 22,
   "id": "a2c36b54-140e-42b1-ac1f-2e640dfd46cd",
   "metadata": {
    "tags": []
   },
   "outputs": [
    {
     "name": "stdout",
     "output_type": "stream",
     "text": [
      "[[5.5 3.4 8. ]\n",
      " [3.5 4.4 7. ]\n",
      " [1.5 2.4 9.3]]\n",
      "[[3.4 5.5 8. ]\n",
      " [3.5 4.4 7. ]\n",
      " [1.5 2.4 9.3]]\n",
      "[[1.5 2.4 7. ]\n",
      " [3.5 3.4 8. ]\n",
      " [5.5 4.4 9.3]]\n"
     ]
    }
   ],
   "source": [
    "print(b)\n",
    "print(np.sort(b))\n",
    "print(np.sort(b,axis=0))"
   ]
  },
  {
   "cell_type": "markdown",
   "id": "fcead918-1c6c-4990-9529-4608526cbca3",
   "metadata": {},
   "source": [
    "###### Write a NumPy program to extract all numbers from a given array less and greater than a specified number."
   ]
  },
  {
   "cell_type": "code",
   "execution_count": 23,
   "id": "f41278a3-db4f-478b-9b76-ea090cfc4db0",
   "metadata": {
    "tags": []
   },
   "outputs": [],
   "source": [
    "nums = np.array([[5.54, 3.38, 7.99],\n",
    "              [3.54, 8.32, 6.99],\n",
    "              [1.54, 2.39, 9.29]])"
   ]
  },
  {
   "cell_type": "code",
   "execution_count": 25,
   "id": "4303017d-e724-47ee-a800-5d06ed8f9ebd",
   "metadata": {
    "tags": []
   },
   "outputs": [
    {
     "name": "stdout",
     "output_type": "stream",
     "text": [
      "Original array:\n",
      "[[5.5 3.4 8. ]\n",
      " [3.5 8.3 7. ]\n",
      " [1.5 2.4 9.3]]\n",
      "\n",
      "Replace elements of the said array which are equal to 8.32 with 18.32\n",
      "[[ 5.5  3.4  8. ]\n",
      " [ 3.5 18.3  7. ]\n",
      " [ 1.5  2.4  9.3]]\n",
      "\n",
      "Replace elements of the said array which are less than 8.32 with 18.32\n",
      "[[18.3 18.3 18.3]\n",
      " [18.3  8.3 18.3]\n",
      " [18.3 18.3  9.3]]\n",
      "\n",
      "Replace elements of the said array which are greater than 8.32 with 18.32\n",
      "[[ 5.5  3.4  8. ]\n",
      " [ 3.5  8.3  7. ]\n",
      " [ 1.5  2.4 18.3]]\n"
     ]
    }
   ],
   "source": [
    "print(\"Original array:\")\n",
    "print(nums)\n",
    "n = 8.32\n",
    "r = 18.32\n",
    "# Printing a message indicating the replacement of elements equal to 'n' with 'r'\n",
    "print(\"\\nReplace elements of the said array which are equal to\", n, \"with\", r)\n",
    "print(np.where(nums == n, r, nums))\n",
    "\n",
    "# Printing a message indicating the replacement of elements less than 'n' with 'r'\n",
    "print(\"\\nReplace elements of the said array which are less than\", n, \"with\", r)\n",
    "print(np.where(nums < n, r, nums))\n",
    "\n",
    "# Printing a message indicating the replacement of elements greater than 'n' with 'r'\n",
    "print(\"\\nReplace elements of the said array which are greater than\", n, \"with\", r)\n",
    "print(np.where(nums > n, r, nums)) "
   ]
  },
  {
   "cell_type": "markdown",
   "id": "f65f4680-ed5f-480e-9b28-1e0df6f54f0f",
   "metadata": {
    "tags": []
   },
   "source": [
    "###### Write a NumPy program to swap rows and columns of a given array in reverse order."
   ]
  },
  {
   "cell_type": "code",
   "execution_count": 27,
   "id": "2d09280f-54b5-4c62-9b50-2b11782c1ad8",
   "metadata": {
    "tags": []
   },
   "outputs": [
    {
     "name": "stdout",
     "output_type": "stream",
     "text": [
      "[[[ 5  0  3  2]\n",
      "  [90 91 93 94]\n",
      "  [ 0  1  3  4]\n",
      "  [ 1  2  3  4]]]\n"
     ]
    }
   ],
   "source": [
    "nums = np.array([[[1, 2, 3, 4],\n",
    "               [0, 1, 3, 4],\n",
    "               [90, 91, 93, 94],\n",
    "               [5, 0, 3, 2]]])\n",
    "new_nums = nums[::-1, ::-1]\n",
    "print(new_nums) \n"
   ]
  },
  {
   "cell_type": "markdown",
   "id": "0b3c73b1-f37d-4337-b0a8-b9648796f49c",
   "metadata": {},
   "source": [
    "###### numpy program to create 3x3 matrix with values ranging from 2 to 10\n"
   ]
  },
  {
   "cell_type": "code",
   "execution_count": 30,
   "id": "02ed5201-1f45-45a5-86bf-955697dca1af",
   "metadata": {
    "tags": []
   },
   "outputs": [
    {
     "name": "stdout",
     "output_type": "stream",
     "text": [
      "[[ 2  3  4]\n",
      " [ 5  6  7]\n",
      " [ 8  9 10]]\n"
     ]
    }
   ],
   "source": [
    "nums = np.arange(2,11).reshape(3,3)\n",
    "print(nums)"
   ]
  },
  {
   "cell_type": "markdown",
   "id": "8bd1881f-cc8d-4282-936b-967f4178ce37",
   "metadata": {},
   "source": [
    "###### Extract all the rows to compute the student weight from a given array (student information) where a specific column starts with a given character"
   ]
  },
  {
   "cell_type": "code",
   "execution_count": 46,
   "id": "1b97568c-feef-41a7-ba17-6903f0331a1c",
   "metadata": {
    "tags": []
   },
   "outputs": [
    {
     "name": "stdout",
     "output_type": "stream",
     "text": [
      "Original array:\n",
      "[['01' 'V' 'Debby Pramod' '30.21']\n",
      " ['02' 'V' 'Artemiy Ellie' '29.32']\n",
      " ['03' 'V' 'Baptist Kamal' '31.0']\n",
      " ['04' 'V' 'Lavanya Davide' '30.22']\n",
      " ['05' 'V' 'Fulton Antwan' '30.21']\n",
      " ['06' 'V' 'Euanthe Sandeep' '31.0']\n",
      " ['07' 'V' 'Endzela Sanda' '32.0']\n",
      " ['08' 'V' 'Victoire Waman' '29.21']\n",
      " ['09' 'V' 'Briar Nur' '30.0']\n",
      " ['10' 'V' 'Rose Lykos' '32.0']]\n",
      "\n",
      "Total weight, where student name starts with E\n",
      "63.0\n"
     ]
    }
   ],
   "source": [
    "# Importing NumPy library\n",
    "import numpy as np\n",
    "\n",
    "# Setting printing options to display arrays with a maximum line width of 100\n",
    "np.set_printoptions(linewidth=100)\n",
    "\n",
    "# Creating a NumPy array containing student data with IDs, class, names, and weights\n",
    "student = np.array([\n",
    "    ['01', 'V', 'Debby Pramod', 30.21],\n",
    "    ['02', 'V', 'Artemiy Ellie', 29.32],\n",
    "    ['03', 'V', 'Baptist Kamal', 31.00],\n",
    "    ['04', 'V', 'Lavanya Davide', 30.22],\n",
    "    ['05', 'V', 'Fulton Antwan', 30.21],\n",
    "    ['06', 'V', 'Euanthe Sandeep', 31.00],\n",
    "    ['07', 'V', 'Endzela Sanda', 32.00],\n",
    "    ['08', 'V', 'Victoire Waman', 29.21],\n",
    "    ['09', 'V', 'Briar Nur', 30.00],\n",
    "    ['10', 'V', 'Rose Lykos', 32.00]\n",
    "])\n",
    "\n",
    "# Displaying the original array\n",
    "print(\"Original array:\")\n",
    "print(student)\n",
    "\n",
    "# Finding the total weight of students whose names start with a specific character ('E')\n",
    "char = 'E'\n",
    "result = student[np.char.startswith(student[:,2], char)]\n",
    "print(\"\\nTotal weight, where student name starts with\", char)\n",
    "print(np.round(result[:, 3].astype(float).sum(), 2))\n",
    "\n"
   ]
  },
  {
   "cell_type": "markdown",
   "id": "d46649b0-b46e-4a9b-9995-8f231d255c68",
   "metadata": {},
   "source": [
    "#### Linear Algebra in Python"
   ]
  },
  {
   "cell_type": "code",
   "execution_count": 48,
   "id": "920e6b64-890a-463b-98d0-632e71da9861",
   "metadata": {
    "tags": []
   },
   "outputs": [
    {
     "name": "stdout",
     "output_type": "stream",
     "text": [
      "7\n"
     ]
    }
   ],
   "source": [
    "def al(x):\n",
    "    return (2*x+3)\n",
    "\n",
    "print(al(2))"
   ]
  },
  {
   "cell_type": "code",
   "execution_count": null,
   "id": "c224fc08-e188-4049-a8ca-28f63d0633ee",
   "metadata": {},
   "outputs": [],
   "source": []
  }
 ],
 "metadata": {
  "kernelspec": {
   "display_name": "Python 3 (ipykernel)",
   "language": "python",
   "name": "python3"
  },
  "language_info": {
   "codemirror_mode": {
    "name": "ipython",
    "version": 3
   },
   "file_extension": ".py",
   "mimetype": "text/x-python",
   "name": "python",
   "nbconvert_exporter": "python",
   "pygments_lexer": "ipython3",
   "version": "3.11.5"
  }
 },
 "nbformat": 4,
 "nbformat_minor": 5
}
