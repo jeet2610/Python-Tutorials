{
 "cells": [
  {
   "cell_type": "markdown",
   "id": "1bf1b237-3ed1-46c0-940c-de312e8d805f",
   "metadata": {},
   "source": [
    "# NUMPY"
   ]
  },
  {
   "cell_type": "code",
   "execution_count": 5,
   "id": "e77d2580-4b2f-4783-91c6-eb45c9c03636",
   "metadata": {
    "tags": []
   },
   "outputs": [],
   "source": [
    "# importing numpy libraries\n",
    "import numpy as np"
   ]
  },
  {
   "cell_type": "code",
   "execution_count": 6,
   "id": "bc3efaa2-eddb-4e26-9cc1-a201c267d551",
   "metadata": {
    "tags": []
   },
   "outputs": [
    {
     "name": "stdout",
     "output_type": "stream",
     "text": [
      "[  2   3   4   5 202]\n",
      "<class 'numpy.ndarray'>\n"
     ]
    }
   ],
   "source": [
    "l = [2,3.4,5,10,11]\n",
    "a = numpy.array([2,3,4,5,202])\n",
    "\n",
    "print(a)\n",
    "print(type(a))"
   ]
  },
  {
   "cell_type": "code",
   "execution_count": 7,
   "id": "0618e0a6-319f-48bf-b188-d061a2167d07",
   "metadata": {
    "tags": []
   },
   "outputs": [],
   "source": [
    "twod = np.array([[22,32,3,23,4],[23,2,34,4,3]])"
   ]
  },
  {
   "cell_type": "code",
   "execution_count": 8,
   "id": "64139f3f-0992-40be-80eb-ce2bde8d17e1",
   "metadata": {
    "tags": []
   },
   "outputs": [
    {
     "name": "stdout",
     "output_type": "stream",
     "text": [
      "[[22 32  3 23  4]\n",
      " [23  2 34  4  3]]\n"
     ]
    }
   ],
   "source": [
    "print(twod)"
   ]
  },
  {
   "cell_type": "code",
   "execution_count": 3,
   "id": "726482db-da38-4f06-aea5-3b8960bdea33",
   "metadata": {
    "tags": []
   },
   "outputs": [
    {
     "name": "stdout",
     "output_type": "stream",
     "text": [
      "[[[ 22  32   3  23   4]\n",
      "  [  2   2 342  45  23]\n",
      "  [234 234  32 423  54]]\n",
      "\n",
      " [[ 22  32   3  23   4]\n",
      "  [  2   2 342  45  23]\n",
      "  [234 234  32 423  54]]\n",
      "\n",
      " [[ 22  32   3  23   4]\n",
      "  [  2   2 342  45  23]\n",
      "  [234 234  32 423  54]]]\n",
      "dimension: 3\n"
     ]
    }
   ],
   "source": [
    "threed = np.array([[[22,32,3,23,4],[2,2,342,45,23],[234,234,32,423,54]],\n",
    "                   [[22,32,3,23,4],[2,2,342,45,23],[234,234,32,423,54]],\n",
    "                   [[22,32,3,23,4],[2,2,342,45,23],[234,234,32,423,54]]])\n",
    "print(threed)\n",
    "print(\"dimension:\",threed.ndim)"
   ]
  },
  {
   "cell_type": "code",
   "execution_count": 17,
   "id": "074aa266-655a-430b-9a98-ff0adfac8234",
   "metadata": {
    "tags": []
   },
   "outputs": [
    {
     "name": "stdout",
     "output_type": "stream",
     "text": [
      "dimension: 7\n"
     ]
    }
   ],
   "source": [
    "seven = np.array([[[[[[[23,45,12,32]]]]]]])\n",
    "print(\"dimension:\",seven.ndim)"
   ]
  },
  {
   "cell_type": "code",
   "execution_count": 19,
   "id": "58b3df26-7100-49a4-83c7-c9d1ce76ba74",
   "metadata": {
    "tags": []
   },
   "outputs": [
    {
     "name": "stdout",
     "output_type": "stream",
     "text": [
      "dimension: 10\n"
     ]
    }
   ],
   "source": [
    "ten = np.array([1,2,3,4,5,6,7,8],ndmin =10)\n",
    "print(\"dimension:\",ten.ndim)"
   ]
  },
  {
   "cell_type": "markdown",
   "id": "8ec92fb8-987c-4850-9cac-9519de942af2",
   "metadata": {},
   "source": [
    "## Indexing and Slicing"
   ]
  },
  {
   "cell_type": "code",
   "execution_count": 20,
   "id": "6cd1bd8b-9f33-48c9-b90a-de8bbad79c9d",
   "metadata": {
    "tags": []
   },
   "outputs": [],
   "source": [
    "import numpy as np\n",
    "a = np.array([2,3,4,5,232])\n",
    "twod = np.array([[22,32,3,23,4],[23,23,34,234,856],[83,2,32,76,45]])"
   ]
  },
  {
   "cell_type": "code",
   "execution_count": 21,
   "id": "787f45f9-5b2e-4ff4-afa6-5e3e6fa725d8",
   "metadata": {
    "tags": []
   },
   "outputs": [
    {
     "name": "stdout",
     "output_type": "stream",
     "text": [
      "2\n",
      "34\n"
     ]
    }
   ],
   "source": [
    "print(a[0])\n",
    "print(twod[1][2])"
   ]
  },
  {
   "cell_type": "code",
   "execution_count": 22,
   "id": "4ba37fd1-fa50-42a5-a26b-981a3e908478",
   "metadata": {
    "tags": []
   },
   "outputs": [
    {
     "name": "stdout",
     "output_type": "stream",
     "text": [
      "[[[22 32]]\n",
      "\n",
      " [[22 32]]]\n"
     ]
    }
   ],
   "source": [
    "print(threed[1:3,0:1,0:2])"
   ]
  },
  {
   "cell_type": "markdown",
   "id": "74dd148d-1c5f-40f9-a0d8-b935e255cad2",
   "metadata": {},
   "source": [
    "## Copy and View"
   ]
  },
  {
   "cell_type": "markdown",
   "id": "a57fff15-5542-4c6a-9f34-f310ecba98e6",
   "metadata": {},
   "source": [
    "### Copy"
   ]
  },
  {
   "cell_type": "code",
   "execution_count": 24,
   "id": "1cc0f22c-82fe-43f7-8492-83f81eeda66b",
   "metadata": {
    "tags": []
   },
   "outputs": [
    {
     "name": "stdout",
     "output_type": "stream",
     "text": [
      "[ 2 32 43 44]\n",
      "[555  32  43  44]\n"
     ]
    }
   ],
   "source": [
    "import numpy as np\n",
    "a = np.array([2,32,43,44])\n",
    "c = a.copy()\n",
    "c[0] = 555\n",
    "print(a)\n",
    "print(c)"
   ]
  },
  {
   "cell_type": "markdown",
   "id": "3f22c141-618b-4544-8c38-0319b577896a",
   "metadata": {},
   "source": [
    "### View"
   ]
  },
  {
   "cell_type": "code",
   "execution_count": 27,
   "id": "4081aa5e-6824-420b-aad0-6c135451fea3",
   "metadata": {
    "tags": []
   },
   "outputs": [
    {
     "name": "stdout",
     "output_type": "stream",
     "text": [
      "[  69  231    1 3345]\n"
     ]
    }
   ],
   "source": [
    "a = np.array([23,231,1,3345])\n",
    "v = a.view()\n",
    "v[0]= 69\n",
    "print(a)"
   ]
  },
  {
   "cell_type": "markdown",
   "id": "55fac561-1394-47ff-a6ec-14712ea9e135",
   "metadata": {},
   "source": [
    "## Shape"
   ]
  },
  {
   "cell_type": "code",
   "execution_count": 28,
   "id": "f0952bc8-399e-4fa6-bee4-47786bd53e90",
   "metadata": {
    "tags": []
   },
   "outputs": [
    {
     "data": {
      "text/plain": [
       "array([[ 22,  32,   3,  23,   4],\n",
       "       [ 23,  23,  34, 234, 856],\n",
       "       [ 83,   2,  32,  76,  45]])"
      ]
     },
     "execution_count": 28,
     "metadata": {},
     "output_type": "execute_result"
    }
   ],
   "source": [
    "twod"
   ]
  },
  {
   "cell_type": "code",
   "execution_count": 30,
   "id": "e26e69a1-8ed8-40af-a0f4-07faca54ad9c",
   "metadata": {
    "tags": []
   },
   "outputs": [
    {
     "data": {
      "text/plain": [
       "(3, 5)"
      ]
     },
     "execution_count": 30,
     "metadata": {},
     "output_type": "execute_result"
    }
   ],
   "source": [
    "twod.shape"
   ]
  },
  {
   "cell_type": "code",
   "execution_count": 31,
   "id": "02aa5b16-c2c2-4e0c-a19f-00dd0daa0346",
   "metadata": {
    "tags": []
   },
   "outputs": [
    {
     "data": {
      "text/plain": [
       "(3, 3, 5)"
      ]
     },
     "execution_count": 31,
     "metadata": {},
     "output_type": "execute_result"
    }
   ],
   "source": [
    "threed.shape"
   ]
  },
  {
   "cell_type": "code",
   "execution_count": 32,
   "id": "b56a7f06-d4c9-4456-9d70-86ce808cfb61",
   "metadata": {
    "tags": []
   },
   "outputs": [
    {
     "name": "stdout",
     "output_type": "stream",
     "text": [
      "[[[[[[[[[[ 2.2 23.   2.   3. ]]]]]]]]]]\n",
      "(1, 1, 1, 1, 1, 1, 1, 1, 1, 4)\n"
     ]
    }
   ],
   "source": [
    "tend = np.array([2.2,23,2,3],ndmin=10)\n",
    "print(tend)\n",
    "print(tend.shape)"
   ]
  },
  {
   "cell_type": "markdown",
   "id": "06f98a9b-9f9f-4897-8ce5-e0b70939659b",
   "metadata": {},
   "source": [
    "## Reshape"
   ]
  },
  {
   "cell_type": "code",
   "execution_count": 34,
   "id": "a73714ed-e804-4750-be31-847088303f56",
   "metadata": {
    "tags": []
   },
   "outputs": [
    {
     "name": "stdout",
     "output_type": "stream",
     "text": [
      "[[[ 22  32   3  23   4]\n",
      "  [  2   2 342  45  23]\n",
      "  [234 234  32 423  54]]\n",
      "\n",
      " [[ 22  32   3  23   4]\n",
      "  [  2   2 342  45  23]\n",
      "  [234 234  32 423  54]]\n",
      "\n",
      " [[ 22  32   3  23   4]\n",
      "  [  2   2 342  45  23]\n",
      "  [234 234  32 423  54]]]\n",
      "dimension: 3\n"
     ]
    }
   ],
   "source": [
    "print(threed)\n",
    "print(\"dimension:\",threed.ndim)"
   ]
  },
  {
   "cell_type": "code",
   "execution_count": 35,
   "id": "fe483cb6-81b2-4786-8d1f-509029e39581",
   "metadata": {
    "tags": []
   },
   "outputs": [
    {
     "data": {
      "text/plain": [
       "array([ 22,  32,   3,  23,   4,   2,   2, 342,  45,  23, 234, 234,  32,\n",
       "       423,  54,  22,  32,   3,  23,   4,   2,   2, 342,  45,  23, 234,\n",
       "       234,  32, 423,  54,  22,  32,   3,  23,   4,   2,   2, 342,  45,\n",
       "        23, 234, 234,  32, 423,  54])"
      ]
     },
     "execution_count": 35,
     "metadata": {},
     "output_type": "execute_result"
    }
   ],
   "source": [
    "threed.reshape(-1)"
   ]
  },
  {
   "cell_type": "code",
   "execution_count": 36,
   "id": "812e88f8-8d35-4566-b3ed-9339bd70921d",
   "metadata": {
    "tags": []
   },
   "outputs": [
    {
     "data": {
      "text/plain": [
       "(3, 3, 5)"
      ]
     },
     "execution_count": 36,
     "metadata": {},
     "output_type": "execute_result"
    }
   ],
   "source": [
    "threed.shape"
   ]
  },
  {
   "cell_type": "code",
   "execution_count": 37,
   "id": "b618ffbc-79a5-405c-b9ce-1dae7e2aa954",
   "metadata": {
    "tags": []
   },
   "outputs": [
    {
     "data": {
      "text/plain": [
       "array([[[ 22,  32,   3],\n",
       "        [ 23,   4,   2],\n",
       "        [  2, 342,  45],\n",
       "        [ 23, 234, 234],\n",
       "        [ 32, 423,  54]],\n",
       "\n",
       "       [[ 22,  32,   3],\n",
       "        [ 23,   4,   2],\n",
       "        [  2, 342,  45],\n",
       "        [ 23, 234, 234],\n",
       "        [ 32, 423,  54]],\n",
       "\n",
       "       [[ 22,  32,   3],\n",
       "        [ 23,   4,   2],\n",
       "        [  2, 342,  45],\n",
       "        [ 23, 234, 234],\n",
       "        [ 32, 423,  54]]])"
      ]
     },
     "execution_count": 37,
     "metadata": {},
     "output_type": "execute_result"
    }
   ],
   "source": [
    "threed.reshape(3,5,-1)"
   ]
  },
  {
   "cell_type": "code",
   "execution_count": 40,
   "id": "3b40703b-7887-4a63-a7a6-f0782bb2c699",
   "metadata": {
    "tags": []
   },
   "outputs": [
    {
     "data": {
      "text/plain": [
       "array([[[ 22,  32,   3],\n",
       "        [ 23,   4,   2],\n",
       "        [  2, 342,  45],\n",
       "        [ 23, 234, 234],\n",
       "        [ 32, 423,  54]],\n",
       "\n",
       "       [[ 22,  32,   3],\n",
       "        [ 23,   4,   2],\n",
       "        [  2, 342,  45],\n",
       "        [ 23, 234, 234],\n",
       "        [ 32, 423,  54]],\n",
       "\n",
       "       [[ 22,  32,   3],\n",
       "        [ 23,   4,   2],\n",
       "        [  2, 342,  45],\n",
       "        [ 23, 234, 234],\n",
       "        [ 32, 423,  54]]])"
      ]
     },
     "execution_count": 40,
     "metadata": {},
     "output_type": "execute_result"
    }
   ],
   "source": [
    "threed.reshape(3,5,3)"
   ]
  },
  {
   "cell_type": "markdown",
   "id": "90c728a5-1df9-41e2-afa7-5198f3b2d147",
   "metadata": {},
   "source": [
    "## ITERATION IN NUMPY"
   ]
  },
  {
   "cell_type": "code",
   "execution_count": 4,
   "id": "5f79d6ee-ef33-418e-8705-99b933d248a7",
   "metadata": {
    "tags": []
   },
   "outputs": [
    {
     "name": "stdout",
     "output_type": "stream",
     "text": [
      "22\n",
      "32\n",
      "3\n",
      "23\n",
      "4\n",
      "2\n",
      "2\n",
      "342\n",
      "45\n",
      "23\n",
      "234\n",
      "234\n",
      "32\n",
      "423\n",
      "54\n",
      "22\n",
      "32\n",
      "3\n",
      "23\n",
      "4\n",
      "2\n",
      "2\n",
      "342\n",
      "45\n",
      "23\n",
      "234\n",
      "234\n",
      "32\n",
      "423\n",
      "54\n",
      "22\n",
      "32\n",
      "3\n",
      "23\n",
      "4\n",
      "2\n",
      "2\n",
      "342\n",
      "45\n",
      "23\n",
      "234\n",
      "234\n",
      "32\n",
      "423\n",
      "54\n"
     ]
    }
   ],
   "source": [
    "import numpy as np\n",
    "for x in np.nditer(threed):\n",
    "    print(x)"
   ]
  },
  {
   "cell_type": "markdown",
   "id": "ab293378-7a13-4c4b-89c7-6bbd9beda09b",
   "metadata": {},
   "source": [
    "### Task 1 : zeros and ones"
   ]
  },
  {
   "cell_type": "code",
   "execution_count": 131,
   "id": "0cd9eb19-e6b0-4435-9399-c70e5232cb37",
   "metadata": {
    "tags": []
   },
   "outputs": [
    {
     "name": "stdout",
     "output_type": "stream",
     "text": [
      "[[0. 0. 0. 0. 0. 0. 0. 0.]\n",
      " [0. 0. 0. 0. 0. 0. 0. 0.]\n",
      " [0. 0. 0. 0. 0. 0. 0. 0.]\n",
      " [0. 0. 0. 0. 0. 0. 0. 0.]\n",
      " [0. 0. 0. 0. 0. 0. 0. 0.]\n",
      " [0. 0. 0. 0. 0. 0. 0. 0.]\n",
      " [0. 0. 0. 0. 0. 0. 0. 0.]\n",
      " [0. 0. 0. 0. 0. 0. 0. 0.]]\n"
     ]
    }
   ],
   "source": [
    "chex = np.zeros((8,8))\n",
    "print(chex)"
   ]
  },
  {
   "cell_type": "code",
   "execution_count": 107,
   "id": "6d382ab2-ee65-474f-8101-8d81b2a1a38f",
   "metadata": {
    "tags": []
   },
   "outputs": [
    {
     "name": "stdout",
     "output_type": "stream",
     "text": [
      "[[1. 1. 1. 1. 1. 1. 1. 1.]\n",
      " [1. 1. 1. 1. 1. 1. 1. 1.]\n",
      " [1. 1. 1. 1. 1. 1. 1. 1.]\n",
      " [1. 1. 1. 1. 1. 1. 1. 1.]\n",
      " [1. 1. 1. 1. 1. 1. 1. 1.]\n",
      " [1. 1. 1. 1. 1. 1. 1. 1.]\n",
      " [1. 1. 1. 1. 1. 1. 1. 1.]\n",
      " [1. 1. 1. 1. 1. 1. 1. 1.]]\n",
      "2\n"
     ]
    }
   ],
   "source": [
    "chex1 = np.ones((8,8))\n",
    "print(chex1)\n",
    "print(chex1.ndim)"
   ]
  },
  {
   "cell_type": "code",
   "execution_count": 134,
   "id": "f6eb60ca-5b01-4e9c-bad0-97d9dc8446c9",
   "metadata": {
    "tags": []
   },
   "outputs": [],
   "source": [
    "for i in range(8):\n",
    "    if i%2==0:\n",
    "        for j in range(8):\n",
    "            if j%2 != 0:\n",
    "                chex[i][j]=1\n",
    "    elif i%2 !=0:\n",
    "        for j in range(8):\n",
    "            if j%2 ==0:\n",
    "                chex[i][j]=1\n",
    "                "
   ]
  },
  {
   "cell_type": "code",
   "execution_count": 135,
   "id": "8152abc9-51d1-4394-b458-d3f1e8640477",
   "metadata": {
    "tags": []
   },
   "outputs": [
    {
     "name": "stdout",
     "output_type": "stream",
     "text": [
      "[[0. 1. 0. 1. 0. 1. 0. 1.]\n",
      " [1. 0. 1. 0. 1. 0. 1. 0.]\n",
      " [0. 1. 0. 1. 0. 1. 0. 1.]\n",
      " [1. 0. 1. 0. 1. 0. 1. 0.]\n",
      " [0. 1. 0. 1. 0. 1. 0. 1.]\n",
      " [1. 0. 1. 0. 1. 0. 1. 0.]\n",
      " [0. 1. 0. 1. 0. 1. 0. 1.]\n",
      " [1. 0. 1. 0. 1. 0. 1. 0.]]\n"
     ]
    }
   ],
   "source": [
    "print(chex)"
   ]
  },
  {
   "cell_type": "code",
   "execution_count": 127,
   "id": "e9c9c2b4-4e43-41f8-9c08-85ee501413df",
   "metadata": {
    "tags": []
   },
   "outputs": [
    {
     "name": "stdout",
     "output_type": "stream",
     "text": [
      "False\n"
     ]
    }
   ],
   "source": [
    "print(0%2!=0)"
   ]
  },
  {
   "cell_type": "markdown",
   "id": "6c557450-9337-430d-a3a7-16cb7f3f665b",
   "metadata": {},
   "source": [
    "### Transpose matrix"
   ]
  },
  {
   "cell_type": "code",
   "execution_count": null,
   "id": "9b5f6b8d-4100-40bd-9d44-cb9964efd20b",
   "metadata": {},
   "outputs": [],
   "source": [
    "#importing packages\n",
    "\n",
    "import numpy as np"
   ]
  }
 ],
 "metadata": {
  "kernelspec": {
   "display_name": "Python 3 (ipykernel)",
   "language": "python",
   "name": "python3"
  },
  "language_info": {
   "codemirror_mode": {
    "name": "ipython",
    "version": 3
   },
   "file_extension": ".py",
   "mimetype": "text/x-python",
   "name": "python",
   "nbconvert_exporter": "python",
   "pygments_lexer": "ipython3",
   "version": "3.11.5"
  }
 },
 "nbformat": 4,
 "nbformat_minor": 5
}
