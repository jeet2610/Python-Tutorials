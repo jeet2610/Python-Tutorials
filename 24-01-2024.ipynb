{
 "cells": [
  {
   "cell_type": "code",
   "execution_count": 3,
   "id": "ba5e37c9-8b50-492d-bd24-cd84fb2085d6",
   "metadata": {
    "tags": []
   },
   "outputs": [
    {
     "name": "stdout",
     "output_type": "stream",
     "text": [
      "             name date_of_birth   age\n",
      "0  Alberto Franco    17/05/2002  18.5\n",
      "1    Gino Mcneill    16/02/1999  21.2\n",
      "2     Ryan Parkes    25/09/1998  22.5\n",
      "3    Eesha Hinton    11/05/2002  22.0\n",
      "4    Syed Wharton    15/09/1997  23.0\n"
     ]
    }
   ],
   "source": [
    "\n",
    "# 68. Write a Pandas program to rename all columns with the same pattern of a given DataFrame.\n",
    "import pandas as pd\n",
    "import numpy as np\n",
    "df = pd.DataFrame({\n",
    "    'Name': ['Alberto Franco','Gino Mcneill','Ryan Parkes', 'Eesha Hinton', 'Syed Wharton'],\n",
    "    'Date_Of_Birth ': ['17/05/2002','16/02/1999','25/09/1998','11/05/2002','15/09/1997'],\n",
    "    'Age': [18.5, 21.2, 22.5, 22, 23]\n",
    "})\n",
    "\n",
    "df.columns = df.columns.str.lower().str.rstrip()\n",
    "print(df)"
   ]
  },
  {
   "cell_type": "code",
   "execution_count": 20,
   "id": "460e26e3-e993-4b77-8fe2-0ce46d18237e",
   "metadata": {
    "tags": []
   },
   "outputs": [
    {
     "name": "stdout",
     "output_type": "stream",
     "text": [
      "           name date_of_birth age\n",
      "0  Syed Wharton    15/09/1997  23\n",
      "1  Eesha Hinton    11/05/2002  22\n",
      "           name date_of_birth age\n",
      "0   Ryan Parkes    25/09/1998  22\n",
      "1  Eesha Hinton    11/05/2002  22\n",
      "2  Syed Wharton    15/09/1997  23\n"
     ]
    }
   ],
   "source": [
    "# 67. Write a Pandas program to split a given DataFrame into two random subsets.\n",
    "import pandas as pd\n",
    "import numpy as np\n",
    "df = pd.DataFrame({\n",
    "    'name': ['Alberto Franco','Gino Mcneill','Ryan Parkes', 'Eesha Hinton', 'Syed Wharton'],\n",
    "    'date_of_birth': ['17/05/2002','16/02/1999','25/09/1998','11/05/2002','15/09/1997'],\n",
    "    'age': ['18', '21', '22', '22', '23']\n",
    "})\n",
    "df_1 = df.sample(frac = 0.5).reset_index(drop=True)\n",
    "df_2 = df.drop(df_1.index).reset_index(drop=True)\n",
    "print(df_1)\n",
    "print(df_2)"
   ]
  },
  {
   "cell_type": "code",
   "execution_count": 26,
   "id": "37c5ee5f-ae64-43d3-bf05-6693857e4d15",
   "metadata": {
    "tags": []
   },
   "outputs": [
    {
     "data": {
      "text/html": [
       "<div>\n",
       "<style scoped>\n",
       "    .dataframe tbody tr th:only-of-type {\n",
       "        vertical-align: middle;\n",
       "    }\n",
       "\n",
       "    .dataframe tbody tr th {\n",
       "        vertical-align: top;\n",
       "    }\n",
       "\n",
       "    .dataframe thead th {\n",
       "        text-align: right;\n",
       "    }\n",
       "</style>\n",
       "<table border=\"1\" class=\"dataframe\">\n",
       "  <thead>\n",
       "    <tr style=\"text-align: right;\">\n",
       "      <th></th>\n",
       "      <th>name</th>\n",
       "      <th>date_of_birth</th>\n",
       "      <th>age</th>\n",
       "    </tr>\n",
       "  </thead>\n",
       "  <tbody>\n",
       "    <tr>\n",
       "      <th>0</th>\n",
       "      <td>Alberto Franco</td>\n",
       "      <td>17/05/2002</td>\n",
       "      <td>18</td>\n",
       "    </tr>\n",
       "    <tr>\n",
       "      <th>1</th>\n",
       "      <td>Gino Mcneill</td>\n",
       "      <td>16/02/1999</td>\n",
       "      <td>21</td>\n",
       "    </tr>\n",
       "    <tr>\n",
       "      <th>2</th>\n",
       "      <td>Ryan Parkes</td>\n",
       "      <td>25/09/1998</td>\n",
       "      <td>22</td>\n",
       "    </tr>\n",
       "    <tr>\n",
       "      <th>3</th>\n",
       "      <td>Eesha Hinton</td>\n",
       "      <td>11/05/2002</td>\n",
       "      <td>22</td>\n",
       "    </tr>\n",
       "    <tr>\n",
       "      <th>4</th>\n",
       "      <td>Syed Wharton</td>\n",
       "      <td>15/09/1997</td>\n",
       "      <td>23</td>\n",
       "    </tr>\n",
       "  </tbody>\n",
       "</table>\n",
       "</div>"
      ],
      "text/plain": [
       "             name date_of_birth age\n",
       "0  Alberto Franco    17/05/2002  18\n",
       "1    Gino Mcneill    16/02/1999  21\n",
       "2     Ryan Parkes    25/09/1998  22\n",
       "3    Eesha Hinton    11/05/2002  22\n",
       "4    Syed Wharton    15/09/1997  23"
      ]
     },
     "execution_count": 26,
     "metadata": {},
     "output_type": "execute_result"
    }
   ],
   "source": [
    "# Selecting Columns by Data Typeb\n",
    "import pandas as pd\n",
    "\n",
    "df.select_dtypes(include=\"number\")\n",
    "df.select_dtypes(include=\"object\")"
   ]
  },
  {
   "cell_type": "markdown",
   "id": "e3c0f68d-e583-4e1f-98ac-6a097ed0370a",
   "metadata": {
    "tags": []
   },
   "source": [
    "####  Pandas Indexing"
   ]
  },
  {
   "cell_type": "code",
   "execution_count": 32,
   "id": "4f41761c-4ee5-4cab-aff5-33bb59c7caeb",
   "metadata": {
    "tags": []
   },
   "outputs": [
    {
     "name": "stdout",
     "output_type": "stream",
     "text": [
      "Original Index and DataFrame\n",
      "  school_code class            name date_Of_Birth  weight  address t_id\n",
      "0        s001     V  Alberto Franco    15/05/2002      35  street1   t1\n",
      "1        s002     V    Gino Mcneill    17/05/2002      32  street2   t2\n",
      "2        s003    VI     Ryan Parkes    16/02/1999      33  street3   t3\n",
      "3        s001    VI    Eesha Hinton    25/09/1998      30  street1   t4\n",
      "4        s002     V    Gino Mcneill    11/05/2002      31  street2   t5\n",
      "DataFrame with School Code as Index\n",
      "            class            name date_Of_Birth  weight  address t_id\n",
      "school_code                                                          \n",
      "s001            V  Alberto Franco    15/05/2002      35  street1   t1\n",
      "s002            V    Gino Mcneill    17/05/2002      32  street2   t2\n",
      "s003           VI     Ryan Parkes    16/02/1999      33  street3   t3\n",
      "s001           VI    Eesha Hinton    25/09/1998      30  street1   t4\n",
      "s002            V    Gino Mcneill    11/05/2002      31  street2   t5\n"
     ]
    }
   ],
   "source": [
    "# 1. Write a Pandas program to display the default index and set a column as an Index in a given dataframe.\n",
    "df = pd.DataFrame({\n",
    "    'school_code': ['s001','s002','s003','s001','s002','s004'],\n",
    "    'class': ['V', 'V', 'VI', 'VI', 'V', 'VI'],\n",
    "    'name': ['Alberto Franco','Gino Mcneill','Ryan Parkes', 'Eesha Hinton', 'Gino Mcneill', 'David Parkes'],\n",
    "    'date_Of_Birth': ['15/05/2002','17/05/2002','16/02/1999','25/09/1998','11/05/2002','15/09/1997'],\n",
    "    'weight': [35, 32, 33, 30, 31, 32],\n",
    "    'address': ['street1', 'street2', 'street3', 'street1', 'street2', 'street4'],\n",
    "    't_id':['t1', 't2', 't3', 't4', 't5', 't6']})\n",
    "print(\"Original Index and DataFrame\")\n",
    "print(df.head())\n",
    "df = df.set_index('school_code')\n",
    "print(\"DataFrame with School Code as Index\")\n",
    "print(df.head())"
   ]
  },
  {
   "cell_type": "code",
   "execution_count": 35,
   "id": "1bfa7528-42e0-43b6-80a5-eb9d12f42602",
   "metadata": {
    "tags": []
   },
   "outputs": [
    {
     "name": "stdout",
     "output_type": "stream",
     "text": [
      "  school_code class            name date_Of_Birth  weight  address t_id\n",
      "0        s001     V  Alberto Franco    15/05/2002      35  street1   t1\n",
      "1        s002     V    Gino Mcneill    17/05/2002      32  street2   t2\n",
      "2        s003    VI     Ryan Parkes    16/02/1999      33  street3   t3\n",
      "3        s001    VI    Eesha Hinton    25/09/1998      30  street1   t4\n",
      "4        s002     V    Gino Mcneill    11/05/2002      31  street2   t5\n",
      "5        s004    VI    David Parkes    15/09/1997      32  street4   t6\n",
      "                 class            name date_Of_Birth  weight  address\n",
      "school_code t_id                                                     \n",
      "s001        t1       V  Alberto Franco    15/05/2002      35  street1\n",
      "s002        t2       V    Gino Mcneill    17/05/2002      32  street2\n",
      "s003        t3      VI     Ryan Parkes    16/02/1999      33  street3\n",
      "s001        t4      VI    Eesha Hinton    25/09/1998      30  street1\n",
      "s002        t5       V    Gino Mcneill    11/05/2002      31  street2\n",
      "s004        t6      VI    David Parkes    15/09/1997      32  street4\n"
     ]
    }
   ],
   "source": [
    "#2. Write a Pandas program to create a multi Index frame using two columns and using an Index and a column.\n",
    "\n",
    "df = pd.DataFrame({\n",
    "    'school_code': ['s001','s002','s003','s001','s002','s004'],\n",
    "    'class': ['V', 'V', 'VI', 'VI', 'V', 'VI'],\n",
    "    'name': ['Alberto Franco','Gino Mcneill','Ryan Parkes', 'Eesha Hinton', 'Gino Mcneill', 'David Parkes'],\n",
    "    'date_Of_Birth': ['15/05/2002','17/05/2002','16/02/1999','25/09/1998','11/05/2002','15/09/1997'],\n",
    "    'weight': [35, 32, 33, 30, 31, 32],\n",
    "    'address': ['street1', 'street2', 'street3', 'street1', 'street2', 'street4'],\n",
    "    't_id':['t1', 't2', 't3', 't4', 't5', 't6']})\n",
    "\n",
    "print(df)\n",
    "df_1 = df.set_index(['school_code','t_id'])\n",
    "print(df_1)"
   ]
  },
  {
   "cell_type": "code",
   "execution_count": 39,
   "id": "0cfa80ca-02f5-491f-85c8-1a063719f82d",
   "metadata": {
    "tags": []
   },
   "outputs": [
    {
     "name": "stdout",
     "output_type": "stream",
     "text": [
      "     school_code class            name date_Of_Birth  weight  address\n",
      "t_id                                                                 \n",
      "t1          s001     V  Alberto Franco    15/05/2002      35  street1\n",
      "t2          s002     V    Gino Mcneill    17/05/2002      32  street2\n",
      "t3          s003    VI     Ryan Parkes    16/02/1999      33  street3\n",
      "t4          s001    VI    Eesha Hinton    25/09/1998      30  street1\n",
      "t5          s002     V    Gino Mcneill    11/05/2002      31  street2\n",
      "  t_id school_code class            name date_Of_Birth  weight  address\n",
      "0   t1        s001     V  Alberto Franco    15/05/2002      35  street1\n",
      "1   t2        s002     V    Gino Mcneill    17/05/2002      32  street2\n",
      "2   t3        s003    VI     Ryan Parkes    16/02/1999      33  street3\n",
      "3   t4        s001    VI    Eesha Hinton    25/09/1998      30  street1\n",
      "4   t5        s002     V    Gino Mcneill    11/05/2002      31  street2\n"
     ]
    }
   ],
   "source": [
    "#3. Write a Pandas program to display the default index and set a column as an Index in a given dataframe and then reset the index.\n",
    "\n",
    "df = pd.DataFrame({\n",
    "    'school_code': ['s001','s002','s003','s001','s002','s004'],\n",
    "    'class': ['V', 'V', 'VI', 'VI', 'V', 'VI'],\n",
    "    'name': ['Alberto Franco','Gino Mcneill','Ryan Parkes', 'Eesha Hinton', 'Gino Mcneill', 'David Parkes'],\n",
    "    'date_Of_Birth': ['15/05/2002','17/05/2002','16/02/1999','25/09/1998','11/05/2002','15/09/1997'],\n",
    "    'weight': [35, 32, 33, 30, 31, 32],\n",
    "    'address': ['street1', 'street2', 'street3', 'street1', 'street2', 'street4'],\n",
    "    't_id':['t1', 't2', 't3', 't4', 't5', 't6']})\n",
    "\n",
    "df_1 = df.set_index('t_id')\n",
    "print(df_1.head())\n",
    "df_2 = df_1.reset_index(inplace=False)\n",
    "print(df_2.head())\n"
   ]
  },
  {
   "cell_type": "code",
   "execution_count": 47,
   "id": "c7343767-daf0-4af8-aab4-46841ef50298",
   "metadata": {
    "tags": []
   },
   "outputs": [
    {
     "name": "stdout",
     "output_type": "stream",
     "text": [
      "            X\n",
      "(0.0, 0.5]  1\n",
      "(0.5, 1.0]  2\n",
      "(1.0, 1.5]  3\n",
      "(1.5, 2.0]  4\n",
      "(2.0, 2.5]  5\n",
      "(2.5, 3.0]  6\n",
      "(3.0, 3.5]  7\n",
      "IntervalIndex([(0.0, 0.5], (0.5, 1.0], (1.0, 1.5], (1.5, 2.0], (2.0, 2.5], (2.5, 3.0], (3.0, 3.5]], dtype='interval[float64, right]')\n",
      "            X\n",
      "(0.0, 0.5]  1\n",
      "(0.5, 1.0]  2\n",
      "(1.0, 1.5]  3\n",
      "(1.5, 2.0]  4\n",
      "(2.0, 2.5]  5\n",
      "(2.5, 3.0]  6\n",
      "(3.0, 3.5]  7\n",
      "IntervalIndex([(0.0, 0.5], (0.5, 1.0], (1.0, 1.5], (1.5, 2.0], (2.0, 2.5], (2.5, 3.0], (3.0, 3.5]], dtype='interval[float64, right]')\n",
      "            X\n",
      "(0.0, 0.5]  1\n",
      "(0.5, 1.0]  2\n",
      "(1.0, 1.5]  3\n",
      "(1.5, 2.0]  4\n",
      "(2.0, 2.5]  5\n",
      "(2.5, 3.0]  6\n",
      "(3.0, 3.5]  7\n",
      "IntervalIndex([(0.0, 0.5], (0.5, 1.0], (1.0, 1.5], (1.5, 2.0], (2.0, 2.5], (2.5, 3.0], (3.0, 3.5]], dtype='interval[float64, right]')\n"
     ]
    }
   ],
   "source": [
    "#5. Write a Pandas program to create a DataFrame using intervals as an index.\n",
    "\n",
    "import pandas as pd\n",
    "\n",
    "df_interval = pd.DataFrame({'X':[1, 2, 3, 4, 5, 6, 7]},\n",
    "                           index = pd.IntervalIndex.from_breaks(\n",
    "                               [0, 0.5, 1.0, 1.5, 2.0, 2.5, 3, 3.5]))\n",
    "print(df_interval)\n",
    "print(df_interval.index)\n",
    "\n",
    "df_interval = pd.DataFrame({'X':[1,2,3,4,5,6,7]},\n",
    "                           index = pd.IntervalIndex.from_tuples(\n",
    "                               [(0,0.5),(0.5,1),(1, 1.5), (1.5, 2), (2, 2.5), (2.5, 3), (3, 3.5)]))\n",
    "print(df_interval)\n",
    "print(df_interval.index)\n",
    "df_intervals = pd.DataFrame({'X':[1,2,3,4,5,6,7]},\n",
    "                           index = pd.IntervalIndex.from_arrays(\n",
    "                               [0,0.5,1,1.5,2,2.5,3],[0.5,1,1.5,2,2.5,3,3.5]))\n",
    "print(df_intervals)\n",
    "print(df_intervals.index)"
   ]
  },
  {
   "cell_type": "code",
   "execution_count": 48,
   "id": "d408e0ca-6fb3-496f-83d7-d4c8d88c2a45",
   "metadata": {
    "tags": []
   },
   "outputs": [
    {
     "name": "stdout",
     "output_type": "stream",
     "text": [
      "                     Sales_amt\n",
      "2020-05-12 07:10:10        100\n",
      "2020-05-12 07:10:11        110\n",
      "2020-05-12 07:10:12        117\n",
      "2020-05-12 07:10:13        150\n",
      "2020-05-12 07:10:14        112\n",
      "2020-05-12 07:10:15         99\n",
      "2020-05-12 07:10:16        129\n",
      "2020-05-12 07:10:17        135\n",
      "2020-05-12 07:10:18        140\n",
      "2020-05-12 07:10:19        150\n"
     ]
    }
   ],
   "source": [
    "#6. Write a Pandas program to create a dataframe indexing by date and time.\n",
    "\n",
    "dt_range = pd.date_range(start = '2020-05-12 07:10:10', freq='S',periods=10)\n",
    "\n",
    "df_dt = pd.DataFrame({\"Sales_amt\":[100, 110, 117, 150, 112, 99, 129, 135, 140, 150]}, index=dt_range)\n",
    "\n",
    "print(df_dt)"
   ]
  },
  {
   "cell_type": "code",
   "execution_count": null,
   "id": "81c4d3eb-1f73-49f2-b109-22d975397ed6",
   "metadata": {},
   "outputs": [],
   "source": []
  }
 ],
 "metadata": {
  "kernelspec": {
   "display_name": "Python 3 (ipykernel)",
   "language": "python",
   "name": "python3"
  },
  "language_info": {
   "codemirror_mode": {
    "name": "ipython",
    "version": 3
   },
   "file_extension": ".py",
   "mimetype": "text/x-python",
   "name": "python",
   "nbconvert_exporter": "python",
   "pygments_lexer": "ipython3",
   "version": "3.11.5"
  }
 },
 "nbformat": 4,
 "nbformat_minor": 5
}
