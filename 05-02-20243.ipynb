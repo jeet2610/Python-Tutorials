{
 "cells": [
  {
   "cell_type": "code",
   "execution_count": 31,
   "id": "f35918ce-06f1-4194-ac5f-e7a220a7f78f",
   "metadata": {
    "tags": []
   },
   "outputs": [],
   "source": [
    "from selenium import webdriver\n",
    "from selenium.webdriver.common.by import By\n",
    "from selenium.webdriver import Keys\n",
    "import time\n",
    "import numpy as np\n",
    "import pandas as pd\n",
    "import requests\n",
    "from bs4 import BeautifulSoup"
   ]
  },
  {
   "cell_type": "code",
   "execution_count": 27,
   "id": "8e243468-429a-4ca1-b705-5e4377f53134",
   "metadata": {
    "tags": []
   },
   "outputs": [
    {
     "name": "stdout",
     "output_type": "stream",
     "text": [
      "200\n"
     ]
    }
   ],
   "source": [
    "url = 'https://www.jiomart.com/c/groceries/2'\n",
    "response = requests.get(url)\n",
    "print(response.status_code)"
   ]
  },
  {
   "cell_type": "code",
   "execution_count": 28,
   "id": "ea45e4a3-7cfc-4544-bcd1-0d71396ed413",
   "metadata": {
    "tags": []
   },
   "outputs": [],
   "source": [
    "driver = webdriver.Chrome()\n",
    "driver.get(url)\n",
    "time.sleep(3)\n",
    "previous_height = driver.execute_script('return document.body.scrollHeight')\n",
    "while True:\n",
    "    driver.execute_script('window.scrollTo(0,document.body.scrollHeight);')\n",
    "    time.sleep(3)\n",
    "    new_height = driver.execute_script('return document.body.scrollHeight')\n",
    "    if new_height ==previous_height:\n",
    "        break\n",
    "    previous_height = new_height\n"
   ]
  },
  {
   "cell_type": "code",
   "execution_count": 34,
   "id": "24155a8c-ebd9-4b9a-a96a-af0432cf530b",
   "metadata": {
    "tags": []
   },
   "outputs": [
    {
     "name": "stdout",
     "output_type": "stream",
     "text": [
      "An error occurred: Message: no such element: Unable to locate element: {\"method\":\"css selector\",\"selector\":\".plp-card-details-name line-clamp jm-body-xs jm-fc-primary-grey-80\"}\n",
      "  (Session info: chrome=121.0.6167.140); For documentation on this error, please visit: https://www.selenium.dev/documentation/webdriver/troubleshooting/errors#no-such-element-exception\n",
      "Stacktrace:\n",
      "\tGetHandleVerifier [0x00007FF668025E42+3538674]\n",
      "\t(No symbol) [0x00007FF667C44C02]\n",
      "\t(No symbol) [0x00007FF667AF5AEB]\n",
      "\t(No symbol) [0x00007FF667B3BF4E]\n",
      "\t(No symbol) [0x00007FF667B3C0CC]\n",
      "\t(No symbol) [0x00007FF667B7E477]\n",
      "\t(No symbol) [0x00007FF667B5F0EF]\n",
      "\t(No symbol) [0x00007FF667B7BDE3]\n",
      "\t(No symbol) [0x00007FF667B5EE53]\n",
      "\t(No symbol) [0x00007FF667B2F514]\n",
      "\t(No symbol) [0x00007FF667B30631]\n",
      "\tGetHandleVerifier [0x00007FF668056CAD+3738973]\n",
      "\tGetHandleVerifier [0x00007FF6680AC506+4089270]\n",
      "\tGetHandleVerifier [0x00007FF6680A4823+4057299]\n",
      "\tGetHandleVerifier [0x00007FF667D75C49+720121]\n",
      "\t(No symbol) [0x00007FF667C5126F]\n",
      "\t(No symbol) [0x00007FF667C4C304]\n",
      "\t(No symbol) [0x00007FF667C4C432]\n",
      "\t(No symbol) [0x00007FF667C3BD04]\n",
      "\tBaseThreadInitThunk [0x00007FFA2EBF7344+20]\n",
      "\tRtlUserThreadStart [0x00007FFA304A26B1+33]\n",
      "\n"
     ]
    }
   ],
   "source": [
    "from selenium import webdriver\n",
    "from selenium.webdriver.common.keys import Keys\n",
    "import time\n",
    "\n",
    "# Replace 'C:\\path\\to\\chromedriver.exe' with the actual path to your chromedriver executable\n",
    "driver = webdriver.Chrome()\n",
    "\n",
    "try:\n",
    "    driver.get('https://www.jiomart.com/c/groceries/2')\n",
    "    time.sleep(3)\n",
    "\n",
    "    div_element = driver.find_element(By.CLASS_NAME, 'plp-card-details-name line-clamp jm-body-xs jm-fc-primary-grey-80')\n",
    "    \n",
    "\n",
    "    while True:\n",
    "        \n",
    "        div_element.send_keys(Keys.PAGE_DOWN)\n",
    "        time.sleep(3)\n",
    "\n",
    "except Exception as e:\n",
    "    print(f\"An error occurred: {e}\")\n",
    "\n",
    "finally:\n",
    "    driver.quit()\n"
   ]
  },
  {
   "cell_type": "code",
   "execution_count": null,
   "id": "79b5a41e-a7e0-46c5-bde9-cd8a2a1648a0",
   "metadata": {
    "tags": []
   },
   "outputs": [],
   "source": []
  },
  {
   "cell_type": "code",
   "execution_count": null,
   "id": "077c891e-807b-42fd-b205-c974472cdff7",
   "metadata": {},
   "outputs": [],
   "source": []
  }
 ],
 "metadata": {
  "kernelspec": {
   "display_name": "Python 3 (ipykernel)",
   "language": "python",
   "name": "python3"
  },
  "language_info": {
   "codemirror_mode": {
    "name": "ipython",
    "version": 3
   },
   "file_extension": ".py",
   "mimetype": "text/x-python",
   "name": "python",
   "nbconvert_exporter": "python",
   "pygments_lexer": "ipython3",
   "version": "3.11.5"
  }
 },
 "nbformat": 4,
 "nbformat_minor": 5
}
