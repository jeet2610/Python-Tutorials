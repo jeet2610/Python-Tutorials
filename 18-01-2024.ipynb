{
 "cells": [
  {
   "cell_type": "markdown",
   "id": "f840ea65-b952-4f8b-b848-de5e6a8717fd",
   "metadata": {},
   "source": [
    "# Pandas Exercises from W3 Resource"
   ]
  },
  {
   "cell_type": "code",
   "execution_count": 4,
   "id": "73ab10a9-d12b-4376-8cff-df585da5c9e0",
   "metadata": {
    "tags": []
   },
   "outputs": [
    {
     "name": "stdout",
     "output_type": "stream",
     "text": [
      "Original Dataset\n",
      "        name  score  attempts qualify\n",
      "a  Anastasia   12.5         1     yes\n",
      "b       Dima    9.0         3      no\n",
      "c  Katherine   16.5         2     yes\n",
      "d      James    NaN         3      no\n",
      "e      Emily    9.0         2      no\n",
      "f    Michael   20.0         3     yes\n",
      "g    Matthew   14.5         1     yes\n",
      "h      Laura    NaN         1      no\n",
      "i      Kevin    8.0         2      no\n",
      "j      Jonas   19.0         1     yes\n",
      "Deleted 'Attempts' from the DatFrame\n",
      "        name  score qualify\n",
      "a  Anastasia   12.5     yes\n",
      "b       Dima    9.0      no\n",
      "c  Katherine   16.5     yes\n",
      "d      James    NaN      no\n",
      "e      Emily    9.0      no\n",
      "f    Michael   20.0     yes\n",
      "g    Matthew   14.5     yes\n",
      "h      Laura    NaN      no\n",
      "i      Kevin    8.0      no\n",
      "j      Jonas   19.0     yes\n"
     ]
    }
   ],
   "source": [
    "# Write a Pandas program to delete the 'attempts' column from the DataFrame.\n",
    "\n",
    "import pandas as pd\n",
    "import numpy as np\n",
    "exam_data = {'name': ['Anastasia', 'Dima', 'Katherine', 'James', 'Emily', 'Michael', 'Matthew', 'Laura', 'Kevin', 'Jonas'],\n",
    "'score': [12.5, 9, 16.5, np.nan, 9, 20, 14.5, np.nan, 8, 19],\n",
    "'attempts': [1, 3, 2, 3, 2, 3, 1, 1, 2, 1],\n",
    "'qualify': ['yes', 'no', 'yes', 'no', 'no', 'yes', 'yes', 'no', 'no', 'yes']}\n",
    "labels = ['a', 'b', 'c', 'd', 'e', 'f', 'g', 'h', 'i', 'j']\n",
    "df = pd.DataFrame(exam_data,index = labels)\n",
    "print(\"Original Dataset\")\n",
    "print(df)\n",
    "print(\"Deleted 'Attempts' from the DatFrame\")\n",
    "df.pop('attempts')\n",
    "print(df)"
   ]
  },
  {
   "cell_type": "code",
   "execution_count": 8,
   "id": "0deaac34-ad48-436b-b2f9-7eb6f1cbe670",
   "metadata": {
    "tags": []
   },
   "outputs": [
    {
     "name": "stdout",
     "output_type": "stream",
     "text": [
      "Original Dataset\n",
      "        name  score  attempts qualify\n",
      "a  Anastasia   12.5         1     yes\n",
      "b       Dima    9.0         3      no\n",
      "c  Katherine   16.5         2     yes\n",
      "d      James    NaN         3      no\n",
      "e      Emily    9.0         2      no\n",
      "f    Michael   20.0         3     yes\n",
      "g    Matthew   14.5         1     yes\n",
      "h      Laura    NaN         1      no\n",
      "i      Kevin    8.0         2      no\n",
      "j      Jonas   19.0         1     yes\n",
      "Data Set With added Column Color\n",
      "        name  score  attempts qualify   color\n",
      "a  Anastasia   12.5         1     yes     Red\n",
      "b       Dima    9.0         3      no    Blue\n",
      "c  Katherine   16.5         2     yes  Orange\n",
      "d      James    NaN         3      no     Red\n",
      "e      Emily    9.0         2      no   White\n",
      "f    Michael   20.0         3     yes   White\n",
      "g    Matthew   14.5         1     yes    Blue\n",
      "h      Laura    NaN         1      no   Green\n",
      "i      Kevin    8.0         2      no   Green\n",
      "j      Jonas   19.0         1     yes     Red\n"
     ]
    }
   ],
   "source": [
    "# Write a Pandas program to delete the 'attempts' column from the DataFrame.\n",
    "import pandas as pd\n",
    "import numpy as np\n",
    "exam_data = {'name': ['Anastasia', 'Dima', 'Katherine', 'James', 'Emily', 'Michael', 'Matthew', 'Laura', 'Kevin', 'Jonas'],\n",
    "'score': [12.5, 9, 16.5, np.nan, 9, 20, 14.5, np.nan, 8, 19],\n",
    "'attempts': [1, 3, 2, 3, 2, 3, 1, 1, 2, 1],\n",
    "'qualify': ['yes', 'no', 'yes', 'no', 'no', 'yes', 'yes', 'no', 'no', 'yes']}\n",
    "labels = ['a', 'b', 'c', 'd', 'e', 'f', 'g', 'h', 'i', 'j']\n",
    "df = pd.DataFrame(exam_data,index = labels)\n",
    "print(\"Original Dataset\")\n",
    "print(df)\n",
    "print(\"Data Set With added Column Color\")\n",
    "color = ['Red','Blue','Orange','Red','White','White','Blue','Green','Green','Red']\n",
    "df['color'] = color\n",
    "print(df)"
   ]
  },
  {
   "cell_type": "code",
   "execution_count": 10,
   "id": "7a361ee8-1b99-43e9-99ad-43c6b5e1bfb2",
   "metadata": {
    "tags": []
   },
   "outputs": [
    {
     "name": "stdout",
     "output_type": "stream",
     "text": [
      "Anastasia 12.5\n",
      "Dima 9.0\n",
      "Katherine 16.5\n",
      "James nan\n",
      "Emily 9.0\n",
      "Michael 20.0\n",
      "Matthew 14.5\n",
      "Laura nan\n",
      "Kevin 8.0\n",
      "Jonas 19.0\n"
     ]
    }
   ],
   "source": [
    "#21. Write a Pandas program to iterate over rows in a DataFrame.\n",
    "for index,row in df.iterrows():\n",
    "    print(row['name'],row['score'])"
   ]
  },
  {
   "cell_type": "code",
   "execution_count": 20,
   "id": "aa58a17e-1c84-4190-84af-4229a3ddabee",
   "metadata": {
    "tags": []
   },
   "outputs": [
    {
     "name": "stdout",
     "output_type": "stream",
     "text": [
      "The columns of Dataframe\n",
      "Index(['name', 'score', 'attempts', 'qualify', 'color'], dtype='object')\n",
      "['name', 'score', 'attempts', 'qualify', 'color']\n"
     ]
    }
   ],
   "source": [
    "# 22. Write a Pandas program to get list from DataFrame column headers.\n",
    "import pandas as pd\n",
    "print(\"The columns of Dataframe\")\n",
    "print(df.columns)\n",
    "print(list(df.columns.values))"
   ]
  },
  {
   "cell_type": "code",
   "execution_count": 31,
   "id": "0a947c2c-3af6-46c4-98ee-99848d631740",
   "metadata": {
    "tags": []
   },
   "outputs": [
    {
     "name": "stdout",
     "output_type": "stream",
     "text": [
      "     Duration  Pulse  Maxpulse  Calories\n",
      "0          60    110       130     409.1\n",
      "1          60    117       145     479.0\n",
      "2          60    103       135     340.0\n",
      "3          45    109       175     282.4\n",
      "4          45    117       148     406.0\n",
      "..        ...    ...       ...       ...\n",
      "164        60    105       140     290.8\n",
      "165        60    110       145     300.0\n",
      "166        60    115       145     310.2\n",
      "167        75    120       150     320.4\n",
      "168        75    125       150     330.4\n",
      "\n",
      "[169 rows x 4 columns]\n",
      "     Dur  Pulse  Maxpulse  Calories\n",
      "0     60    110       130     409.1\n",
      "1     60    117       145     479.0\n",
      "2     60    103       135     340.0\n",
      "3     45    109       175     282.4\n",
      "4     45    117       148     406.0\n",
      "..   ...    ...       ...       ...\n",
      "164   60    105       140     290.8\n",
      "165   60    110       145     300.0\n",
      "166   60    115       145     310.2\n",
      "167   75    120       150     320.4\n",
      "168   75    125       150     330.4\n",
      "\n",
      "[169 rows x 4 columns]\n"
     ]
    }
   ],
   "source": [
    "# 23. Write a Pandas program to rename columns of a given DataFrame\n",
    "import pandas as pd\n",
    "d = {'col1': [1, 2, 3], 'col2': [4, 5, 6], 'col3': [7, 8, 9]}\n",
    "df = pd.read_csv('dataset/data.csv')\n",
    "print(df)\n",
    "# df.columns = ['Dur','Pul','Max','Calories']\n",
    "df = df.rename(columns={'Duration': 'Dur'})\n",
    "print(df)"
   ]
  },
  {
   "cell_type": "code",
   "execution_count": 34,
   "id": "ef939fbc-c9a7-42cf-bfb6-28db650690ac",
   "metadata": {
    "tags": []
   },
   "outputs": [
    {
     "name": "stdout",
     "output_type": "stream",
     "text": [
      "The selected Column with duration greater than 60\n",
      "     Dur  Pulse  Maxpulse  Calories\n",
      "0     60    110       130     409.1\n",
      "1     60    117       145     479.0\n",
      "2     60    103       135     340.0\n",
      "5     60    102       127     300.0\n",
      "6     60    110       136     374.0\n",
      "..   ...    ...       ...       ...\n",
      "157   60    100       120     270.4\n",
      "158   60    114       150     382.8\n",
      "164   60    105       140     290.8\n",
      "165   60    110       145     300.0\n",
      "166   60    115       145     310.2\n",
      "\n",
      "[79 rows x 4 columns]\n"
     ]
    }
   ],
   "source": [
    "# 24. Write a Pandas program to select rows from a given DataFrame based on values in some columns.\n",
    "import pandas as pd\n",
    "import numpy as np\n",
    "print(\"The selected Column with duration greater than 60\")\n",
    "print(df[df['Dur']==60])"
   ]
  },
  {
   "cell_type": "code",
   "execution_count": 37,
   "id": "b7fcde85-6896-4cf4-981b-0625cb085e2f",
   "metadata": {
    "tags": []
   },
   "outputs": [
    {
     "name": "stdout",
     "output_type": "stream",
     "text": [
      "Original DataFrame\n",
      "     Dur  Pulse  Maxpulse  Calories\n",
      "0     60    110       130     409.1\n",
      "1     60    117       145     479.0\n",
      "2     60    103       135     340.0\n",
      "3     45    109       175     282.4\n",
      "4     45    117       148     406.0\n",
      "..   ...    ...       ...       ...\n",
      "164   60    105       140     290.8\n",
      "165   60    110       145     300.0\n",
      "166   60    115       145     310.2\n",
      "167   75    120       150     320.4\n",
      "168   75    125       150     330.4\n",
      "\n",
      "[169 rows x 4 columns]\n",
      "The columns Altered\n",
      "     Calories  Maxpulse  Pulse  Dur\n",
      "0       409.1       130    110   60\n",
      "1       479.0       145    117   60\n",
      "2       340.0       135    103   60\n",
      "3       282.4       175    109   45\n",
      "4       406.0       148    117   45\n",
      "..        ...       ...    ...  ...\n",
      "164     290.8       140    105   60\n",
      "165     300.0       145    110   60\n",
      "166     310.2       145    115   60\n",
      "167     320.4       150    120   75\n",
      "168     330.4       150    125   75\n",
      "\n",
      "[169 rows x 4 columns]\n"
     ]
    }
   ],
   "source": [
    "# 25. Write a Pandas program to change the order of a DataFrame columns\n",
    "import pandas as pd\n",
    "import numpy as np\n",
    "print(\"Original DataFrame\")\n",
    "print(df)\n",
    "print(\"The columns Altered\")\n",
    "df = df[['Calories','Maxpulse','Pulse','Dur']]\n",
    "print(df)"
   ]
  },
  {
   "cell_type": "code",
   "execution_count": null,
   "id": "e0a72b5c-0622-4b91-ba17-c9c67408c41d",
   "metadata": {
    "tags": []
   },
   "outputs": [],
   "source": [
    "import pandas as pd\n",
    "import numpy as np\n",
    "\n",
    "d = {'col1': [1, 4, 3, 4, 5], 'col2': [4, 5, 6, 7, 8], 'col3': [7, 8, 9, 0, 1]}\n",
    "df = pd.DataFrame(data=d)\n",
    "\n",
    "print(\"Original DataFrame:\")\n",
    "print(df)\n",
    "\n",
    "# Adding one row at the end\n",
    "df2 = {'col1': 10, 'col2': 11, 'col3': 12}\n",
    "df.append(df2)\n",
    "\n",
    "print(\"\\nDataFrame after adding one row:\")\n",
    "print(df.append(df2))\n",
    "###################################ERRROEOEEEEEERRRRR####################"
   ]
  },
  {
   "cell_type": "code",
   "execution_count": 58,
   "id": "024bc996-b1a9-4e35-bbcc-412d75378128",
   "metadata": {
    "tags": []
   },
   "outputs": [
    {
     "name": "stdout",
     "output_type": "stream",
     "text": [
      "Original DataFrame\n",
      "   col1  col2  col3\n",
      "0     1     4     7\n",
      "1     4     5     8\n",
      "2     3     6     9\n",
      "3     4     7     0\n",
      "4     5     8     1\n",
      "Data from new_file.csv\n",
      "   col1  col2  col3\n",
      "0     1     4     7\n",
      "1     4     5     8\n",
      "2     3     6     9\n",
      "3     4     7     0\n",
      "4     5     8     1\n"
     ]
    }
   ],
   "source": [
    "# Write a Pandas program to write a DataFrame to CSV file using tab separator.\n",
    "import pandas as pd\n",
    "import numpy as np\n",
    "d = {'col1': [1, 4, 3, 4, 5], 'col2': [4, 5, 6, 7, 8], 'col3': [7, 8, 9, 0, 1]}\n",
    "df = pd.DataFrame(d)\n",
    "print(\"Original DataFrame\")\n",
    "print(df)\n",
    "print(\"Data from new_file.csv\")\n",
    "# Converting Dataframe to csv using pyton pandas library\n",
    "df.to_csv('dataset/new_file.csv',sep=',', index = False)\n",
    "new_df = pd.read_csv('dataset/new_file.csv')\n",
    "print(new_df)"
   ]
  },
  {
   "cell_type": "code",
   "execution_count": 25,
   "id": "3af8c9fe-474a-4779-951d-bfcb0b823058",
   "metadata": {
    "tags": []
   },
   "outputs": [
    {
     "name": "stdout",
     "output_type": "stream",
     "text": [
      "          city  Number of People\n",
      "0   California                 3\n",
      "1      Georgia                 2\n",
      "2  Los Angeles                 4\n",
      "3     Vadodara                 1\n"
     ]
    }
   ],
   "source": [
    "# Write a Pandas program to count city wise number of people from a given of data set (city, name of the person).\n",
    "\n",
    "import pandas as pd\n",
    "import numpy as np\n",
    "df1 = pd.DataFrame({'name': ['Anastasia', 'Dima', 'Katherine', 'James', 'Emily', 'Michael', 'Matthew', 'Laura', 'Kevin', 'Jonas'],\n",
    "'city': ['Vadodara', 'Los Angeles', 'California', 'California', 'California', 'Los Angeles', 'Los Angeles', 'Georgia', 'Georgia', 'Los Angeles']})\n",
    "\n",
    "g1 = df1.groupby([\"city\"]).size().reset_index(name=\"Number of People\")\n",
    "print(g1)"
   ]
  },
  {
   "cell_type": "code",
   "execution_count": 27,
   "id": "0ea1fb96-5926-4bc3-a6d0-6fc5d402b5c7",
   "metadata": {
    "tags": []
   },
   "outputs": [
    {
     "name": "stdout",
     "output_type": "stream",
     "text": [
      "          city  Number of People\n",
      "0   California                 3\n",
      "1      Georgia                 2\n",
      "2  Los Angeles                 4\n",
      "3     Vadodara                 1\n"
     ]
    }
   ],
   "source": [
    "import pandas as pd\n",
    "import numpy as np\n",
    "g1 = df1.groupby([\"city\"]).size().reset_index(name=\"Number of People\")\n",
    "print(g1)"
   ]
  },
  {
   "cell_type": "code",
   "execution_count": 54,
   "id": "27c82e03-e5f6-4e77-8abb-71aede8536cf",
   "metadata": {
    "tags": []
   },
   "outputs": [
    {
     "name": "stdout",
     "output_type": "stream",
     "text": [
      "          city  Number of People\n",
      "0   California                 3\n",
      "1      Georgia                 2\n",
      "2  Los Angeles                 4\n",
      "3     Vadodara                 1\n"
     ]
    }
   ],
   "source": [
    "import pandas as pd\n",
    "import numpy as np\n",
    "g1 = df1.groupby([\"city\"]).size().reset_index(name=\"Number of People\")\n",
    "print(g1)"
   ]
  },
  {
   "cell_type": "code",
   "execution_count": 70,
   "id": "897f58f4-70e3-4a3c-8e02-f7327e72e0aa",
   "metadata": {
    "tags": []
   },
   "outputs": [
    {
     "name": "stdout",
     "output_type": "stream",
     "text": [
      "Original DataFrame\n",
      "   col1  col2  col3\n",
      "0     1     4     7\n",
      "1     4     5     8\n",
      "2     3     6     9\n",
      "3     4     7     0\n",
      "4     5     8     1\n",
      "Deleted DataFrame row based\n",
      "   col1  col2  col3\n",
      "2     3     6     9\n",
      "3     4     7     0\n",
      "4     5     8     1\n"
     ]
    }
   ],
   "source": [
    "# Write a Pandas program to delete DataFrame row(s) based on given column value.\n",
    "import pandas as pd\n",
    "import numpy as np\n",
    "d = {'col1': [1, 4, 3, 4, 5], 'col2': [4, 5, 6, 7, 8], 'col3': [7, 8, 9, 0, 1]}\n",
    "df = pd.DataFrame(d)\n",
    "print(\"Original DataFrame\")\n",
    "print(df)\n",
    "print(\"Deleted DataFrame row based\")\n",
    "df = df[df.col2 > 5]\n",
    "print(df)"
   ]
  },
  {
   "cell_type": "code",
   "execution_count": 98,
   "id": "c4d6d66c-c328-4774-8af0-3abbce6e2c54",
   "metadata": {
    "tags": []
   },
   "outputs": [
    {
     "name": "stdout",
     "output_type": "stream",
     "text": [
      "         Employee Department     Month  Rating\n",
      "0        John Doe      Sales  Jan-2023     4.2\n",
      "1        John Doe      Sales  Feb-2023     4.5\n",
      "2        John Doe      Sales  Mar-2023     4.1\n",
      "3        John Doe      Sales  Apr-2023     4.3\n",
      "4        John Doe      Sales  May-2023     4.6\n",
      "5        John Doe      Sales  Jun-2023     4.4\n",
      "6      Jane Smith  Marketing  Jan-2023     4.0\n",
      "7      Jane Smith  Marketing  Feb-2023     3.8\n",
      "8      Jane Smith  Marketing  Mar-2023     3.9\n",
      "9      Jane Smith  Marketing  Apr-2023     4.2\n",
      "10     Jane Smith  Marketing  May-2023     4.1\n",
      "11     Jane Smith  Marketing  Jun-2023     4.3\n",
      "12  Emily Johnson         HR  Jan-2023     4.5\n",
      "13  Emily Johnson         HR  Feb-2023     4.6\n",
      "14  Emily Johnson         HR  Mar-2023     4.4\n",
      "15  Emily Johnson         HR  Apr-2023     4.8\n",
      "16  Emily Johnson         HR  May-2023     4.7\n",
      "17  Emily Johnson         HR  Jun-2023     4.9\n",
      "18  William Brown         IT  Jan-2023     3.9\n",
      "19  William Brown         IT  Feb-2023     4.1\n",
      "20  William Brown         IT  Mar-2023     4.0\n",
      "21  William Brown         IT  Apr-2023     3.8\n",
      "22  William Brown         IT  May-2023     4.0\n",
      "23  William Brown         IT  Jun-2023     4.2\n"
     ]
    }
   ],
   "source": [
    "### 30. Write a Pandas program to widen output display to see more columns\n",
    "import pandas as pd\n",
    "import numpy as np\n",
    "d = {'col1': [1, 4, 3, 4, 5], 'col2': [4, 5, 6, 7, 8], 'col3': [7, 8, 9, 0, 1]}\n",
    "df = pd.DataFrame(d)\n",
    "df = pd.read_csv('dataset/employee_performance.csv')\n",
    "# print(df)\n",
    "pd.set_option('display.max_rows',500)\n",
    "pd.set_option('display.max_columns', 500)\n",
    "pd.set_option('display.width', 1000)\n",
    "print(df)"
   ]
  },
  {
   "cell_type": "code",
   "execution_count": 100,
   "id": "3257da71-9166-444e-a89a-1c81143246ea",
   "metadata": {
    "tags": []
   },
   "outputs": [
    {
     "name": "stdout",
     "output_type": "stream",
     "text": [
      "Oiriginal DataFrame\n",
      "        name  score  attempts qualify\n",
      "0  Anastasia   12.5         1     yes\n",
      "1       Dima    9.0         3      no\n",
      "2  Katherine   16.5         2     yes\n",
      "3      James    NaN         3      no\n",
      "4      Emily    9.0         2      no\n",
      "5    Michael   20.0         3     yes\n",
      "6    Matthew   14.5         1     yes\n",
      "7      Laura    NaN         1      no\n",
      "8      Kevin    8.0         2      no\n",
      "9      Jonas   19.0         1     yes\n",
      "Replacing all the Nan Values with zeroes \n",
      "\n",
      "        name  score  attempts qualify\n",
      "0  Anastasia   12.5         1     yes\n",
      "1       Dima    9.0         3      no\n",
      "2  Katherine   16.5         2     yes\n",
      "3      James    0.0         3      no\n",
      "4      Emily    9.0         2      no\n",
      "5    Michael   20.0         3     yes\n",
      "6    Matthew   14.5         1     yes\n",
      "7      Laura    0.0         1      no\n",
      "8      Kevin    8.0         2      no\n",
      "9      Jonas   19.0         1     yes\n"
     ]
    }
   ],
   "source": [
    "# 32. Write a Pandas program to replace all the NaN values with Zero's in a column of a dataframe.\n",
    "exam_data = {'name': ['Anastasia', 'Dima', 'Katherine', 'James', 'Emily', 'Michael', 'Matthew', 'Laura', 'Kevin', 'Jonas'],\n",
    "        'score': [12.5, 9, 16.5, np.nan, 9, 20, 14.5, np.nan, 8, 19],\n",
    "        'attempts': [1, 3, 2, 3, 2, 3, 1, 1, 2, 1],\n",
    "        'qualify': ['yes', 'no', 'yes', 'no', 'no', 'yes', 'yes', 'no', 'no', 'yes']}\n",
    "df = pd.DataFrame(exam_data)\n",
    "\n",
    "print(\"Oiriginal DataFrame\")\n",
    "print(df)\n",
    "print(\"Replacing all the Nan Values with zeroes \\n\")\n",
    "df = df.fillna(0)\n",
    "print(df)\n",
    "\n"
   ]
  },
  {
   "cell_type": "code",
   "execution_count": null,
   "id": "b4264442-f997-4ba2-b4b4-809ad7ae41dc",
   "metadata": {},
   "outputs": [],
   "source": []
  }
 ],
 "metadata": {
  "kernelspec": {
   "display_name": "Python 3 (ipykernel)",
   "language": "python",
   "name": "python3"
  },
  "language_info": {
   "codemirror_mode": {
    "name": "ipython",
    "version": 3
   },
   "file_extension": ".py",
   "mimetype": "text/x-python",
   "name": "python",
   "nbconvert_exporter": "python",
   "pygments_lexer": "ipython3",
   "version": "3.11.5"
  }
 },
 "nbformat": 4,
 "nbformat_minor": 5
}
