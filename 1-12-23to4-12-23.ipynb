{
 "cells": [
  {
   "cell_type": "markdown",
   "id": "1f8dde1c-b7f1-4797-85ec-5c081d916f3f",
   "metadata": {},
   "source": [
    "#####\n",
    "DATE :- 01.12.2023 BASICS AND PATTERN\n"
   ]
  },
  {
   "cell_type": "code",
   "execution_count": 55,
   "id": "4e0d035b-aaee-47f3-bb41-13972e7fc154",
   "metadata": {
    "tags": []
   },
   "outputs": [
    {
     "name": "stdin",
     "output_type": "stream",
     "text": [
      "Enter a number to check whether the number is Positive or Negative 40\n"
     ]
    },
    {
     "name": "stdout",
     "output_type": "stream",
     "text": [
      "Two Digit Number\n"
     ]
    }
   ],
   "source": [
    "num1 = int(input(\"Enter a number to check whether the number is Positive or Negative\"))\n",
    "if num1>=0 and num1<=9:\n",
    "    print(\"One Digit Number\")\n",
    "elif num1>=10 and num1<=99:\n",
    "    print(\"Two Digit Number\")\n",
    "elif num1>=100 and num1<=999:\n",
    "    print(\"Three Digit Number\")\n",
    "          "
   ]
  },
  {
   "cell_type": "code",
   "execution_count": 59,
   "id": "a67bff15-7052-4078-a900-632fdce04956",
   "metadata": {
    "tags": []
   },
   "outputs": [
    {
     "name": "stdin",
     "output_type": "stream",
     "text": [
      "Enter marks for Maths:  5\n",
      "Enter marks for physics 10\n",
      "Enter marks for Chemistry 100\n",
      "Enter marks for Computer Science 100\n"
     ]
    },
    {
     "name": "stdout",
     "output_type": "stream",
     "text": [
      "Student Scored E\n"
     ]
    }
   ],
   "source": [
    "math = int(input(\"Enter marks for Maths: \"))\n",
    "physics = int(input(\"Enter marks for physics\"))\n",
    "chemistry = int(input(\"Enter marks for Chemistry\"))\n",
    "cs = int(input(\"Enter marks for Computer Science\"))\n",
    "grade = \"Student Scored\"\n",
    "total = math+physics+chemistry+cs\n",
    "percentage = (total/400) * 100\n",
    "if percentage>90:\n",
    "    print(grade+\" A\")\n",
    "elif percentage>80 and percentage<90:\n",
    "    print(grade+\"B\")\n",
    "elif percentage>70 and percentage<80:\n",
    "    print(grade+\" C\")\n",
    "elif percentage>60 and percentage<70:\n",
    "    print(grade+\" D\")\n",
    "elif percentage>35 and percentage<60:\n",
    "    print(grade+\" E\")\n",
    "elif percentage<=35:\n",
    "    print(grade+ \" F\")\n"
   ]
  },
  {
   "cell_type": "code",
   "execution_count": 70,
   "id": "b7eaa913-14f6-4639-94c1-ec1216d65c5a",
   "metadata": {
    "tags": []
   },
   "outputs": [
    {
     "name": "stdin",
     "output_type": "stream",
     "text": [
      "Enter number between rock -1 , paper - 2 and sicssor - 3 3\n"
     ]
    },
    {
     "name": "stdout",
     "output_type": "stream",
     "text": [
      "Computer: Rock\n",
      "User Wins\n"
     ]
    }
   ],
   "source": [
    "import random\n",
    "#rock -1\n",
    "#paper - 2\n",
    "# sicssor - 3\n",
    "userinput = int(input(\"Enter number between rock -1 , paper - 2 and sicssor - 3\"))\n",
    "computerinput = random.randint(1,3)\n",
    "#computer output\n",
    "if computerinput==1:\n",
    "    print(\"Computer: Rock\")\n",
    "elif computerinput==2:\n",
    "    print(\"Computer: Paper\")\n",
    "elif computerinput==3:\n",
    "    print(\"Computer: Scissor\")\n",
    "#result analysis\n",
    "if(userinput ==1 and computerinput ==1):\n",
    "    print(\"Equals\")\n",
    "elif userinput ==2 and computerinput ==2:\n",
    "    print(\"Equals\")\n",
    "elif userinput ==3 and computerinput ==3:\n",
    "    print(\"Equals\")\n",
    "elif userinput ==1 and computerinput ==2:\n",
    "    print(\"Computer Wins\")\n",
    "elif userinput ==1 and computerinput ==3:\n",
    "    print(\"User Wins\")\n",
    "elif userinput ==2 and computerinput ==1:\n",
    "    print(\"User Wins\")\n",
    "elif userinput ==2 and computerinput ==3:\n",
    "    print(\"Computer Wins\")\n",
    "elif userinput==3 and computerinput==1:\n",
    "    print(\"User Wins\")\n",
    "elif userinput==3 and computerinput==2:\n",
    "    print(\"Computer Wins\")"
   ]
  },
  {
   "cell_type": "code",
   "execution_count": 71,
   "id": "0a84162d-fbc8-4343-b7ec-9e3fb6e78f67",
   "metadata": {
    "tags": []
   },
   "outputs": [
    {
     "name": "stdin",
     "output_type": "stream",
     "text": [
      " 30\n",
      " 20\n",
      " 40\n"
     ]
    },
    {
     "name": "stdout",
     "output_type": "stream",
     "text": [
      "Num3 is Greatest\n"
     ]
    }
   ],
   "source": [
    "num1=int(input())\n",
    "num2 = int(input())\n",
    "num3 = int(input())\n",
    "if num1>num2:\n",
    "    if num1>num3:\n",
    "        print(\"Num1 is Greatest\")\n",
    "if num2>num1:\n",
    "    if num2>num3:\n",
    "        print(\"Num2 is Greatest\")\n",
    "if num3>num1:\n",
    "    if num3>num2:\n",
    "        print(\"Num3 is Greatest\")"
   ]
  },
  {
   "cell_type": "code",
   "execution_count": 72,
   "id": "9b9749b6-4989-4d49-85f0-a968e2b391ed",
   "metadata": {
    "tags": []
   },
   "outputs": [
    {
     "name": "stdin",
     "output_type": "stream",
     "text": [
      " 20\n",
      " 120\n",
      " 10\n"
     ]
    },
    {
     "name": "stdout",
     "output_type": "stream",
     "text": [
      "num2 is greatest\n"
     ]
    }
   ],
   "source": [
    "num1=int(input())\n",
    "num2 = int(input())\n",
    "num3 = int(input())\n",
    "if num1>num2 and num1>num3:\n",
    "    print(\"num1 is greatest\")\n",
    "elif num2>num1 and num2>num3:\n",
    "    print(\"num2 is greatest\")\n",
    "elif num3>num1 and num3>num2:\n",
    "    print(\"Num3 is greatest\")"
   ]
  },
  {
   "cell_type": "code",
   "execution_count": 74,
   "id": "12293580-6834-4e37-a401-663cab6b80ff",
   "metadata": {
    "tags": []
   },
   "outputs": [
    {
     "name": "stdin",
     "output_type": "stream",
     "text": [
      " 10\n",
      " 20\n",
      " 30\n"
     ]
    },
    {
     "name": "stdout",
     "output_type": "stream",
     "text": [
      "30\n"
     ]
    }
   ],
   "source": [
    "num1=int(input())\n",
    "num2 = int(input())\n",
    "num3 = int(input())\n",
    "print(max(num1,num2,num3))"
   ]
  },
  {
   "cell_type": "code",
   "execution_count": 78,
   "id": "b74651e6-52db-4ce2-afa2-89154abd885c",
   "metadata": {
    "tags": []
   },
   "outputs": [
    {
     "name": "stdin",
     "output_type": "stream",
     "text": [
      " 20\n",
      " 40\n",
      " 60\n"
     ]
    },
    {
     "name": "stdout",
     "output_type": "stream",
     "text": [
      "60\n"
     ]
    }
   ],
   "source": [
    "num1=  int(input())\n",
    "num2 = int(input())\n",
    "num3 = int(input())\n",
    "if num1>num2>num3:\n",
    "    print(num1)\n",
    "elif num2>num1>num3:\n",
    "    print(num2)\n",
    "elif num3>num2>num1:\n",
    "    print(num3)"
   ]
  },
  {
   "cell_type": "code",
   "execution_count": 80,
   "id": "8ad2529e-2b74-40b0-b740-af6fc76b4118",
   "metadata": {
    "tags": []
   },
   "outputs": [
    {
     "name": "stdout",
     "output_type": "stream",
     "text": [
      "{'name': 'John', 'age': 36}\n"
     ]
    }
   ],
   "source": [
    "x = {\"name\" : \"John\", \"age\" : 36}\n",
    "print(x)"
   ]
  },
  {
   "cell_type": "code",
   "execution_count": 173,
   "id": "1d6ed36d-af42-4577-86a9-e5ee72fcb34c",
   "metadata": {
    "tags": []
   },
   "outputs": [
    {
     "name": "stdout",
     "output_type": "stream",
     "text": [
      "0\n"
     ]
    }
   ],
   "source": [
    "import random\n",
    "\n",
    "\n",
    "for i in range(10):\n",
    "    n = random.randint(0, 10)\n",
    "    if n==0:\n",
    "        print(n)\n"
   ]
  },
  {
   "cell_type": "code",
   "execution_count": 175,
   "id": "e5c91032-2933-46a9-afda-548353034811",
   "metadata": {
    "tags": []
   },
   "outputs": [
    {
     "name": "stdout",
     "output_type": "stream",
     "text": [
      "I want to pay 49.95 dollars for 3 pieces of itemno. 567.\n"
     ]
    }
   ],
   "source": [
    "quantity = 3\n",
    "itemno = 567\n",
    "price = 49.95\n",
    "myorder = \"I want to pay {2} dollars for {0} pieces of itemno. {1}.\"\n",
    "print(myorder.format(quantity, itemno, price))"
   ]
  },
  {
   "cell_type": "code",
   "execution_count": 178,
   "id": "c62c7cf6-26fe-4707-9baa-01a67a8fabeb",
   "metadata": {
    "tags": []
   },
   "outputs": [
    {
     "name": "stdout",
     "output_type": "stream",
     "text": [
      "5\n"
     ]
    }
   ],
   "source": [
    "name = \"Jeet Shah\"\n",
    "print(name.find(\"Shah\"))"
   ]
  },
  {
   "cell_type": "code",
   "execution_count": 181,
   "id": "9e529ba2-e70b-4fcc-ab41-39e6d2249e58",
   "metadata": {
    "tags": []
   },
   "outputs": [
    {
     "name": "stdout",
     "output_type": "stream",
     "text": [
      "True\n"
     ]
    }
   ],
   "source": [
    "x = [\"apple\",\"microsoft\",\"wipro\",\"l&t\",\"reliance\"]\n",
    "print(\"tcs\" not in x)"
   ]
  },
  {
   "cell_type": "code",
   "execution_count": 184,
   "id": "f8cea2a4-99a3-4de8-968e-46e6aee3b815",
   "metadata": {
    "tags": []
   },
   "outputs": [],
   "source": [
    "a = 33\n",
    "b = 200\n",
    "\n",
    "if b > a:\n",
    "    pass"
   ]
  },
  {
   "cell_type": "code",
   "execution_count": 29,
   "id": "0d04aa5e-e2a4-4e36-8a60-437231f10958",
   "metadata": {
    "tags": []
   },
   "outputs": [
    {
     "name": "stdin",
     "output_type": "stream",
     "text": [
      "Enter the number 10\n"
     ]
    },
    {
     "name": "stdout",
     "output_type": "stream",
     "text": [
      "2\n",
      "4\n",
      "6\n",
      "8\n",
      "10\n",
      "12\n",
      "14\n",
      "16\n",
      "18\n"
     ]
    }
   ],
   "source": [
    "num1 = int(input(\"Enter the number\"))\n",
    "\n",
    "for i in range(2,num1*2,2):\n",
    "    print(i)"
   ]
  },
  {
   "cell_type": "code",
   "execution_count": 27,
   "id": "a6cff805-0d6f-4e68-b8f8-2b5e28ab393a",
   "metadata": {
    "tags": []
   },
   "outputs": [
    {
     "name": "stdin",
     "output_type": "stream",
     "text": [
      "Enter the number 5\n"
     ]
    },
    {
     "name": "stdout",
     "output_type": "stream",
     "text": [
      "1\n",
      "3\n",
      "5\n",
      "7\n",
      "9\n"
     ]
    }
   ],
   "source": [
    "num1 = int(input(\"Enter the number\"))\n",
    "\n",
    "for i in range(1,num1*2,2):\n",
    "    print(i)"
   ]
  },
  {
   "cell_type": "code",
   "execution_count": 26,
   "id": "42a16694-388d-4755-bdb1-ca81c5c546d6",
   "metadata": {
    "tags": []
   },
   "outputs": [
    {
     "name": "stdin",
     "output_type": "stream",
     "text": [
      "Enter the number 5\n"
     ]
    },
    {
     "name": "stdout",
     "output_type": "stream",
     "text": [
      "1\n",
      "4\n",
      "9\n",
      "16\n",
      "25\n"
     ]
    }
   ],
   "source": [
    "num1 = int(input(\"Enter the number\"))\n",
    "\n",
    "for i in range(1,num1+1):\n",
    "    print(i*i)"
   ]
  },
  {
   "cell_type": "code",
   "execution_count": 25,
   "id": "eb269165-5ee4-4f42-b310-348068c1dfe5",
   "metadata": {
    "tags": []
   },
   "outputs": [
    {
     "name": "stdin",
     "output_type": "stream",
     "text": [
      "Enter the number 10\n"
     ]
    },
    {
     "name": "stdout",
     "output_type": "stream",
     "text": [
      "1\n",
      "8\n",
      "27\n",
      "64\n",
      "125\n",
      "216\n",
      "343\n",
      "512\n",
      "729\n",
      "1000\n"
     ]
    }
   ],
   "source": [
    "num1 = int(input(\"Enter the number\"))\n",
    "for i in range(1,num1+1):\n",
    "    print(i*i*i)"
   ]
  },
  {
   "cell_type": "code",
   "execution_count": 50,
   "id": "24976e93-aaa8-452b-9cf5-b4698fc7c49d",
   "metadata": {
    "tags": []
   },
   "outputs": [
    {
     "name": "stdin",
     "output_type": "stream",
     "text": [
      "Enter the number 10\n"
     ]
    },
    {
     "name": "stdout",
     "output_type": "stream",
     "text": [
      "10\n",
      "8\n",
      "6\n",
      "4\n",
      "2\n"
     ]
    }
   ],
   "source": [
    "num1 = int(input(\"Enter the number\"))\n",
    "for i in range(num1,0,-2):\n",
    "    print(i)"
   ]
  },
  {
   "cell_type": "code",
   "execution_count": 20,
   "id": "39d14097-a11e-45e9-bb88-401105ee4d58",
   "metadata": {
    "tags": []
   },
   "outputs": [
    {
     "name": "stdin",
     "output_type": "stream",
     "text": [
      "Enter the number 5\n"
     ]
    },
    {
     "name": "stdout",
     "output_type": "stream",
     "text": [
      "1\n",
      "3\n",
      "5\n",
      "7\n",
      "9\n"
     ]
    }
   ],
   "source": [
    "num1 = int(input(\"Enter the number\"))\n",
    "for i in range(1,num1*2,2):\n",
    "    print(i)"
   ]
  },
  {
   "cell_type": "code",
   "execution_count": 34,
   "id": "8256a088-fbc3-404a-af01-1e71bd1b2274",
   "metadata": {},
   "outputs": [
    {
     "name": "stdin",
     "output_type": "stream",
     "text": [
      "Enter number 5\n"
     ]
    },
    {
     "name": "stdout",
     "output_type": "stream",
     "text": [
      "1\n",
      "2\n",
      "3\n",
      "4\n",
      "5\n"
     ]
    }
   ],
   "source": [
    "user = int(input(\"Enter number\"))\n",
    "\n",
    "var1 = 1\n",
    "while var1<=user:\n",
    "    print(var1)\n",
    "    var1 = var1 + 1"
   ]
  },
  {
   "cell_type": "code",
   "execution_count": 35,
   "id": "756f7a75-83c4-4f80-aefb-e7166f8d13fd",
   "metadata": {},
   "outputs": [
    {
     "name": "stdin",
     "output_type": "stream",
     "text": [
      "Enter number 10\n"
     ]
    },
    {
     "name": "stdout",
     "output_type": "stream",
     "text": [
      "0\n",
      "1\n",
      "4\n",
      "9\n",
      "16\n",
      "25\n",
      "36\n",
      "49\n",
      "64\n",
      "81\n",
      "100\n"
     ]
    }
   ],
   "source": [
    "user = int(input(\"Enter number\"))\n",
    "\n",
    "var1 = 0\n",
    "while var1<=user:\n",
    "    var = var1 * var1\n",
    "    print(var)\n",
    "    var1= var1+1"
   ]
  },
  {
   "cell_type": "code",
   "execution_count": 44,
   "id": "0cf773b3-2cc3-4dcf-9d76-23d6336fa5f2",
   "metadata": {
    "tags": []
   },
   "outputs": [
    {
     "name": "stdin",
     "output_type": "stream",
     "text": [
      "Enter number 5\n"
     ]
    },
    {
     "name": "stdout",
     "output_type": "stream",
     "text": [
      "2\n",
      "4\n",
      "6\n",
      "8\n",
      "10\n"
     ]
    }
   ],
   "source": [
    "user = int(input(\"Enter number\"))\n",
    "\n",
    "a =2\n",
    "while a<=(user*2):\n",
    "    print(a)\n",
    "    a = a+2"
   ]
  },
  {
   "cell_type": "code",
   "execution_count": 40,
   "id": "1c6fad62-537b-4bb3-9ee8-f7f9e928112e",
   "metadata": {
    "tags": []
   },
   "outputs": [
    {
     "name": "stdin",
     "output_type": "stream",
     "text": [
      "Enter number 10\n"
     ]
    },
    {
     "name": "stdout",
     "output_type": "stream",
     "text": [
      "1\n",
      "3\n",
      "5\n",
      "7\n",
      "9\n",
      "11\n",
      "13\n",
      "15\n",
      "17\n",
      "19\n"
     ]
    }
   ],
   "source": [
    "user = int(input(\"Enter number\"))\n",
    "\n",
    "a =1\n",
    "while a<(user*2):\n",
    "    print(a)\n",
    "    a = a+2"
   ]
  },
  {
   "cell_type": "code",
   "execution_count": 43,
   "id": "4d1ca650-0bd7-4e40-b2c4-2a11409790de",
   "metadata": {
    "tags": []
   },
   "outputs": [
    {
     "name": "stdin",
     "output_type": "stream",
     "text": [
      "Enter number 5\n"
     ]
    },
    {
     "name": "stdout",
     "output_type": "stream",
     "text": [
      "1\n",
      "8\n",
      "27\n",
      "64\n",
      "125\n"
     ]
    }
   ],
   "source": [
    "user = int(input(\"Enter number\"))\n",
    "\n",
    "a =1\n",
    "while a<=user:\n",
    "    b= a*a*a\n",
    "    \n",
    "    print(b)\n",
    "    a= a + 1"
   ]
  },
  {
   "cell_type": "code",
   "execution_count": 48,
   "id": "a6cc07b9-3881-4af9-94a5-55424f1d8586",
   "metadata": {
    "tags": []
   },
   "outputs": [
    {
     "name": "stdin",
     "output_type": "stream",
     "text": [
      "Enter number 5\n"
     ]
    },
    {
     "name": "stdout",
     "output_type": "stream",
     "text": [
      "5\n",
      "3\n",
      "1\n"
     ]
    }
   ],
   "source": [
    "#15,13,11,9\n",
    "user = int(input(\"Enter number\"))\n",
    "\n",
    "while user>0:\n",
    "    print(user)\n",
    "    user = user-2"
   ]
  },
  {
   "cell_type": "code",
   "execution_count": 49,
   "id": "8fe1dbc2-7ebc-4227-817f-ba56ef678033",
   "metadata": {
    "collapsed": true,
    "jupyter": {
     "outputs_hidden": true
    },
    "tags": []
   },
   "outputs": [
    {
     "name": "stdin",
     "output_type": "stream",
     "text": [
      "Enter number 10\n"
     ]
    },
    {
     "name": "stdout",
     "output_type": "stream",
     "text": [
      "1\n",
      "3\n",
      "5\n",
      "7\n",
      "9\n",
      "11\n",
      "13\n",
      "15\n",
      "17\n",
      "19\n"
     ]
    }
   ],
   "source": [
    "user = int(input(\"Enter number\"))\n",
    "a = 1\n",
    "while a<=user*2:\n",
    "    print(a)\n",
    "    a = a+2"
   ]
  },
  {
   "cell_type": "code",
   "execution_count": 85,
   "id": "3f867608-6c04-49d8-bcca-d2d02d58f0d5",
   "metadata": {
    "tags": []
   },
   "outputs": [
    {
     "name": "stdin",
     "output_type": "stream",
     "text": [
      "Enter Number to Check whether the number os Prime or  not:: -3\n"
     ]
    },
    {
     "name": "stdout",
     "output_type": "stream",
     "text": [
      "-3 is not a prime number\n"
     ]
    }
   ],
   "source": [
    "num = int(input(\"Enter Number to Check whether the number os Prime or  not::\"))\n",
    "\n",
    "if num > 1:\n",
    "    for i in range(2, int(num/2)+1):\n",
    "        if (num % i) == 0:\n",
    "            print(num, \"is not a prime number\")\n",
    "            break\n",
    "    else:\n",
    "        print(num, \"is a prime number\")\n",
    "else:\n",
    "    print(num, \"is not a prime number\")"
   ]
  },
  {
   "cell_type": "code",
   "execution_count": 139,
   "id": "5ce873ba-02c1-4e5a-b60d-cf91512b5647",
   "metadata": {
    "tags": []
   },
   "outputs": [
    {
     "name": "stdout",
     "output_type": "stream",
     "text": [
      "*  \n",
      "* *  \n",
      "* * *  \n",
      "* * * *  \n",
      "* * * * *  \n"
     ]
    }
   ],
   "source": [
    "num = 5\n",
    "for i in range(num):\n",
    "    for j in range(i+1):\n",
    "        print(\"*\", end=\" \")\n",
    "    print(\" \")"
   ]
  },
  {
   "cell_type": "code",
   "execution_count": 122,
   "id": "17f748a9-7a86-47c4-ab1a-14d331390fce",
   "metadata": {
    "tags": []
   },
   "outputs": [
    {
     "name": "stdin",
     "output_type": "stream",
     "text": [
      "Enter Number for Star Printing 5\n"
     ]
    },
    {
     "name": "stdout",
     "output_type": "stream",
     "text": [
      "* * * * * \n",
      "* * * * \n",
      "* * * \n",
      "* * \n",
      "* \n",
      "\n"
     ]
    }
   ],
   "source": [
    "num = int(input(\"Enter Number for Star Printing\"))\n",
    "for i in range(num+1,0,-1):\n",
    "    for j in range(i-1):\n",
    "        print(\"*\", end=\" \")\n",
    "    print(\"\")"
   ]
  },
  {
   "cell_type": "code",
   "execution_count": 146,
   "id": "cf6e9fdb-13e3-4301-a95c-f45ea66c258b",
   "metadata": {
    "tags": []
   },
   "outputs": [
    {
     "name": "stdin",
     "output_type": "stream",
     "text": [
      "Enter Number : 10\n"
     ]
    },
    {
     "name": "stdout",
     "output_type": "stream",
     "text": [
      "* \n",
      "* * \n",
      "* * * \n",
      "* * * * \n",
      "* * * * * \n",
      "* * * * * * \n",
      "* * * * * * * \n",
      "* * * * * * * * \n",
      "* * * * * * * * * \n",
      "* * * * * * * * * * \n"
     ]
    }
   ],
   "source": [
    "h = int(input(\"Enter Number :\"))\n",
    "for i in range(1,h+1):\n",
    "    print(i*\"* \")\n",
    "    "
   ]
  },
  {
   "cell_type": "code",
   "execution_count": 159,
   "id": "dfc5c458-c536-42a1-9cd3-2d075f1ef5d1",
   "metadata": {
    "tags": []
   },
   "outputs": [
    {
     "name": "stdin",
     "output_type": "stream",
     "text": [
      "Enter Number : 10\n"
     ]
    },
    {
     "name": "stdout",
     "output_type": "stream",
     "text": [
      "* * * * * * * * * * \n",
      "* * * * * * * * * \n",
      "* * * * * * * * \n",
      "* * * * * * * \n",
      "* * * * * * \n",
      "* * * * * \n",
      "* * * * \n",
      "* * * \n",
      "* * \n",
      "* \n"
     ]
    }
   ],
   "source": [
    "h = int(input(\"Enter Number :\"))\n",
    "for i in range(h,0,-1):\n",
    "    print(i*\"* \")\n",
    "    "
   ]
  },
  {
   "cell_type": "code",
   "execution_count": 151,
   "id": "5c21496f-4cbd-4dba-80d6-fd19bc84266f",
   "metadata": {
    "tags": []
   },
   "outputs": [
    {
     "name": "stdin",
     "output_type": "stream",
     "text": [
      "Enter Number : 5\n"
     ]
    },
    {
     "name": "stdout",
     "output_type": "stream",
     "text": [
      "     *\n",
      "    **\n",
      "   ***\n",
      "  ****\n",
      " *****\n"
     ]
    }
   ],
   "source": [
    "h = int(input(\"Enter Number :\"))\n",
    "for i in range(1,h+1):\n",
    "    print((h-i)*\" \",i*\"*\")\n",
    "    "
   ]
  },
  {
   "cell_type": "code",
   "execution_count": 157,
   "id": "00cc44ff-5e08-4094-9abf-dc68f72afaa5",
   "metadata": {
    "tags": []
   },
   "outputs": [
    {
     "name": "stdin",
     "output_type": "stream",
     "text": [
      "Enter Number : 5\n"
     ]
    },
    {
     "name": "stdout",
     "output_type": "stream",
     "text": [
      " *****\n",
      "  ****\n",
      "   ***\n",
      "    **\n",
      "     *\n"
     ]
    }
   ],
   "source": [
    "h = int(input(\"Enter Number :\"))\n",
    "for i in range(h,0,-1):\n",
    "    print((h-i)*\" \",i*\"*\")"
   ]
  },
  {
   "cell_type": "code",
   "execution_count": 175,
   "id": "1357c3a2-7751-4b00-8fd6-2d4fded43dae",
   "metadata": {
    "tags": []
   },
   "outputs": [
    {
     "name": "stdin",
     "output_type": "stream",
     "text": [
      "Enter Number : 5\n"
     ]
    },
    {
     "name": "stdout",
     "output_type": "stream",
     "text": [
      "     * \n",
      "    * * \n",
      "   * * * \n",
      "  * * * * \n",
      " * * * * * \n",
      "  * * * * \n",
      "   * * * \n",
      "    * * \n",
      "     * \n"
     ]
    }
   ],
   "source": [
    "h = int(input(\"Enter Number :\"))\n",
    "for i in range(1,h):\n",
    "    print((h-i)*\" \",i*\"* \")\n",
    "for i in range(h,0,-1):\n",
    "    print((h-i)*\" \",i*\"* \")"
   ]
  },
  {
   "cell_type": "code",
   "execution_count": 201,
   "id": "e6b3b52f-ab7b-40e9-b02d-82f1812b3d87",
   "metadata": {
    "tags": []
   },
   "outputs": [
    {
     "name": "stdout",
     "output_type": "stream",
     "text": [
      "*******\n",
      "     * \n",
      "    *  \n",
      "   *   \n",
      "  *    \n",
      " *     \n",
      "*******\n",
      "\n"
     ]
    }
   ],
   "source": [
    "str=\"\";    \n",
    "for Row in range(0,7):    \n",
    "    for Col in range(0,7):     \n",
    "        if (((Row == 0 or Row == 6) and Col >= 0 and Col <= 6) or Row+Col==6):  \n",
    "            str=str+\"*\"    \n",
    "        else:      \n",
    "            str=str+\" \"    \n",
    "    str=str+\"\\n\"    \n",
    "print(str);"
   ]
  },
  {
   "cell_type": "code",
   "execution_count": 2,
   "id": "6d630746-83ca-4a38-bf05-aac94e6934a3",
   "metadata": {
    "tags": []
   },
   "outputs": [
    {
     "name": "stdin",
     "output_type": "stream",
     "text": [
      "Enter Number of Rows: 4\n"
     ]
    },
    {
     "name": "stdout",
     "output_type": "stream",
     "text": [
      "* * * * "
     ]
    }
   ],
   "source": [
    "n = int(input(\"Enter Number of Rows:\"))\n",
    "for i in range(n):\n",
    "    print(\"*\", end=\" \")"
   ]
  },
  {
   "cell_type": "code",
   "execution_count": 10,
   "id": "954288c1-86df-4b17-95f6-749049a602bd",
   "metadata": {
    "tags": []
   },
   "outputs": [
    {
     "name": "stdin",
     "output_type": "stream",
     "text": [
      "Enter Number of Rows for Square: 4\n"
     ]
    },
    {
     "name": "stdout",
     "output_type": "stream",
     "text": [
      "4 4 4 4 \n",
      "4 4 4 4 \n",
      "4 4 4 4 \n",
      "4 4 4 4 \n"
     ]
    }
   ],
   "source": [
    "n = int(input(\"Enter Number of Rows for Square:\"))\n",
    "for i in range(n):\n",
    "    print((str(n)+\" \")*n)"
   ]
  },
  {
   "cell_type": "code",
   "execution_count": 12,
   "id": "04ff9520-7f2d-4146-b7e4-5d7152e516ac",
   "metadata": {
    "tags": []
   },
   "outputs": [
    {
     "name": "stdin",
     "output_type": "stream",
     "text": [
      "Enter Number of Rows for Square: 4\n"
     ]
    },
    {
     "name": "stdout",
     "output_type": "stream",
     "text": [
      "1 1 1 1 \n",
      "2 2 2 2 \n",
      "3 3 3 3 \n",
      "4 4 4 4 \n"
     ]
    }
   ],
   "source": [
    "n = int(input(\"Enter Number of Rows for Square:\"))\n",
    "for i in range(n):\n",
    "    print((str(i+1)+\" \")*n)"
   ]
  },
  {
   "cell_type": "code",
   "execution_count": 13,
   "id": "78dca170-efd5-40e0-8f71-b5b809da2eab",
   "metadata": {
    "tags": []
   },
   "outputs": [
    {
     "name": "stdin",
     "output_type": "stream",
     "text": [
      "Enter Number of Rows for Square: 5\n"
     ]
    },
    {
     "name": "stdout",
     "output_type": "stream",
     "text": [
      "A A A A A \n",
      "A A A A A \n",
      "A A A A A \n",
      "A A A A A \n",
      "A A A A A \n"
     ]
    }
   ],
   "source": [
    "n = int(input(\"Enter Number of Rows for Square:\"))\n",
    "for i in range(n):\n",
    "    print(\"A \"*n)"
   ]
  },
  {
   "cell_type": "code",
   "execution_count": 15,
   "id": "9b299c42-1147-47e5-a6d1-a13915a837a4",
   "metadata": {
    "tags": []
   },
   "outputs": [
    {
     "name": "stdin",
     "output_type": "stream",
     "text": [
      "Enter Number of Rows for Square: 4\n"
     ]
    },
    {
     "name": "stdout",
     "output_type": "stream",
     "text": [
      "A \n",
      "B B \n",
      "C C C \n",
      "D D D D \n"
     ]
    }
   ],
   "source": [
    "n = int(input(\"Enter Number of Rows for Square:\"))\n",
    "for i in range(n):\n",
    "    print((chr(65+i)+\" \")*(i+1))"
   ]
  },
  {
   "cell_type": "code",
   "execution_count": 18,
   "id": "fffb3aa2-1aba-4ea3-aed4-a0bb8037c5cc",
   "metadata": {
    "tags": []
   },
   "outputs": [
    {
     "name": "stdin",
     "output_type": "stream",
     "text": [
      "Enter Number of Rows for Square: 4\n"
     ]
    },
    {
     "name": "stdout",
     "output_type": "stream",
     "text": [
      "* * * * \n",
      "* * * \n",
      "* * \n",
      "* \n"
     ]
    }
   ],
   "source": [
    "n = int(input(\"Enter Number of Rows for Square:\"))\n",
    "for i in range(n):\n",
    "    print(\"* \"*(n-i))"
   ]
  },
  {
   "cell_type": "code",
   "execution_count": 19,
   "id": "de6ebfcc-2016-4249-b401-2de48eb2c4cb",
   "metadata": {
    "tags": []
   },
   "outputs": [
    {
     "name": "stdin",
     "output_type": "stream",
     "text": [
      "Enter Number of Rows for Square: 5\n"
     ]
    },
    {
     "name": "stdout",
     "output_type": "stream",
     "text": [
      "1 2 3 4 5 \n",
      "1 2 3 4 \n",
      "1 2 3 \n",
      "1 2 \n",
      "1 \n"
     ]
    }
   ],
   "source": [
    "n = int(input(\"Enter Number of Rows for Square:\"))\n",
    "for i in range(n):\n",
    "    for j in range(n-i):\n",
    "        print(j+1, end=\" \")\n",
    "    print()"
   ]
  },
  {
   "cell_type": "code",
   "execution_count": 21,
   "id": "b734cf25-07ea-43c6-bd75-dc64005fc05d",
   "metadata": {
    "tags": []
   },
   "outputs": [
    {
     "name": "stdin",
     "output_type": "stream",
     "text": [
      "Enter Number of Rows for Square: 10\n"
     ]
    },
    {
     "name": "stdout",
     "output_type": "stream",
     "text": [
      "         1 \n",
      "        2 2 \n",
      "       3 3 3 \n",
      "      4 4 4 4 \n",
      "     5 5 5 5 5 \n",
      "    6 6 6 6 6 6 \n",
      "   7 7 7 7 7 7 7 \n",
      "  8 8 8 8 8 8 8 8 \n",
      " 9 9 9 9 9 9 9 9 9 \n",
      "10 10 10 10 10 10 10 10 10 10 \n"
     ]
    }
   ],
   "source": [
    "n = int(input(\"Enter Number of Rows for Square:\"))\n",
    "for i in range(n):\n",
    "    print(' '*(n-i-1)+(str(i+1)+' ')*(i+1))"
   ]
  },
  {
   "cell_type": "code",
   "execution_count": 23,
   "id": "194e5480-663d-4021-b569-2f51a96afb2c",
   "metadata": {
    "tags": []
   },
   "outputs": [
    {
     "name": "stdin",
     "output_type": "stream",
     "text": [
      "Enter number for Rows: 5\n"
     ]
    },
    {
     "name": "stdout",
     "output_type": "stream",
     "text": [
      "    E \n",
      "   E D \n",
      "  E D C \n",
      " E D C B \n",
      "E D C B A \n"
     ]
    }
   ],
   "source": [
    "n = int(input(\"Enter number for Rows:\"))\n",
    "\n",
    "for i in range(n):\n",
    "    print(\" \"*(n-i-1),end=\"\")\n",
    "    for j in range(i+1):\n",
    "        print(chr(64+n-j), end=\" \")\n",
    "    print()"
   ]
  },
  {
   "cell_type": "code",
   "execution_count": 26,
   "id": "13457f11-f880-45f7-823f-3b6ed6633c80",
   "metadata": {
    "tags": []
   },
   "outputs": [
    {
     "name": "stdin",
     "output_type": "stream",
     "text": [
      "Enter number for Rows: 5\n"
     ]
    },
    {
     "name": "stdout",
     "output_type": "stream",
     "text": [
      "A \n",
      "A B \n",
      "A B C \n",
      "A B C D \n",
      "A B C D E \n",
      "A B C D \n",
      "A B C \n",
      "A B \n",
      "A \n"
     ]
    }
   ],
   "source": [
    "n = int(input(\"Enter number for Rows:\"))\n",
    "\n",
    "for i in range(n):\n",
    "    for j in range(i+1):\n",
    "        print(chr(65+j), end=\" \")\n",
    "    print()\n",
    "for i in range(n-1):\n",
    "    for j in range(n-i-1):\n",
    "        print(chr(65+j),end=\" \")\n",
    "    print()"
   ]
  },
  {
   "cell_type": "code",
   "execution_count": 29,
   "id": "978f2b91-c034-4a9d-a5e6-6ee72025efd3",
   "metadata": {
    "tags": []
   },
   "outputs": [
    {
     "name": "stdin",
     "output_type": "stream",
     "text": [
      "Enter number for Rows: 4\n"
     ]
    },
    {
     "name": "stdout",
     "output_type": "stream",
     "text": [
      "A B C D \n",
      " A B C \n",
      "  A B \n",
      "   A \n"
     ]
    }
   ],
   "source": [
    "# To Print inverted pyramid pattern with alphabet symbols in dictionary order\n",
    "n = int(input(\"Enter number for Rows:\"))\n",
    "\n",
    "for i in range(n):\n",
    "    print(\" \"*i, end=\"\")\n",
    "    for j in range(n-i):\n",
    "        print(chr(65+j), end=\" \")\n",
    "    print()"
   ]
  },
  {
   "cell_type": "code",
   "execution_count": 32,
   "id": "e6174c38-580e-48d7-bc2e-465ad0d70c6a",
   "metadata": {
    "tags": []
   },
   "outputs": [
    {
     "name": "stdin",
     "output_type": "stream",
     "text": [
      "Enter number of rows 4\n"
     ]
    },
    {
     "name": "stdout",
     "output_type": "stream",
     "text": [
      "   * \n",
      "  * * \n",
      " * * * \n",
      "* * * * \n",
      " * * * \n",
      "  * * \n",
      "   * \n"
     ]
    }
   ],
   "source": [
    "#To Print Diamond pattern with * symbol\n",
    "\n",
    "n = int(input(\"Enter number of rows\"))\n",
    "for i in range(n):\n",
    "    print(\" \"*(n-i-1)+'* '*(i+1))\n",
    "for i in range(n-1):\n",
    "    print(\" \"*(i+1)+\"* \"*(n-i-1))"
   ]
  },
  {
   "cell_type": "code",
   "execution_count": 36,
   "id": "13f32391-0553-4f84-a2f4-b58d2e9d8290",
   "metadata": {
    "tags": []
   },
   "outputs": [
    {
     "name": "stdin",
     "output_type": "stream",
     "text": [
      " 4\n"
     ]
    },
    {
     "name": "stdout",
     "output_type": "stream",
     "text": [
      "* \n",
      "* * \n",
      "* * * \n",
      "* * * * \n",
      "* * * \n",
      "* * \n",
      "* \n"
     ]
    }
   ],
   "source": [
    "#To Print Right Half Diamond Pattern with * Symbol\n",
    "\n",
    "n = int(input())\n",
    "for i in range(n):\n",
    "    print(\"* \"*(i+1))\n",
    "for i in range(n-1):\n",
    "    print(\"* \"*(n-i-1))\n",
    "    "
   ]
  },
  {
   "cell_type": "code",
   "execution_count": 53,
   "id": "49637ddc-7e89-4aa4-ba45-04c7b3fa43fe",
   "metadata": {
    "tags": []
   },
   "outputs": [
    {
     "name": "stdin",
     "output_type": "stream",
     "text": [
      " 4\n"
     ]
    },
    {
     "name": "stdout",
     "output_type": "stream",
     "text": [
      "   *\n",
      "  **\n",
      " ***\n",
      "****\n",
      " ***\n",
      "  **\n",
      "   *\n"
     ]
    }
   ],
   "source": [
    "#To Print Left Half Diamond Pattern with * symbol\n",
    "\n",
    "n= int(input())\n",
    "for i in range(n):\n",
    "    print(\" \"*(n-i-1)+\"*\"*(i+1)) \n",
    "for i in range(n-1):\n",
    "    print(\" \"*(i+1)+\"*\"*(n-i-1))"
   ]
  },
  {
   "cell_type": "code",
   "execution_count": 1,
   "id": "fa61e307-f238-480f-aab8-53f53214c29d",
   "metadata": {
    "tags": []
   },
   "outputs": [
    {
     "name": "stdin",
     "output_type": "stream",
     "text": [
      "Enter number of rows 4\n"
     ]
    },
    {
     "name": "stdout",
     "output_type": "stream",
     "text": [
      "       * \n",
      "     *    * \n",
      "   *        * \n",
      " *            * \n"
     ]
    }
   ],
   "source": [
    "#To Print Half Hollow Diamond Pattern\n",
    "\n",
    "n = int(input(\"Enter number of rows\"))\n",
    "\n",
    "for i in range(n):\n",
    "    print(\"  \"*(n-i-1),\"* \",end=\"\")\n",
    "    if i>=1:\n",
    "        print(\"  \"*(2*i-1),\"* \",end=\"\")\n",
    "    print()"
   ]
  },
  {
   "cell_type": "code",
   "execution_count": 7,
   "id": "f908a1ae-3163-4078-a337-b1a3b42ae139",
   "metadata": {
    "tags": []
   },
   "outputs": [
    {
     "name": "stdin",
     "output_type": "stream",
     "text": [
      "Enter number of rows 5\n"
     ]
    },
    {
     "name": "stdout",
     "output_type": "stream",
     "text": [
      " *                * \n",
      "   *            * \n",
      "     *        * \n",
      "       *    * \n",
      "         * \n"
     ]
    }
   ],
   "source": [
    "#To Print Hollow Diamond Pattern\n",
    "\n",
    "n = int(input(\"Enter number of rows\"))\n",
    "\n",
    "for i in range(n):\n",
    "    print(\"  \"*i,\"* \",end=\"\")\n",
    "    if i !=(n-1):\n",
    "        print(\"  \"*(2*n-2*i-3),\"* \",end=\"\")\n",
    "    print()"
   ]
  },
  {
   "cell_type": "code",
   "execution_count": 16,
   "id": "a8958ae5-153f-4f07-9f42-ebe5783d8d74",
   "metadata": {
    "collapsed": true,
    "jupyter": {
     "outputs_hidden": true
    },
    "tags": []
   },
   "outputs": [
    {
     "name": "stdin",
     "output_type": "stream",
     "text": [
      "Enter number of rows 20\n"
     ]
    },
    {
     "name": "stdout",
     "output_type": "stream",
     "text": [
      "                                       * \n",
      "                                     *    * \n",
      "                                   *        * \n",
      "                                 *            * \n",
      "                               *                * \n",
      "                             *                    * \n",
      "                           *                        * \n",
      "                         *                            * \n",
      "                       *                                * \n",
      "                     *                                    * \n",
      "                   *                                        * \n",
      "                 *                                            * \n",
      "               *                                                * \n",
      "             *                                                    * \n",
      "           *                                                        * \n",
      "         *                                                            * \n",
      "       *                                                                * \n",
      "     *                                                                    * \n",
      "   *                                                                        * \n",
      " *                                                                            * \n",
      "   *                                                                        * \n",
      "     *                                                                    * \n",
      "       *                                                                * \n",
      "         *                                                            * \n",
      "           *                                                        * \n",
      "             *                                                    * \n",
      "               *                                                * \n",
      "                 *                                            * \n",
      "                   *                                        * \n",
      "                     *                                    * \n",
      "                       *                                * \n",
      "                         *                            * \n",
      "                           *                        * \n",
      "                             *                    * \n",
      "                               *                * \n",
      "                                 *            * \n",
      "                                   *        * \n",
      "                                     *    * \n",
      "                                       * \n"
     ]
    }
   ],
   "source": [
    "#To Print Whole Hollow Diamond Pattern\n",
    "\n",
    "n = int(input(\"Enter number of rows\"))\n",
    "\n",
    "for i in range(n-1):\n",
    "    print(\"  \"*(n-i-1),\"* \",end=\"\")\n",
    "    if i>=1:\n",
    "        print(\"  \"*(2*i-1),\"* \",end=\"\")\n",
    "    print()\n",
    "for i in range(n):\n",
    "    print(\"  \"*i,\"* \",end=\"\")\n",
    "    if i !=(n-1):\n",
    "        print(\"  \"*(2*n-2*i-3),\"* \",end=\"\")\n",
    "    print()"
   ]
  },
  {
   "cell_type": "code",
   "execution_count": 1,
   "id": "d6fe9cb6-cce7-4f73-9650-7e8d893c0a6d",
   "metadata": {},
   "outputs": [
    {
     "name": "stdout",
     "output_type": "stream",
     "text": [
      "[2, 23332, 'dffd', 23, 5633, 2.32]\n"
     ]
    }
   ],
   "source": [
    "li = [2,23332,'dffd',23,5633,2.32]\n",
    "print(li)\n"
   ]
  },
  {
   "cell_type": "code",
   "execution_count": 3,
   "id": "2feaae68-22ae-4bc6-bd23-44425dfc26a2",
   "metadata": {
    "tags": []
   },
   "outputs": [
    {
     "name": "stdout",
     "output_type": "stream",
     "text": [
      "<class 'list'>\n"
     ]
    }
   ],
   "source": [
    "print(type(li))"
   ]
  },
  {
   "cell_type": "code",
   "execution_count": 4,
   "id": "8bb436ca-152e-4e79-89d4-0baf6a4c5168",
   "metadata": {
    "tags": []
   },
   "outputs": [
    {
     "data": {
      "text/plain": [
       "'dffd'"
      ]
     },
     "execution_count": 4,
     "metadata": {},
     "output_type": "execute_result"
    }
   ],
   "source": [
    "li[2]"
   ]
  },
  {
   "cell_type": "code",
   "execution_count": 6,
   "id": "b8b80c79-6f61-4b93-baed-30d8956865d6",
   "metadata": {
    "tags": []
   },
   "outputs": [
    {
     "data": {
      "text/plain": [
       "[2, 23332, 2332, 23, 5633, 2.32]"
      ]
     },
     "execution_count": 6,
     "metadata": {},
     "output_type": "execute_result"
    }
   ],
   "source": [
    "li[2]=2332\n",
    "li"
   ]
  },
  {
   "cell_type": "code",
   "execution_count": 9,
   "id": "30c7432c-57ab-4eaa-81b4-8b9e25261425",
   "metadata": {
    "tags": []
   },
   "outputs": [
    {
     "name": "stdout",
     "output_type": "stream",
     "text": [
      "2 23332 2332 23 5633 2.32 "
     ]
    }
   ],
   "source": [
    "for i in li:\n",
    "    print(i,end=\" \")"
   ]
  },
  {
   "cell_type": "code",
   "execution_count": 12,
   "id": "f5d3af20-7262-427a-9da0-1df1fd9d4cfa",
   "metadata": {
    "tags": []
   },
   "outputs": [
    {
     "data": {
      "text/plain": [
       "[2332, 23]"
      ]
     },
     "execution_count": 12,
     "metadata": {},
     "output_type": "execute_result"
    }
   ],
   "source": [
    "li[2:4]"
   ]
  },
  {
   "cell_type": "code",
   "execution_count": 13,
   "id": "88edf210-42e8-4743-bbfd-8b8e16542cfd",
   "metadata": {
    "tags": []
   },
   "outputs": [
    {
     "data": {
      "text/plain": [
       "[2332, 5633]"
      ]
     },
     "execution_count": 13,
     "metadata": {},
     "output_type": "execute_result"
    }
   ],
   "source": [
    "li[2:6:2]"
   ]
  },
  {
   "cell_type": "code",
   "execution_count": 15,
   "id": "4d54dcc4-4a92-4b4b-b007-488e82206ddf",
   "metadata": {
    "tags": []
   },
   "outputs": [
    {
     "data": {
      "text/plain": [
       "[2, 23332, 2332, 23]"
      ]
     },
     "execution_count": 15,
     "metadata": {},
     "output_type": "execute_result"
    }
   ],
   "source": [
    "li[:4]"
   ]
  },
  {
   "cell_type": "code",
   "execution_count": 16,
   "id": "0a844b74-e45d-4284-b90c-17a96677e846",
   "metadata": {
    "tags": []
   },
   "outputs": [
    {
     "data": {
      "text/plain": [
       "[5633, 23, 2332, 23332]"
      ]
     },
     "execution_count": 16,
     "metadata": {},
     "output_type": "execute_result"
    }
   ],
   "source": [
    "li[4:0:-1]"
   ]
  },
  {
   "cell_type": "code",
   "execution_count": 17,
   "id": "73b7aa27-c259-4f87-9e83-93dba9afe6dc",
   "metadata": {
    "tags": []
   },
   "outputs": [
    {
     "data": {
      "text/plain": [
       "[2332, 23, 5633]"
      ]
     },
     "execution_count": 17,
     "metadata": {},
     "output_type": "execute_result"
    }
   ],
   "source": [
    "li[-4:-1]"
   ]
  },
  {
   "cell_type": "code",
   "execution_count": 18,
   "id": "f060820c-6a0f-4a28-9d18-775575b1eb9a",
   "metadata": {
    "tags": []
   },
   "outputs": [
    {
     "data": {
      "text/plain": [
       "[2, 23332, 2332, 23, 5633, 2.32]"
      ]
     },
     "execution_count": 18,
     "metadata": {},
     "output_type": "execute_result"
    }
   ],
   "source": [
    "li"
   ]
  },
  {
   "cell_type": "code",
   "execution_count": 20,
   "id": "547fe321-7dc9-44e6-b47a-9f250cda36cc",
   "metadata": {
    "tags": []
   },
   "outputs": [
    {
     "data": {
      "text/plain": [
       "[2, 23332, 2332, 23, 5633, 2.32, 'bscs', 'bscs']"
      ]
     },
     "execution_count": 20,
     "metadata": {},
     "output_type": "execute_result"
    }
   ],
   "source": [
    "li.append(\"bscs\")\n",
    "li"
   ]
  },
  {
   "cell_type": "code",
   "execution_count": 21,
   "id": "754d4450-2534-4e69-ba3e-482d718cc5dd",
   "metadata": {
    "tags": []
   },
   "outputs": [
    {
     "data": {
      "text/plain": [
       "'bscs'"
      ]
     },
     "execution_count": 21,
     "metadata": {},
     "output_type": "execute_result"
    }
   ],
   "source": [
    "li.pop()"
   ]
  },
  {
   "cell_type": "code",
   "execution_count": 22,
   "id": "f22c87ee-5e8f-4aba-9620-38e6748de843",
   "metadata": {
    "tags": []
   },
   "outputs": [
    {
     "data": {
      "text/plain": [
       "[2, 23332, 2332, 23, 5633, 2.32, 'bscs']"
      ]
     },
     "execution_count": 22,
     "metadata": {},
     "output_type": "execute_result"
    }
   ],
   "source": [
    "li"
   ]
  },
  {
   "cell_type": "code",
   "execution_count": 23,
   "id": "b52cc18c-e097-41c2-9f0a-e6f0783e660e",
   "metadata": {
    "tags": []
   },
   "outputs": [],
   "source": [
    "li.insert(2,\"jeet\")"
   ]
  },
  {
   "cell_type": "code",
   "execution_count": 24,
   "id": "57a9a30f-9100-4b6c-a352-c09622f6809c",
   "metadata": {
    "tags": []
   },
   "outputs": [],
   "source": [
    "li.remove(23)"
   ]
  },
  {
   "cell_type": "code",
   "execution_count": 26,
   "id": "0c724c96-bf5f-4e43-8404-95c8955cada1",
   "metadata": {
    "tags": []
   },
   "outputs": [
    {
     "name": "stdout",
     "output_type": "stream",
     "text": [
      "2 23332 jeet 2332 5633 2.32 bscs "
     ]
    }
   ],
   "source": [
    "for i in li:\n",
    "    print(i, end=\" \")"
   ]
  },
  {
   "cell_type": "code",
   "execution_count": 29,
   "id": "4f0ed0ff-146d-4088-a087-1940a02ee551",
   "metadata": {
    "tags": []
   },
   "outputs": [
    {
     "name": "stdout",
     "output_type": "stream",
     "text": [
      "[1, 2, 2, 3, 3, 3, 3, 4, 5, 6, 7, 22, 23, 26, 37, 42, 52, 72, 73, 463, 463, 675, 534687]\n"
     ]
    }
   ],
   "source": [
    "a = [2,3,4,5,52,1,42,2,534687,3,23,675,3,463,37,22,72,463,73,26,7,3,6]\n",
    "a.sort()\n",
    "print(a)"
   ]
  },
  {
   "cell_type": "code",
   "execution_count": 31,
   "id": "9635bb40-54fe-4a20-bf73-457f73bc74a7",
   "metadata": {
    "collapsed": true,
    "jupyter": {
     "outputs_hidden": true
    },
    "tags": []
   },
   "outputs": [
    {
     "data": {
      "text/plain": [
       "[534687,\n",
       " 675,\n",
       " 463,\n",
       " 463,\n",
       " 73,\n",
       " 72,\n",
       " 52,\n",
       " 42,\n",
       " 37,\n",
       " 26,\n",
       " 23,\n",
       " 22,\n",
       " 7,\n",
       " 6,\n",
       " 5,\n",
       " 4,\n",
       " 3,\n",
       " 3,\n",
       " 3,\n",
       " 3,\n",
       " 2,\n",
       " 2,\n",
       " 1]"
      ]
     },
     "execution_count": 31,
     "metadata": {},
     "output_type": "execute_result"
    }
   ],
   "source": [
    "a.sort(reverse=True)\n",
    "a"
   ]
  },
  {
   "cell_type": "markdown",
   "id": "cc28f846-acc2-43ca-9b00-ece319954da0",
   "metadata": {},
   "source": [
    "###\n",
    "Tuple\n",
    "###"
   ]
  },
  {
   "cell_type": "code",
   "execution_count": 32,
   "id": "bbab8fda-b09d-475a-8ff1-444f990c301b",
   "metadata": {
    "tags": []
   },
   "outputs": [
    {
     "data": {
      "text/plain": [
       "('sd', 23, 324, 24, 24, 'hdj')"
      ]
     },
     "execution_count": 32,
     "metadata": {},
     "output_type": "execute_result"
    }
   ],
   "source": [
    "t = ('sd',23,324,24,24,'hdj')\n",
    "t"
   ]
  },
  {
   "cell_type": "code",
   "execution_count": 33,
   "id": "7fcf0da7-2bde-45b6-a9e2-36a9a77bee56",
   "metadata": {
    "tags": []
   },
   "outputs": [
    {
     "name": "stdout",
     "output_type": "stream",
     "text": [
      "<class 'tuple'>\n"
     ]
    }
   ],
   "source": [
    "print(type(t))"
   ]
  },
  {
   "cell_type": "markdown",
   "id": "204c1820-aced-40e4-b5fb-6b7a0c3e470b",
   "metadata": {
    "tags": []
   },
   "source": [
    "###\n",
    "DICTONARY\n",
    "####"
   ]
  },
  {
   "cell_type": "code",
   "execution_count": 36,
   "id": "894c58f2-34a6-48dc-aa06-69d7bcd0bf3a",
   "metadata": {
    "tags": []
   },
   "outputs": [
    {
     "name": "stdout",
     "output_type": "stream",
     "text": [
      "{'a': 324, 'b': 500, 'c': 600}\n"
     ]
    }
   ],
   "source": [
    "d={\n",
    "    'a':324,\n",
    "    'b':500,\n",
    "    'c':600\n",
    "}\n",
    "print(d)\n"
   ]
  },
  {
   "cell_type": "code",
   "execution_count": 37,
   "id": "a92c7f68-95de-4adb-9741-cfaf675473bc",
   "metadata": {
    "tags": []
   },
   "outputs": [
    {
     "data": {
      "text/plain": [
       "500"
      ]
     },
     "execution_count": 37,
     "metadata": {},
     "output_type": "execute_result"
    }
   ],
   "source": [
    "d['b']"
   ]
  },
  {
   "cell_type": "code",
   "execution_count": 40,
   "id": "4d8c02b7-f00d-493a-bcd6-ec0796638593",
   "metadata": {
    "tags": []
   },
   "outputs": [
    {
     "name": "stdout",
     "output_type": "stream",
     "text": [
      "a\n",
      "b\n",
      "c\n"
     ]
    }
   ],
   "source": [
    "for i in d:\n",
    "    print(i)"
   ]
  },
  {
   "cell_type": "code",
   "execution_count": 41,
   "id": "639b50b3-ce35-42e2-839a-33a849aa4b90",
   "metadata": {
    "tags": []
   },
   "outputs": [
    {
     "name": "stdout",
     "output_type": "stream",
     "text": [
      "dict_keys(['a', 'b', 'c'])\n"
     ]
    }
   ],
   "source": [
    "print(d.keys())"
   ]
  },
  {
   "cell_type": "code",
   "execution_count": 42,
   "id": "fd217c5b-9edd-49ee-8e4a-7ed323aded42",
   "metadata": {
    "tags": []
   },
   "outputs": [
    {
     "name": "stdout",
     "output_type": "stream",
     "text": [
      "dict_values([324, 500, 600])\n"
     ]
    }
   ],
   "source": [
    "print(d.values())"
   ]
  },
  {
   "cell_type": "code",
   "execution_count": 44,
   "id": "43d7e031-e462-4f13-b9a8-d7b7f4b04feb",
   "metadata": {
    "tags": []
   },
   "outputs": [
    {
     "name": "stdout",
     "output_type": "stream",
     "text": [
      "('a', 324)\n",
      "('b', 500)\n",
      "('c', 600)\n"
     ]
    }
   ],
   "source": [
    "for i in d.items():\n",
    "    print(i)"
   ]
  },
  {
   "cell_type": "code",
   "execution_count": 45,
   "id": "2af8aaed-bef2-4d51-9767-313ddae7ecf2",
   "metadata": {
    "tags": []
   },
   "outputs": [
    {
     "name": "stdout",
     "output_type": "stream",
     "text": [
      "324\n",
      "500\n",
      "600\n"
     ]
    }
   ],
   "source": [
    "for i in d.values():\n",
    "    print(i)"
   ]
  },
  {
   "cell_type": "code",
   "execution_count": 46,
   "id": "c7181a39-ace9-4ed6-a85b-1f4958b3188c",
   "metadata": {
    "tags": []
   },
   "outputs": [
    {
     "name": "stdout",
     "output_type": "stream",
     "text": [
      "a\n",
      "b\n",
      "c\n"
     ]
    }
   ],
   "source": [
    "for i in d.keys():\n",
    "    print(i)"
   ]
  },
  {
   "cell_type": "code",
   "execution_count": 47,
   "id": "5678bfbf-84e9-4494-af4f-78a5b453bd89",
   "metadata": {
    "tags": []
   },
   "outputs": [
    {
     "data": {
      "text/plain": [
       "324"
      ]
     },
     "execution_count": 47,
     "metadata": {},
     "output_type": "execute_result"
    }
   ],
   "source": [
    "d.pop('a')"
   ]
  },
  {
   "cell_type": "code",
   "execution_count": 48,
   "id": "ae4900f8-4c02-472d-8178-cdbd4c8cb568",
   "metadata": {
    "tags": []
   },
   "outputs": [
    {
     "data": {
      "text/plain": [
       "('c', 600)"
      ]
     },
     "execution_count": 48,
     "metadata": {},
     "output_type": "execute_result"
    }
   ],
   "source": [
    "d.popitem()"
   ]
  },
  {
   "cell_type": "code",
   "execution_count": 49,
   "id": "0360c3ab-9108-486e-b523-6a8f999bb84a",
   "metadata": {
    "tags": []
   },
   "outputs": [],
   "source": [
    "d.clear()"
   ]
  },
  {
   "cell_type": "code",
   "execution_count": 52,
   "id": "b05bea0c-c943-4aad-a792-f2836301ff88",
   "metadata": {
    "tags": []
   },
   "outputs": [
    {
     "data": {
      "text/plain": [
       "{'a': 500, 'b': 600}"
      ]
     },
     "execution_count": 52,
     "metadata": {},
     "output_type": "execute_result"
    }
   ],
   "source": [
    "d.update({'a':500,'b':600})\n",
    "d"
   ]
  },
  {
   "cell_type": "code",
   "execution_count": 53,
   "id": "bf95d458-c236-4c41-a448-deeb06e06cbd",
   "metadata": {
    "tags": []
   },
   "outputs": [],
   "source": [
    "sample_dict={\n",
    "    \"name\":\"Kelly\",\n",
    "    \"age\":25,\n",
    "    \"Salary\":8000,\n",
    "    \"City\":\"Vadodara\"\n",
    "}"
   ]
  },
  {
   "cell_type": "code",
   "execution_count": 54,
   "id": "6d5187a0-b35d-43db-be66-7945dd5df8ff",
   "metadata": {
    "tags": []
   },
   "outputs": [],
   "source": [
    "sampleDict={\n",
    "    \"class\":{\n",
    "        \"student\":{\n",
    "            \"name\":\"Mike\",\n",
    "            \"marks\":{\n",
    "                \"physics\":70,\n",
    "                \"history\":80\n",
    "            }\n",
    "        }\n",
    "    }\n",
    "}"
   ]
  },
  {
   "cell_type": "code",
   "execution_count": 56,
   "id": "93cb1200-7e61-4a9e-932c-adb92b6c705e",
   "metadata": {
    "tags": []
   },
   "outputs": [
    {
     "name": "stdout",
     "output_type": "stream",
     "text": [
      "{'class': {'student': {'name': 'Mike', 'marks': {'physics': 70, 'history': 80}}}}\n"
     ]
    }
   ],
   "source": [
    "print(sampleDict)"
   ]
  },
  {
   "cell_type": "code",
   "execution_count": 57,
   "id": "00445a48-521a-496e-b876-8c6918c79bdd",
   "metadata": {
    "tags": []
   },
   "outputs": [
    {
     "name": "stdout",
     "output_type": "stream",
     "text": [
      "{976, 2, 2323, 245, 23, 24, 42}\n"
     ]
    }
   ],
   "source": [
    "### SET ###\n",
    "a={976,2323,23,42,2,245,245,24}\n",
    "print(a)"
   ]
  },
  {
   "cell_type": "code",
   "execution_count": 58,
   "id": "7232f37d-2b23-4a59-967b-58273a44bbc0",
   "metadata": {
    "tags": []
   },
   "outputs": [],
   "source": [
    "a.add(232)"
   ]
  },
  {
   "cell_type": "code",
   "execution_count": 59,
   "id": "d9652ccc-2eaf-45e4-8c72-78830f2632e0",
   "metadata": {
    "tags": []
   },
   "outputs": [
    {
     "data": {
      "text/plain": [
       "{2, 23, 24, 42, 232, 245, 976, 2323}"
      ]
     },
     "execution_count": 59,
     "metadata": {},
     "output_type": "execute_result"
    }
   ],
   "source": [
    "a"
   ]
  },
  {
   "cell_type": "code",
   "execution_count": 61,
   "id": "15a5fc67-4170-4970-9c23-bb0998b642af",
   "metadata": {
    "tags": []
   },
   "outputs": [
    {
     "name": "stdout",
     "output_type": "stream",
     "text": [
      "{2, 976, 2323, 23, 24, 90, 95, 97, 34, 232, 42, 3434, 245, 54}\n"
     ]
    }
   ],
   "source": [
    "a.update({3434,23,90,95,34,97,54,2,2323})\n",
    "print(a)"
   ]
  },
  {
   "cell_type": "code",
   "execution_count": 63,
   "id": "0262b97f-76bb-425f-bd5f-b48ea4cd67fb",
   "metadata": {
    "tags": []
   },
   "outputs": [],
   "source": [
    "#Task to Convert Dict to Two Lists\n",
    "\n",
    "dict={\n",
    "    'a':200,\n",
    "    'b':300,\n",
    "    'c':400\n",
    "}\n",
    "keylist=dict.keys()\n",
    "valuelist=dict.values()"
   ]
  },
  {
   "cell_type": "code",
   "execution_count": 67,
   "id": "8446e39b-9151-420f-ab07-b44b730095a8",
   "metadata": {
    "tags": []
   },
   "outputs": [
    {
     "name": "stdout",
     "output_type": "stream",
     "text": [
      "a b c \n",
      "200 300 400 "
     ]
    }
   ],
   "source": [
    "for i in keylist:\n",
    "    print(i,end=\" \")\n",
    "print()\n",
    "for i in valuelist:\n",
    "    print(i, end=\" \")"
   ]
  },
  {
   "cell_type": "code",
   "execution_count": 138,
   "id": "6ca7e4c9-c1a4-4a4e-9e71-cad1bb945f3f",
   "metadata": {
    "tags": []
   },
   "outputs": [],
   "source": [
    "# Task to convert List into Dictionary\n",
    "\n",
    "keylist=['a','b','c']\n",
    "valuelist=[500,600,700]\n",
    "d1={}\n",
    "for i in range(len(keylist)):\n",
    "    d1.update({keylist[i]:valuelist[i]})\n",
    "    "
   ]
  },
  {
   "cell_type": "code",
   "execution_count": 140,
   "id": "c997ad8b-35d8-46c3-9cb0-dbfd0a90b02a",
   "metadata": {
    "tags": []
   },
   "outputs": [
    {
     "name": "stdout",
     "output_type": "stream",
     "text": [
      "dict_items([('a', 500), ('b', 600), ('c', 700)])\n"
     ]
    }
   ],
   "source": [
    "print(d1.items())"
   ]
  },
  {
   "cell_type": "code",
   "execution_count": 135,
   "id": "a9105048-e941-4a55-9958-e51ccb60db83",
   "metadata": {
    "tags": []
   },
   "outputs": [
    {
     "data": {
      "text/plain": [
       "dict_values([500, 600, 700])"
      ]
     },
     "execution_count": 135,
     "metadata": {},
     "output_type": "execute_result"
    }
   ],
   "source": [
    "d1.keys()\n",
    "d1.values()"
   ]
  },
  {
   "cell_type": "code",
   "execution_count": 86,
   "id": "8e7ec8b3-a401-4029-85eb-2223de640ae6",
   "metadata": {
    "tags": []
   },
   "outputs": [
    {
     "name": "stdout",
     "output_type": "stream",
     "text": [
      "Length of the List is: 8\n"
     ]
    }
   ],
   "source": [
    "#Task to Find the Length of List without using InBUilt Functions\n",
    "\n",
    "list1=[1,2,3,4,5,23,23452,4]\n",
    "pos=0\n",
    "for i in list1:\n",
    "    pos = pos+1\n",
    "print(\"Length of the List is:\",pos)   "
   ]
  },
  {
   "cell_type": "code",
   "execution_count": 199,
   "id": "e78dc408-d021-4427-b3eb-b2e6c374cff3",
   "metadata": {
    "tags": []
   },
   "outputs": [
    {
     "name": "stdin",
     "output_type": "stream",
     "text": [
      " bhautik\n"
     ]
    },
    {
     "name": "stdout",
     "output_type": "stream",
     "text": [
      "b  \n",
      "b  h  \n",
      "b  h  a  \n",
      "b  h  a  u  \n",
      "b  h  a  u  t  \n",
      "b  h  a  u  t  i  \n",
      "b  h  a  u  t  i  k  \n"
     ]
    }
   ],
   "source": []
  },
  {
   "cell_type": "code",
   "execution_count": 204,
   "id": "2b845915-1c29-4ca1-b46b-50d8bc246d4d",
   "metadata": {
    "tags": []
   },
   "outputs": [
    {
     "name": "stdin",
     "output_type": "stream",
     "text": [
      "Enter number: 5\n"
     ]
    },
    {
     "name": "stdout",
     "output_type": "stream",
     "text": [
      "{0: 0, 1: 1, 2: 4, 3: 9, 4: 16}\n"
     ]
    }
   ],
   "source": [
    "#Task is to create a dictionary with key and its value wihth its square\n",
    "\n",
    "n = int(input(\"Enter number:\"))\n",
    "dict = {}\n",
    "for i in range(n):\n",
    "    dict.update({int(i):int(i*i)})\n",
    "print(dict)\n",
    "    "
   ]
  },
  {
   "cell_type": "code",
   "execution_count": 239,
   "id": "e2d5eadb-9c48-45c9-b11d-bfe7cd927013",
   "metadata": {
    "tags": []
   },
   "outputs": [
    {
     "data": {
      "text/plain": [
       "{'a': 23, 'b': 25, 'c': 24, 'd': 26, 'e': 27}"
      ]
     },
     "execution_count": 239,
     "metadata": {},
     "output_type": "execute_result"
    }
   ],
   "source": [
    "# Task to Merge Dictonary into one\n",
    "dict1 = {\n",
    "    'a':23,\n",
    "    'b':25\n",
    "}\n",
    "dict2 = {\n",
    "    'c':24,\n",
    "    'd':26\n",
    "}\n",
    "dict3={\n",
    "    'e':27\n",
    "}\n",
    "dict_list = [dict1,dict2,dict3]\n",
    "dict4= {}\n",
    "\n",
    "\n",
    "for i in dict_list:\n",
    "    dict4.update(i)\n",
    "dict4"
   ]
  },
  {
   "cell_type": "code",
   "execution_count": null,
   "id": "767ae787-146d-4265-ad72-80a8e556fb51",
   "metadata": {},
   "outputs": [],
   "source": []
  },
  {
   "cell_type": "code",
   "execution_count": 214,
   "id": "38e2de88-0773-464c-8340-a1ae8b9be7cc",
   "metadata": {
    "tags": []
   },
   "outputs": [
    {
     "data": {
      "text/plain": [
       "{'b': 20, 'a': 23}"
      ]
     },
     "execution_count": 214,
     "metadata": {},
     "output_type": "execute_result"
    }
   ],
   "source": [
    "# Task to merge dictionary\n",
    "\n",
    "dict1 = {\n",
    "    'a':23\n",
    "}\n",
    "dict2 = {\n",
    "    'b':20\n",
    "}\n",
    "dict2.update(dict1)\n",
    "dict2"
   ]
  },
  {
   "cell_type": "code",
   "execution_count": 272,
   "id": "e7d297a2-7d27-410d-a836-3ae7a06f14ca",
   "metadata": {
    "tags": []
   },
   "outputs": [
    {
     "name": "stdout",
     "output_type": "stream",
     "text": [
      "\n",
      "CRUD Operations:\n",
      "1. Create (C)\n",
      "2. Read (R)\n",
      "3. Update (U)\n",
      "4. Delete (D)\n",
      "0. Exit\n"
     ]
    },
    {
     "name": "stdin",
     "output_type": "stream",
     "text": [
      "Enter your choice (C/R/U/D/0):  C\n",
      "Enter key for new entry:  Jeet\n",
      "Enter value for new entry:  2000\n"
     ]
    },
    {
     "name": "stdout",
     "output_type": "stream",
     "text": [
      "Entry added: Jeet: 2000\n",
      "\n",
      "CRUD Operations:\n",
      "1. Create (C)\n",
      "2. Read (R)\n",
      "3. Update (U)\n",
      "4. Delete (D)\n",
      "0. Exit\n"
     ]
    },
    {
     "name": "stdin",
     "output_type": "stream",
     "text": [
      "Enter your choice (C/R/U/D/0):  0\n"
     ]
    },
    {
     "name": "stdout",
     "output_type": "stream",
     "text": [
      "Exiting program...\n"
     ]
    }
   ],
   "source": [
    "\n"
   ]
  },
  {
   "cell_type": "code",
   "execution_count": 277,
   "id": "c6bafef2-f0fd-4063-a4e4-08c2d1a7a843",
   "metadata": {
    "collapsed": true,
    "jupyter": {
     "outputs_hidden": true
    },
    "tags": []
   },
   "outputs": [
    {
     "name": "stdout",
     "output_type": "stream",
     "text": [
      "\n",
      "CRUD Operations:\n",
      "Create (C)\n",
      "Read (R)\n",
      "Update (U)\n",
      "Delete (D)\n",
      "0. Exit\n"
     ]
    },
    {
     "name": "stdin",
     "output_type": "stream",
     "text": [
      "Enter your choice (C/R/U/D/0):  C\n",
      "Enter key  jeet\n",
      "Enter value 12342\n"
     ]
    },
    {
     "name": "stdout",
     "output_type": "stream",
     "text": [
      "Entry added: jeet: 12342\n",
      "\n",
      "CRUD Operations:\n",
      "Create (C)\n",
      "Read (R)\n",
      "Update (U)\n",
      "Delete (D)\n",
      "0. Exit\n"
     ]
    },
    {
     "name": "stdin",
     "output_type": "stream",
     "text": [
      "Enter your choice (C/R/U/D/0):  U\n",
      "Enter key to update value:  jeet\n",
      "Enter new value:  30\n"
     ]
    },
    {
     "name": "stdout",
     "output_type": "stream",
     "text": [
      "Value updated for jeet\n",
      "\n",
      "CRUD Operations:\n",
      "Create (C)\n",
      "Read (R)\n",
      "Update (U)\n",
      "Delete (D)\n",
      "0. Exit\n"
     ]
    },
    {
     "name": "stdin",
     "output_type": "stream",
     "text": [
      "Enter your choice (C/R/U/D/0):  U\n",
      "Enter key to update value:  jeet\n",
      "Enter new value:  555CR\n"
     ]
    },
    {
     "name": "stdout",
     "output_type": "stream",
     "text": [
      "Value updated for jeet\n",
      "\n",
      "CRUD Operations:\n",
      "Create (C)\n",
      "Read (R)\n",
      "Update (U)\n",
      "Delete (D)\n",
      "0. Exit\n"
     ]
    },
    {
     "name": "stdin",
     "output_type": "stream",
     "text": [
      "Enter your choice (C/R/U/D/0):  R\n",
      "Enter key to retrieve value:  jeet\n"
     ]
    },
    {
     "name": "stdout",
     "output_type": "stream",
     "text": [
      "Value for jeet: 555CR\n",
      "\n",
      "CRUD Operations:\n",
      "Create (C)\n",
      "Read (R)\n",
      "Update (U)\n",
      "Delete (D)\n",
      "0. Exit\n"
     ]
    },
    {
     "name": "stdin",
     "output_type": "stream",
     "text": [
      "Enter your choice (C/R/U/D/0):  D\n",
      "Enter key to delete entry:  jeet\n"
     ]
    },
    {
     "name": "stdout",
     "output_type": "stream",
     "text": [
      "Entry for jeet deleted\n",
      "\n",
      "CRUD Operations:\n",
      "Create (C)\n",
      "Read (R)\n",
      "Update (U)\n",
      "Delete (D)\n",
      "0. Exit\n"
     ]
    },
    {
     "name": "stdin",
     "output_type": "stream",
     "text": [
      "Enter your choice (C/R/U/D/0):  0\n"
     ]
    },
    {
     "name": "stdout",
     "output_type": "stream",
     "text": [
      "Exiting program...\n"
     ]
    }
   ],
   "source": [
    "#CRUD Operation on dictionary\n",
    "\n",
    "data = {}\n",
    "\n",
    "while True:\n",
    "    print(\"\\nCRUD Operations:\")\n",
    "    print(\"Create (C)\")\n",
    "    print(\"Read (R)\")\n",
    "    print(\"Update (U)\")\n",
    "    print(\"Delete (D)\")\n",
    "    print(\"0. Exit\")\n",
    "\n",
    "    choice = input(\"Enter your choice (C/R/U/D/0): \")\n",
    "\n",
    "    if choice == \"C\":\n",
    "        key = input(\"Enter key \")\n",
    "        value = input(\"Enter value\")\n",
    "        data[key] = value\n",
    "        print(f\"Entry added: {key}: {value}\")\n",
    "    elif choice == \"R\":\n",
    "        key = input(\"Enter key to retrieve value: \")\n",
    "        if key in data:\n",
    "            print(f\"Value for {key}: {data[key]}\")\n",
    "        else:\n",
    "            print(\"Key not found in dictionary\")\n",
    "    elif choice == \"U\":\n",
    "        key = input(\"Enter key to update value: \")\n",
    "        value = input(\"Enter new value: \")\n",
    "        data[key] = value\n",
    "        print(f\"Value updated for {key}\")\n",
    "    elif choice == \"D\":\n",
    "        key = input(\"Enter key to delete entry: \")\n",
    "        if key in data:\n",
    "            del data[key]\n",
    "            print(f\"Entry for {key} deleted\")\n",
    "        else:\n",
    "            print(\"Key not found in dictionary\")\n",
    "    elif choice == \"0\":\n",
    "        print(\"Exiting program...\")\n",
    "        break\n",
    "    else:\n",
    "        print(\"Invalid choice. Please enter C, R, U, D, or 0.\")"
   ]
  },
  {
   "cell_type": "code",
   "execution_count": 317,
   "id": "404bd987-b90e-4ce1-bd74-38f24b55b19a",
   "metadata": {
    "tags": []
   },
   "outputs": [
    {
     "name": "stdin",
     "output_type": "stream",
     "text": [
      "Enter the value: Jeet\n"
     ]
    },
    {
     "name": "stdout",
     "output_type": "stream",
     "text": [
      "0\n"
     ]
    }
   ],
   "source": [
    "# Task to Filter the List\n",
    "\n",
    "UserInput = input(\"Enter the value:\")\n",
    "\n",
    "list1 = ['Jeet', 'Shah', 'Flowers', 'Guava', '1', '2', '3']\n",
    "for index, value in enumerate(list1):\n",
    "    if value == UserInput:\n",
    "        print(index)\n",
    "        break"
   ]
  },
  {
   "cell_type": "code",
   "execution_count": 23,
   "id": "d402373d-4a2b-41a2-bcb4-d2a588804428",
   "metadata": {},
   "outputs": [
    {
     "name": "stdin",
     "output_type": "stream",
     "text": [
      " 10\n"
     ]
    },
    {
     "name": "stdout",
     "output_type": "stream",
     "text": [
      "Factorial : 3628800\n"
     ]
    }
   ],
   "source": [
    "#Factorial using loop\n",
    "\n",
    "n = int(input(\"\"))\n",
    "fact=1\n",
    "for i in range(n+1):\n",
    "    if i!=0:\n",
    "        fact = fact*i\n",
    "print(\"Factorial :\",fact)\n",
    "\n"
   ]
  }
 ],
 "metadata": {
  "kernelspec": {
   "display_name": "Python 3 (ipykernel)",
   "language": "python",
   "name": "python3"
  },
  "language_info": {
   "codemirror_mode": {
    "name": "ipython",
    "version": 3
   },
   "file_extension": ".py",
   "mimetype": "text/x-python",
   "name": "python",
   "nbconvert_exporter": "python",
   "pygments_lexer": "ipython3",
   "version": "3.11.5"
  }
 },
 "nbformat": 4,
 "nbformat_minor": 5
}
