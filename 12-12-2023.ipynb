{
 "cells": [
  {
   "cell_type": "markdown",
   "id": "7e6e5306-14a5-49bf-9478-8cd5ffbfff4d",
   "metadata": {
    "jp-MarkdownHeadingCollapsed": true,
    "tags": []
   },
   "source": [
    "#### Transposing Matrix"
   ]
  },
  {
   "cell_type": "code",
   "execution_count": 62,
   "id": "93414a82-fd34-457b-a425-18ecedc73fb0",
   "metadata": {
    "tags": []
   },
   "outputs": [
    {
     "name": "stdout",
     "output_type": "stream",
     "text": [
      "2\n"
     ]
    }
   ],
   "source": [
    "#importing libraries\n",
    "import numpy as np\n",
    "\n",
    "a = np.array([[1,2],[8,5]])\n",
    "print(a.ndim)"
   ]
  },
  {
   "cell_type": "code",
   "execution_count": 63,
   "id": "105ca2e5-d6e7-4b25-b125-68bc69350778",
   "metadata": {
    "tags": []
   },
   "outputs": [
    {
     "name": "stdout",
     "output_type": "stream",
     "text": [
      "[[1 2]\n",
      " [8 5]]\n"
     ]
    }
   ],
   "source": [
    "print(a)"
   ]
  },
  {
   "cell_type": "code",
   "execution_count": 64,
   "id": "7159f613-4a51-483e-b286-3a6e00df599a",
   "metadata": {
    "tags": []
   },
   "outputs": [
    {
     "name": "stdout",
     "output_type": "stream",
     "text": [
      "2\n"
     ]
    }
   ],
   "source": [
    "# print(a[0][1])"
   ]
  },
  {
   "cell_type": "code",
   "execution_count": 69,
   "id": "eab9e105-2b72-4673-abdb-417e2bdba6a0",
   "metadata": {
    "tags": []
   },
   "outputs": [
    {
     "name": "stdout",
     "output_type": "stream",
     "text": [
      "[1 8]\n",
      "[2 5]\n"
     ]
    }
   ],
   "source": [
    "for i in range(len(a)):\n",
    "    for j in range(i + 1, len(a)):\n",
    "        a[i][j], a[j][i] = a[j][i], a[i][j]\n",
    "\n",
    "for row in a:\n",
    "    print(row)"
   ]
  },
  {
   "cell_type": "markdown",
   "id": "4e1f0792-ac6e-4848-9aef-a26540b60ce2",
   "metadata": {
    "jp-MarkdownHeadingCollapsed": true,
    "tags": []
   },
   "source": [
    "#### Rapid API Task"
   ]
  },
  {
   "cell_type": "code",
   "execution_count": 140,
   "id": "c080646a-961b-42e3-94cd-3df882e4be51",
   "metadata": {
    "tags": []
   },
   "outputs": [
    {
     "name": "stdin",
     "output_type": "stream",
     "text": [
      "Enter Country name India\n",
      "Enter Date:yyyy-mm-dd 2023-04-12\n"
     ]
    },
    {
     "name": "stdout",
     "output_type": "stream",
     "text": [
      "Active Cases: 37093\n",
      "Total Cases: 44768172\n",
      "Deaths: 531000\n",
      "Recovered: 44200079\n"
     ]
    }
   ],
   "source": [
    "# Date API\n",
    "country = input(\"Enter Country name\")\n",
    "date = input(\"Enter Date:yyyy-mm-dd\")\n",
    "import requests\n",
    "\n",
    "url = \"https://covid-193.p.rapidapi.com/history\"\n",
    "\n",
    "querystring = {\"country\":country,\"day\":date}\n",
    "\n",
    "headers = {\n",
    "\t\"X-RapidAPI-Key\": \"f53aa80c08mshd77988dd6c69c77p115e25jsn84040c8fcc8b\",\n",
    "\t\"X-RapidAPI-Host\": \"covid-193.p.rapidapi.com\"\n",
    "}\n",
    "try:\n",
    "\n",
    "    response = requests.get(url, headers=headers, params=querystring)\n",
    "    data = response.json()\n",
    "    stats = data['response'][0]\n",
    "    print(f\"Active Cases: {stats['cases']['active']}\")\n",
    "    print(f\"Total Cases: {stats['cases']['total']}\")\n",
    "    print(f\"Deaths: {stats['deaths']['total']}\")\n",
    "    print(f\"Recovered: {stats['cases']['recovered']}\")\n",
    "except Exception as e:\n",
    "    print(\"Enter Valid Date or Country\")"
   ]
  },
  {
   "cell_type": "markdown",
   "id": "719b540b-5463-4886-bacb-cc537de58a65",
   "metadata": {
    "tags": []
   },
   "source": [
    "#### Yahoo Finance API Testing"
   ]
  },
  {
   "cell_type": "code",
   "execution_count": 154,
   "id": "562fc854-6bbd-40b7-85bd-0b2191f0b3fa",
   "metadata": {
    "tags": []
   },
   "outputs": [
    {
     "name": "stdout",
     "output_type": "stream",
     "text": [
      " Current Price: 456.70\n",
      " TargetLowPrice : 450.00\n",
      " Open Price: 454.20\n"
     ]
    }
   ],
   "source": [
    "import requests\n",
    "\n",
    "url = \"https://apidojo-yahoo-finance-v1.p.rapidapi.com/stock/v2/get-analysis\"\n",
    "\n",
    "querystring = {\"symbol\":\"ITC.NS\",\"region\":\"IN\"}\n",
    "\n",
    "headers = {\n",
    "\t\"X-RapidAPI-Key\": \"f53aa80c08mshd77988dd6c69c77p115e25jsn84040c8fcc8b\",\n",
    "\t\"X-RapidAPI-Host\": \"apidojo-yahoo-finance-v1.p.rapidapi.com\"\n",
    "}\n",
    "\n",
    "response = requests.get(url, headers=headers, params=querystring)\n",
    "res_data = response.json()\n",
    "# stats = res_data['response'][0]\n",
    "\n",
    "print(\" Current Price:\",res_data['financialData']['currentPrice']['fmt'])\n",
    "print(\" TargetLowPrice :\",res_data['financialData']['targetLowPrice']['fmt'])\n",
    "print(\" Open Price:\",res_data['summaryDetail']['open']['fmt'])"
   ]
  }
 ],
 "metadata": {
  "kernelspec": {
   "display_name": "Python 3 (ipykernel)",
   "language": "python",
   "name": "python3"
  },
  "language_info": {
   "codemirror_mode": {
    "name": "ipython",
    "version": 3
   },
   "file_extension": ".py",
   "mimetype": "text/x-python",
   "name": "python",
   "nbconvert_exporter": "python",
   "pygments_lexer": "ipython3",
   "version": "3.11.5"
  }
 },
 "nbformat": 4,
 "nbformat_minor": 5
}
