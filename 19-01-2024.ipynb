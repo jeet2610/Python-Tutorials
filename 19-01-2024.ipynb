{
 "cells": [
  {
   "cell_type": "code",
   "execution_count": 7,
   "id": "c4755116-cc04-478d-b98e-523e7459f983",
   "metadata": {
    "tags": []
   },
   "outputs": [
    {
     "name": "stdout",
     "output_type": "stream",
     "text": [
      "        name  score  attempts qualify\n",
      "0  Anastasia   12.5         1     yes\n",
      "1       Dima    9.0         3      no\n",
      "2  Katherine   16.5         2     yes\n",
      "3      James    NaN         3      no\n",
      "4      Emily    9.0         2      no\n",
      "5    Michael   20.0         3     yes\n",
      "6    Matthew   14.5         1     yes\n",
      "7      Laura    NaN         1      no\n",
      "8      Kevin    8.0         2      no\n",
      "9      Jonas   19.0         1     yes\n",
      " index      name  score  attempts qualify\n",
      "     0 Anastasia   12.5         1     yes\n",
      "     1      Dima    9.0         3      no\n",
      "     2 Katherine   16.5         2     yes\n",
      "     3     James    NaN         3      no\n",
      "     4     Emily    9.0         2      no\n",
      "     5   Michael   20.0         3     yes\n",
      "     6   Matthew   14.5         1     yes\n",
      "     7     Laura    NaN         1      no\n",
      "     8     Kevin    8.0         2      no\n",
      "     9     Jonas   19.0         1     yes\n"
     ]
    }
   ],
   "source": [
    "# 33. Write a Pandas program to convert index in a column of the given dataframe.\n",
    "\n",
    "import pandas as pd\n",
    "import numpy as np\n",
    "\n",
    "exam_data = {'name': ['Anastasia', 'Dima', 'Katherine', 'James', 'Emily', 'Michael', 'Matthew', 'Laura', 'Kevin', 'Jonas'],\n",
    "        'score': [12.5, 9, 16.5, np.nan, 9, 20, 14.5, np.nan, 8, 19],\n",
    "        'attempts': [1, 3, 2, 3, 2, 3, 1, 1, 2, 1],\n",
    "        'qualify': ['yes', 'no', 'yes', 'no', 'no', 'yes', 'yes', 'no', 'no', 'yes']}\n",
    "df = pd.DataFrame(exam_data)\n",
    "print(df)\n",
    "df.reset_index(level=0,inplace=True)\n",
    "print(df.to_string(index=False))"
   ]
  },
  {
   "cell_type": "code",
   "execution_count": 15,
   "id": "4d193945-7bf2-4e3c-98bc-9f9b87ee92dc",
   "metadata": {
    "tags": []
   },
   "outputs": [
    {
     "name": "stdout",
     "output_type": "stream",
     "text": [
      "Original DataFrame\n",
      "   col1  col2  col3\n",
      "0     1     4     7\n",
      "1     4     5     8\n",
      "2     3     6     9\n",
      "3     4     7     0\n",
      "4     5     8     1\n",
      "New DataFrame after removing 2nd and 4th rows\n",
      "   col1  col2  col3\n",
      "0     1     4     7\n",
      "1     4     5     8\n",
      "3     4     7     0\n"
     ]
    }
   ],
   "source": [
    "# Drop rows from the data frame\n",
    "import pandas as pd\n",
    "import numpy as np\n",
    "\n",
    "d = {'col1': [1, 4, 3, 4, 5], 'col2': [4, 5, 6, 7, 8], 'col3': [7, 8, 9, 0, 1]}\n",
    "df = pd.DataFrame(d)\n",
    "print(\"Original DataFrame\")\n",
    "print(df)\n",
    "print(\"New DataFrame after removing 2nd and 4th rows\")\n",
    "df = df.drop(df.index[[2,4]])\n",
    "print(df)"
   ]
  },
  {
   "cell_type": "code",
   "execution_count": 3,
   "id": "f59cc022-774a-48e8-bee8-5f2ac6eb6127",
   "metadata": {},
   "outputs": [
    {
     "name": "stdout",
     "output_type": "stream",
     "text": [
      "\n",
      "Number of NaN values in one or more columns:\n",
      "4\n"
     ]
    }
   ],
   "source": [
    "#35 Write a Pandas program to count the NaN values in one or more columns in DataFrame.\n",
    "import pandas as pd\n",
    "import numpy as np\n",
    "exam_data = {'name': ['Anastasia', 'Dima', 'Katherine', 'James', 'Emily', 'Michael', 'Matthew', 'Laura', 'Kevin', 'Jonas'],\n",
    "        'score': [12.5, 9, 16.5, np.nan, 9, 20, 14.5, np.nan, 8, 19],\n",
    "        'attempts': [1, 3, 2, 3, 2, 3, np.nan, 1, 2, 1],\n",
    "        'qualify': [np.nan, 'no', 'yes', 'no', 'no', 'yes', 'yes', 'no', 'no', 'yes']}\n",
    "df = pd.DataFrame(exam_data)\n",
    "\n",
    "print(\"\\nNumber of NaN values in one or more columns:\")\n",
    "\n",
    "print(df.isnull().values.sum())\n"
   ]
  },
  {
   "cell_type": "code",
   "execution_count": 13,
   "id": "3a8233f1-c70a-4b80-b6a2-77310c01bc7a",
   "metadata": {
    "tags": []
   },
   "outputs": [
    {
     "name": "stdout",
     "output_type": "stream",
     "text": [
      "Original DataFrame\n",
      "   col1  col2  col3\n",
      "0     1     4     7\n",
      "1     4     5     8\n",
      "2     3     6     9\n",
      "3     4     7     0\n",
      "4     5     8     1\n",
      "   col1  col2  col3\n",
      "3     4     7     0\n"
     ]
    }
   ],
   "source": [
    "# Write a Pandas program to drop a list of rows from a specified DataFrame.\n",
    "import pandas as pd\n",
    "import numpy as np\n",
    "d = {'col1': [1, 4, 3, 4, 5], 'col2': [4, 5, 6, 7, 8], 'col3': [7, 8, 9, 0, 1]}\n",
    "df = pd.DataFrame(d)\n",
    "print(\"Original DataFrame\")\n",
    "print(df)\n",
    "df = df.drop(df.index[[1,0,2,4]])\n",
    "print(df)"
   ]
  },
  {
   "cell_type": "code",
   "execution_count": null,
   "id": "5afc1a79-2aba-4185-b283-f37cbe848f59",
   "metadata": {},
   "outputs": [],
   "source": [
    "# "
   ]
  }
 ],
 "metadata": {
  "kernelspec": {
   "display_name": "Python 3 (ipykernel)",
   "language": "python",
   "name": "python3"
  },
  "language_info": {
   "codemirror_mode": {
    "name": "ipython",
    "version": 3
   },
   "file_extension": ".py",
   "mimetype": "text/x-python",
   "name": "python",
   "nbconvert_exporter": "python",
   "pygments_lexer": "ipython3",
   "version": "3.11.5"
  }
 },
 "nbformat": 4,
 "nbformat_minor": 5
}
