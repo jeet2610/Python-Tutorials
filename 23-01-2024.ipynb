{
 "cells": [
  {
   "cell_type": "code",
   "execution_count": 13,
   "id": "4bb09629-b199-44d8-b0cf-a9e6bc5ae53f",
   "metadata": {
    "tags": []
   },
   "outputs": [
    {
     "name": "stdout",
     "output_type": "stream",
     "text": [
      "Original DataFrame\n",
      "        name  score  attempts qualify\n",
      "0  Anastasia   12.5         1     yes\n",
      "1       Dima    9.0         3      no\n",
      "2  Katherine   16.5         2     yes\n",
      "3      James   12.2         3      no\n",
      "4      Emily    9.0         2      no\n",
      "5    Michael   20.0         3     yes\n",
      "6    Matthew   14.5         1     yes\n",
      "7      Laura   15.2         1      no\n",
      "8      Kevin    8.0         2      no\n",
      "9      Jonas   19.0         1     yes\n",
      "Sorting Values using Attempts and Name\n",
      "        name  score  attempts qualify\n",
      "0  Anastasia   12.5         1     yes\n",
      "9      Jonas   19.0         1     yes\n",
      "7      Laura   15.2         1      no\n",
      "6    Matthew   14.5         1     yes\n",
      "4      Emily    9.0         2      no\n",
      "2  Katherine   16.5         2     yes\n",
      "8      Kevin    8.0         2      no\n",
      "1       Dima    9.0         3      no\n",
      "3      James   12.2         3      no\n",
      "5    Michael   20.0         3     yes\n"
     ]
    }
   ],
   "source": [
    "# 50. Write a Pandas program to sort a given DataFrame by two or more columns.\n",
    "import pandas as pd\n",
    "import numpy as np\n",
    "exam_data = {'name': ['Anastasia', 'Dima', 'Katherine', 'James', 'Emily', 'Michael', 'Matthew', 'Laura', 'Kevin', 'Jonas'],\n",
    "        'score': [12.5, 9, 16.5, 12.2, 9, 20, 14.5, 15.2, 8, 19],\n",
    "        'attempts': [1, 3, 2, 3, 2, 3, 1, 1, 2, 1],\n",
    "        'qualify': ['yes', 'no', 'yes', 'no', 'no', 'yes', 'yes', 'no', 'no', 'yes']}\n",
    "df = pd.DataFrame(exam_data)\n",
    "print(\"Original DataFrame\")\n",
    "print(df)\n",
    "print(\"Sorting Values using Attempts and Name\")\n",
    "df = df.sort_values(['attempts','name'], ascending=[True,True])\n",
    "print(df)"
   ]
  },
  {
   "cell_type": "code",
   "execution_count": 15,
   "id": "c5d63e5f-e338-427f-84f3-eb2878fb26ef",
   "metadata": {
    "tags": []
   },
   "outputs": [
    {
     "name": "stdout",
     "output_type": "stream",
     "text": [
      "name        object\n",
      "score        int32\n",
      "attempts     int64\n",
      "qualify     object\n",
      "dtype: object\n",
      "        name  score  attempts qualify\n",
      "0  Anastasia     12         1     yes\n",
      "9      Jonas     19         1     yes\n",
      "7      Laura     15         1      no\n",
      "6    Matthew     14         1     yes\n",
      "4      Emily      9         2      no\n",
      "2  Katherine     16         2     yes\n",
      "8      Kevin      8         2      no\n",
      "1       Dima      9         3      no\n",
      "3      James     12         3      no\n",
      "5    Michael     20         3     yes\n",
      "name        object\n",
      "score        int32\n",
      "attempts     int64\n",
      "qualify     object\n",
      "dtype: object\n"
     ]
    }
   ],
   "source": [
    "#51 Write a Pandas program to convert the datatype of a given column(floats to ints).\n",
    "import pandas as pd\n",
    "\n",
    "print(df.dtypes)\n",
    "\n",
    "df.score = df.score.astype(int)\n",
    "print(df)\n",
    "print(df.dtypes)"
   ]
  },
  {
   "cell_type": "code",
   "execution_count": 16,
   "id": "370c7492-937a-44a3-9997-7c73dac1d342",
   "metadata": {
    "tags": []
   },
   "outputs": [
    {
     "name": "stdout",
     "output_type": "stream",
     "text": [
      "               value\n",
      "2024-01-22  0.321041\n",
      "2024-01-23  0.667199\n",
      "2024-01-24  0.008505\n",
      "2024-01-25  0.283320\n",
      "2024-01-26  0.984259\n",
      "...              ...\n",
      "2029-01-18  0.310093\n",
      "2029-01-19  0.459313\n",
      "2029-01-20  0.961541\n",
      "2029-01-21  0.766609\n",
      "2029-01-22  0.750703\n",
      "\n",
      "[1828 rows x 1 columns]\n"
     ]
    }
   ],
   "source": [
    "# Datetime Series Example and Test\n",
    "\n",
    "import pandas as pd\n",
    "import numpy as np\n",
    "pdt = pd.date_range(start=\"2024-01-22\",end=\"2029-01-22\",freq=\"D\")\n",
    "# print(len(pdt))\n",
    "v = np.random.random(size=len(pdt))\n",
    "df = pd.DataFrame({\"value\": v},index=pdt)\n",
    "print(df)"
   ]
  },
  {
   "cell_type": "code",
   "execution_count": 22,
   "id": "1aee3643-3788-4635-9d99-00f25095d378",
   "metadata": {
    "tags": []
   },
   "outputs": [
    {
     "name": "stdout",
     "output_type": "stream",
     "text": [
      "Number of Columns of a Dataframe\n",
      "3\n"
     ]
    }
   ],
   "source": [
    "# 57. Write a Pandas program to count number of columns of a DataFrame.\n",
    "import pandas as pd\n",
    "import numpy as np\n",
    "d = {'col1': [1, 2, 3, 4, 7], 'col2': [4, 5, 6, 9, 5], 'col3': [7, 8, 12, 1, 11]}\n",
    "df = pd.DataFrame(d)\n",
    "print(\"Number of Columns of a Dataframe\")\n",
    "print(len(df.columns))"
   ]
  },
  {
   "cell_type": "code",
   "execution_count": null,
   "id": "595fe3d9-be52-4460-9747-ce94449f0152",
   "metadata": {},
   "outputs": [],
   "source": [
    "import pandas as pd\n"
   ]
  }
 ],
 "metadata": {
  "kernelspec": {
   "display_name": "Python 3 (ipykernel)",
   "language": "python",
   "name": "python3"
  },
  "language_info": {
   "codemirror_mode": {
    "name": "ipython",
    "version": 3
   },
   "file_extension": ".py",
   "mimetype": "text/x-python",
   "name": "python",
   "nbconvert_exporter": "python",
   "pygments_lexer": "ipython3",
   "version": "3.11.5"
  }
 },
 "nbformat": 4,
 "nbformat_minor": 5
}
