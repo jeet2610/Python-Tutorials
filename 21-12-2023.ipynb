{
 "cells": [
  {
   "cell_type": "markdown",
   "id": "be39a70e-5319-4cd7-a944-67ddc58b4afe",
   "metadata": {
    "jp-MarkdownHeadingCollapsed": true,
    "tags": []
   },
   "source": [
    "# Scipy"
   ]
  },
  {
   "cell_type": "markdown",
   "id": "fef6c47d-c305-4024-aebf-2d58aa6afa10",
   "metadata": {
    "jp-MarkdownHeadingCollapsed": true,
    "tags": []
   },
   "source": [
    "### Dijkstra"
   ]
  },
  {
   "cell_type": "code",
   "execution_count": 1,
   "id": "11344b6a-ff6e-4b83-b0b2-961889ae961c",
   "metadata": {
    "tags": []
   },
   "outputs": [],
   "source": [
    "import numpy as np\n",
    "from scipy.sparse.csgraph import dijkstra\n",
    "from scipy.sparse import csr_matrix\n"
   ]
  },
  {
   "cell_type": "code",
   "execution_count": 2,
   "id": "ca96a000-50a6-4e2c-9df5-3636755210a4",
   "metadata": {
    "tags": []
   },
   "outputs": [],
   "source": [
    "arr = np.array([\n",
    "    [0, 1, 2],\n",
    "    [1, 0, 0],\n",
    "    [2, 0, 0]])"
   ]
  },
  {
   "cell_type": "code",
   "execution_count": 4,
   "id": "8ebbb141-b23e-4907-a6d7-45e9f69a7d8a",
   "metadata": {
    "tags": []
   },
   "outputs": [
    {
     "name": "stdout",
     "output_type": "stream",
     "text": [
      "(array([0., 1., 2.]), array([-9999,     0,     0]))\n"
     ]
    }
   ],
   "source": [
    "newarr = csr_matrix(arr)\n",
    "print(dijkstra(newarr,return_predecessors=True,indices=0))"
   ]
  },
  {
   "cell_type": "markdown",
   "id": "2f008769-8767-497f-aa2e-6b33748c4423",
   "metadata": {
    "jp-MarkdownHeadingCollapsed": true,
    "tags": []
   },
   "source": [
    "## Floyd Warshall"
   ]
  },
  {
   "cell_type": "code",
   "execution_count": 7,
   "id": "ea66e8d3-4758-4dc0-b281-8973cdb33f83",
   "metadata": {
    "tags": []
   },
   "outputs": [],
   "source": [
    "# Find the shortest path between all pairs of elements\n",
    "import numpy as np\n",
    "from scipy.sparse.csgraph import floyd_warshall\n",
    "\n",
    "from scipy.sparse import csr_matrix\n",
    "\n",
    "arr = np.array([\n",
    "  [0, 1, 2],\n",
    "  [1, 0, 0],\n",
    "  [2, 0, 0]\n",
    "])"
   ]
  },
  {
   "cell_type": "code",
   "execution_count": 8,
   "id": "d12f1246-96dc-4e9a-ac38-e8a3d4951b8a",
   "metadata": {
    "tags": []
   },
   "outputs": [
    {
     "name": "stdout",
     "output_type": "stream",
     "text": [
      "(array([[0., 1., 2.],\n",
      "       [1., 0., 3.],\n",
      "       [2., 3., 0.]]), array([[-9999,     0,     0],\n",
      "       [    1, -9999,     0],\n",
      "       [    2,     0, -9999]]))\n"
     ]
    }
   ],
   "source": [
    "newarr = csr_matrix(arr)\n",
    "\n",
    "print(floyd_warshall(newarr, return_predecessors=True))\n"
   ]
  },
  {
   "cell_type": "markdown",
   "id": "79964d28-97cf-46c2-8d0c-09528fd0e5f4",
   "metadata": {
    "jp-MarkdownHeadingCollapsed": true,
    "tags": []
   },
   "source": [
    "## Bellman Ford\n",
    "\n",
    "The bellman_ford() method can also find the shortest path between all pairs of elements, but this method can handle negative weights as well."
   ]
  },
  {
   "cell_type": "code",
   "execution_count": 9,
   "id": "bd4f37e6-f21e-46bf-b4da-12f7516bf36f",
   "metadata": {
    "tags": []
   },
   "outputs": [],
   "source": [
    "import numpy as np\n",
    "from scipy.sparse.csgraph import bellman_ford\n",
    "from scipy.sparse import csr_matrix"
   ]
  },
  {
   "cell_type": "code",
   "execution_count": 10,
   "id": "e5e495ab-9471-4779-9051-6dfa97ac5ffb",
   "metadata": {
    "tags": []
   },
   "outputs": [],
   "source": [
    "arr = np.array([\n",
    "  [0, -1, 2],\n",
    "  [1, 0, 0],\n",
    "  [2, 0, 0]\n",
    "])"
   ]
  },
  {
   "cell_type": "code",
   "execution_count": 11,
   "id": "728cac00-3bcf-4475-9677-2150bb390957",
   "metadata": {
    "tags": []
   },
   "outputs": [
    {
     "name": "stdout",
     "output_type": "stream",
     "text": [
      "(array([ 0., -1.,  2.]), array([-9999,     0,     0]))\n"
     ]
    }
   ],
   "source": [
    "newarr = csr_matrix(arr)\n",
    "print(bellman_ford(newarr,return_predecessors=True,indices=0))"
   ]
  },
  {
   "cell_type": "markdown",
   "id": "3c2dccd3-765f-419e-9733-bd8ea34c4a3c",
   "metadata": {
    "tags": []
   },
   "source": [
    "## Depth First Order\n",
    "The depth_first_order() method returns a depth first traversal from a node."
   ]
  },
  {
   "cell_type": "code",
   "execution_count": 13,
   "id": "e9f3e21f-b8d6-480b-b530-9a44f27752b2",
   "metadata": {
    "tags": []
   },
   "outputs": [],
   "source": [
    "import numpy as np\n",
    "from scipy.sparse.csgraph import depth_first_order\n",
    "from scipy.sparse import csr_matrix\n",
    "\n",
    "arr = np.array([\n",
    "  [0, 1, 0, 1],\n",
    "  [1, 1, 1, 1],\n",
    "  [2, 1, 1, 0],\n",
    "  [0, 1, 0, 1]\n",
    "])"
   ]
  },
  {
   "cell_type": "code",
   "execution_count": 14,
   "id": "85fe1eda-dfeb-4712-ae8b-55865ff355e9",
   "metadata": {
    "tags": []
   },
   "outputs": [
    {
     "name": "stdout",
     "output_type": "stream",
     "text": [
      "(array([1, 0, 3, 2]), array([    1, -9999,     1,     0]))\n"
     ]
    }
   ],
   "source": [
    "newarr= csr_matrix(arr)\n",
    "print(depth_first_order(newarr,1))"
   ]
  },
  {
   "cell_type": "markdown",
   "id": "39d09979-21fd-4dd2-a2a0-adf39e840ff4",
   "metadata": {},
   "source": [
    "## Breadth First Order"
   ]
  },
  {
   "cell_type": "markdown",
   "id": "f936fdcb-bb43-469e-84e2-fdc36b9e0c5e",
   "metadata": {},
   "source": [
    "The breadth_first_order() method returns a breadth first traversal from a node."
   ]
  },
  {
   "cell_type": "code",
   "execution_count": 15,
   "id": "a0c9b4fe-65a0-437e-9c06-44f0ff633b86",
   "metadata": {
    "tags": []
   },
   "outputs": [
    {
     "name": "stdout",
     "output_type": "stream",
     "text": [
      "(array([1, 0, 2, 3]), array([    1, -9999,     1,     1]))\n"
     ]
    }
   ],
   "source": [
    "import numpy as np\n",
    "from scipy.sparse.csgraph import breadth_first_order\n",
    "from scipy.sparse import csr_matrix\n",
    "\n",
    "arr = np.array([\n",
    "  [0, 1, 0, 1],\n",
    "  [1, 1, 1, 1],\n",
    "  [2, 1, 1, 0],\n",
    "  [0, 1, 0, 1]\n",
    "])\n",
    "newarr = csr_matrix(arr)\n",
    "print(breadth_first_order(newarr,1))"
   ]
  },
  {
   "cell_type": "markdown",
   "id": "6bc297e7-af1a-4604-a3b5-ca36030361b3",
   "metadata": {
    "jp-MarkdownHeadingCollapsed": true,
    "tags": []
   },
   "source": [
    "# Scipy Spatial Data"
   ]
  },
  {
   "cell_type": "markdown",
   "id": "ddd6b561-3c2f-44e5-9cb0-cf559127844d",
   "metadata": {
    "jp-MarkdownHeadingCollapsed": true,
    "tags": []
   },
   "source": [
    "## Triangulation\n"
   ]
  },
  {
   "cell_type": "code",
   "execution_count": 17,
   "id": "9f1d4928-bc60-465c-be0d-ac3a75e78613",
   "metadata": {
    "tags": []
   },
   "outputs": [],
   "source": [
    "import numpy as np\n",
    "\n",
    "from scipy.spatial import Delaunay"
   ]
  },
  {
   "cell_type": "code",
   "execution_count": 18,
   "id": "1bc4196b-a502-43d2-86bd-4d2f759eddec",
   "metadata": {
    "tags": []
   },
   "outputs": [],
   "source": [
    "import matplotlib.pyplot as plt"
   ]
  },
  {
   "cell_type": "code",
   "execution_count": 28,
   "id": "b4a88ba4-a8e7-4e49-8f88-893c0598a974",
   "metadata": {
    "tags": []
   },
   "outputs": [],
   "source": [
    "points = np.array([\n",
    "  [2, 4],\n",
    "  [3, 4],\n",
    "  [3, 0],\n",
    "  [2, 2],\n",
    "  [4, 1],\n",
    "  [1, 2],\n",
    "  [5, 0],\n",
    "  [3, 1],\n",
    "  [1, 2],\n",
    "  [0, 2]\n",
    "])"
   ]
  },
  {
   "cell_type": "code",
   "execution_count": 29,
   "id": "6ca3799a-b541-45f3-8dee-0ec6ffdec517",
   "metadata": {
    "tags": []
   },
   "outputs": [],
   "source": [
    "simplices = Delaunay(points).simplices"
   ]
  },
  {
   "cell_type": "code",
   "execution_count": 30,
   "id": "34dbcdc4-f718-488c-8964-1fd1905e656d",
   "metadata": {
    "tags": []
   },
   "outputs": [
    {
     "data": {
      "text/plain": [
       "<matplotlib.collections.PathCollection at 0x23ee8cd63d0>"
      ]
     },
     "execution_count": 30,
     "metadata": {},
     "output_type": "execute_result"
    },
    {
     "data": {
      "image/png": "[encoded data removed]",
      "text/plain": [
       "<Figure size 640x480 with 1 Axes>"
      ]
     },
     "metadata": {},
     "output_type": "display_data"
    }
   ],
   "source": [
    "plt.triplot(points[:, 0], points[:, 1], simplices,color='g')\n",
    "plt.scatter(points[:, 0], points[:, 1], color='r')"
   ]
  },
  {
   "cell_type": "markdown",
   "id": "b4dfcd61-ca32-4787-9458-54950bb00add",
   "metadata": {
    "jp-MarkdownHeadingCollapsed": true,
    "tags": []
   },
   "source": [
    "## Convex Hull"
   ]
  },
  {
   "cell_type": "code",
   "execution_count": 31,
   "id": "196db8da-d56a-448c-b4c2-278591c26bfc",
   "metadata": {
    "tags": []
   },
   "outputs": [
    {
     "data": {
      "image/png": "[encoded data removed]",
      "text/plain": [
       "<Figure size 640x480 with 1 Axes>"
      ]
     },
     "metadata": {},
     "output_type": "display_data"
    }
   ],
   "source": [
    "import numpy as np\n",
    "from scipy.spatial import ConvexHull\n",
    "import matplotlib.pyplot as plt\n",
    "\n",
    "points = np.array([\n",
    "  [2, 4],\n",
    "  [3, 4],\n",
    "  [3, 0],\n",
    "  [2, 2],\n",
    "  [4, 1],\n",
    "  [1, 2],\n",
    "  [5, 0],\n",
    "  [3, 1],\n",
    "  [1, 2],\n",
    "  [0, 2]\n",
    "])\n",
    "\n",
    "\n",
    "hull = ConvexHull(points)\n",
    "hull_points = hull.simplices\n",
    "\n",
    "plt.scatter(points[:,0],points[:,1])\n",
    "for simplex in hull_points:\n",
    "    plt.plot(points[simplex,0],points[simplex,1],'k-')\n",
    "    \n",
    "plt.show()"
   ]
  },
  {
   "cell_type": "markdown",
   "id": "df915656-e21a-4ae8-9679-c401cc6dc152",
   "metadata": {
    "jp-MarkdownHeadingCollapsed": true,
    "tags": []
   },
   "source": [
    "## KDTrees"
   ]
  },
  {
   "cell_type": "code",
   "execution_count": 32,
   "id": "43c2ad4c-20e7-4397-9950-756836ee9b5c",
   "metadata": {
    "tags": []
   },
   "outputs": [],
   "source": [
    "from scipy.spatial import KDTree"
   ]
  },
  {
   "cell_type": "code",
   "execution_count": 34,
   "id": "ce2f3d2d-7566-4416-ba7a-f7788f267eee",
   "metadata": {
    "tags": []
   },
   "outputs": [
    {
     "name": "stdout",
     "output_type": "stream",
     "text": [
      "(2.0, 0)\n"
     ]
    }
   ],
   "source": [
    "# Finding the nearest neighbour to (1,1)\n",
    "points =[(1,-1),(2,3),(-2,3),(2,-3)]\n",
    "kdtree = KDTree(points)\n",
    "res = kdtree.query((1,1))\n",
    "print(res)"
   ]
  },
  {
   "cell_type": "markdown",
   "id": "1e068c59-373f-4a0d-9101-e2bdec3ef6c4",
   "metadata": {
    "jp-MarkdownHeadingCollapsed": true,
    "tags": []
   },
   "source": [
    "## Distance matrix"
   ]
  },
  {
   "cell_type": "markdown",
   "id": "e57aa797-0fa2-47a7-b95d-f2dd226e6831",
   "metadata": {},
   "source": [
    "### Euclidean Distance\n",
    "\n",
    "Find the euclidean distance between given points\n"
   ]
  },
  {
   "cell_type": "code",
   "execution_count": 35,
   "id": "56df0d63-3c9b-4429-9fa9-a69f7341f0f2",
   "metadata": {
    "tags": []
   },
   "outputs": [],
   "source": [
    "\n",
    "from scipy.spatial.distance import euclidean\n"
   ]
  },
  {
   "cell_type": "code",
   "execution_count": 36,
   "id": "8196cd2c-cec1-4c61-bf25-201adf8c50bd",
   "metadata": {
    "tags": []
   },
   "outputs": [
    {
     "name": "stdout",
     "output_type": "stream",
     "text": [
      "9.219544457292887\n"
     ]
    }
   ],
   "source": [
    "p1=(1,0)\n",
    "p2 = (10,2)\n",
    "res = euclidean(p1,p2)\n",
    "print(res)"
   ]
  },
  {
   "cell_type": "markdown",
   "id": "de560706-eb92-409d-a7e6-f493d37870ef",
   "metadata": {},
   "source": [
    "###    CityBlock Distance"
   ]
  },
  {
   "cell_type": "code",
   "execution_count": 37,
   "id": "687723a8-27f3-4e65-80be-4131a15e9158",
   "metadata": {
    "tags": []
   },
   "outputs": [
    {
     "name": "stdout",
     "output_type": "stream",
     "text": [
      "11\n"
     ]
    }
   ],
   "source": [
    "#Find the cityblock distance between given points\n",
    "\n",
    "from scipy.spatial.distance import cityblock\n",
    "\n",
    "p1 =(1,0)\n",
    "p2 = (10,2)\n",
    "res = cityblock(p1,p2)\n",
    "print(res)"
   ]
  },
  {
   "cell_type": "markdown",
   "id": "7d8aa2c1-e65c-4ca8-88cd-02db7df0a360",
   "metadata": {},
   "source": [
    "### Cosine Distance"
   ]
  },
  {
   "cell_type": "code",
   "execution_count": 40,
   "id": "c94777ae-aff7-4e90-b8f5-506d80c894d4",
   "metadata": {
    "tags": []
   },
   "outputs": [
    {
     "name": "stdout",
     "output_type": "stream",
     "text": [
      "0.019419324309079777\n"
     ]
    }
   ],
   "source": [
    "#find the cosine distance betweeen two points:\n",
    "from scipy.spatial.distance import cosine\n",
    "\n",
    "p1 = (1,0)\n",
    "p2 = (10,2)\n",
    "res = cosine(p1,p2)\n",
    "print(res)"
   ]
  },
  {
   "cell_type": "markdown",
   "id": "aa37a5c4-46b5-4ce6-bc67-151ab564d787",
   "metadata": {},
   "source": [
    "### Hamming Distance"
   ]
  },
  {
   "cell_type": "code",
   "execution_count": 41,
   "id": "63648fbe-2a1f-4e9c-9363-87ff223b15c1",
   "metadata": {
    "tags": []
   },
   "outputs": [
    {
     "name": "stdout",
     "output_type": "stream",
     "text": [
      "0.6666666666666666\n"
     ]
    }
   ],
   "source": [
    "#Finding the Hamming distance between two points\n",
    "\n",
    "from scipy.spatial import distance\n",
    "\n",
    "p1 = (True,False,True)\n",
    "p2 = (False,True,True)\n",
    "res = distance.hamming(p1,p2)\n",
    "print(res)"
   ]
  },
  {
   "cell_type": "markdown",
   "id": "00e8c158-35c6-488d-8c0e-ece929800379",
   "metadata": {},
   "source": [
    "# Scipy Matlab Array"
   ]
  },
  {
   "cell_type": "code",
   "execution_count": 1,
   "id": "e610a7fc-7ee8-465b-bf4f-f8d36fe93a1a",
   "metadata": {
    "tags": []
   },
   "outputs": [],
   "source": [
    "from scipy import io"
   ]
  },
  {
   "cell_type": "code",
   "execution_count": 2,
   "id": "e6f250f4-932e-44a0-be7c-8ed651a4f8e1",
   "metadata": {
    "tags": []
   },
   "outputs": [],
   "source": [
    "import numpy as np\n",
    "arr = np.arange(10)\n",
    "io.savemat('arr.mat',{\"vec\":arr})"
   ]
  },
  {
   "cell_type": "code",
   "execution_count": 4,
   "id": "fb408806-255b-408a-801a-8136b14de034",
   "metadata": {
    "tags": []
   },
   "outputs": [
    {
     "name": "stdout",
     "output_type": "stream",
     "text": [
      "{'__header__': b'MATLAB 5.0 MAT-file Platform: nt, Created on: Fri Dec 22 10:51:33 2023', '__version__': '1.0', '__globals__': [], 'vec': array([[0, 1, 2, 3, 4, 5, 6, 7, 8, 9]])}\n"
     ]
    }
   ],
   "source": [
    "mydata = io.loadmat('arr.mat')\n",
    "print(mydata)\n"
   ]
  },
  {
   "cell_type": "code",
   "execution_count": 5,
   "id": "0f4f0084-3f47-49da-a098-aaca3e541bca",
   "metadata": {},
   "outputs": [
    {
     "name": "stdout",
     "output_type": "stream",
     "text": [
      "[[0 1 2 3 4 5 6 7 8 9]]\n"
     ]
    }
   ],
   "source": [
    "print(mydata['vec'])"
   ]
  },
  {
   "cell_type": "code",
   "execution_count": 6,
   "id": "f07c8a34-25f1-477a-8ac5-c4421bd6cb4e",
   "metadata": {
    "tags": []
   },
   "outputs": [
    {
     "name": "stdout",
     "output_type": "stream",
     "text": [
      "[0 1 2 3 4 5 6 7 8 9]\n"
     ]
    }
   ],
   "source": [
    "# Import:\n",
    "mydata = io.loadmat('arr.mat', squeeze_me=True)\n",
    "\n",
    "print(mydata['vec'])"
   ]
  },
  {
   "cell_type": "code",
   "execution_count": null,
   "id": "24ee133b-5226-4394-88ac-c7d76e8f6b8b",
   "metadata": {},
   "outputs": [],
   "source": []
  }
 ],
 "metadata": {
  "kernelspec": {
   "display_name": "Python 3 (ipykernel)",
   "language": "python",
   "name": "python3"
  },
  "language_info": {
   "codemirror_mode": {
    "name": "ipython",
    "version": 3
   },
   "file_extension": ".py",
   "mimetype": "text/x-python",
   "name": "python",
   "nbconvert_exporter": "python",
   "pygments_lexer": "ipython3",
   "version": "3.11.5"
  }
 },
 "nbformat": 4,
 "nbformat_minor": 5
}
