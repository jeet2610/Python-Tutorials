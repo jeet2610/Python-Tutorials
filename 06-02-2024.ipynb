{
 "cells": [
  {
   "cell_type": "code",
   "execution_count": null,
   "id": "523bcdf3-db79-4b06-b8d7-0d03a75ba305",
   "metadata": {
    "tags": []
   },
   "outputs": [],
   "source": []
  },
  {
   "cell_type": "code",
   "execution_count": null,
   "id": "99620d3e-1e27-4331-8a65-43a8d35b333a",
   "metadata": {
    "tags": []
   },
   "outputs": [],
   "source": []
  },
  {
   "cell_type": "code",
   "execution_count": 2,
   "id": "87c7490c-eded-488d-b513-f65f9529263f",
   "metadata": {
    "scrolled": true,
    "tags": []
   },
   "outputs": [
    {
     "name": "stdout",
     "output_type": "stream",
     "text": [
      "Product Name: <div class=\"plp-card-details-name line-clamp jm-body-xs jm-fc-primary-grey-80\"> Aashirvaad Superior MP Atta 5 kg </div>\n",
      "Price: None\n",
      "Discount: <span class=\"jm-badge\"> 16% OFF </span>\n",
      "\n",
      "Product Name: <div class=\"plp-card-details-name line-clamp jm-body-xs jm-fc-primary-grey-80\"> MuscleBlaze Beginner's Whey Protein 500 g | Chocolate| No Added Sugar| Faster Muscle Recovery | Improved Strength </div>\n",
      "Price: None\n",
      "Discount: <span class=\"jm-badge\"> 23% OFF </span>\n",
      "\n",
      "Product Name: <div class=\"plp-card-details-name line-clamp jm-body-xs jm-fc-primary-grey-80\"> Coreganic 1kg 100% Natural International Premium Whole Cashews </div>\n",
      "Price: None\n",
      "Discount: <span class=\"jm-badge\"> 61% OFF </span>\n",
      "\n",
      "Product Name: <div class=\"plp-card-details-name line-clamp jm-body-xs jm-fc-primary-grey-80\"> Good Life Moong Dal 2 kg </div>\n",
      "Price: None\n",
      "Discount: <span class=\"jm-badge\"> 31% OFF </span>\n",
      "\n",
      "Product Name: <div class=\"plp-card-details-name line-clamp jm-body-xs jm-fc-primary-grey-80\"> Gulab Gold Filtered Groundnut Oil 1 L </div>\n",
      "Price: None\n",
      "Discount: <span class=\"jm-badge\"> 34% OFF </span>\n",
      "\n",
      "Product Name: <div class=\"plp-card-details-name line-clamp jm-body-xs jm-fc-primary-grey-80\"> MuscleBlaze Super Gainer XXL 1 Kg/2.2lb | Chocolate Bliss | For Muscle Mass Gain </div>\n",
      "Price: None\n",
      "Discount: <span class=\"jm-badge\"> 44% OFF </span>\n",
      "\n",
      "Product Name: <div class=\"plp-card-details-name line-clamp jm-body-xs jm-fc-primary-grey-80\"> Pepsodent Germicheck Advance Anti-Germ Formula Toothpaste 150 g (Pack of 2) </div>\n",
      "Price: None\n",
      "Discount: <span class=\"jm-badge\"> 24% OFF </span>\n",
      "\n",
      "Product Name: <div class=\"plp-card-details-name line-clamp jm-body-xs jm-fc-primary-grey-80\"> Button Mushroom 200 g </div>\n",
      "Price: None\n",
      "Discount: None\n",
      "\n",
      "Product Name: <div class=\"plp-card-details-name line-clamp jm-body-xs jm-fc-primary-grey-80\"> Surf Excel Matic Front Load Liquid Detergent 4 L </div>\n",
      "Price: None\n",
      "Discount: <span class=\"jm-badge\"> 25% OFF </span>\n",
      "\n",
      "Product Name: <div class=\"plp-card-details-name line-clamp jm-body-xs jm-fc-primary-grey-80\"> Horaira Nutz Dry Fruits Combo Pack 1Kg Cashews 250g , Figs 250g , Raisins 250g , Almond 250g </div>\n",
      "Price: None\n",
      "Discount: <span class=\"jm-badge\"> 62% OFF </span>\n",
      "\n",
      "Product Name: <div class=\"plp-card-details-name line-clamp jm-body-xs jm-fc-primary-grey-80\"> Amul Pasteurised Butter 200 g (Tub) </div>\n",
      "Price: None\n",
      "Discount: <span class=\"jm-badge\"> 5% OFF </span>\n",
      "\n",
      "Product Name: <div class=\"plp-card-details-name line-clamp jm-body-xs jm-fc-primary-grey-80\"> MuscleBlaze Biozyme Performance Whey Protein | Clinically Tested 50% Higher Protein Absorption | Informed Choice UK, Labdoor USA Certified &amp; US Patent Filed EAF (Chocolate Hazelnut, 1 kg / 2.2 lb) </div>\n",
      "Price: None\n",
      "Discount: <span class=\"jm-badge\"> 22% OFF </span>\n",
      "\n",
      "Product Name: <div class=\"plp-card-details-name line-clamp jm-body-xs jm-fc-primary-grey-80\"> Nestle Milkmaid Condensed Milk 380 g (Tin) </div>\n",
      "Price: None\n",
      "Discount: <span class=\"jm-badge\"> 20% OFF </span>\n",
      "\n",
      "Product Name: <div class=\"plp-card-details-name line-clamp jm-body-xs jm-fc-primary-grey-80\"> Aashirvaad Select Sharbatti Atta 5 kg </div>\n",
      "Price: None\n",
      "Discount: <span class=\"jm-badge\"> 18% OFF </span>\n",
      "\n",
      "Product Name: <div class=\"plp-card-details-name line-clamp jm-body-xs jm-fc-primary-grey-80\"> Comfort After Wash Morning Fresh Fabric Conditioner 2 L </div>\n",
      "Price: None\n",
      "Discount: <span class=\"jm-badge\"> 10% OFF </span>\n",
      "\n",
      "Product Name: <div class=\"plp-card-details-name line-clamp jm-body-xs jm-fc-primary-grey-80\"> MuscleBlaze Raw Whey Protein Concentrate 80% with Added Digestive Enzymes (Unflavoured, 1 kg / 2.2 lb) </div>\n",
      "Price: None\n",
      "Discount: <span class=\"jm-badge\"> 21% OFF </span>\n",
      "\n",
      "Product Name: <div class=\"plp-card-details-name line-clamp jm-body-xs jm-fc-primary-grey-80\"> MuscleBlaze Creatine Monohydrate, Labdoor USA Certified Creatine (Unflavoured, 100 g / 0.22 lb, 33 Servings) </div>\n",
      "Price: None\n",
      "Discount: <span class=\"jm-badge\"> 44% OFF </span>\n",
      "\n",
      "Product Name: <div class=\"plp-card-details-name line-clamp jm-body-xs jm-fc-primary-grey-80\"> MuscleBlaze Biozyme Performance Whey Protein 1 kg | Rich Chocolate | Clinically Tested 50% Higher Protein Absorption | Informed Choice UK, Labdoor USA Certified | US Patent Filed EAF </div>\n",
      "Price: None\n",
      "Discount: <span class=\"jm-badge\"> 22% OFF </span>\n",
      "\n",
      "Product Name: <div class=\"plp-card-details-name line-clamp jm-body-xs jm-fc-primary-grey-80\"> OR! Optimum Resources Kesar Saffron Original Kashmiri 1 g (Pack of 1), Certified highest Grade A++, 100% Natural Kashmiri Kesar </div>\n",
      "Price: None\n",
      "Discount: <span class=\"jm-badge\"> 64% OFF </span>\n",
      "\n",
      "Product Name: <div class=\"plp-card-details-name line-clamp jm-body-xs jm-fc-primary-grey-80\"> Venusia Max Intensive Moisturizing Lotion For Everyday Use 500 g </div>\n",
      "Price: None\n",
      "Discount: <span class=\"jm-badge\"> 20% OFF </span>\n",
      "\n",
      "Product Name: <div class=\"plp-card-details-name line-clamp jm-body-xs jm-fc-primary-grey-80\"> Dr. Reddy Venusia Moisturizing Cream With Aloe Vera, Vitamin E and Squalene, 100 gm </div>\n",
      "Price: None\n",
      "Discount: <span class=\"jm-badge\"> 18% OFF </span>\n",
      "\n"
     ]
    }
   ],
   "source": [
    "import time\n",
    "from selenium import webdriver\n",
    "from bs4 import BeautifulSoup\n",
    "\n",
    "url = \"https://www.jiomart.com/c/groceries/2\"\n",
    "\n",
    "# Initialize the webdriver\n",
    "driver = webdriver.Chrome()  # You need to have chromedriver installed and in your PATH\n",
    "\n",
    "# Open the URL\n",
    "driver.get(url)\n",
    "\n",
    "# Scroll to the bottom of the page to load more items\n",
    "scroll_pause_time = 1 # Adjust this value as needed\n",
    "last_height = driver.execute_script(\"return document.body.scrollHeight\")\n",
    "while True:\n",
    "    driver.execute_script(\"window.scrollTo(0, document.body.scrollHeight);\")\n",
    "    time.sleep(scroll_pause_time)\n",
    "    new_height = driver.execute_script(\"return document.body.scrollHeight\")\n",
    "    if new_height == last_height:\n",
    "        break\n",
    "    last_height = new_height\n",
    "\n",
    "# Once all items are loaded, extract the HTML content\n",
    "html_content = driver.page_source\n",
    "\n",
    "# Close the webdriver\n",
    "driver.quit()\n",
    "\n",
    "# Use BeautifulSoup to parse the HTML content\n",
    "soup = BeautifulSoup(html_content, 'html.parser')\n",
    "\n",
    "# Find all items using a refined selector\n",
    "results = soup.find_all('div', {'class': 'plp-card-details-container'})\n",
    "\n",
    "# Now you can proceed with processing the results\n",
    "for result in results:\n",
    "    # Process each item as needed\n",
    "    product_name = result.find('div', {'class': 'plp-card-details-name line-clamp jm-body-xs jm-fc-primary-grey-80'})\n",
    "    product_price = result.find('div', {'class': 'jm-heading-xxs jm-mb-xxs'})\n",
    "    product_discount = result.find('span', {'class': 'jm-badge'})\n",
    "\n",
    "    print(\"Product Name:\", product_name)\n",
    "    print(\"Price:\", product_price)\n",
    "    print(\"Discount:\", product_discount)\n",
    "    print()  # Print an empty line for better readability\n"
   ]
  },
  {
   "cell_type": "code",
   "execution_count": 4,
   "id": "1dff9314-a41a-47e6-9b29-27a06fcf1cd8",
   "metadata": {
    "tags": []
   },
   "outputs": [
    {
     "data": {
      "text/plain": [
       "21"
      ]
     },
     "execution_count": 4,
     "metadata": {},
     "output_type": "execute_result"
    }
   ],
   "source": [
    "len(results)"
   ]
  },
  {
   "cell_type": "code",
   "execution_count": 8,
   "id": "00a995e8-5993-4657-aee2-e988cbae1e36",
   "metadata": {
    "tags": []
   },
   "outputs": [
    {
     "data": {
      "text/plain": [
       "'Aashirvaad Superior MP Atta 5 kg'"
      ]
     },
     "execution_count": 8,
     "metadata": {},
     "output_type": "execute_result"
    }
   ],
   "source": [
    "results[0].find('div',{'class':'plp-card-details-name line-clamp jm-body-xs jm-fc-primary-grey-80'}).get_text().strip()"
   ]
  },
  {
   "cell_type": "code",
   "execution_count": 9,
   "id": "166e2429-73e4-4570-8849-b05d35913be6",
   "metadata": {
    "tags": []
   },
   "outputs": [
    {
     "data": {
      "text/plain": [
       "'₹245.00'"
      ]
     },
     "execution_count": 9,
     "metadata": {},
     "output_type": "execute_result"
    }
   ],
   "source": [
    "# price\n",
    "results[0].find('span',{'class':'jm-heading-xxs jm-mb-xxs'}).get_text().strip()"
   ]
  },
  {
   "cell_type": "code",
   "execution_count": 10,
   "id": "ddbb830b-7217-49c0-b366-aa8bb766abe9",
   "metadata": {
    "tags": []
   },
   "outputs": [
    {
     "data": {
      "text/plain": [
       "'16% OFF'"
      ]
     },
     "execution_count": 10,
     "metadata": {},
     "output_type": "execute_result"
    }
   ],
   "source": [
    "#discount\n",
    "results[0].find('span',{'class':'jm-badge'}).get_text().strip()"
   ]
  },
  {
   "cell_type": "code",
   "execution_count": 11,
   "id": "2aaf5705-9772-4bad-9929-27bec25bbd39",
   "metadata": {
    "tags": []
   },
   "outputs": [],
   "source": [
    "# Puting Everything in loop\n",
    "\n",
    "product_name = []\n",
    "product_price = []\n",
    "product_discount = []\n",
    "for i in range(len(results)):\n",
    "    badge_element = results[i].find('span', {'class': 'jm-badge'})\n",
    "    product_name.append(results[i].find('div',{'class':'plp-card-details-name line-clamp jm-body-xs jm-fc-primary-grey-80'}).get_text().strip())\n",
    "    product_price.append(results[i].find('span',{'class':'jm-heading-xxs jm-mb-xxs'}).get_text().strip())\n",
    "    if badge_element is not None:\n",
    "        text_inside_badge = badge_element.get_text().strip()\n",
    "        if text_inside_badge:  # Check if the text is not an empty string\n",
    "            product_discount.append(text_inside_badge)\n",
    "        else:\n",
    "            # Handle the case when the text is empty, e.g., set a default value\n",
    "            product_discount.append(\"None\")  # Replace \"No Discount\" with your desired default value\n",
    "    else:\n",
    "        # Handle the case when the element is not found, e.g., set a default value\n",
    "        product_discount.append(\"None\")"
   ]
  },
  {
   "cell_type": "code",
   "execution_count": 13,
   "id": "7093a395-4405-4613-b0cd-6a643e7215f3",
   "metadata": {
    "scrolled": true,
    "tags": []
   },
   "outputs": [
    {
     "data": {
      "text/plain": [
       "<span class=\"jm-badge\"> 18% OFF </span>"
      ]
     },
     "execution_count": 13,
     "metadata": {},
     "output_type": "execute_result"
    }
   ],
   "source": [
    "badge_element"
   ]
  },
  {
   "cell_type": "code",
   "execution_count": 142,
   "id": "fae10b7c-e357-428c-87fc-5e1259584438",
   "metadata": {
    "scrolled": true,
    "tags": []
   },
   "outputs": [
    {
     "data": {
      "text/plain": [
       "['₹97.00',\n",
       " '₹949.00',\n",
       " '₹96.00',\n",
       " '₹500.00',\n",
       " '₹60.00',\n",
       " '₹2299.00',\n",
       " '₹119.00',\n",
       " '₹50.00',\n",
       " '₹450.00',\n",
       " '₹243.00',\n",
       " '₹96.00',\n",
       " '₹799.00',\n",
       " '₹9.00',\n",
       " '₹98.00',\n",
       " '₹106.00',\n",
       " '₹715.00',\n",
       " '₹24.00',\n",
       " '₹2299.00',\n",
       " '₹13.00',\n",
       " '₹355.00',\n",
       " '₹32.00',\n",
       " '₹75.00',\n",
       " '₹189.00',\n",
       " '₹499.00',\n",
       " '₹115.00',\n",
       " '₹13.00',\n",
       " '₹99.00',\n",
       " '₹9.00',\n",
       " '₹379.00',\n",
       " '₹1799.00',\n",
       " '₹128.00',\n",
       " '₹96.00',\n",
       " '₹111.00',\n",
       " '₹82.00',\n",
       " '₹349.00',\n",
       " '₹889.00',\n",
       " '₹275.00',\n",
       " '₹300.00',\n",
       " '₹23.00',\n",
       " '₹38.00',\n",
       " '₹195.00',\n",
       " '₹283.00',\n",
       " '₹449.00',\n",
       " '₹98.00',\n",
       " '₹54.00',\n",
       " '₹101.00',\n",
       " '₹227.00',\n",
       " '₹69.00',\n",
       " '₹792.00',\n",
       " '₹5.00',\n",
       " '₹139.00',\n",
       " '₹78.00',\n",
       " '₹329.00',\n",
       " '₹390.00',\n",
       " '₹359.00',\n",
       " '₹275.00',\n",
       " '₹18.00',\n",
       " '₹26.00',\n",
       " '₹95.00',\n",
       " '₹17.00',\n",
       " '₹218.00',\n",
       " '₹69.00',\n",
       " '₹226.00',\n",
       " '₹102.00',\n",
       " '₹35.00',\n",
       " '₹38.00',\n",
       " '₹74.00',\n",
       " '₹69.00',\n",
       " '₹70.00',\n",
       " '₹240.00',\n",
       " '₹335.00',\n",
       " '₹369.00',\n",
       " '₹386.00',\n",
       " '₹71.00',\n",
       " '₹25.00',\n",
       " '₹716.00',\n",
       " '₹206.00',\n",
       " '₹46.00',\n",
       " '₹147.00',\n",
       " '₹121.00',\n",
       " '₹200.00',\n",
       " '₹1,275.00',\n",
       " '₹189.00',\n",
       " '₹106.00',\n",
       " '₹359.00',\n",
       " '₹145.00',\n",
       " '₹17.00',\n",
       " '₹114.00',\n",
       " '₹315.00',\n",
       " '₹79.00',\n",
       " '₹84.00',\n",
       " '₹66.00']"
      ]
     },
     "execution_count": 142,
     "metadata": {},
     "output_type": "execute_result"
    }
   ],
   "source": [
    "product_price"
   ]
  },
  {
   "cell_type": "code",
   "execution_count": 143,
   "id": "900f94f8-0ae1-4e66-b0db-732ffb2a4a7e",
   "metadata": {
    "scrolled": true,
    "tags": []
   },
   "outputs": [
    {
     "data": {
      "text/plain": [
       "['51% OFF',\n",
       " '44% OFF',\n",
       " '40% OFF',\n",
       " '31% OFF',\n",
       " 'None',\n",
       " '22% OFF',\n",
       " '48% OFF',\n",
       " '33% OFF',\n",
       " '25% OFF',\n",
       " '35% OFF',\n",
       " '21% OFF',\n",
       " '23% OFF',\n",
       " '10% OFF',\n",
       " '34% OFF',\n",
       " '33% OFF',\n",
       " '7% OFF',\n",
       " '14% OFF',\n",
       " '22% OFF',\n",
       " '7% OFF',\n",
       " '16% OFF',\n",
       " '23% OFF',\n",
       " '11% OFF',\n",
       " '38% OFF',\n",
       " '44% OFF',\n",
       " '14% OFF',\n",
       " '35% OFF',\n",
       " '50% OFF',\n",
       " '10% OFF',\n",
       " '24% OFF',\n",
       " '21% OFF',\n",
       " '35% OFF',\n",
       " '20% OFF',\n",
       " '25% OFF',\n",
       " '18% OFF',\n",
       " '22% OFF',\n",
       " '62% OFF',\n",
       " '50% OFF',\n",
       " '49% OFF',\n",
       " '34% OFF',\n",
       " '15% OFF',\n",
       " '22% OFF',\n",
       " '5% OFF',\n",
       " '64% OFF',\n",
       " '42% OFF',\n",
       " '6% OFF',\n",
       " '27% OFF',\n",
       " '24% OFF',\n",
       " '22% OFF',\n",
       " '10% OFF',\n",
       " 'None',\n",
       " '17% OFF',\n",
       " '22% OFF',\n",
       " '50% OFF',\n",
       " '18% OFF',\n",
       " '34% OFF',\n",
       " '3% OFF',\n",
       " '10% OFF',\n",
       " '35% OFF',\n",
       " '26% OFF',\n",
       " '51% OFF',\n",
       " '7% OFF',\n",
       " '31% OFF',\n",
       " '24% OFF',\n",
       " '43% OFF',\n",
       " '12% OFF',\n",
       " '15% OFF',\n",
       " '25% OFF',\n",
       " '54% OFF',\n",
       " '2% OFF',\n",
       " '40% OFF',\n",
       " '34% OFF',\n",
       " '26% OFF',\n",
       " '50% OFF',\n",
       " '15% OFF',\n",
       " '16% OFF',\n",
       " '7% OFF',\n",
       " '25% OFF',\n",
       " '8% OFF',\n",
       " '36% OFF',\n",
       " '28% OFF',\n",
       " '14% OFF',\n",
       " '7% OFF',\n",
       " '37% OFF',\n",
       " '40% OFF',\n",
       " '52% OFF',\n",
       " '25% OFF',\n",
       " '51% OFF',\n",
       " '21% OFF',\n",
       " '32% OFF',\n",
       " '7% OFF',\n",
       " '32% OFF',\n",
       " '33% OFF']"
      ]
     },
     "execution_count": 143,
     "metadata": {},
     "output_type": "execute_result"
    }
   ],
   "source": [
    "product_discount"
   ]
  },
  {
   "cell_type": "code",
   "execution_count": 144,
   "id": "de1a1e5a-885c-45e8-92e2-b94c73040ca6",
   "metadata": {
    "tags": []
   },
   "outputs": [],
   "source": [
    "data = {'Product Name':product_name,'Price':product_price,'Discount':product_discount}\n",
    "df = pd.DataFrame(data)"
   ]
  },
  {
   "cell_type": "code",
   "execution_count": 145,
   "id": "9b7d7ab4-480f-4bca-a54c-574da1a31c0b",
   "metadata": {
    "tags": []
   },
   "outputs": [],
   "source": [
    "df['Discount'] = df['Discount'].replace('None','0% OFF')"
   ]
  },
  {
   "cell_type": "code",
   "execution_count": 146,
   "id": "44c0cd9a-7852-4cda-bfa8-02c5ee6193fe",
   "metadata": {
    "tags": []
   },
   "outputs": [
    {
     "name": "stdout",
     "output_type": "stream",
     "text": [
      "₹1,275.00\n"
     ]
    }
   ],
   "source": [
    "print(df['Price'].min())"
   ]
  },
  {
   "cell_type": "code",
   "execution_count": 147,
   "id": "c456efdb-50d8-48f6-8c02-7c3595913225",
   "metadata": {
    "tags": []
   },
   "outputs": [
    {
     "data": {
      "text/html": [
       "<div>\n",
       "<style scoped>\n",
       "    .dataframe tbody tr th:only-of-type {\n",
       "        vertical-align: middle;\n",
       "    }\n",
       "\n",
       "    .dataframe tbody tr th {\n",
       "        vertical-align: top;\n",
       "    }\n",
       "\n",
       "    .dataframe thead th {\n",
       "        text-align: right;\n",
       "    }\n",
       "</style>\n",
       "<table border=\"1\" class=\"dataframe\">\n",
       "  <thead>\n",
       "    <tr style=\"text-align: right;\">\n",
       "      <th></th>\n",
       "      <th>Product Name</th>\n",
       "      <th>Price</th>\n",
       "      <th>Discount</th>\n",
       "    </tr>\n",
       "  </thead>\n",
       "  <tbody>\n",
       "    <tr>\n",
       "      <th>81</th>\n",
       "      <td>Ariel Matic Top Load Detergent Powder 4 kg (Ge...</td>\n",
       "      <td>₹1,275.00</td>\n",
       "      <td>7% OFF</td>\n",
       "    </tr>\n",
       "    <tr>\n",
       "      <th>45</th>\n",
       "      <td>Parle-G Gold Biscuits 1 kg</td>\n",
       "      <td>₹101.00</td>\n",
       "      <td>27% OFF</td>\n",
       "    </tr>\n",
       "    <tr>\n",
       "      <th>63</th>\n",
       "      <td>Lux Rose &amp; Vitamin E Soft Glowing Skin Soap Ba...</td>\n",
       "      <td>₹102.00</td>\n",
       "      <td>43% OFF</td>\n",
       "    </tr>\n",
       "    <tr>\n",
       "      <th>83</th>\n",
       "      <td>Lux Velvet Glow Jasmine &amp; Vitamin E Soap 150 g...</td>\n",
       "      <td>₹106.00</td>\n",
       "      <td>40% OFF</td>\n",
       "    </tr>\n",
       "    <tr>\n",
       "      <th>14</th>\n",
       "      <td>Saffola Active Pro Weight Watchers Rice Bran B...</td>\n",
       "      <td>₹106.00</td>\n",
       "      <td>33% OFF</td>\n",
       "    </tr>\n",
       "    <tr>\n",
       "      <th>...</th>\n",
       "      <td>...</td>\n",
       "      <td>...</td>\n",
       "      <td>...</td>\n",
       "    </tr>\n",
       "    <tr>\n",
       "      <th>10</th>\n",
       "      <td>Surf Excel Detergent Bar 200 g (Pack of 4)</td>\n",
       "      <td>₹96.00</td>\n",
       "      <td>21% OFF</td>\n",
       "    </tr>\n",
       "    <tr>\n",
       "      <th>0</th>\n",
       "      <td>Super Sarvottam Physically Refined Rice Bran O...</td>\n",
       "      <td>₹97.00</td>\n",
       "      <td>51% OFF</td>\n",
       "    </tr>\n",
       "    <tr>\n",
       "      <th>13</th>\n",
       "      <td>Kissan Fresh Tomato Ketchup 1.1 kg</td>\n",
       "      <td>₹98.00</td>\n",
       "      <td>34% OFF</td>\n",
       "    </tr>\n",
       "    <tr>\n",
       "      <th>43</th>\n",
       "      <td>Sunfeast Dark Fantasy Original Choco Filled Co...</td>\n",
       "      <td>₹98.00</td>\n",
       "      <td>42% OFF</td>\n",
       "    </tr>\n",
       "    <tr>\n",
       "      <th>26</th>\n",
       "      <td>Good Life Refined Sunflower Oil 1 L</td>\n",
       "      <td>₹99.00</td>\n",
       "      <td>50% OFF</td>\n",
       "    </tr>\n",
       "  </tbody>\n",
       "</table>\n",
       "<p>92 rows × 3 columns</p>\n",
       "</div>"
      ],
      "text/plain": [
       "                                         Product Name      Price Discount\n",
       "81  Ariel Matic Top Load Detergent Powder 4 kg (Ge...  ₹1,275.00   7% OFF\n",
       "45                         Parle-G Gold Biscuits 1 kg    ₹101.00  27% OFF\n",
       "63  Lux Rose & Vitamin E Soft Glowing Skin Soap Ba...    ₹102.00  43% OFF\n",
       "83  Lux Velvet Glow Jasmine & Vitamin E Soap 150 g...    ₹106.00  40% OFF\n",
       "14  Saffola Active Pro Weight Watchers Rice Bran B...    ₹106.00  33% OFF\n",
       "..                                                ...        ...      ...\n",
       "10         Surf Excel Detergent Bar 200 g (Pack of 4)     ₹96.00  21% OFF\n",
       "0   Super Sarvottam Physically Refined Rice Bran O...     ₹97.00  51% OFF\n",
       "13                 Kissan Fresh Tomato Ketchup 1.1 kg     ₹98.00  34% OFF\n",
       "43  Sunfeast Dark Fantasy Original Choco Filled Co...     ₹98.00  42% OFF\n",
       "26                Good Life Refined Sunflower Oil 1 L     ₹99.00  50% OFF\n",
       "\n",
       "[92 rows x 3 columns]"
      ]
     },
     "execution_count": 147,
     "metadata": {},
     "output_type": "execute_result"
    }
   ],
   "source": [
    "df_sorted = df.sort_values(by='Price',ascending=True)\n",
    "df_sorted"
   ]
  },
  {
   "cell_type": "code",
   "execution_count": 148,
   "id": "4a392ef9-632d-4070-b5a6-21cd286cead4",
   "metadata": {
    "tags": []
   },
   "outputs": [],
   "source": [
    "# Price C\n",
    "df['Price'] = df['Price'].str[1:]"
   ]
  },
  {
   "cell_type": "code",
   "execution_count": 149,
   "id": "f59a2224-53fb-44ab-af68-086f88d92e75",
   "metadata": {
    "tags": []
   },
   "outputs": [],
   "source": [
    "df['Price'] = df['Price'].str.replace(',', '').astype(float)"
   ]
  },
  {
   "cell_type": "code",
   "execution_count": 151,
   "id": "cbbeff8f-7cd4-45c4-81b3-86333078d852",
   "metadata": {
    "tags": []
   },
   "outputs": [
    {
     "data": {
      "text/html": [
       "<div>\n",
       "<style scoped>\n",
       "    .dataframe tbody tr th:only-of-type {\n",
       "        vertical-align: middle;\n",
       "    }\n",
       "\n",
       "    .dataframe tbody tr th {\n",
       "        vertical-align: top;\n",
       "    }\n",
       "\n",
       "    .dataframe thead th {\n",
       "        text-align: right;\n",
       "    }\n",
       "</style>\n",
       "<table border=\"1\" class=\"dataframe\">\n",
       "  <thead>\n",
       "    <tr style=\"text-align: right;\">\n",
       "      <th></th>\n",
       "      <th>Product Name</th>\n",
       "      <th>Price</th>\n",
       "      <th>Discount</th>\n",
       "    </tr>\n",
       "  </thead>\n",
       "  <tbody>\n",
       "    <tr>\n",
       "      <th>0</th>\n",
       "      <td>Super Sarvottam Physically Refined Rice Bran O...</td>\n",
       "      <td>97.0</td>\n",
       "      <td>51.0</td>\n",
       "    </tr>\n",
       "    <tr>\n",
       "      <th>1</th>\n",
       "      <td>MuscleBlaze Super Gainer XXL 1 Kg/2.2lb | Choc...</td>\n",
       "      <td>949.0</td>\n",
       "      <td>44.0</td>\n",
       "    </tr>\n",
       "    <tr>\n",
       "      <th>2</th>\n",
       "      <td>Priya Fortified With Vitamin A &amp; D Refined Sun...</td>\n",
       "      <td>96.0</td>\n",
       "      <td>40.0</td>\n",
       "    </tr>\n",
       "    <tr>\n",
       "      <th>3</th>\n",
       "      <td>Surf Excel Easy Wash Detergent Powder 5 kg</td>\n",
       "      <td>500.0</td>\n",
       "      <td>31.0</td>\n",
       "    </tr>\n",
       "    <tr>\n",
       "      <th>4</th>\n",
       "      <td>Bharat Chana Dal 1 Kg</td>\n",
       "      <td>60.0</td>\n",
       "      <td>0.0</td>\n",
       "    </tr>\n",
       "    <tr>\n",
       "      <th>...</th>\n",
       "      <td>...</td>\n",
       "      <td>...</td>\n",
       "      <td>...</td>\n",
       "    </tr>\n",
       "    <tr>\n",
       "      <th>87</th>\n",
       "      <td>Gemini Refined Sunflower Oil 1 L</td>\n",
       "      <td>114.0</td>\n",
       "      <td>21.0</td>\n",
       "    </tr>\n",
       "    <tr>\n",
       "      <th>88</th>\n",
       "      <td>Nivea Body Milk Nourishing Lotion 400 ml</td>\n",
       "      <td>315.0</td>\n",
       "      <td>32.0</td>\n",
       "    </tr>\n",
       "    <tr>\n",
       "      <th>89</th>\n",
       "      <td>Tide Naturals Lemon &amp; Chandan Detergent Powder...</td>\n",
       "      <td>79.0</td>\n",
       "      <td>7.0</td>\n",
       "    </tr>\n",
       "    <tr>\n",
       "      <th>90</th>\n",
       "      <td>Monster Energy Drink 350 ml</td>\n",
       "      <td>84.0</td>\n",
       "      <td>32.0</td>\n",
       "    </tr>\n",
       "    <tr>\n",
       "      <th>91</th>\n",
       "      <td>7Up 2.25 L</td>\n",
       "      <td>66.0</td>\n",
       "      <td>33.0</td>\n",
       "    </tr>\n",
       "  </tbody>\n",
       "</table>\n",
       "<p>92 rows × 3 columns</p>\n",
       "</div>"
      ],
      "text/plain": [
       "                                         Product Name  Price  Discount\n",
       "0   Super Sarvottam Physically Refined Rice Bran O...   97.0      51.0\n",
       "1   MuscleBlaze Super Gainer XXL 1 Kg/2.2lb | Choc...  949.0      44.0\n",
       "2   Priya Fortified With Vitamin A & D Refined Sun...   96.0      40.0\n",
       "3          Surf Excel Easy Wash Detergent Powder 5 kg  500.0      31.0\n",
       "4                               Bharat Chana Dal 1 Kg   60.0       0.0\n",
       "..                                                ...    ...       ...\n",
       "87                   Gemini Refined Sunflower Oil 1 L  114.0      21.0\n",
       "88           Nivea Body Milk Nourishing Lotion 400 ml  315.0      32.0\n",
       "89  Tide Naturals Lemon & Chandan Detergent Powder...   79.0       7.0\n",
       "90                        Monster Energy Drink 350 ml   84.0      32.0\n",
       "91                                         7Up 2.25 L   66.0      33.0\n",
       "\n",
       "[92 rows x 3 columns]"
      ]
     },
     "execution_count": 151,
     "metadata": {},
     "output_type": "execute_result"
    }
   ],
   "source": [
    "df"
   ]
  },
  {
   "cell_type": "code",
   "execution_count": 152,
   "id": "06b50ebe-31a1-456e-ae6f-648e2878cc09",
   "metadata": {
    "tags": []
   },
   "outputs": [],
   "source": [
    "df['Original Price'] = df['Price'] / (1 - df['Discount']/100)\n",
    "df['Original Price'] = round(df['Original Price'])"
   ]
  },
  {
   "cell_type": "code",
   "execution_count": 153,
   "id": "acec6d23-71ce-424e-9013-f7f28c2adc92",
   "metadata": {
    "tags": []
   },
   "outputs": [
    {
     "data": {
      "text/html": [
       "<div>\n",
       "<style scoped>\n",
       "    .dataframe tbody tr th:only-of-type {\n",
       "        vertical-align: middle;\n",
       "    }\n",
       "\n",
       "    .dataframe tbody tr th {\n",
       "        vertical-align: top;\n",
       "    }\n",
       "\n",
       "    .dataframe thead th {\n",
       "        text-align: right;\n",
       "    }\n",
       "</style>\n",
       "<table border=\"1\" class=\"dataframe\">\n",
       "  <thead>\n",
       "    <tr style=\"text-align: right;\">\n",
       "      <th></th>\n",
       "      <th>Product Name</th>\n",
       "      <th>Price</th>\n",
       "      <th>Discount</th>\n",
       "      <th>Original Price</th>\n",
       "    </tr>\n",
       "  </thead>\n",
       "  <tbody>\n",
       "    <tr>\n",
       "      <th>0</th>\n",
       "      <td>Super Sarvottam Physically Refined Rice Bran O...</td>\n",
       "      <td>97.0</td>\n",
       "      <td>51.0</td>\n",
       "      <td>198.0</td>\n",
       "    </tr>\n",
       "    <tr>\n",
       "      <th>1</th>\n",
       "      <td>MuscleBlaze Super Gainer XXL 1 Kg/2.2lb | Choc...</td>\n",
       "      <td>949.0</td>\n",
       "      <td>44.0</td>\n",
       "      <td>1695.0</td>\n",
       "    </tr>\n",
       "    <tr>\n",
       "      <th>2</th>\n",
       "      <td>Priya Fortified With Vitamin A &amp; D Refined Sun...</td>\n",
       "      <td>96.0</td>\n",
       "      <td>40.0</td>\n",
       "      <td>160.0</td>\n",
       "    </tr>\n",
       "    <tr>\n",
       "      <th>3</th>\n",
       "      <td>Surf Excel Easy Wash Detergent Powder 5 kg</td>\n",
       "      <td>500.0</td>\n",
       "      <td>31.0</td>\n",
       "      <td>725.0</td>\n",
       "    </tr>\n",
       "    <tr>\n",
       "      <th>4</th>\n",
       "      <td>Bharat Chana Dal 1 Kg</td>\n",
       "      <td>60.0</td>\n",
       "      <td>0.0</td>\n",
       "      <td>60.0</td>\n",
       "    </tr>\n",
       "    <tr>\n",
       "      <th>...</th>\n",
       "      <td>...</td>\n",
       "      <td>...</td>\n",
       "      <td>...</td>\n",
       "      <td>...</td>\n",
       "    </tr>\n",
       "    <tr>\n",
       "      <th>87</th>\n",
       "      <td>Gemini Refined Sunflower Oil 1 L</td>\n",
       "      <td>114.0</td>\n",
       "      <td>21.0</td>\n",
       "      <td>144.0</td>\n",
       "    </tr>\n",
       "    <tr>\n",
       "      <th>88</th>\n",
       "      <td>Nivea Body Milk Nourishing Lotion 400 ml</td>\n",
       "      <td>315.0</td>\n",
       "      <td>32.0</td>\n",
       "      <td>463.0</td>\n",
       "    </tr>\n",
       "    <tr>\n",
       "      <th>89</th>\n",
       "      <td>Tide Naturals Lemon &amp; Chandan Detergent Powder...</td>\n",
       "      <td>79.0</td>\n",
       "      <td>7.0</td>\n",
       "      <td>85.0</td>\n",
       "    </tr>\n",
       "    <tr>\n",
       "      <th>90</th>\n",
       "      <td>Monster Energy Drink 350 ml</td>\n",
       "      <td>84.0</td>\n",
       "      <td>32.0</td>\n",
       "      <td>124.0</td>\n",
       "    </tr>\n",
       "    <tr>\n",
       "      <th>91</th>\n",
       "      <td>7Up 2.25 L</td>\n",
       "      <td>66.0</td>\n",
       "      <td>33.0</td>\n",
       "      <td>99.0</td>\n",
       "    </tr>\n",
       "  </tbody>\n",
       "</table>\n",
       "<p>92 rows × 4 columns</p>\n",
       "</div>"
      ],
      "text/plain": [
       "                                         Product Name  Price  Discount  \\\n",
       "0   Super Sarvottam Physically Refined Rice Bran O...   97.0      51.0   \n",
       "1   MuscleBlaze Super Gainer XXL 1 Kg/2.2lb | Choc...  949.0      44.0   \n",
       "2   Priya Fortified With Vitamin A & D Refined Sun...   96.0      40.0   \n",
       "3          Surf Excel Easy Wash Detergent Powder 5 kg  500.0      31.0   \n",
       "4                               Bharat Chana Dal 1 Kg   60.0       0.0   \n",
       "..                                                ...    ...       ...   \n",
       "87                   Gemini Refined Sunflower Oil 1 L  114.0      21.0   \n",
       "88           Nivea Body Milk Nourishing Lotion 400 ml  315.0      32.0   \n",
       "89  Tide Naturals Lemon & Chandan Detergent Powder...   79.0       7.0   \n",
       "90                        Monster Energy Drink 350 ml   84.0      32.0   \n",
       "91                                         7Up 2.25 L   66.0      33.0   \n",
       "\n",
       "    Original Price  \n",
       "0            198.0  \n",
       "1           1695.0  \n",
       "2            160.0  \n",
       "3            725.0  \n",
       "4             60.0  \n",
       "..             ...  \n",
       "87           144.0  \n",
       "88           463.0  \n",
       "89            85.0  \n",
       "90           124.0  \n",
       "91            99.0  \n",
       "\n",
       "[92 rows x 4 columns]"
      ]
     },
     "execution_count": 153,
     "metadata": {},
     "output_type": "execute_result"
    }
   ],
   "source": [
    "df"
   ]
  },
  {
   "cell_type": "code",
   "execution_count": 158,
   "id": "265c85dd-9d2e-4025-bbe3-542a4204c991",
   "metadata": {
    "tags": []
   },
   "outputs": [],
   "source": [
    "sorted_dff = df.sort_values(by='Price',ascending=True)"
   ]
  },
  {
   "cell_type": "code",
   "execution_count": 163,
   "id": "0110c5ec-cfd2-4901-a0f4-1a2425c8503d",
   "metadata": {
    "tags": []
   },
   "outputs": [
    {
     "data": {
      "text/plain": [
       "5.0"
      ]
     },
     "execution_count": 163,
     "metadata": {},
     "output_type": "execute_result"
    }
   ],
   "source": [
    "sorted_dff['Price'].min()"
   ]
  },
  {
   "cell_type": "code",
   "execution_count": 164,
   "id": "fce3ae60-c992-4911-86c7-17c5942db191",
   "metadata": {
    "tags": []
   },
   "outputs": [
    {
     "data": {
      "text/html": [
       "<div>\n",
       "<style scoped>\n",
       "    .dataframe tbody tr th:only-of-type {\n",
       "        vertical-align: middle;\n",
       "    }\n",
       "\n",
       "    .dataframe tbody tr th {\n",
       "        vertical-align: top;\n",
       "    }\n",
       "\n",
       "    .dataframe thead th {\n",
       "        text-align: right;\n",
       "    }\n",
       "</style>\n",
       "<table border=\"1\" class=\"dataframe\">\n",
       "  <thead>\n",
       "    <tr style=\"text-align: right;\">\n",
       "      <th></th>\n",
       "      <th>Product Name</th>\n",
       "      <th>Price</th>\n",
       "      <th>Discount</th>\n",
       "      <th>Original Price</th>\n",
       "    </tr>\n",
       "  </thead>\n",
       "  <tbody>\n",
       "    <tr>\n",
       "      <th>49</th>\n",
       "      <td>Vim Lemon Dishwash Bar 60 g</td>\n",
       "      <td>5.0</td>\n",
       "      <td>0.0</td>\n",
       "      <td>5.0</td>\n",
       "    </tr>\n",
       "    <tr>\n",
       "      <th>12</th>\n",
       "      <td>Rin Detergent Bar 110 g</td>\n",
       "      <td>9.0</td>\n",
       "      <td>10.0</td>\n",
       "      <td>10.0</td>\n",
       "    </tr>\n",
       "    <tr>\n",
       "      <th>27</th>\n",
       "      <td>Surf Excel Detergent Bar 80 g</td>\n",
       "      <td>9.0</td>\n",
       "      <td>10.0</td>\n",
       "      <td>10.0</td>\n",
       "    </tr>\n",
       "    <tr>\n",
       "      <th>25</th>\n",
       "      <td>Bisleri Soda 750 ml</td>\n",
       "      <td>13.0</td>\n",
       "      <td>35.0</td>\n",
       "      <td>20.0</td>\n",
       "    </tr>\n",
       "    <tr>\n",
       "      <th>18</th>\n",
       "      <td>Maggi 2-Minute Masala Noodles 70 g</td>\n",
       "      <td>13.0</td>\n",
       "      <td>7.0</td>\n",
       "      <td>14.0</td>\n",
       "    </tr>\n",
       "    <tr>\n",
       "      <th>...</th>\n",
       "      <td>...</td>\n",
       "      <td>...</td>\n",
       "      <td>...</td>\n",
       "      <td>...</td>\n",
       "    </tr>\n",
       "    <tr>\n",
       "      <th>1</th>\n",
       "      <td>MuscleBlaze Super Gainer XXL 1 Kg/2.2lb | Choc...</td>\n",
       "      <td>949.0</td>\n",
       "      <td>44.0</td>\n",
       "      <td>1695.0</td>\n",
       "    </tr>\n",
       "    <tr>\n",
       "      <th>81</th>\n",
       "      <td>Ariel Matic Top Load Detergent Powder 4 kg (Ge...</td>\n",
       "      <td>1275.0</td>\n",
       "      <td>7.0</td>\n",
       "      <td>1371.0</td>\n",
       "    </tr>\n",
       "    <tr>\n",
       "      <th>29</th>\n",
       "      <td>MuscleBlaze Raw Whey Protein Concentrate 80% w...</td>\n",
       "      <td>1799.0</td>\n",
       "      <td>21.0</td>\n",
       "      <td>2277.0</td>\n",
       "    </tr>\n",
       "    <tr>\n",
       "      <th>17</th>\n",
       "      <td>MuscleBlaze Biozyme Performance Whey Protein 1...</td>\n",
       "      <td>2299.0</td>\n",
       "      <td>22.0</td>\n",
       "      <td>2947.0</td>\n",
       "    </tr>\n",
       "    <tr>\n",
       "      <th>5</th>\n",
       "      <td>MuscleBlaze Biozyme Performance Whey Protein |...</td>\n",
       "      <td>2299.0</td>\n",
       "      <td>22.0</td>\n",
       "      <td>2947.0</td>\n",
       "    </tr>\n",
       "  </tbody>\n",
       "</table>\n",
       "<p>92 rows × 4 columns</p>\n",
       "</div>"
      ],
      "text/plain": [
       "                                         Product Name   Price  Discount  \\\n",
       "49                        Vim Lemon Dishwash Bar 60 g     5.0       0.0   \n",
       "12                            Rin Detergent Bar 110 g     9.0      10.0   \n",
       "27                      Surf Excel Detergent Bar 80 g     9.0      10.0   \n",
       "25                                Bisleri Soda 750 ml    13.0      35.0   \n",
       "18                 Maggi 2-Minute Masala Noodles 70 g    13.0       7.0   \n",
       "..                                                ...     ...       ...   \n",
       "1   MuscleBlaze Super Gainer XXL 1 Kg/2.2lb | Choc...   949.0      44.0   \n",
       "81  Ariel Matic Top Load Detergent Powder 4 kg (Ge...  1275.0       7.0   \n",
       "29  MuscleBlaze Raw Whey Protein Concentrate 80% w...  1799.0      21.0   \n",
       "17  MuscleBlaze Biozyme Performance Whey Protein 1...  2299.0      22.0   \n",
       "5   MuscleBlaze Biozyme Performance Whey Protein |...  2299.0      22.0   \n",
       "\n",
       "    Original Price  \n",
       "49             5.0  \n",
       "12            10.0  \n",
       "27            10.0  \n",
       "25            20.0  \n",
       "18            14.0  \n",
       "..             ...  \n",
       "1           1695.0  \n",
       "81          1371.0  \n",
       "29          2277.0  \n",
       "17          2947.0  \n",
       "5           2947.0  \n",
       "\n",
       "[92 rows x 4 columns]"
      ]
     },
     "execution_count": 164,
     "metadata": {},
     "output_type": "execute_result"
    }
   ],
   "source": [
    "sorted_dff"
   ]
  },
  {
   "cell_type": "code",
   "execution_count": 165,
   "id": "614a2ae6-4603-4694-99e3-8c1d4e71b07a",
   "metadata": {
    "tags": []
   },
   "outputs": [],
   "source": [
    "sorted_dff.to_csv('Jiomart_groceries.csv',index=False)"
   ]
  }
 ],
 "metadata": {
  "kernelspec": {
   "display_name": "Python 3 (ipykernel)",
   "language": "python",
   "name": "python3"
  },
  "language_info": {
   "codemirror_mode": {
    "name": "ipython",
    "version": 3
   },
   "file_extension": ".py",
   "mimetype": "text/x-python",
   "name": "python",
   "nbconvert_exporter": "python",
   "pygments_lexer": "ipython3",
   "version": "3.11.5"
  }
 },
 "nbformat": 4,
 "nbformat_minor": 5
}
