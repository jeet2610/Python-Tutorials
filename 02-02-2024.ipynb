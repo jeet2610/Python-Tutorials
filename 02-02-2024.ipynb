{
 "cells": [
  {
   "cell_type": "code",
   "execution_count": 1,
   "id": "522eef7f-e34b-4d89-8f92-ac97fadbdcc8",
   "metadata": {
    "tags": []
   },
   "outputs": [],
   "source": [
    "from bs4 import BeautifulSoup\n",
    "import requests\n",
    "import pandas as pd\n",
    "import numpy as np\n",
    "\n"
   ]
  },
  {
   "cell_type": "code",
   "execution_count": 2,
   "id": "32a14375-ee3c-4e7c-a532-ce3db2ba8e62",
   "metadata": {
    "tags": []
   },
   "outputs": [],
   "source": [
    "# Functions to extract\n",
    "\n",
    "def get_title(new_soup):\n",
    "    try:\n",
    "        title = new_soup.find(\"span\",attrs={'id':'productTitle'})        \n",
    "        title_string = title.text.strip()\n",
    "        \n",
    "    except AttributeError:\n",
    "        title_string = \"\"\n",
    "    \n",
    "    return title_string\n",
    "\n",
    "def get_price(new_soup):\n",
    "    try:\n",
    "        price = new_soup.find('span',attrs={'class':'a-price-whole'})\n",
    "        price_string = price.text.strip()\n",
    "    except AttributeError:\n",
    "        price_string = \"\"\n",
    "    \n",
    "    return price_string\n",
    "\n",
    "def get_ratings(new_soup):\n",
    "    try:\n",
    "        ratings = new_soup.find('span',attrs={'class':'a-icon-alt'})\n",
    "        ratings_string = ratings.text[:3].strip()\n",
    "    except AttributeError:\n",
    "        ratings_string = \"\"\n",
    "        \n",
    "    return ratings_string\n"
   ]
  },
  {
   "cell_type": "code",
   "execution_count": 30,
   "id": "d0558e46-0b76-4dc3-98f8-b17bc378a160",
   "metadata": {
    "tags": []
   },
   "outputs": [
    {
     "name": "stdout",
     "output_type": "stream",
     "text": [
      "200\n"
     ]
    }
   ],
   "source": [
    "URL = 'https://www.amazon.in/s?k=laptops&crid=UZ00B569QE69&sprefix=laptop%2Caps%2C257&ref=nb_sb_noss_1'\n",
    "\n",
    "# Headers for requets\n",
    "user_agent = 'Mozilla/5.0 (Linux; Android 6.0; Nexus 5 Build/MRA58N) AppleWebKit/537.36 (KHTML, like Gecko) Chrome/121.0.0.0 Mobile Safari/537.36'\n",
    "HEADERS = ({'User-Agent':user_agent,'Accept-Language':'en-IN,en;q=0.9,hi-IN;q=0.8,hi;q=0.7,en-GB;q=0.6,en-US;q=0.5,gu;q=0.4',\n",
    "           'Connection':'keep-alive',\n",
    "            'Timing-Allow-Origin':'https://www.amazon.in'\n",
    "})\n",
    "# Http Requests\n",
    "\n",
    "webpage = requests.get(URL,headers = HEADERS)\n",
    "print(webpage.status_code)\n",
    "links_list = []"
   ]
  },
  {
   "cell_type": "code",
   "execution_count": 31,
   "id": "9d8e6832-8d7c-4713-bd57-f8794641f706",
   "metadata": {
    "tags": []
   },
   "outputs": [
    {
     "data": {
      "text/plain": [
       "200"
      ]
     },
     "execution_count": 31,
     "metadata": {},
     "output_type": "execute_result"
    }
   ],
   "source": [
    "webpage.status_code"
   ]
  },
  {
   "cell_type": "code",
   "execution_count": 32,
   "id": "d59ec980-1f21-435f-aa8c-ef4a56f2af4f",
   "metadata": {
    "tags": []
   },
   "outputs": [],
   "source": [
    "webpage = requests.get(URL, headers=HEADERS)\n",
    "soup = BeautifulSoup(webpage.content, \"html.parser\")\n",
    "\n",
    "links = soup.find_all(\"a\", attrs={'class':'a-link-normal'})\n",
    "\n",
    "# Looping to get seperate links in LIST\n",
    "for link in links:\n",
    "    links_list.append(link.get('href'))\n"
   ]
  },
  {
   "cell_type": "code",
   "execution_count": 33,
   "id": "15f9355f-1f09-424c-a465-f8f6d11548dd",
   "metadata": {
    "tags": []
   },
   "outputs": [],
   "source": [
    "# print(links_list)\n",
    "# Empty Dictionary\n",
    "d = {'title':[],'price':[],'ratings':[]}"
   ]
  },
  {
   "cell_type": "code",
   "execution_count": 45,
   "id": "1af65867-1172-4905-afa6-e3348473bdc5",
   "metadata": {
    "tags": []
   },
   "outputs": [
    {
     "name": "stdout",
     "output_type": "stream",
     "text": [
      "b'<html>\\n<head>\\n<title>503 - Service Unavailable Error</title>\\n</head>\\n<body bgcolor=\"#FFFFFF\" text=\"#000000\">\\n\\n<!--\\n        To discuss automated access to Amazon data please contact api-services-support@amazon.com.\\n        For information about migrating to our APIs refer to our Marketplace APIs at https://developer.amazonservices.in/ref=rm_5_sv, or our Product Advertising API at https://affiliate-program.amazon.in/gp/advertising/api/detail/main.html/ref=rm_5_ac for advertising use cases.\\n-->\\n\\n<center>\\n<a href=\"https://www.amazon.in/ref=cs_503_logo/\">\\n<img src=\"https://images-eu.ssl-images-amazon.com/images/G/31/x-locale/communities/people/logo.gif\" width=200 height=45 alt=\"Amazon.in\" border=0></a>\\n<p align=center>\\n<font face=\"Verdana,Arial,Helvetica\">\\n<font size=\"+2\" color=\"#CC6600\"><b>Oops!</b></font><br>\\n<b>It\\'s rush hour and traffic is piling up on that page. Please try again in a short while.<br>If you were trying to place an order, it will not have been processed at this time.</b><p>\\n\\n<img src=\"https://images-eu.ssl-images-amazon.com/images/G/02/x-locale/common/orange-arrow.gif\" width=10 height=9 border=0 alt=\"*\">\\n<b><a href=\"https://www.amazon.in/ref=cs_503_link/\">Go to the Amazon.in home page to continue shopping</a></b>\\n</font>\\n\\n</center>\\n</body>\\n</html>\\n'\n",
      "b'<html>\\n<head>\\n<title>503 - Service Unavailable Error</title>\\n</head>\\n<body bgcolor=\"#FFFFFF\" text=\"#000000\">\\n\\n<!--\\n        To discuss automated access to Amazon data please contact api-services-support@amazon.com.\\n        For information about migrating to our APIs refer to our Marketplace APIs at https://developer.amazonservices.in/ref=rm_5_sv, or our Product Advertising API at https://affiliate-program.amazon.in/gp/advertising/api/detail/main.html/ref=rm_5_ac for advertising use cases.\\n-->\\n\\n<center>\\n<a href=\"https://www.amazon.in/ref=cs_503_logo/\">\\n<img src=\"https://images-eu.ssl-images-amazon.com/images/G/31/x-locale/communities/people/logo.gif\" width=200 height=45 alt=\"Amazon.in\" border=0></a>\\n<p align=center>\\n<font face=\"Verdana,Arial,Helvetica\">\\n<font size=\"+2\" color=\"#CC6600\"><b>Oops!</b></font><br>\\n<b>It\\'s rush hour and traffic is piling up on that page. Please try again in a short while.<br>If you were trying to place an order, it will not have been processed at this time.</b><p>\\n\\n<img src=\"https://images-eu.ssl-images-amazon.com/images/G/02/x-locale/common/orange-arrow.gif\" width=10 height=9 border=0 alt=\"*\">\\n<b><a href=\"https://www.amazon.in/ref=cs_503_link/\">Go to the Amazon.in home page to continue shopping</a></b>\\n</font>\\n\\n</center>\\n</body>\\n</html>\\n'\n",
      "b'<html>\\n<head>\\n<title>503 - Service Unavailable Error</title>\\n</head>\\n<body bgcolor=\"#FFFFFF\" text=\"#000000\">\\n\\n<!--\\n        To discuss automated access to Amazon data please contact api-services-support@amazon.com.\\n        For information about migrating to our APIs refer to our Marketplace APIs at https://developer.amazonservices.in/ref=rm_5_sv, or our Product Advertising API at https://affiliate-program.amazon.in/gp/advertising/api/detail/main.html/ref=rm_5_ac for advertising use cases.\\n-->\\n\\n<center>\\n<a href=\"https://www.amazon.in/ref=cs_503_logo/\">\\n<img src=\"https://images-eu.ssl-images-amazon.com/images/G/31/x-locale/communities/people/logo.gif\" width=200 height=45 alt=\"Amazon.in\" border=0></a>\\n<p align=center>\\n<font face=\"Verdana,Arial,Helvetica\">\\n<font size=\"+2\" color=\"#CC6600\"><b>Oops!</b></font><br>\\n<b>It\\'s rush hour and traffic is piling up on that page. Please try again in a short while.<br>If you were trying to place an order, it will not have been processed at this time.</b><p>\\n\\n<img src=\"https://images-eu.ssl-images-amazon.com/images/G/02/x-locale/common/orange-arrow.gif\" width=10 height=9 border=0 alt=\"*\">\\n<b><a href=\"https://www.amazon.in/ref=cs_503_link/\">Go to the Amazon.in home page to continue shopping</a></b>\\n</font>\\n\\n</center>\\n</body>\\n</html>\\n'\n",
      "b'<html>\\n<head>\\n<title>503 - Service Unavailable Error</title>\\n</head>\\n<body bgcolor=\"#FFFFFF\" text=\"#000000\">\\n\\n<!--\\n        To discuss automated access to Amazon data please contact api-services-support@amazon.com.\\n        For information about migrating to our APIs refer to our Marketplace APIs at https://developer.amazonservices.in/ref=rm_5_sv, or our Product Advertising API at https://affiliate-program.amazon.in/gp/advertising/api/detail/main.html/ref=rm_5_ac for advertising use cases.\\n-->\\n\\n<center>\\n<a href=\"https://www.amazon.in/ref=cs_503_logo/\">\\n<img src=\"https://images-eu.ssl-images-amazon.com/images/G/31/x-locale/communities/people/logo.gif\" width=200 height=45 alt=\"Amazon.in\" border=0></a>\\n<p align=center>\\n<font face=\"Verdana,Arial,Helvetica\">\\n<font size=\"+2\" color=\"#CC6600\"><b>Oops!</b></font><br>\\n<b>It\\'s rush hour and traffic is piling up on that page. Please try again in a short while.<br>If you were trying to place an order, it will not have been processed at this time.</b><p>\\n\\n<img src=\"https://images-eu.ssl-images-amazon.com/images/G/02/x-locale/common/orange-arrow.gif\" width=10 height=9 border=0 alt=\"*\">\\n<b><a href=\"https://www.amazon.in/ref=cs_503_link/\">Go to the Amazon.in home page to continue shopping</a></b>\\n</font>\\n\\n</center>\\n</body>\\n</html>\\n'\n",
      "b'<html>\\n<head>\\n<title>503 - Service Unavailable Error</title>\\n</head>\\n<body bgcolor=\"#FFFFFF\" text=\"#000000\">\\n\\n<!--\\n        To discuss automated access to Amazon data please contact api-services-support@amazon.com.\\n        For information about migrating to our APIs refer to our Marketplace APIs at https://developer.amazonservices.in/ref=rm_5_sv, or our Product Advertising API at https://affiliate-program.amazon.in/gp/advertising/api/detail/main.html/ref=rm_5_ac for advertising use cases.\\n-->\\n\\n<center>\\n<a href=\"https://www.amazon.in/ref=cs_503_logo/\">\\n<img src=\"https://images-eu.ssl-images-amazon.com/images/G/31/x-locale/communities/people/logo.gif\" width=200 height=45 alt=\"Amazon.in\" border=0></a>\\n<p align=center>\\n<font face=\"Verdana,Arial,Helvetica\">\\n<font size=\"+2\" color=\"#CC6600\"><b>Oops!</b></font><br>\\n<b>It\\'s rush hour and traffic is piling up on that page. Please try again in a short while.<br>If you were trying to place an order, it will not have been processed at this time.</b><p>\\n\\n<img src=\"https://images-eu.ssl-images-amazon.com/images/G/02/x-locale/common/orange-arrow.gif\" width=10 height=9 border=0 alt=\"*\">\\n<b><a href=\"https://www.amazon.in/ref=cs_503_link/\">Go to the Amazon.in home page to continue shopping</a></b>\\n</font>\\n\\n</center>\\n</body>\\n</html>\\n'\n",
      "b'<html>\\n<head>\\n<title>503 - Service Unavailable Error</title>\\n</head>\\n<body bgcolor=\"#FFFFFF\" text=\"#000000\">\\n\\n<!--\\n        To discuss automated access to Amazon data please contact api-services-support@amazon.com.\\n        For information about migrating to our APIs refer to our Marketplace APIs at https://developer.amazonservices.in/ref=rm_5_sv, or our Product Advertising API at https://affiliate-program.amazon.in/gp/advertising/api/detail/main.html/ref=rm_5_ac for advertising use cases.\\n-->\\n\\n<center>\\n<a href=\"https://www.amazon.in/ref=cs_503_logo/\">\\n<img src=\"https://images-eu.ssl-images-amazon.com/images/G/31/x-locale/communities/people/logo.gif\" width=200 height=45 alt=\"Amazon.in\" border=0></a>\\n<p align=center>\\n<font face=\"Verdana,Arial,Helvetica\">\\n<font size=\"+2\" color=\"#CC6600\"><b>Oops!</b></font><br>\\n<b>It\\'s rush hour and traffic is piling up on that page. Please try again in a short while.<br>If you were trying to place an order, it will not have been processed at this time.</b><p>\\n\\n<img src=\"https://images-eu.ssl-images-amazon.com/images/G/02/x-locale/common/orange-arrow.gif\" width=10 height=9 border=0 alt=\"*\">\\n<b><a href=\"https://www.amazon.in/ref=cs_503_link/\">Go to the Amazon.in home page to continue shopping</a></b>\\n</font>\\n\\n</center>\\n</body>\\n</html>\\n'\n",
      "b'<html>\\n<head>\\n<title>503 - Service Unavailable Error</title>\\n</head>\\n<body bgcolor=\"#FFFFFF\" text=\"#000000\">\\n\\n<!--\\n        To discuss automated access to Amazon data please contact api-services-support@amazon.com.\\n        For information about migrating to our APIs refer to our Marketplace APIs at https://developer.amazonservices.in/ref=rm_5_sv, or our Product Advertising API at https://affiliate-program.amazon.in/gp/advertising/api/detail/main.html/ref=rm_5_ac for advertising use cases.\\n-->\\n\\n<center>\\n<a href=\"https://www.amazon.in/ref=cs_503_logo/\">\\n<img src=\"https://images-eu.ssl-images-amazon.com/images/G/31/x-locale/communities/people/logo.gif\" width=200 height=45 alt=\"Amazon.in\" border=0></a>\\n<p align=center>\\n<font face=\"Verdana,Arial,Helvetica\">\\n<font size=\"+2\" color=\"#CC6600\"><b>Oops!</b></font><br>\\n<b>It\\'s rush hour and traffic is piling up on that page. Please try again in a short while.<br>If you were trying to place an order, it will not have been processed at this time.</b><p>\\n\\n<img src=\"https://images-eu.ssl-images-amazon.com/images/G/02/x-locale/common/orange-arrow.gif\" width=10 height=9 border=0 alt=\"*\">\\n<b><a href=\"https://www.amazon.in/ref=cs_503_link/\">Go to the Amazon.in home page to continue shopping</a></b>\\n</font>\\n\\n</center>\\n</body>\\n</html>\\n'\n",
      "b'<html>\\n<head>\\n<title>503 - Service Unavailable Error</title>\\n</head>\\n<body bgcolor=\"#FFFFFF\" text=\"#000000\">\\n\\n<!--\\n        To discuss automated access to Amazon data please contact api-services-support@amazon.com.\\n        For information about migrating to our APIs refer to our Marketplace APIs at https://developer.amazonservices.in/ref=rm_5_sv, or our Product Advertising API at https://affiliate-program.amazon.in/gp/advertising/api/detail/main.html/ref=rm_5_ac for advertising use cases.\\n-->\\n\\n<center>\\n<a href=\"https://www.amazon.in/ref=cs_503_logo/\">\\n<img src=\"https://images-eu.ssl-images-amazon.com/images/G/31/x-locale/communities/people/logo.gif\" width=200 height=45 alt=\"Amazon.in\" border=0></a>\\n<p align=center>\\n<font face=\"Verdana,Arial,Helvetica\">\\n<font size=\"+2\" color=\"#CC6600\"><b>Oops!</b></font><br>\\n<b>It\\'s rush hour and traffic is piling up on that page. Please try again in a short while.<br>If you were trying to place an order, it will not have been processed at this time.</b><p>\\n\\n<img src=\"https://images-eu.ssl-images-amazon.com/images/G/02/x-locale/common/orange-arrow.gif\" width=10 height=9 border=0 alt=\"*\">\\n<b><a href=\"https://www.amazon.in/ref=cs_503_link/\">Go to the Amazon.in home page to continue shopping</a></b>\\n</font>\\n\\n</center>\\n</body>\\n</html>\\n'\n",
      "b'<html>\\n<head>\\n<title>503 - Service Unavailable Error</title>\\n</head>\\n<body bgcolor=\"#FFFFFF\" text=\"#000000\">\\n\\n<!--\\n        To discuss automated access to Amazon data please contact api-services-support@amazon.com.\\n        For information about migrating to our APIs refer to our Marketplace APIs at https://developer.amazonservices.in/ref=rm_5_sv, or our Product Advertising API at https://affiliate-program.amazon.in/gp/advertising/api/detail/main.html/ref=rm_5_ac for advertising use cases.\\n-->\\n\\n<center>\\n<a href=\"https://www.amazon.in/ref=cs_503_logo/\">\\n<img src=\"https://images-eu.ssl-images-amazon.com/images/G/31/x-locale/communities/people/logo.gif\" width=200 height=45 alt=\"Amazon.in\" border=0></a>\\n<p align=center>\\n<font face=\"Verdana,Arial,Helvetica\">\\n<font size=\"+2\" color=\"#CC6600\"><b>Oops!</b></font><br>\\n<b>It\\'s rush hour and traffic is piling up on that page. Please try again in a short while.<br>If you were trying to place an order, it will not have been processed at this time.</b><p>\\n\\n<img src=\"https://images-eu.ssl-images-amazon.com/images/G/02/x-locale/common/orange-arrow.gif\" width=10 height=9 border=0 alt=\"*\">\\n<b><a href=\"https://www.amazon.in/ref=cs_503_link/\">Go to the Amazon.in home page to continue shopping</a></b>\\n</font>\\n\\n</center>\\n</body>\\n</html>\\n'\n",
      "b'<html>\\n<head>\\n<title>503 - Service Unavailable Error</title>\\n</head>\\n<body bgcolor=\"#FFFFFF\" text=\"#000000\">\\n\\n<!--\\n        To discuss automated access to Amazon data please contact api-services-support@amazon.com.\\n        For information about migrating to our APIs refer to our Marketplace APIs at https://developer.amazonservices.in/ref=rm_5_sv, or our Product Advertising API at https://affiliate-program.amazon.in/gp/advertising/api/detail/main.html/ref=rm_5_ac for advertising use cases.\\n-->\\n\\n<center>\\n<a href=\"https://www.amazon.in/ref=cs_503_logo/\">\\n<img src=\"https://images-eu.ssl-images-amazon.com/images/G/31/x-locale/communities/people/logo.gif\" width=200 height=45 alt=\"Amazon.in\" border=0></a>\\n<p align=center>\\n<font face=\"Verdana,Arial,Helvetica\">\\n<font size=\"+2\" color=\"#CC6600\"><b>Oops!</b></font><br>\\n<b>It\\'s rush hour and traffic is piling up on that page. Please try again in a short while.<br>If you were trying to place an order, it will not have been processed at this time.</b><p>\\n\\n<img src=\"https://images-eu.ssl-images-amazon.com/images/G/02/x-locale/common/orange-arrow.gif\" width=10 height=9 border=0 alt=\"*\">\\n<b><a href=\"https://www.amazon.in/ref=cs_503_link/\">Go to the Amazon.in home page to continue shopping</a></b>\\n</font>\\n\\n</center>\\n</body>\\n</html>\\n'\n",
      "b'<html>\\n<head>\\n<title>503 - Service Unavailable Error</title>\\n</head>\\n<body bgcolor=\"#FFFFFF\" text=\"#000000\">\\n\\n<!--\\n        To discuss automated access to Amazon data please contact api-services-support@amazon.com.\\n        For information about migrating to our APIs refer to our Marketplace APIs at https://developer.amazonservices.in/ref=rm_5_sv, or our Product Advertising API at https://affiliate-program.amazon.in/gp/advertising/api/detail/main.html/ref=rm_5_ac for advertising use cases.\\n-->\\n\\n<center>\\n<a href=\"https://www.amazon.in/ref=cs_503_logo/\">\\n<img src=\"https://images-eu.ssl-images-amazon.com/images/G/31/x-locale/communities/people/logo.gif\" width=200 height=45 alt=\"Amazon.in\" border=0></a>\\n<p align=center>\\n<font face=\"Verdana,Arial,Helvetica\">\\n<font size=\"+2\" color=\"#CC6600\"><b>Oops!</b></font><br>\\n<b>It\\'s rush hour and traffic is piling up on that page. Please try again in a short while.<br>If you were trying to place an order, it will not have been processed at this time.</b><p>\\n\\n<img src=\"https://images-eu.ssl-images-amazon.com/images/G/02/x-locale/common/orange-arrow.gif\" width=10 height=9 border=0 alt=\"*\">\\n<b><a href=\"https://www.amazon.in/ref=cs_503_link/\">Go to the Amazon.in home page to continue shopping</a></b>\\n</font>\\n\\n</center>\\n</body>\\n</html>\\n'\n",
      "b'<html>\\n<head>\\n<title>503 - Service Unavailable Error</title>\\n</head>\\n<body bgcolor=\"#FFFFFF\" text=\"#000000\">\\n\\n<!--\\n        To discuss automated access to Amazon data please contact api-services-support@amazon.com.\\n        For information about migrating to our APIs refer to our Marketplace APIs at https://developer.amazonservices.in/ref=rm_5_sv, or our Product Advertising API at https://affiliate-program.amazon.in/gp/advertising/api/detail/main.html/ref=rm_5_ac for advertising use cases.\\n-->\\n\\n<center>\\n<a href=\"https://www.amazon.in/ref=cs_503_logo/\">\\n<img src=\"https://images-eu.ssl-images-amazon.com/images/G/31/x-locale/communities/people/logo.gif\" width=200 height=45 alt=\"Amazon.in\" border=0></a>\\n<p align=center>\\n<font face=\"Verdana,Arial,Helvetica\">\\n<font size=\"+2\" color=\"#CC6600\"><b>Oops!</b></font><br>\\n<b>It\\'s rush hour and traffic is piling up on that page. Please try again in a short while.<br>If you were trying to place an order, it will not have been processed at this time.</b><p>\\n\\n<img src=\"https://images-eu.ssl-images-amazon.com/images/G/02/x-locale/common/orange-arrow.gif\" width=10 height=9 border=0 alt=\"*\">\\n<b><a href=\"https://www.amazon.in/ref=cs_503_link/\">Go to the Amazon.in home page to continue shopping</a></b>\\n</font>\\n\\n</center>\\n</body>\\n</html>\\n'\n",
      "b'<html>\\n<head>\\n<title>503 - Service Unavailable Error</title>\\n</head>\\n<body bgcolor=\"#FFFFFF\" text=\"#000000\">\\n\\n<!--\\n        To discuss automated access to Amazon data please contact api-services-support@amazon.com.\\n        For information about migrating to our APIs refer to our Marketplace APIs at https://developer.amazonservices.in/ref=rm_5_sv, or our Product Advertising API at https://affiliate-program.amazon.in/gp/advertising/api/detail/main.html/ref=rm_5_ac for advertising use cases.\\n-->\\n\\n<center>\\n<a href=\"https://www.amazon.in/ref=cs_503_logo/\">\\n<img src=\"https://images-eu.ssl-images-amazon.com/images/G/31/x-locale/communities/people/logo.gif\" width=200 height=45 alt=\"Amazon.in\" border=0></a>\\n<p align=center>\\n<font face=\"Verdana,Arial,Helvetica\">\\n<font size=\"+2\" color=\"#CC6600\"><b>Oops!</b></font><br>\\n<b>It\\'s rush hour and traffic is piling up on that page. Please try again in a short while.<br>If you were trying to place an order, it will not have been processed at this time.</b><p>\\n\\n<img src=\"https://images-eu.ssl-images-amazon.com/images/G/02/x-locale/common/orange-arrow.gif\" width=10 height=9 border=0 alt=\"*\">\\n<b><a href=\"https://www.amazon.in/ref=cs_503_link/\">Go to the Amazon.in home page to continue shopping</a></b>\\n</font>\\n\\n</center>\\n</body>\\n</html>\\n'\n",
      "b'<html>\\n<head>\\n<title>503 - Service Unavailable Error</title>\\n</head>\\n<body bgcolor=\"#FFFFFF\" text=\"#000000\">\\n\\n<!--\\n        To discuss automated access to Amazon data please contact api-services-support@amazon.com.\\n        For information about migrating to our APIs refer to our Marketplace APIs at https://developer.amazonservices.in/ref=rm_5_sv, or our Product Advertising API at https://affiliate-program.amazon.in/gp/advertising/api/detail/main.html/ref=rm_5_ac for advertising use cases.\\n-->\\n\\n<center>\\n<a href=\"https://www.amazon.in/ref=cs_503_logo/\">\\n<img src=\"https://images-eu.ssl-images-amazon.com/images/G/31/x-locale/communities/people/logo.gif\" width=200 height=45 alt=\"Amazon.in\" border=0></a>\\n<p align=center>\\n<font face=\"Verdana,Arial,Helvetica\">\\n<font size=\"+2\" color=\"#CC6600\"><b>Oops!</b></font><br>\\n<b>It\\'s rush hour and traffic is piling up on that page. Please try again in a short while.<br>If you were trying to place an order, it will not have been processed at this time.</b><p>\\n\\n<img src=\"https://images-eu.ssl-images-amazon.com/images/G/02/x-locale/common/orange-arrow.gif\" width=10 height=9 border=0 alt=\"*\">\\n<b><a href=\"https://www.amazon.in/ref=cs_503_link/\">Go to the Amazon.in home page to continue shopping</a></b>\\n</font>\\n\\n</center>\\n</body>\\n</html>\\n'\n",
      "b'<html>\\n<head>\\n<title>503 - Service Unavailable Error</title>\\n</head>\\n<body bgcolor=\"#FFFFFF\" text=\"#000000\">\\n\\n<!--\\n        To discuss automated access to Amazon data please contact api-services-support@amazon.com.\\n        For information about migrating to our APIs refer to our Marketplace APIs at https://developer.amazonservices.in/ref=rm_5_sv, or our Product Advertising API at https://affiliate-program.amazon.in/gp/advertising/api/detail/main.html/ref=rm_5_ac for advertising use cases.\\n-->\\n\\n<center>\\n<a href=\"https://www.amazon.in/ref=cs_503_logo/\">\\n<img src=\"https://images-eu.ssl-images-amazon.com/images/G/31/x-locale/communities/people/logo.gif\" width=200 height=45 alt=\"Amazon.in\" border=0></a>\\n<p align=center>\\n<font face=\"Verdana,Arial,Helvetica\">\\n<font size=\"+2\" color=\"#CC6600\"><b>Oops!</b></font><br>\\n<b>It\\'s rush hour and traffic is piling up on that page. Please try again in a short while.<br>If you were trying to place an order, it will not have been processed at this time.</b><p>\\n\\n<img src=\"https://images-eu.ssl-images-amazon.com/images/G/02/x-locale/common/orange-arrow.gif\" width=10 height=9 border=0 alt=\"*\">\\n<b><a href=\"https://www.amazon.in/ref=cs_503_link/\">Go to the Amazon.in home page to continue shopping</a></b>\\n</font>\\n\\n</center>\\n</body>\\n</html>\\n'\n",
      "b'<html>\\n<head>\\n<title>503 - Service Unavailable Error</title>\\n</head>\\n<body bgcolor=\"#FFFFFF\" text=\"#000000\">\\n\\n<!--\\n        To discuss automated access to Amazon data please contact api-services-support@amazon.com.\\n        For information about migrating to our APIs refer to our Marketplace APIs at https://developer.amazonservices.in/ref=rm_5_sv, or our Product Advertising API at https://affiliate-program.amazon.in/gp/advertising/api/detail/main.html/ref=rm_5_ac for advertising use cases.\\n-->\\n\\n<center>\\n<a href=\"https://www.amazon.in/ref=cs_503_logo/\">\\n<img src=\"https://images-eu.ssl-images-amazon.com/images/G/31/x-locale/communities/people/logo.gif\" width=200 height=45 alt=\"Amazon.in\" border=0></a>\\n<p align=center>\\n<font face=\"Verdana,Arial,Helvetica\">\\n<font size=\"+2\" color=\"#CC6600\"><b>Oops!</b></font><br>\\n<b>It\\'s rush hour and traffic is piling up on that page. Please try again in a short while.<br>If you were trying to place an order, it will not have been processed at this time.</b><p>\\n\\n<img src=\"https://images-eu.ssl-images-amazon.com/images/G/02/x-locale/common/orange-arrow.gif\" width=10 height=9 border=0 alt=\"*\">\\n<b><a href=\"https://www.amazon.in/ref=cs_503_link/\">Go to the Amazon.in home page to continue shopping</a></b>\\n</font>\\n\\n</center>\\n</body>\\n</html>\\n'\n",
      "b'<html>\\n<head>\\n<title>503 - Service Unavailable Error</title>\\n</head>\\n<body bgcolor=\"#FFFFFF\" text=\"#000000\">\\n\\n<!--\\n        To discuss automated access to Amazon data please contact api-services-support@amazon.com.\\n        For information about migrating to our APIs refer to our Marketplace APIs at https://developer.amazonservices.in/ref=rm_5_sv, or our Product Advertising API at https://affiliate-program.amazon.in/gp/advertising/api/detail/main.html/ref=rm_5_ac for advertising use cases.\\n-->\\n\\n<center>\\n<a href=\"https://www.amazon.in/ref=cs_503_logo/\">\\n<img src=\"https://images-eu.ssl-images-amazon.com/images/G/31/x-locale/communities/people/logo.gif\" width=200 height=45 alt=\"Amazon.in\" border=0></a>\\n<p align=center>\\n<font face=\"Verdana,Arial,Helvetica\">\\n<font size=\"+2\" color=\"#CC6600\"><b>Oops!</b></font><br>\\n<b>It\\'s rush hour and traffic is piling up on that page. Please try again in a short while.<br>If you were trying to place an order, it will not have been processed at this time.</b><p>\\n\\n<img src=\"https://images-eu.ssl-images-amazon.com/images/G/02/x-locale/common/orange-arrow.gif\" width=10 height=9 border=0 alt=\"*\">\\n<b><a href=\"https://www.amazon.in/ref=cs_503_link/\">Go to the Amazon.in home page to continue shopping</a></b>\\n</font>\\n\\n</center>\\n</body>\\n</html>\\n'\n",
      "b'<html>\\n<head>\\n<title>503 - Service Unavailable Error</title>\\n</head>\\n<body bgcolor=\"#FFFFFF\" text=\"#000000\">\\n\\n<!--\\n        To discuss automated access to Amazon data please contact api-services-support@amazon.com.\\n        For information about migrating to our APIs refer to our Marketplace APIs at https://developer.amazonservices.in/ref=rm_5_sv, or our Product Advertising API at https://affiliate-program.amazon.in/gp/advertising/api/detail/main.html/ref=rm_5_ac for advertising use cases.\\n-->\\n\\n<center>\\n<a href=\"https://www.amazon.in/ref=cs_503_logo/\">\\n<img src=\"https://images-eu.ssl-images-amazon.com/images/G/31/x-locale/communities/people/logo.gif\" width=200 height=45 alt=\"Amazon.in\" border=0></a>\\n<p align=center>\\n<font face=\"Verdana,Arial,Helvetica\">\\n<font size=\"+2\" color=\"#CC6600\"><b>Oops!</b></font><br>\\n<b>It\\'s rush hour and traffic is piling up on that page. Please try again in a short while.<br>If you were trying to place an order, it will not have been processed at this time.</b><p>\\n\\n<img src=\"https://images-eu.ssl-images-amazon.com/images/G/02/x-locale/common/orange-arrow.gif\" width=10 height=9 border=0 alt=\"*\">\\n<b><a href=\"https://www.amazon.in/ref=cs_503_link/\">Go to the Amazon.in home page to continue shopping</a></b>\\n</font>\\n\\n</center>\\n</body>\\n</html>\\n'\n",
      "b'<html>\\n<head>\\n<title>503 - Service Unavailable Error</title>\\n</head>\\n<body bgcolor=\"#FFFFFF\" text=\"#000000\">\\n\\n<!--\\n        To discuss automated access to Amazon data please contact api-services-support@amazon.com.\\n        For information about migrating to our APIs refer to our Marketplace APIs at https://developer.amazonservices.in/ref=rm_5_sv, or our Product Advertising API at https://affiliate-program.amazon.in/gp/advertising/api/detail/main.html/ref=rm_5_ac for advertising use cases.\\n-->\\n\\n<center>\\n<a href=\"https://www.amazon.in/ref=cs_503_logo/\">\\n<img src=\"https://images-eu.ssl-images-amazon.com/images/G/31/x-locale/communities/people/logo.gif\" width=200 height=45 alt=\"Amazon.in\" border=0></a>\\n<p align=center>\\n<font face=\"Verdana,Arial,Helvetica\">\\n<font size=\"+2\" color=\"#CC6600\"><b>Oops!</b></font><br>\\n<b>It\\'s rush hour and traffic is piling up on that page. Please try again in a short while.<br>If you were trying to place an order, it will not have been processed at this time.</b><p>\\n\\n<img src=\"https://images-eu.ssl-images-amazon.com/images/G/02/x-locale/common/orange-arrow.gif\" width=10 height=9 border=0 alt=\"*\">\\n<b><a href=\"https://www.amazon.in/ref=cs_503_link/\">Go to the Amazon.in home page to continue shopping</a></b>\\n</font>\\n\\n</center>\\n</body>\\n</html>\\n'\n",
      "b'<html>\\n<head>\\n<title>503 - Service Unavailable Error</title>\\n</head>\\n<body bgcolor=\"#FFFFFF\" text=\"#000000\">\\n\\n<!--\\n        To discuss automated access to Amazon data please contact api-services-support@amazon.com.\\n        For information about migrating to our APIs refer to our Marketplace APIs at https://developer.amazonservices.in/ref=rm_5_sv, or our Product Advertising API at https://affiliate-program.amazon.in/gp/advertising/api/detail/main.html/ref=rm_5_ac for advertising use cases.\\n-->\\n\\n<center>\\n<a href=\"https://www.amazon.in/ref=cs_503_logo/\">\\n<img src=\"https://images-eu.ssl-images-amazon.com/images/G/31/x-locale/communities/people/logo.gif\" width=200 height=45 alt=\"Amazon.in\" border=0></a>\\n<p align=center>\\n<font face=\"Verdana,Arial,Helvetica\">\\n<font size=\"+2\" color=\"#CC6600\"><b>Oops!</b></font><br>\\n<b>It\\'s rush hour and traffic is piling up on that page. Please try again in a short while.<br>If you were trying to place an order, it will not have been processed at this time.</b><p>\\n\\n<img src=\"https://images-eu.ssl-images-amazon.com/images/G/02/x-locale/common/orange-arrow.gif\" width=10 height=9 border=0 alt=\"*\">\\n<b><a href=\"https://www.amazon.in/ref=cs_503_link/\">Go to the Amazon.in home page to continue shopping</a></b>\\n</font>\\n\\n</center>\\n</body>\\n</html>\\n'\n",
      "b'<html>\\n<head>\\n<title>503 - Service Unavailable Error</title>\\n</head>\\n<body bgcolor=\"#FFFFFF\" text=\"#000000\">\\n\\n<!--\\n        To discuss automated access to Amazon data please contact api-services-support@amazon.com.\\n        For information about migrating to our APIs refer to our Marketplace APIs at https://developer.amazonservices.in/ref=rm_5_sv, or our Product Advertising API at https://affiliate-program.amazon.in/gp/advertising/api/detail/main.html/ref=rm_5_ac for advertising use cases.\\n-->\\n\\n<center>\\n<a href=\"https://www.amazon.in/ref=cs_503_logo/\">\\n<img src=\"https://images-eu.ssl-images-amazon.com/images/G/31/x-locale/communities/people/logo.gif\" width=200 height=45 alt=\"Amazon.in\" border=0></a>\\n<p align=center>\\n<font face=\"Verdana,Arial,Helvetica\">\\n<font size=\"+2\" color=\"#CC6600\"><b>Oops!</b></font><br>\\n<b>It\\'s rush hour and traffic is piling up on that page. Please try again in a short while.<br>If you were trying to place an order, it will not have been processed at this time.</b><p>\\n\\n<img src=\"https://images-eu.ssl-images-amazon.com/images/G/02/x-locale/common/orange-arrow.gif\" width=10 height=9 border=0 alt=\"*\">\\n<b><a href=\"https://www.amazon.in/ref=cs_503_link/\">Go to the Amazon.in home page to continue shopping</a></b>\\n</font>\\n\\n</center>\\n</body>\\n</html>\\n'\n",
      "b'<html>\\n<head>\\n<title>503 - Service Unavailable Error</title>\\n</head>\\n<body bgcolor=\"#FFFFFF\" text=\"#000000\">\\n\\n<!--\\n        To discuss automated access to Amazon data please contact api-services-support@amazon.com.\\n        For information about migrating to our APIs refer to our Marketplace APIs at https://developer.amazonservices.in/ref=rm_5_sv, or our Product Advertising API at https://affiliate-program.amazon.in/gp/advertising/api/detail/main.html/ref=rm_5_ac for advertising use cases.\\n-->\\n\\n<center>\\n<a href=\"https://www.amazon.in/ref=cs_503_logo/\">\\n<img src=\"https://images-eu.ssl-images-amazon.com/images/G/31/x-locale/communities/people/logo.gif\" width=200 height=45 alt=\"Amazon.in\" border=0></a>\\n<p align=center>\\n<font face=\"Verdana,Arial,Helvetica\">\\n<font size=\"+2\" color=\"#CC6600\"><b>Oops!</b></font><br>\\n<b>It\\'s rush hour and traffic is piling up on that page. Please try again in a short while.<br>If you were trying to place an order, it will not have been processed at this time.</b><p>\\n\\n<img src=\"https://images-eu.ssl-images-amazon.com/images/G/02/x-locale/common/orange-arrow.gif\" width=10 height=9 border=0 alt=\"*\">\\n<b><a href=\"https://www.amazon.in/ref=cs_503_link/\">Go to the Amazon.in home page to continue shopping</a></b>\\n</font>\\n\\n</center>\\n</body>\\n</html>\\n'\n",
      "b'<!DOCTYPE html>\\n<!--[if lt IE 7]> <html lang=\"en-us\" class=\"a-no-js a-lt-ie9 a-lt-ie8 a-lt-ie7\"> <![endif]-->\\n<!--[if IE 7]>    <html lang=\"en-us\" class=\"a-no-js a-lt-ie9 a-lt-ie8\"> <![endif]-->\\n<!--[if IE 8]>    <html lang=\"en-us\" class=\"a-no-js a-lt-ie9\"> <![endif]-->\\n<!--[if gt IE 8]><!-->\\n<html class=\"a-no-js\" lang=\"en-us\"><!--<![endif]--><head>\\n<meta http-equiv=\"content-type\" content=\"text/html; charset=UTF-8\">\\n<meta charset=\"utf-8\">\\n<meta http-equiv=\"X-UA-Compatible\" content=\"IE=edge,chrome=1\">\\n<title dir=\"ltr\">Amazon.in</title>\\n<meta name=\"viewport\" content=\"width=device-width\">\\n<link rel=\"stylesheet\" href=\"https://images-na.ssl-images-amazon.com/images/G/01/AUIClients/AmazonUI-3c913031596ca78a3768f4e934b1cc02ce238101.secure.min._V1_.css\">\\n<script>\\n\\nif (true === true) {\\n    var ue_t0 = (+ new Date()),\\n        ue_csm = window,\\n        ue = { t0: ue_t0, d: function() { return (+new Date() - ue_t0); } },\\n        ue_furl = \"fls-eu.amazon.in\",\\n        ue_mid = \"A21TJRUUN4KGV\",\\n        ue_sid = (document.cookie.match(/session-id=([0-9-]+)/) || [])[1],\\n        ue_sn = \"opfcaptcha.amazon.in\",\\n        ue_id = \\'FYX615W5K0M7K8F4H2F4\\';\\n}\\n</script>\\n</head>\\n<body>\\n\\n<!--\\n        To discuss automated access to Amazon data please contact api-services-support@amazon.com.\\n        For information about migrating to our APIs refer to our Marketplace APIs at https://developer.amazonservices.in/ref=rm_c_sv, or our Product Advertising API at https://affiliate-program.amazon.in/gp/advertising/api/detail/main.html/ref=rm_c_ac for advertising use cases.\\n-->\\n\\n<!--\\nCorreios.DoNotSend\\n-->\\n\\n<div class=\"a-container a-padding-double-large\" style=\"min-width:350px;padding:44px 0 !important\">\\n\\n    <div class=\"a-row a-spacing-double-large\" style=\"width: 350px; margin: 0 auto\">\\n\\n        <div class=\"a-row a-spacing-medium a-text-center\"><i class=\"a-icon a-logo\"></i></div>\\n\\n        <div class=\"a-box a-alert a-alert-info a-spacing-base\">\\n            <div class=\"a-box-inner\">\\n                <i class=\"a-icon a-icon-alert\"></i>\\n                <h4>Enter the characters you see below</h4>\\n                <p class=\"a-last\">Sorry, we just need to make sure you\\'re not a robot. For best results, please make sure your browser is accepting cookies.</p>\\n                </div>\\n            </div>\\n\\n            <div class=\"a-section\">\\n\\n                <div class=\"a-box a-color-offset-background\">\\n                    <div class=\"a-box-inner a-padding-extra-large\">\\n\\n                        <form method=\"get\" action=\"/errors/validateCaptcha\" name=\"\">\\n                            <input type=hidden name=\"amzn\" value=\"Kz7XWLb9KzcsrlnfcHZhXg==\" /><input type=hidden name=\"amzn-r\" value=\"&#047;Acer&#045;Travelmate&#045;Business&#045;Fingerprint&#045;TMP214&#045;53&#047;dp&#047;B0CHRPJCSG&#047;ref&#061;mp_s_a_1_5?crid&#061;UZ00B569QE69&amp;keywords&#061;laptops&amp;qid&#061;1706853514&amp;sprefix&#061;laptop&#037;2Caps&#037;2C257&amp;sr&#061;8&#045;5\" />\\n                            <div class=\"a-row a-spacing-large\">\\n                                <div class=\"a-box\">\\n                                    <div class=\"a-box-inner\">\\n                                        <h4>Type the characters you see in this image:</h4>\\n                                        <!-- For automated access to price change or offer listing change events,\\n                                             please refer to the MWS Subscription API:\\n                                             https://developer.amazonservices.in/gp/mws/api.html/276-5247872-0590350?ie=UTF8&section=subscriptions&group=subscriptions&version=latest\\n                                        -->\\n                                        <div class=\"a-row a-text-center\">\\n                                            <img src=\"https://images-na.ssl-images-amazon.com/captcha/yniigayf/Captcha_anzbwuffxc.jpg\">\\n                                        </div>\\n                                        <div class=\"a-row a-spacing-base\">\\n                                            <div class=\"a-row\">\\n                                                <div class=\"a-column a-span6\">\\n                                                </div>\\n                                                <div class=\"a-column a-span6 a-span-last a-text-right\">\\n                                                    <a onclick=\"window.location.reload()\">Try different image</a>\\n                                                </div>\\n                                            </div>\\n                                            <input autocomplete=\"off\" spellcheck=\"false\" placeholder=\"Type characters\" id=\"captchacharacters\" name=\"field-keywords\" class=\"a-span12\" autocapitalize=\"off\" autocorrect=\"off\" type=\"text\">\\n                                        </div>\\n                                    </div>\\n                                </div>\\n                            </div>\\n\\n                            <div class=\"a-section a-spacing-extra-large\">\\n\\n                                <div class=\"a-row\">\\n                                    <span class=\"a-button a-button-primary a-span12\">\\n                                        <span class=\"a-button-inner\">\\n                                            <button type=\"submit\" class=\"a-button-text\">Continue shopping</button>\\n                                        </span>\\n                                    </span>\\n                                </div>\\n\\n                            </div>\\n                        </form>\\n\\n                    </div>\\n                </div>\\n\\n            </div>\\n\\n        </div>\\n\\n        <div class=\"a-divider a-divider-section\"><div class=\"a-divider-inner\"></div></div>\\n\\n        <div class=\"a-text-center a-spacing-small a-size-mini\">\\n            <a href=\"https://www.amazon.in/gp/help/customer/display.html/ref=footer_cou?ie=UTF8&nodeId=200545940\">Conditions of Use &amp; Sale</a>\\n            <span class=\"a-letter-space\"></span>\\n            <span class=\"a-letter-space\"></span>\\n            <span class=\"a-letter-space\"></span>\\n            <span class=\"a-letter-space\"></span>\\n            <a href=\"https://www.amazon.in/gp/help/customer/display.html/ref=footer_privacy?ie=UTF8&nodeId=200534380\">Privacy Notice</a>\\n        </div>\\n\\n        <div class=\"a-text-center a-size-mini a-color-secondary\">\\n          &copy; 1996-2015, Amazon.com, Inc. or its affiliates\\n          <script>\\n           if (true === true) {\\n             document.write(\\'<img src=\"https://fls-eu.amaz\\'+\\'on.in/\\'+\\'1/oc-csi/1/OP/requestId=FYX615W5K0M7K8F4H2F4&js=1\" />\\');\\n           };\\n          </script>\\n          <noscript>\\n            <img src=\"https://fls-eu.amazon.in/1/oc-csi/1/OP/requestId=FYX615W5K0M7K8F4H2F4&js=0\" />\\n          </noscript>\\n        </div>\\n    </div>\\n    <script>\\n    if (true === true) {\\n        var head = document.getElementsByTagName(\\'head\\')[0],\\n            prefix = \"https://images-eu.ssl-images-amazon.com/images/G/01/csminstrumentation/\",\\n            elem = document.createElement(\"script\");\\n        elem.src = prefix + \"csm-captcha-instrumentation.min.js\";\\n        head.appendChild(elem);\\n\\n        elem = document.createElement(\"script\");\\n        elem.src = prefix + \"rd-script-6d68177fa6061598e9509dc4b5bdd08d.js\";\\n        head.appendChild(elem);\\n    }\\n    </script>\\n</body></html>\\n'\n"
     ]
    },
    {
     "name": "stderr",
     "output_type": "stream",
     "text": [
      "IOPub data rate exceeded.\n",
      "The Jupyter server will temporarily stop sending output\n",
      "to the client in order to avoid crashing it.\n",
      "To change this limit, set the config variable\n",
      "`--ServerApp.iopub_data_rate_limit`.\n",
      "\n",
      "Current values:\n",
      "ServerApp.iopub_data_rate_limit=1000000.0 (bytes/sec)\n",
      "ServerApp.rate_limit_window=3.0 (secs)\n",
      "\n"
     ]
    }
   ],
   "source": [
    "# Loop for Extrcting from each link\n",
    "for link in links_list:\n",
    "    try:\n",
    "        \n",
    "        new_webpage = requests.get('https://www.amazon.in'+link,headers= HEADERS)\n",
    "        new_soup = BeautifulSoup(new_webpage.content,'html.parser')\n",
    "        #functions call to display all necessary product information\n",
    "        d['title'].append(get_title(new_soup))\n",
    "        d['price'].append(get_price(new_soup))\n",
    "        d['ratings'].append(get_ratings(new_soup))\n",
    "    except:\n",
    "        print(new_webpage.content)\n",
    "\n",
    "amazon_df = pd.DataFrame.from_dict(d)"
   ]
  },
  {
   "cell_type": "code",
   "execution_count": 48,
   "id": "b0dc09a0-282a-4887-abef-2f035ff607b9",
   "metadata": {
    "tags": []
   },
   "outputs": [
    {
     "data": {
      "text/html": [
       "<div>\n",
       "<style scoped>\n",
       "    .dataframe tbody tr th:only-of-type {\n",
       "        vertical-align: middle;\n",
       "    }\n",
       "\n",
       "    .dataframe tbody tr th {\n",
       "        vertical-align: top;\n",
       "    }\n",
       "\n",
       "    .dataframe thead th {\n",
       "        text-align: right;\n",
       "    }\n",
       "</style>\n",
       "<table border=\"1\" class=\"dataframe\">\n",
       "  <thead>\n",
       "    <tr style=\"text-align: right;\">\n",
       "      <th></th>\n",
       "      <th>title</th>\n",
       "      <th>price</th>\n",
       "      <th>ratings</th>\n",
       "    </tr>\n",
       "  </thead>\n",
       "  <tbody>\n",
       "    <tr>\n",
       "      <th>0</th>\n",
       "      <td></td>\n",
       "      <td>37,490</td>\n",
       "      <td>4.1</td>\n",
       "    </tr>\n",
       "    <tr>\n",
       "      <th>1</th>\n",
       "      <td></td>\n",
       "      <td>35,999</td>\n",
       "      <td>4.1</td>\n",
       "    </tr>\n",
       "    <tr>\n",
       "      <th>2</th>\n",
       "      <td></td>\n",
       "      <td>79,990</td>\n",
       "      <td>4.1</td>\n",
       "    </tr>\n",
       "    <tr>\n",
       "      <th>3</th>\n",
       "      <td></td>\n",
       "      <td>79,990</td>\n",
       "      <td>4.1</td>\n",
       "    </tr>\n",
       "    <tr>\n",
       "      <th>4</th>\n",
       "      <td></td>\n",
       "      <td>34,990</td>\n",
       "      <td>4.7</td>\n",
       "    </tr>\n",
       "    <tr>\n",
       "      <th>...</th>\n",
       "      <td>...</td>\n",
       "      <td>...</td>\n",
       "      <td>...</td>\n",
       "    </tr>\n",
       "    <tr>\n",
       "      <th>795</th>\n",
       "      <td></td>\n",
       "      <td></td>\n",
       "      <td></td>\n",
       "    </tr>\n",
       "    <tr>\n",
       "      <th>796</th>\n",
       "      <td></td>\n",
       "      <td></td>\n",
       "      <td></td>\n",
       "    </tr>\n",
       "    <tr>\n",
       "      <th>797</th>\n",
       "      <td></td>\n",
       "      <td></td>\n",
       "      <td></td>\n",
       "    </tr>\n",
       "    <tr>\n",
       "      <th>798</th>\n",
       "      <td></td>\n",
       "      <td></td>\n",
       "      <td></td>\n",
       "    </tr>\n",
       "    <tr>\n",
       "      <th>799</th>\n",
       "      <td></td>\n",
       "      <td></td>\n",
       "      <td></td>\n",
       "    </tr>\n",
       "  </tbody>\n",
       "</table>\n",
       "<p>800 rows × 3 columns</p>\n",
       "</div>"
      ],
      "text/plain": [
       "    title   price ratings\n",
       "0          37,490     4.1\n",
       "1          35,999     4.1\n",
       "2          79,990     4.1\n",
       "3          79,990     4.1\n",
       "4          34,990     4.7\n",
       "..    ...     ...     ...\n",
       "795                      \n",
       "796                      \n",
       "797                      \n",
       "798                      \n",
       "799                      \n",
       "\n",
       "[800 rows x 3 columns]"
      ]
     },
     "execution_count": 48,
     "metadata": {},
     "output_type": "execute_result"
    }
   ],
   "source": [
    "amazon_df"
   ]
  },
  {
   "cell_type": "code",
   "execution_count": 36,
   "id": "f2966690-1778-4bc2-91d5-a18a1bc47027",
   "metadata": {
    "tags": []
   },
   "outputs": [],
   "source": [
    "amazon_df.replace('',np.nan,inplace=True)"
   ]
  },
  {
   "cell_type": "code",
   "execution_count": 40,
   "id": "c1c3e48d-b7c2-4472-8644-48303563ed4a",
   "metadata": {
    "tags": []
   },
   "outputs": [],
   "source": [
    "amazon_df.dropna(inplace=True)\n",
    "amazon_df.reset_index(inplace=True)"
   ]
  },
  {
   "cell_type": "code",
   "execution_count": 24,
   "id": "e0449274-ed3a-4c0a-b048-23c7eb49477c",
   "metadata": {
    "tags": []
   },
   "outputs": [],
   "source": [
    "amazon_df = amazon_df.drop(['index'],axis=1)"
   ]
  },
  {
   "cell_type": "code",
   "execution_count": 43,
   "id": "e1182423-aa53-4df4-a3fa-b2e987330556",
   "metadata": {
    "tags": []
   },
   "outputs": [
    {
     "data": {
      "text/html": [
       "<div>\n",
       "<style scoped>\n",
       "    .dataframe tbody tr th:only-of-type {\n",
       "        vertical-align: middle;\n",
       "    }\n",
       "\n",
       "    .dataframe tbody tr th {\n",
       "        vertical-align: top;\n",
       "    }\n",
       "\n",
       "    .dataframe thead th {\n",
       "        text-align: right;\n",
       "    }\n",
       "</style>\n",
       "<table border=\"1\" class=\"dataframe\">\n",
       "  <thead>\n",
       "    <tr style=\"text-align: right;\">\n",
       "      <th></th>\n",
       "      <th>index</th>\n",
       "      <th>title</th>\n",
       "      <th>price</th>\n",
       "      <th>ratings</th>\n",
       "    </tr>\n",
       "  </thead>\n",
       "  <tbody>\n",
       "  </tbody>\n",
       "</table>\n",
       "</div>"
      ],
      "text/plain": [
       "Empty DataFrame\n",
       "Columns: [index, title, price, ratings]\n",
       "Index: []"
      ]
     },
     "execution_count": 43,
     "metadata": {},
     "output_type": "execute_result"
    }
   ],
   "source": [
    "amazon_df"
   ]
  },
  {
   "cell_type": "code",
   "execution_count": 42,
   "id": "7049f011-e1fe-4b41-b55c-bd82723a34ca",
   "metadata": {
    "tags": []
   },
   "outputs": [],
   "source": [
    "amazon_df.to_csv('dataset/amazon_data.csv',header=True,index=False)"
   ]
  },
  {
   "cell_type": "code",
   "execution_count": null,
   "id": "6b287c77-8ef6-4c98-b8b5-c25ae66cf089",
   "metadata": {},
   "outputs": [],
   "source": []
  }
 ],
 "metadata": {
  "kernelspec": {
   "display_name": "Python 3 (ipykernel)",
   "language": "python",
   "name": "python3"
  },
  "language_info": {
   "codemirror_mode": {
    "name": "ipython",
    "version": 3
   },
   "file_extension": ".py",
   "mimetype": "text/x-python",
   "name": "python",
   "nbconvert_exporter": "python",
   "pygments_lexer": "ipython3",
   "version": "3.11.5"
  }
 },
 "nbformat": 4,
 "nbformat_minor": 5
}
