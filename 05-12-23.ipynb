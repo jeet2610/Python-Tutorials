{
 "cells": [
  {
   "cell_type": "code",
   "execution_count": 9,
   "id": "36fccb09-ed87-42be-a320-203fbd99c564",
   "metadata": {
    "tags": []
   },
   "outputs": [
    {
     "name": "stdin",
     "output_type": "stream",
     "text": [
      "Enter number to find the factorial 4\n"
     ]
    },
    {
     "name": "stdout",
     "output_type": "stream",
     "text": [
      "The factorial of 4 is: 24\n"
     ]
    }
   ],
   "source": [
    "# Factorial Program using Loop\n",
    "\n",
    "n=int(input(\"Enter number to find the factorial\"))\n",
    "fact=1\n",
    "i=1\n",
    "    for i in range(n+1):\n",
    "    if i!=0:\n",
    "        fact = fact*i\n",
    "print(\"The factorial of \"+str(n)+\" is: \"+str(fact))"
   ]
  },
  {
   "cell_type": "code",
   "execution_count": 10,
   "id": "1cd6e9b3-637c-4955-9d44-0a25254be293",
   "metadata": {
    "tags": []
   },
   "outputs": [
    {
     "name": "stdout",
     "output_type": "stream",
     "text": [
      "5\n"
     ]
    }
   ],
   "source": [
    "# Functions in Python\n",
    "\n",
    "def myfunc(r,a):\n",
    "    # Logic\n",
    "    return a+r\n",
    "a = myfunc(2,3)\n",
    "print(a)"
   ]
  },
  {
   "cell_type": "code",
   "execution_count": 11,
   "id": "69476877-4d46-4876-87e0-630931d3ac33",
   "metadata": {
    "tags": []
   },
   "outputs": [
    {
     "name": "stdout",
     "output_type": "stream",
     "text": [
      "100\n"
     ]
    }
   ],
   "source": [
    "# Continued\n",
    "x = lambda a:a*10\n",
    "\n",
    "print(x(10))"
   ]
  },
  {
   "cell_type": "code",
   "execution_count": 12,
   "id": "51814d48-2a63-41c3-9ed7-3449d86738c9",
   "metadata": {
    "tags": []
   },
   "outputs": [
    {
     "name": "stdout",
     "output_type": "stream",
     "text": [
      "11\n"
     ]
    }
   ],
   "source": [
    "#Continued\n",
    "\n",
    "x = lambda a,b:a+b\n",
    "\n",
    "print(x(5,6))"
   ]
  },
  {
   "cell_type": "code",
   "execution_count": 17,
   "id": "4f9d6f73-f21b-4bb8-b253-f951a8de879c",
   "metadata": {
    "tags": []
   },
   "outputs": [
    {
     "name": "stdout",
     "output_type": "stream",
     "text": [
      "110\n"
     ]
    }
   ],
   "source": [
    "# Function using Lambda with args\n",
    "\n",
    "def func(n):\n",
    "    return lambda x:x+(n*n)\n",
    "d = func(10)\n",
    "\n",
    "print(d(10))"
   ]
  },
  {
   "cell_type": "code",
   "execution_count": 25,
   "id": "3dc03813-a206-4407-bf4e-ebf991590cb7",
   "metadata": {
    "tags": []
   },
   "outputs": [
    {
     "name": "stdout",
     "output_type": "stream",
     "text": [
      "110\n"
     ]
    }
   ],
   "source": [
    "# Function using Lambda without args\n",
    "\n",
    "def func(n,x):\n",
    "    return lambda _:x+(n*n)\n",
    "d = func(10,10)\n",
    "\n",
    "print(d(10))"
   ]
  },
  {
   "cell_type": "code",
   "execution_count": 31,
   "id": "1e9ce594-196d-4729-9fb8-1b8357fb9ef4",
   "metadata": {
    "tags": []
   },
   "outputs": [
    {
     "name": "stdout",
     "output_type": "stream",
     "text": [
      "10\n",
      "5\n"
     ]
    }
   ],
   "source": [
    "# Classes in Python\n",
    "\n",
    "class Ab:\n",
    "    x=5\n",
    "    print(x+x)\n",
    "objA = Ab()\n",
    "print(objA.x)"
   ]
  },
  {
   "cell_type": "code",
   "execution_count": 32,
   "id": "fe2b519b-da85-4520-9c73-71b7cc4fa12b",
   "metadata": {
    "tags": []
   },
   "outputs": [
    {
     "name": "stdout",
     "output_type": "stream",
     "text": [
      "Hello from Ab class Hello method\n"
     ]
    }
   ],
   "source": [
    "class Ab:\n",
    "    def hello(self):\n",
    "        print(\"Hello from Ab class Hello method\")\n",
    "objA = Ab()\n",
    "objA.hello()"
   ]
  },
  {
   "cell_type": "code",
   "execution_count": 36,
   "id": "22bc1b05-f10d-42fe-9d36-f2623f178232",
   "metadata": {
    "tags": []
   },
   "outputs": [
    {
     "name": "stdout",
     "output_type": "stream",
     "text": [
      "Hello From Constructor\n"
     ]
    }
   ],
   "source": [
    "# Constructor in __init__ \n",
    "class Cons:\n",
    "    def __init__(self):\n",
    "        print(\"Hello From Constructor\")\n",
    "a=Cons()"
   ]
  },
  {
   "cell_type": "code",
   "execution_count": 46,
   "id": "eebf8a37-650d-44d0-b27b-81d67b23dd74",
   "metadata": {
    "tags": []
   },
   "outputs": [
    {
     "name": "stdout",
     "output_type": "stream",
     "text": [
      "Addition From Constructor\n",
      "9\n"
     ]
    }
   ],
   "source": [
    "# Constructor in __init__ Addition\n",
    "class Cons:\n",
    "    def __init__(self,a,b):\n",
    "        print(\"Addition From Constructor\")\n",
    "        print(a+b)\n",
    "a=Cons(5,4)"
   ]
  },
  {
   "cell_type": "code",
   "execution_count": 52,
   "id": "6595cedd-bbf5-494f-8e7a-555e5b3da67c",
   "metadata": {
    "tags": []
   },
   "outputs": [
    {
     "name": "stdout",
     "output_type": "stream",
     "text": [
      "Hello from Father\n",
      "Hello from Hello Func\n",
      "Hello from Hello Grand\n"
     ]
    }
   ],
   "source": [
    "class Father:\n",
    "    def __init__(self):\n",
    "        print(\"Hello from Father\")\n",
    "    def hello(_):\n",
    "        print(\"Hello from Hello Func\")\n",
    "        \n",
    "class GrandFather:\n",
    "    def helloGrandFather(self):\n",
    "        print(\"Hello from Hello Grand\")\n",
    "        \n",
    "class Child(Father,GrandFather):\n",
    "    pass\n",
    "\n",
    "objA = Child()\n",
    "objA.hello()\n",
    "objA.helloGrandFather()"
   ]
  },
  {
   "cell_type": "code",
   "execution_count": 57,
   "id": "298ec26f-3dde-4197-8ee0-e3153344cf5c",
   "metadata": {
    "tags": []
   },
   "outputs": [
    {
     "name": "stdout",
     "output_type": "stream",
     "text": [
      "Child's Netwoth is 500 Crore as Fathers'\n",
      "Father's Networth is 500 Crore\n",
      "Grand Father's Networth is 50 CRORE\n"
     ]
    }
   ],
   "source": [
    "# Multi level Inheritance\n",
    "class GrandFather:\n",
    "    def GFnetworth(self):\n",
    "        print(\"Grand Father's Networth is 50 CRORE\")\n",
    "class Father(GrandFather):\n",
    "    def Fnetworth(self):\n",
    "        print(\"Father's Networth is 500 Crore\")\n",
    "class Child(Father):\n",
    "    def ChildNetworth(self):\n",
    "        print(\"Child's Netwoth is 500 Crore as Fathers'\")\n",
    "        \n",
    "objA = Child()\n",
    "objA.ChildNetworth()\n",
    "objA.Fnetworth()\n",
    "objA.GFnetworth()\n"
   ]
  },
  {
   "cell_type": "code",
   "execution_count": 59,
   "id": "ac859f12-2afd-4cb9-8624-8b720e05bee9",
   "metadata": {
    "tags": []
   },
   "outputs": [
    {
     "name": "stdin",
     "output_type": "stream",
     "text": [
      "Enter n number: 4\n"
     ]
    },
    {
     "name": "stdout",
     "output_type": "stream",
     "text": [
      "0\n",
      "1\n",
      "4\n",
      "9\n",
      "16\n"
     ]
    }
   ],
   "source": [
    "# Print Square List using Lamba\n",
    "\n",
    "n = int(input(\"Enter n number:\"))\n",
    "\n",
    "square = lambda a:a*a\n",
    "for i in range(n+1):\n",
    "    print(square(i))"
   ]
  },
  {
   "cell_type": "code",
   "execution_count": 73,
   "id": "f079ef50-bf3d-4581-b305-81e1dcc53aab",
   "metadata": {
    "collapsed": true,
    "jupyter": {
     "outputs_hidden": true
    },
    "tags": []
   },
   "outputs": [
    {
     "name": "stdout",
     "output_type": "stream",
     "text": [
      "\n",
      " Calculator:\n",
      "+ Addition ___    - Subtraction___    * Multiplication___   / Division___   0. Exit\n"
     ]
    },
    {
     "name": "stdin",
     "output_type": "stream",
     "text": [
      "Enter your choice (+,-,*,/,0):  -\n",
      "Enter value 10\n"
     ]
    },
    {
     "name": "stdout",
     "output_type": "stream",
     "text": [
      "added: -10-10: -10\n",
      "\n",
      " Calculator:\n",
      "+ Addition ___    - Subtraction___    * Multiplication___   / Division___   0. Exit\n"
     ]
    },
    {
     "name": "stdin",
     "output_type": "stream",
     "text": [
      "Enter your choice (+,-,*,/,0):  *\n",
      "Enter value 0\n"
     ]
    },
    {
     "name": "stdout",
     "output_type": "stream",
     "text": [
      "added: 0*0: 0\n",
      "\n",
      " Calculator:\n",
      "+ Addition ___    - Subtraction___    * Multiplication___   / Division___   0. Exit\n"
     ]
    },
    {
     "name": "stdin",
     "output_type": "stream",
     "text": [
      "Enter your choice (+,-,*,/,0):  100\n"
     ]
    },
    {
     "name": "stdout",
     "output_type": "stream",
     "text": [
      "Invalid choice. Please enter C, R, U, D, or 0.\n",
      "\n",
      " Calculator:\n",
      "+ Addition ___    - Subtraction___    * Multiplication___   / Division___   0. Exit\n"
     ]
    },
    {
     "name": "stdin",
     "output_type": "stream",
     "text": [
      "Enter your choice (+,-,*,/,0):  0\n"
     ]
    },
    {
     "name": "stdout",
     "output_type": "stream",
     "text": [
      "Final Answer= 0\n",
      "Exiting program...\n"
     ]
    }
   ],
   "source": [
    "#Write a code to Implement Calculator with the help of LAMBDA\n",
    "\n",
    "Add = lambda n,m:n+m\n",
    "\n",
    "Sub = lambda n,m:n-m\n",
    "\n",
    "Mul = lambda n,m:n*m\n",
    "\n",
    "Div = lambda n,m:n/m if(m>0) else none\n",
    "\n",
    "ans = 0\n",
    "\n",
    "while True:\n",
    "    print(\"\\n Calculator:\")\n",
    "    print(\"+ Addition \",end=\"___    \")\n",
    "    print(\"- Subtraction\",end=\"___    \")\n",
    "    print(\"* Multiplication\",end=\"___   \")\n",
    "    print(\"/ Division\",end=\"___   \")\n",
    "    print(\"0. Exit\")\n",
    "\n",
    "    choice = input(\"Enter your choice (+,-,*,/,0): \")\n",
    "\n",
    "    if choice == \"+\":\n",
    "        m = int(input(\"Enter key \"))\n",
    "        ans = Add(ans,m)\n",
    "        print(f\"added: {n}+{m}: {ans}\")\n",
    "    elif choice == \"-\":\n",
    "        \n",
    "        m = int(input(\"Enter value\"))\n",
    "        ans = Sub(ans,m)\n",
    "        print(f\"added: {ans}-{m}: {ans}\")\n",
    "        \n",
    "    elif choice == \"*\":\n",
    "        \n",
    "        m = int(input(\"Enter value\"))\n",
    "        ans = Mul(ans,m)\n",
    "        print(f\"added: {ans}*{m}: {ans}\")\n",
    "    \n",
    "    elif choice == \"/\":\n",
    "        m = int(input(\"Enter value\"))\n",
    "        ans = Div(ans,m)\n",
    "        print(f\"added: {ans}/{m}: {ans}\")\n",
    "        \n",
    "    elif choice == \"0\":\n",
    "        print(\"Final Answer=\",ans)\n",
    "        print(\"Exiting program...\")\n",
    "        break\n",
    "    else:\n",
    "        print(\"Invalid choice. Please enter C, R, U, D, or 0.\")\n"
   ]
  },
  {
   "cell_type": "code",
   "execution_count": 74,
   "id": "b4416ba8-c718-457e-86cf-668ca7ffa170",
   "metadata": {
    "tags": []
   },
   "outputs": [
    {
     "name": "stdout",
     "output_type": "stream",
     "text": [
      "\n",
      " Calculator:\n",
      "+ Addition ___    - Subtraction___    * Multiplication___   / Division___   0. Exit\n"
     ]
    },
    {
     "name": "stdin",
     "output_type": "stream",
     "text": [
      "Enter your choice (+,-,*,/,0):  0\n"
     ]
    },
    {
     "name": "stdout",
     "output_type": "stream",
     "text": [
      "Final Answer= 0\n",
      "Exiting program...\n"
     ]
    }
   ],
   "source": [
    "#Write a code to Implement Calculator with the help of Function\n",
    "\n",
    "def Add(n,m):\n",
    "    return n+m\n",
    "\n",
    "def Sub(n,m):\n",
    "    return n-m\n",
    "\n",
    "def Mul(n,m):\n",
    "    return n*m\n",
    "\n",
    "def Div(n,m):\n",
    "    return n/m\n",
    "\n",
    "ans = 0\n",
    "while True:\n",
    "    print(\"\\n Calculator:\")\n",
    "    print(\"+ Addition \",end=\"___    \")\n",
    "    print(\"- Subtraction\",end=\"___    \")\n",
    "    print(\"* Multiplication\",end=\"___   \")\n",
    "    print(\"/ Division\",end=\"___   \")\n",
    "    print(\"0. Exit\")\n",
    "\n",
    "    choice = input(\"Enter your choice (+,-,*,/,0): \")\n",
    "\n",
    "    if choice == \"+\":\n",
    "        m = int(input(\"Enter key \"))\n",
    "        ans = Add(ans,m)\n",
    "        print(f\"added: {n}+{m}: {ans}\")\n",
    "    elif choice == \"-\":\n",
    "        \n",
    "        m = int(input(\"Enter value\"))\n",
    "        ans = Sub(ans,m)\n",
    "        print(f\"added: {ans}-{m}: {ans}\")\n",
    "        \n",
    "    elif choice == \"*\":\n",
    "        \n",
    "        m = int(input(\"Enter value\"))\n",
    "        ans = Mul(ans,m)\n",
    "        print(f\"added: {ans}*{m}: {ans}\")\n",
    "    \n",
    "    elif choice == \"/\":\n",
    "        m = int(input(\"Enter value\"))\n",
    "        ans = Div(ans,m)\n",
    "        print(f\"added: {ans}/{m}: {ans}\")\n",
    "        \n",
    "    elif choice == \"0\":\n",
    "        print(\"Final Answer=\",ans)\n",
    "        print(\"Exiting program...\")\n",
    "        break\n",
    "    else:\n",
    "        print(\"Invalid choice. Please enter C, R, U, D, or 0.\")\n"
   ]
  },
  {
   "cell_type": "code",
   "execution_count": 80,
   "id": "c1c41043-07e8-4902-8043-3280c87a17cd",
   "metadata": {
    "tags": []
   },
   "outputs": [
    {
     "name": "stdout",
     "output_type": "stream",
     "text": [
      "\n",
      " Calculator:\n",
      "+ Addition ___    - Subtraction___    * Multiplication___   / Division___   0. Exit\n"
     ]
    },
    {
     "name": "stdin",
     "output_type": "stream",
     "text": [
      "Enter your choice (+,-,*,/,0):  +\n",
      "Enter key  10\n"
     ]
    },
    {
     "ename": "TypeError",
     "evalue": "'Add' object is not callable",
     "output_type": "error",
     "traceback": [
      "\u001b[1;31m---------------------------------------------------------------------------\u001b[0m",
      "\u001b[1;31mTypeError\u001b[0m                                 Traceback (most recent call last)",
      "Cell \u001b[1;32mIn[80], line 35\u001b[0m\n\u001b[0;32m     33\u001b[0m         m \u001b[38;5;241m=\u001b[39m \u001b[38;5;28mint\u001b[39m(\u001b[38;5;28minput\u001b[39m(\u001b[38;5;124m\"\u001b[39m\u001b[38;5;124mEnter key \u001b[39m\u001b[38;5;124m\"\u001b[39m))\n\u001b[0;32m     34\u001b[0m         AddObject \u001b[38;5;241m=\u001b[39m Add(ans,m)\n\u001b[1;32m---> 35\u001b[0m         ans \u001b[38;5;241m=\u001b[39m AddObject(ans,m)\n\u001b[0;32m     36\u001b[0m         \u001b[38;5;28mprint\u001b[39m(\u001b[38;5;124mf\u001b[39m\u001b[38;5;124m\"\u001b[39m\u001b[38;5;124madded: \u001b[39m\u001b[38;5;132;01m{\u001b[39;00mn\u001b[38;5;132;01m}\u001b[39;00m\u001b[38;5;124m+\u001b[39m\u001b[38;5;132;01m{\u001b[39;00mm\u001b[38;5;132;01m}\u001b[39;00m\u001b[38;5;124m: \u001b[39m\u001b[38;5;132;01m{\u001b[39;00mans\u001b[38;5;132;01m}\u001b[39;00m\u001b[38;5;124m\"\u001b[39m)\n\u001b[0;32m     37\u001b[0m \u001b[38;5;66;03m# Sub  \u001b[39;00m\n",
      "\u001b[1;31mTypeError\u001b[0m: 'Add' object is not callable"
     ]
    }
   ],
   "source": [
    "#Write a code to Implement Calculator with the help of Class\n",
    "\n",
    "class Add:\n",
    "    def __init__(self,n,m):\n",
    "        ans = n+m\n",
    "class Sub:\n",
    "    def __init__(self,n,m):\n",
    "        ans = n-m\n",
    "\n",
    "class Mul:\n",
    "    def __init__(self,n,m):\n",
    "        ans= n*m\n",
    "class Div:\n",
    "    \n",
    "    def __init__(self,n,m):\n",
    "        ans= n/m\n",
    "    \n",
    "\n",
    "ans = 0\n",
    "\n",
    "\n",
    "while True:\n",
    "    print(\"\\n Calculator:\")\n",
    "    print(\"+ Addition \",end=\"___    \")\n",
    "    print(\"- Subtraction\",end=\"___    \")\n",
    "    print(\"* Multiplication\",end=\"___   \")\n",
    "    print(\"/ Division\",end=\"___   \")\n",
    "    print(\"0. Exit\")\n",
    "\n",
    "    choice = input(\"Enter your choice (+,-,*,/,0): \")\n",
    "# Add\n",
    "    if choice == \"+\":\n",
    "        m = int(input(\"Enter key \"))\n",
    "        AddObject = Add(ans,m)\n",
    "        ans = AddObject(ans,m)\n",
    "        print(f\"added: {n}+{m}: {ans}\")\n",
    "# Sub  \n",
    "    elif choice == \"-\":\n",
    "        m = int(input(\"Enter value\"))\n",
    "        SubObject = Sub(ans,m)\n",
    "        ans = SubObject.Sub(ans,m)\n",
    "        print(f\"added: {ans}-{m}: {ans}\")\n",
    "# Mul\n",
    "    elif choice == \"*\":\n",
    "        m = int(input(\"Enter value\"))\n",
    "        MulObject = Mul(ans,m)\n",
    "        ans = MulObject(ans,m)\n",
    "        print(f\"added: {ans}*{m}: {ans}\")\n",
    "# Divide\n",
    "    elif choice == \"/\":\n",
    "        m = int(input(\"Enter value\"))\n",
    "        DivObject = Div(ans,m)\n",
    "        ans = DivObject(ans,m)\n",
    "        print(f\"added: {ans}/{m}: {ans}\")\n",
    "        \n",
    "    elif choice == \"0\":\n",
    "        print(\"Final Answer=\",ans)\n",
    "        print(\"Exiting program...\")\n",
    "        break\n",
    "    else:\n",
    "        print(\"Invalid choice. Please enter C, R, U, D, or 0.\")\n"
   ]
  },
  {
   "cell_type": "code",
   "execution_count": 76,
   "id": "c77b29c1-6513-4a33-a6ad-82350075cacf",
   "metadata": {
    "collapsed": true,
    "jupyter": {
     "outputs_hidden": true
    },
    "tags": []
   },
   "outputs": [
    {
     "name": "stdout",
     "output_type": "stream",
     "text": [
      "\n",
      " Calculator:\n",
      "+ Addition ___    - Subtraction___    * Multiplication___   / Division___   0. Exit\n"
     ]
    },
    {
     "name": "stdin",
     "output_type": "stream",
     "text": [
      "Enter your choice (+,-,*,/,0):  +\n",
      "Enter key  100\n"
     ]
    },
    {
     "name": "stdout",
     "output_type": "stream",
     "text": [
      "added: 10+100: 100\n",
      "\n",
      " Calculator:\n",
      "+ Addition ___    - Subtraction___    * Multiplication___   / Division___   0. Exit\n"
     ]
    },
    {
     "name": "stdin",
     "output_type": "stream",
     "text": [
      "Enter your choice (+,-,*,/,0):  -\n",
      "Enter value 20\n"
     ]
    },
    {
     "name": "stdout",
     "output_type": "stream",
     "text": [
      "added: 80-20: 80\n",
      "\n",
      " Calculator:\n",
      "+ Addition ___    - Subtraction___    * Multiplication___   / Division___   0. Exit\n"
     ]
    },
    {
     "name": "stdin",
     "output_type": "stream",
     "text": [
      "Enter your choice (+,-,*,/,0):  +\n",
      "Enter key  400\n"
     ]
    },
    {
     "name": "stdout",
     "output_type": "stream",
     "text": [
      "added: 10+400: 480\n",
      "\n",
      " Calculator:\n",
      "+ Addition ___    - Subtraction___    * Multiplication___   / Division___   0. Exit\n"
     ]
    },
    {
     "name": "stdin",
     "output_type": "stream",
     "text": [
      "Enter your choice (+,-,*,/,0):  +\n",
      "Enter key  80\n"
     ]
    },
    {
     "name": "stdout",
     "output_type": "stream",
     "text": [
      "added: 10+80: 560\n",
      "\n",
      " Calculator:\n",
      "+ Addition ___    - Subtraction___    * Multiplication___   / Division___   0. Exit\n"
     ]
    },
    {
     "name": "stdin",
     "output_type": "stream",
     "text": [
      "Enter your choice (+,-,*,/,0):  -\n",
      "Enter value 60\n"
     ]
    },
    {
     "name": "stdout",
     "output_type": "stream",
     "text": [
      "added: 500-60: 500\n",
      "\n",
      " Calculator:\n",
      "+ Addition ___    - Subtraction___    * Multiplication___   / Division___   0. Exit\n"
     ]
    },
    {
     "name": "stdin",
     "output_type": "stream",
     "text": [
      "Enter your choice (+,-,*,/,0):  /\n",
      "Enter value 5\n"
     ]
    },
    {
     "name": "stdout",
     "output_type": "stream",
     "text": [
      "added: 100.0/5: 100.0\n",
      "\n",
      " Calculator:\n",
      "+ Addition ___    - Subtraction___    * Multiplication___   / Division___   0. Exit\n"
     ]
    },
    {
     "name": "stdin",
     "output_type": "stream",
     "text": [
      "Enter your choice (+,-,*,/,0):  /5\n"
     ]
    },
    {
     "name": "stdout",
     "output_type": "stream",
     "text": [
      "Invalid choice. Please enter C, R, U, D, or 0.\n",
      "\n",
      " Calculator:\n",
      "+ Addition ___    - Subtraction___    * Multiplication___   / Division___   0. Exit\n"
     ]
    },
    {
     "name": "stdin",
     "output_type": "stream",
     "text": [
      "Enter your choice (+,-,*,/,0):  /5\n"
     ]
    },
    {
     "name": "stdout",
     "output_type": "stream",
     "text": [
      "Invalid choice. Please enter C, R, U, D, or 0.\n",
      "\n",
      " Calculator:\n",
      "+ Addition ___    - Subtraction___    * Multiplication___   / Division___   0. Exit\n"
     ]
    },
    {
     "name": "stdin",
     "output_type": "stream",
     "text": [
      "Enter your choice (+,-,*,/,0):  /\n",
      "Enter value 5\n"
     ]
    },
    {
     "name": "stdout",
     "output_type": "stream",
     "text": [
      "added: 20.0/5: 20.0\n",
      "\n",
      " Calculator:\n",
      "+ Addition ___    - Subtraction___    * Multiplication___   / Division___   0. Exit\n"
     ]
    },
    {
     "name": "stdin",
     "output_type": "stream",
     "text": [
      "Enter your choice (+,-,*,/,0):  *5\n"
     ]
    },
    {
     "name": "stdout",
     "output_type": "stream",
     "text": [
      "Invalid choice. Please enter C, R, U, D, or 0.\n",
      "\n",
      " Calculator:\n",
      "+ Addition ___    - Subtraction___    * Multiplication___   / Division___   0. Exit\n"
     ]
    },
    {
     "name": "stdin",
     "output_type": "stream",
     "text": [
      "Enter your choice (+,-,*,/,0):  *\n",
      "Enter value 5\n"
     ]
    },
    {
     "name": "stdout",
     "output_type": "stream",
     "text": [
      "added: 100.0*5: 100.0\n",
      "\n",
      " Calculator:\n",
      "+ Addition ___    - Subtraction___    * Multiplication___   / Division___   0. Exit\n"
     ]
    },
    {
     "name": "stdin",
     "output_type": "stream",
     "text": [
      "Enter your choice (+,-,*,/,0):  0\n"
     ]
    },
    {
     "name": "stdout",
     "output_type": "stream",
     "text": [
      "Final Answer= 100.0\n",
      "Exiting program...\n"
     ]
    }
   ],
   "source": [
    "#Write a code to Implement Calculator with the help of Class\n",
    "class Calc:\n",
    "    def Add(self,n,m):\n",
    "        return n+m\n",
    "\n",
    "    def Sub(self,n,m):\n",
    "        return n-m\n",
    "\n",
    "    def Mul(self,n,m):\n",
    "        return n*m\n",
    "\n",
    "    def Div(self,n,m):\n",
    "        return n/m\n",
    "\n",
    "ans = 0\n",
    "Object = Calc()\n",
    "while True:\n",
    "    print(\"\\n Calculator:\")\n",
    "    print(\"+ Addition \",end=\"___    \")\n",
    "    print(\"- Subtraction\",end=\"___    \")\n",
    "    print(\"* Multiplication\",end=\"___   \")\n",
    "    print(\"/ Division\",end=\"___   \")\n",
    "    print(\"0. Exit\")\n",
    "\n",
    "    choice = input(\"Enter your choice (+,-,*,/,0): \")\n",
    "\n",
    "    if choice == \"+\":\n",
    "        m = int(input(\"Enter key \"))\n",
    "        ans = Object.Add(ans,m)\n",
    "        print(f\"added: {n}+{m}: {ans}\")\n",
    "    elif choice == \"-\":\n",
    "        \n",
    "        m = int(input(\"Enter value\"))\n",
    "        ans = Object.Sub(ans,m)\n",
    "        print(f\"added: {ans}-{m}: {ans}\")\n",
    "        \n",
    "    elif choice == \"*\":\n",
    "        \n",
    "        m = int(input(\"Enter value\"))\n",
    "        ans = Object.Mul(ans,m)\n",
    "        print(f\"added: {ans}*{m}: {ans}\")\n",
    "    \n",
    "    elif choice == \"/\":\n",
    "        m = int(input(\"Enter value\"))\n",
    "        ans = Object.Div(ans,m)\n",
    "        print(f\"added: {ans}/{m}: {ans}\")\n",
    "        \n",
    "    elif choice == \"0\":\n",
    "        print(\"Final Answer=\",ans)\n",
    "        print(\"Exiting program...\")\n",
    "        break\n",
    "    else:\n",
    "        print(\"Invalid choice. Please enter C, R, U, D, or 0.\")\n"
   ]
  },
  {
   "cell_type": "code",
   "execution_count": 82,
   "id": "be691a2c-aba7-4d99-8abf-6c9874f48fc4",
   "metadata": {
    "tags": []
   },
   "outputs": [
    {
     "name": "stdout",
     "output_type": "stream",
     "text": [
      "Options:\n",
      "1. Add\n",
      "2. Subtract\n",
      "3. Multiply\n",
      "4. Divide\n",
      "0. Exit\n"
     ]
    },
    {
     "name": "stdin",
     "output_type": "stream",
     "text": [
      "Enter choice:  0\n"
     ]
    },
    {
     "name": "stdout",
     "output_type": "stream",
     "text": [
      "Exiting...\n"
     ]
    }
   ],
   "source": [
    "class Add:\n",
    "    def __init__(self):\n",
    "        self.result = 0\n",
    "\n",
    "    def calculate(self, x, y):\n",
    "        self.result = x + y\n",
    "        return self.result\n",
    "\n",
    "\n",
    "class Subtract:\n",
    "    def __init__(self):\n",
    "        self.result = 0\n",
    "\n",
    "    def calculate(self, x, y):\n",
    "        self.result = x - y\n",
    "        return self.result\n",
    "\n",
    "\n",
    "class Multiply:\n",
    "    def __init__(self):\n",
    "        self.result = 0\n",
    "\n",
    "    def calculate(self, x, y):\n",
    "        self.result = x * y\n",
    "        return self.result\n",
    "\n",
    "\n",
    "class Divide:\n",
    "    def __init__(self):\n",
    "        self.result = 0\n",
    "\n",
    "    def calculate(self, x, y):\n",
    "        if y != 0:\n",
    "            self.result = x / y\n",
    "            return self.result\n",
    "        else:\n",
    "            print(\"Cannot divide by zero!\")\n",
    "            return None\n",
    "\n",
    "\n",
    "def main():\n",
    "    while True:\n",
    "        print(\"Options:\")\n",
    "        print(\"1. Add\")\n",
    "        print(\"2. Subtract\")\n",
    "        print(\"3. Multiply\")\n",
    "        print(\"4. Divide\")\n",
    "        print(\"0. Exit\")\n",
    "\n",
    "        choice = input(\"Enter choice: \")\n",
    "\n",
    "        if choice == '0':\n",
    "            print(\"Exiting...\")\n",
    "            break\n",
    "        elif choice in ('1', '2', '3', '4'):\n",
    "            num1 = float(input(\"Enter first number: \"))\n",
    "            num2 = float(input(\"Enter second number: \"))\n",
    "\n",
    "            if choice == '1':\n",
    "                add = Add()\n",
    "                result = add.calculate(num1, num2)\n",
    "            elif choice == '2':\n",
    "                sub = Subtract()\n",
    "                result = sub.calculate(num1, num2)\n",
    "            elif choice == '3':\n",
    "                mul = Multiply()\n",
    "                result = mul.calculate(num1, num2)\n",
    "            elif choice == '4':\n",
    "                div = Divide()\n",
    "                result = div.calculate(num1, num2)\n",
    "\n",
    "            if result is not None:\n",
    "                print(\"Result:\", result)\n",
    "        else:\n",
    "            print(\"Invalid choice. Please enter a valid option.\")\n",
    "\n",
    "\n",
    "if __name__ == \"__main__\":\n",
    "    main()\n"
   ]
  },
  {
   "cell_type": "code",
   "execution_count": 84,
   "id": "b3094486-269f-477c-bffc-bef8c15be3bf",
   "metadata": {
    "tags": []
   },
   "outputs": [
    {
     "name": "stdout",
     "output_type": "stream",
     "text": [
      "Drive!\n",
      "Sail!\n",
      "Fly!\n"
     ]
    }
   ],
   "source": [
    "# Polymorphism in Python\n",
    "\n",
    "class Car:\n",
    "  def __init__(self, brand, model):\n",
    "    self.brand = brand\n",
    "    self.model = model\n",
    "\n",
    "  def move(self):\n",
    "    print(\"Drive!\")\n",
    "\n",
    "class Boat:\n",
    "  def __init__(self, brand, model):\n",
    "    self.brand = brand\n",
    "    self.model = model\n",
    "\n",
    "  def move(self):\n",
    "    print(\"Sail!\")\n",
    "\n",
    "class Plane:\n",
    "  def __init__(self, brand, model):\n",
    "    self.brand = brand\n",
    "    self.model = model\n",
    "\n",
    "  def move(self):\n",
    "    print(\"Fly!\")\n",
    "\n",
    "car1 = Car(\"Ford\", \"Mustang\")       #Create a Car class\n",
    "boat1 = Boat(\"Ibiza\", \"Touring 20\") #Create a Boat class\n",
    "plane1 = Plane(\"Boeing\", \"747\")     #Create a Plane class\n",
    "\n",
    "for x in (car1, boat1, plane1):\n",
    "  x.move()"
   ]
  },
  {
   "cell_type": "code",
   "execution_count": 9,
   "id": "7ce10c61-9392-45f8-b3f1-da4312a9bfab",
   "metadata": {
    "tags": []
   },
   "outputs": [],
   "source": [
    "import mymodule\n"
   ]
  },
  {
   "cell_type": "code",
   "execution_count": 10,
   "id": "86bec8e7-dea0-4dfd-82f0-5f74706eaae1",
   "metadata": {
    "tags": []
   },
   "outputs": [
    {
     "name": "stdout",
     "output_type": "stream",
     "text": [
      "Hello, yO\n"
     ]
    }
   ],
   "source": [
    "\n",
    "mymodule.greeting(\"yO\")"
   ]
  },
  {
   "cell_type": "code",
   "execution_count": 11,
   "id": "8c1bbaef-af87-4485-82e4-2141157409aa",
   "metadata": {
    "tags": []
   },
   "outputs": [],
   "source": [
    "import platform"
   ]
  },
  {
   "cell_type": "code",
   "execution_count": 23,
   "id": "08fb840f-5c0c-4c4e-b6d3-4e3142fa2198",
   "metadata": {
    "tags": []
   },
   "outputs": [
    {
     "name": "stdout",
     "output_type": "stream",
     "text": [
      "Intel64 Family 6 Model 58 Stepping 9, GenuineIntel\n",
      "('64bit', 'WindowsPE')\n",
      "AMD64\n",
      "\n"
     ]
    }
   ],
   "source": [
    "print(platform.processor())\n",
    "print(platform.architecture())\n",
    "print(platform.machine())\n",
    "print(platform.python_branch())\n"
   ]
  },
  {
   "cell_type": "code",
   "execution_count": 30,
   "id": "1da50777-dd8c-4c66-a795-63a14f09578c",
   "metadata": {
    "tags": []
   },
   "outputs": [
    {
     "name": "stdout",
     "output_type": "stream",
     "text": [
      "<class 'tuple'>\n"
     ]
    }
   ],
   "source": [
    "# create a tuple wiht only one element\n",
    "\n",
    "a = (1,)\n",
    "print(type(a))"
   ]
  },
  {
   "cell_type": "code",
   "execution_count": 44,
   "id": "245a5783-0fa1-48fa-95b0-8069e6bc6913",
   "metadata": {},
   "outputs": [
    {
     "name": "stdout",
     "output_type": "stream",
     "text": [
      "<class 'list'>\n",
      "[120, 23, 234, -345, 425, 13, 523, 1, 234, 524, 234, 653, 34]\n",
      "524 index of original tuple: 9\n"
     ]
    }
   ],
   "source": [
    "# sort a tuple and find a second largest number and its index from original tuple\n",
    "\n",
    "atuple = (120,23,234,-345,425,13,523,1,234,524,234,653,34)\n",
    "alist = list(atuple)\n",
    "li = list(atuple)\n",
    "# print(type(alist))\n",
    "alist.sort()\n",
    "# print(li)\n",
    "secondlargestnumber= alist[len(alist)-2]\n",
    "print(secondlargestnumber,\"index of original tuple:\",li.index(secondlargestnumber))"
   ]
  },
  {
   "cell_type": "code",
   "execution_count": 63,
   "id": "fe66e82d-a498-4d7e-a1cb-26deb83b2b72",
   "metadata": {},
   "outputs": [
    {
     "name": "stdout",
     "output_type": "stream",
     "text": [
      "[(5, 4, -1), (77, 5, 1), (1, 2, 3), (75, 3, 7), (55, 100, 500)]\n"
     ]
    }
   ],
   "source": [
    "# sort a tuple of tuples with 3rd element of it\n",
    "\n",
    "mytuple=((1,2,3),(77,5,1),(5,4,-1),(55,100,500),(75,3,7))\n",
    "\n",
    "sorted_tuples = sorted(mytuple,key=lambda x: x[2])\n",
    "print(sorted_tuples)"
   ]
  },
  {
   "cell_type": "code",
   "execution_count": null,
   "id": "64836431-fa62-4ba8-b04d-5f75e2d573aa",
   "metadata": {},
   "outputs": [],
   "source": []
  }
 ],
 "metadata": {
  "kernelspec": {
   "display_name": "Python 3 (ipykernel)",
   "language": "python",
   "name": "python3"
  },
  "language_info": {
   "codemirror_mode": {
    "name": "ipython",
    "version": 3
   },
   "file_extension": ".py",
   "mimetype": "text/x-python",
   "name": "python",
   "nbconvert_exporter": "python",
   "pygments_lexer": "ipython3",
   "version": "3.11.5"
  }
 },
 "nbformat": 4,
 "nbformat_minor": 5
}
