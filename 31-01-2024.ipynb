{
 "cells": [
  {
   "cell_type": "code",
   "execution_count": null,
   "id": "5f68c433-5139-48af-bbf4-2e8f28d7d0fa",
   "metadata": {
    "tags": []
   },
   "outputs": [],
   "source": []
  },
  {
   "cell_type": "code",
   "execution_count": 1,
   "id": "51c4558e-f587-4c1b-8220-fb92e6f7a344",
   "metadata": {
    "tags": []
   },
   "outputs": [],
   "source": [
    "# from bs4 import BeautifulSoup\n",
    "\n",
    "# import requests\n",
    "# import pandas as pd\n"
   ]
  },
  {
   "cell_type": "code",
   "execution_count": 260,
   "id": "278fe0e7-c4f8-4ed6-b952-ed24291d8a31",
   "metadata": {
    "tags": []
   },
   "outputs": [],
   "source": [
    "# URL = 'https://www.amazon.in/s?k=laptop&i=electronics&s=price-asc-rank&crid=3T6B5A9OG86UM&qid=1706702974&sprefix=laptop%2Celectronics%2C199&ref=sr_st_price-asc-rank&ds=v1%3AUoousje4IqYIXr66k1uthOwqaxLCQOzbH2twdBoNPSI'"
   ]
  },
  {
   "cell_type": "code",
   "execution_count": 270,
   "id": "1c5d2071-e51b-4b18-8e9a-9ab4ccf3eb36",
   "metadata": {
    "tags": []
   },
   "outputs": [],
   "source": [
    "# # Headers for requets\n",
    "# HEADERS = ({'User-Agent':'Mozilla/5.0 (Windows NT 10.0; Win64; x64) AppleWebKit/537.36 (KHTML, like Gecko) Chrome/121.0.0.0 Safari/537.36','Accept-Language':'en-US, en;q=0.5'})\n"
   ]
  },
  {
   "cell_type": "code",
   "execution_count": 271,
   "id": "ffba7d1a-f73d-482d-8c45-cd8edbf1de92",
   "metadata": {
    "tags": []
   },
   "outputs": [],
   "source": [
    "# # Http Requests\n",
    "# webpage = requests.get(URL,headers = HEADERS)\n",
    "# print(webpage)\n",
    "# webpage.content"
   ]
  },
  {
   "cell_type": "code",
   "execution_count": 272,
   "id": "9d332f05-c2f4-4b1d-b500-5c81fd83db61",
   "metadata": {
    "tags": []
   },
   "outputs": [],
   "source": [
    "# Soup Object containing all the objects\n",
    "\n",
    "# soup = BeautifulSoup(webpage.content,'html.parser')\n"
   ]
  },
  {
   "cell_type": "code",
   "execution_count": 273,
   "id": "29633626-6716-4583-be7a-25bb3b6e8bbc",
   "metadata": {},
   "outputs": [],
   "source": [
    "# Fetch links as List of Tag Objects\n",
    "# links= soup.find_all('a',attrs={'class':'a-link-normal s-no-outline'})"
   ]
  },
  {
   "cell_type": "code",
   "execution_count": 274,
   "id": "612b3d72-f687-40f3-b056-85e1a3cb0831",
   "metadata": {
    "tags": []
   },
   "outputs": [],
   "source": [
    "# links[0]"
   ]
  },
  {
   "cell_type": "code",
   "execution_count": 133,
   "id": "6392a9e2-83b5-42a4-855e-d268c9dadc56",
   "metadata": {
    "tags": []
   },
   "outputs": [],
   "source": [
    "# link = links[0].get('href')"
   ]
  },
  {
   "cell_type": "code",
   "execution_count": 134,
   "id": "12d2acda-78be-4c12-b1c2-d7987b6ee359",
   "metadata": {
    "tags": []
   },
   "outputs": [],
   "source": [
    "# product_list = 'https://amazon.in'+link"
   ]
  },
  {
   "cell_type": "code",
   "execution_count": 136,
   "id": "fef7ffc4-41c2-4d72-bd09-d28d407a1100",
   "metadata": {
    "tags": []
   },
   "outputs": [],
   "source": [
    "# new_webpage = requests.get(product_list,headers=HEADERS)"
   ]
  },
  {
   "cell_type": "code",
   "execution_count": 148,
   "id": "4c8367ad-f9f3-408d-94ef-136244d36df2",
   "metadata": {
    "tags": []
   },
   "outputs": [],
   "source": [
    "# new_webpage.content"
   ]
  },
  {
   "cell_type": "code",
   "execution_count": 275,
   "id": "d90ff553-ea23-4182-9fca-d00404d44c81",
   "metadata": {
    "tags": []
   },
   "outputs": [],
   "source": [
    "# new_soup = BeautifulSoup(new_webpage.content,'html.parser')\n",
    "# title = new_soup.find(\"span\",attrs={'id':'productTitle'})\n",
    "# title.text.strip()\n",
    "\n",
    "# price = new_soup.find('span',attrs={'class':'a-price-whole'})\n",
    "# price.text.strip()"
   ]
  },
  {
   "cell_type": "code",
   "execution_count": 174,
   "id": "0bf5ccc7-8aa2-4b20-9250-0c0746eb358e",
   "metadata": {
    "tags": []
   },
   "outputs": [
    {
     "data": {
      "text/plain": [
       "'18 ratings'"
      ]
     },
     "execution_count": 174,
     "metadata": {},
     "output_type": "execute_result"
    }
   ],
   "source": [
    "# number_of_reviews = new_soup.find('span',attrs={'id':'acrCustomerReviewText'})\n",
    "# number_of_reviews.text"
   ]
  },
  {
   "cell_type": "code",
   "execution_count": 276,
   "id": "7d2a89a3-37cb-47f7-98eb-83bc4071d049",
   "metadata": {
    "tags": []
   },
   "outputs": [],
   "source": [
    "# ratings = new_soup.find('span',attrs={'class':'a-icon-alt'})\n",
    "# ratings.text[:3]"
   ]
  },
  {
   "cell_type": "markdown",
   "id": "37750f2e-d06e-4742-b20b-9ab3d14f40b0",
   "metadata": {},
   "source": [
    "# WebScraping of Amazon.in using Beautfiul Soup and Exporting to CSV"
   ]
  },
  {
   "cell_type": "code",
   "execution_count": 1,
   "id": "a8d99b66-69c2-446e-8a75-de65bfac7ecb",
   "metadata": {
    "tags": []
   },
   "outputs": [],
   "source": [
    "from bs4 import BeautifulSoup\n",
    "import requests\n",
    "import pandas as pd\n",
    "import numpy as np\n"
   ]
  },
  {
   "cell_type": "code",
   "execution_count": 2,
   "id": "64a23e36-0a79-429e-9e91-528020e48653",
   "metadata": {
    "tags": []
   },
   "outputs": [],
   "source": [
    "# Functions to extract\n",
    "\n",
    "def get_title(new_soup):\n",
    "    try:\n",
    "        title = new_soup.find(\"span\",attrs={'id':'productTitle'})        \n",
    "        title_string = title.text.strip()\n",
    "        \n",
    "    except AttributeError:\n",
    "        title_string = \"\"\n",
    "    \n",
    "    return title_string\n",
    "\n",
    "def get_price(new_soup):\n",
    "    try:\n",
    "        price = new_soup.find('span',attrs={'class':'a-price-whole'})\n",
    "        price_string = price.text.strip()\n",
    "    except AttributeError:\n",
    "        price_string = \"\"\n",
    "    \n",
    "    return price_string\n",
    "\n",
    "def get_ratings(new_soup):\n",
    "    try:\n",
    "        ratings = new_soup.find('span',attrs={'class':'a-icon-alt'})\n",
    "        ratings_string = ratings.text[:3].strip()\n",
    "    except AttributeError:\n",
    "        ratings_string = \"\"\n",
    "        \n",
    "    return ratings_string\n"
   ]
  },
  {
   "cell_type": "code",
   "execution_count": 40,
   "id": "4c232cd8-224b-46c4-a333-4a04dda1cd7b",
   "metadata": {
    "tags": []
   },
   "outputs": [
    {
     "name": "stdout",
     "output_type": "stream",
     "text": [
      "<Response [200]>\n"
     ]
    }
   ],
   "source": [
    "URL = 'https://www.amazon.in/s?k=laptops&crid=UZ00B569QE69&sprefix=laptop%2Caps%2C257&ref=nb_sb_noss_1'\n",
    "\n",
    "# Headers for requets\n",
    "HEADERS = ({'User-Agent':'Mozilla/5.0 (Windows NT 10.0; Win64; x64) AppleWebKit/537.36 (KHTML, like Gecko) Chrome/121.0.0.0 Safari/537.36','Accept-Language':'en-US, en;q=0.5'})\n",
    "# Http Requests\n",
    "webpage = requests.get(URL,headers = HEADERS)\n",
    "print(webpage)\n",
    "\n",
    "links_list = []"
   ]
  },
  {
   "cell_type": "code",
   "execution_count": 41,
   "id": "31fb4a15-c02b-4c4d-b2bd-0a51e8799ef2",
   "metadata": {
    "tags": []
   },
   "outputs": [],
   "source": [
    "webpage = requests.get(URL, headers=HEADERS)\n",
    "soup = BeautifulSoup(webpage.content, \"html.parser\")\n",
    "\n",
    "links = soup.find_all(\"a\", attrs={'class':'a-link-normal'})\n",
    "\n",
    "# Looping to get seperate links in LIST\n",
    "for link in links:\n",
    "    links_list.append(link.get('href'))\n"
   ]
  },
  {
   "cell_type": "code",
   "execution_count": null,
   "id": "c7d33e9b-428f-49b6-b438-39379eb8bae0",
   "metadata": {
    "tags": []
   },
   "outputs": [],
   "source": []
  },
  {
   "cell_type": "code",
   "execution_count": 45,
   "id": "edb790e3-b0c3-4857-9f77-ffce9962bdf2",
   "metadata": {
    "tags": []
   },
   "outputs": [],
   "source": [
    "# print(links_list)\n",
    "# Empty Dictionary\n",
    "d = {'title':[],'price':[],'ratings':[]}\n"
   ]
  },
  {
   "cell_type": "code",
   "execution_count": null,
   "id": "ae340966-f9c0-42ae-a32c-496225704c04",
   "metadata": {
    "tags": []
   },
   "outputs": [],
   "source": [
    "# Loop for Extrcting from each link\n",
    "for link in links_list:\n",
    "    try:\n",
    "        \n",
    "        new_webpage = requests.get('https://www.amazon.in'+link,headers= HEADERS)\n",
    "        new_soup = BeautifulSoup(new_webpage.content,'html.parser')\n",
    "        #functions call to display all necessary product information\n",
    "        d['title'].append(get_title(new_soup))\n",
    "        d['price'].append(get_price(new_soup))\n",
    "        d['ratings'].append(get_ratings(new_soup))\n",
    "    except:\n",
    "        print(new_webpage)\n",
    "\n",
    "amazon_df = pd.DataFrame.from_dict(d)"
   ]
  },
  {
   "cell_type": "code",
   "execution_count": 60,
   "id": "907caf60-4671-4089-8777-c9351bf6f29e",
   "metadata": {
    "tags": []
   },
   "outputs": [
    {
     "data": {
      "text/html": [
       "<div>\n",
       "<style scoped>\n",
       "    .dataframe tbody tr th:only-of-type {\n",
       "        vertical-align: middle;\n",
       "    }\n",
       "\n",
       "    .dataframe tbody tr th {\n",
       "        vertical-align: top;\n",
       "    }\n",
       "\n",
       "    .dataframe thead th {\n",
       "        text-align: right;\n",
       "    }\n",
       "</style>\n",
       "<table border=\"1\" class=\"dataframe\">\n",
       "  <thead>\n",
       "    <tr style=\"text-align: right;\">\n",
       "      <th></th>\n",
       "      <th>title</th>\n",
       "      <th>price</th>\n",
       "      <th>ratings</th>\n",
       "    </tr>\n",
       "  </thead>\n",
       "  <tbody>\n",
       "  </tbody>\n",
       "</table>\n",
       "</div>"
      ],
      "text/plain": [
       "Empty DataFrame\n",
       "Columns: [title, price, ratings]\n",
       "Index: []"
      ]
     },
     "execution_count": 60,
     "metadata": {},
     "output_type": "execute_result"
    }
   ],
   "source": [
    "amazon_df\n"
   ]
  },
  {
   "cell_type": "code",
   "execution_count": 33,
   "id": "9db5502b-b8ed-49af-a94c-5b7538ac65ff",
   "metadata": {
    "tags": []
   },
   "outputs": [],
   "source": [
    "amazon_df.replace('',np.nan,inplace=True)"
   ]
  },
  {
   "cell_type": "code",
   "execution_count": 34,
   "id": "44ae5245-24d0-4ce9-aacb-c7829cd56130",
   "metadata": {
    "tags": []
   },
   "outputs": [],
   "source": [
    "amazon_df.dropna(inplace=True)\n",
    "amazon_df.reset_index(inplace=True)"
   ]
  },
  {
   "cell_type": "code",
   "execution_count": 35,
   "id": "842b2184-c33e-491d-a719-3618555de8be",
   "metadata": {
    "tags": []
   },
   "outputs": [],
   "source": [
    "amazon_df = amazon_df.drop(['index'],axis=1)"
   ]
  },
  {
   "cell_type": "code",
   "execution_count": 36,
   "id": "63fcc1f7-4417-4513-8d33-3b8c1c1cb5df",
   "metadata": {
    "tags": []
   },
   "outputs": [
    {
     "data": {
      "text/html": [
       "<div>\n",
       "<style scoped>\n",
       "    .dataframe tbody tr th:only-of-type {\n",
       "        vertical-align: middle;\n",
       "    }\n",
       "\n",
       "    .dataframe tbody tr th {\n",
       "        vertical-align: top;\n",
       "    }\n",
       "\n",
       "    .dataframe thead th {\n",
       "        text-align: right;\n",
       "    }\n",
       "</style>\n",
       "<table border=\"1\" class=\"dataframe\">\n",
       "  <thead>\n",
       "    <tr style=\"text-align: right;\">\n",
       "      <th></th>\n",
       "      <th>title</th>\n",
       "      <th>price</th>\n",
       "      <th>ratings</th>\n",
       "    </tr>\n",
       "  </thead>\n",
       "  <tbody>\n",
       "  </tbody>\n",
       "</table>\n",
       "</div>"
      ],
      "text/plain": [
       "Empty DataFrame\n",
       "Columns: [title, price, ratings]\n",
       "Index: []"
      ]
     },
     "execution_count": 36,
     "metadata": {},
     "output_type": "execute_result"
    }
   ],
   "source": [
    "amazon_df"
   ]
  },
  {
   "cell_type": "code",
   "execution_count": 337,
   "id": "f21dfff2-1580-4e27-a7aa-4ef47cd4d9bb",
   "metadata": {
    "tags": []
   },
   "outputs": [],
   "source": [
    "amazon_df.to_csv('amazon_data.csv',header=True,index=False)"
   ]
  },
  {
   "cell_type": "code",
   "execution_count": null,
   "id": "04e019d7-9517-4b38-b938-d759dd25b547",
   "metadata": {},
   "outputs": [],
   "source": []
  }
 ],
 "metadata": {
  "kernelspec": {
   "display_name": "Python 3 (ipykernel)",
   "language": "python",
   "name": "python3"
  },
  "language_info": {
   "codemirror_mode": {
    "name": "ipython",
    "version": 3
   },
   "file_extension": ".py",
   "mimetype": "text/x-python",
   "name": "python",
   "nbconvert_exporter": "python",
   "pygments_lexer": "ipython3",
   "version": "3.11.5"
  }
 },
 "nbformat": 4,
 "nbformat_minor": 5
}
