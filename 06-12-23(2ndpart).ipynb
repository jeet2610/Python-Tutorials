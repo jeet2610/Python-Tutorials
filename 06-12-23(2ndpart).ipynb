{
 "cells": [
  {
   "cell_type": "code",
   "execution_count": 2,
   "id": "94db8e8a-85a8-4f3b-8772-cd693350cce6",
   "metadata": {
    "tags": []
   },
   "outputs": [],
   "source": [
    "# Maths Function in Python\n",
    "\n",
    "import math"
   ]
  },
  {
   "cell_type": "code",
   "execution_count": 5,
   "id": "fc812ee4-e9eb-4017-b455-b3af47b189c7",
   "metadata": {
    "tags": []
   },
   "outputs": [],
   "source": [
    "# variables\n",
    "x = 12\n",
    "y = 10\n",
    "n = 100"
   ]
  },
  {
   "cell_type": "code",
   "execution_count": 6,
   "id": "18626bd3-cb5a-4a1e-bf00-7157959fac60",
   "metadata": {
    "tags": []
   },
   "outputs": [
    {
     "name": "stdout",
     "output_type": "stream",
     "text": [
      "10\n",
      "12\n"
     ]
    }
   ],
   "source": [
    "# Built-in Maths Functions\n",
    "\n",
    "# min() and max()\n",
    "print(min(x,y))\n",
    "print(max(x,y))"
   ]
  },
  {
   "cell_type": "code",
   "execution_count": 8,
   "id": "e1ffaa43-1dd7-4dd4-b4ec-007bd242d179",
   "metadata": {
    "tags": []
   },
   "outputs": [
    {
     "name": "stdout",
     "output_type": "stream",
     "text": [
      "7.242\n"
     ]
    }
   ],
   "source": [
    "# Built-in Maths Functions\n",
    "\n",
    "# abs() returns the absolute (pos) value\n",
    "print(abs(-7.242))"
   ]
  },
  {
   "cell_type": "code",
   "execution_count": 10,
   "id": "6f1c9e1b-1630-428b-9904-8fdc3d5c0d2d",
   "metadata": {
    "tags": []
   },
   "outputs": [
    {
     "name": "stdout",
     "output_type": "stream",
     "text": [
      "61917364224\n"
     ]
    }
   ],
   "source": [
    "# Built-in Maths Functions\n",
    "\n",
    "# pow(x,y) returns the value of x to the power of y(X^y)\n",
    "\n",
    "print(pow(x,y))"
   ]
  },
  {
   "cell_type": "code",
   "execution_count": 12,
   "id": "9db5abb4-09cf-4835-815f-552163aec8e1",
   "metadata": {
    "tags": []
   },
   "outputs": [
    {
     "name": "stdout",
     "output_type": "stream",
     "text": [
      "10.0\n"
     ]
    }
   ],
   "source": [
    "# Built-in Maths Functions\n",
    "\n",
    "# sqrt() returns the square root\n",
    "print(math.sqrt(n))"
   ]
  },
  {
   "cell_type": "code",
   "execution_count": 15,
   "id": "a9f89d53-9b7d-44e7-9e7c-0abf495cca4a",
   "metadata": {
    "tags": []
   },
   "outputs": [
    {
     "name": "stdout",
     "output_type": "stream",
     "text": [
      "11\n",
      "10\n"
     ]
    }
   ],
   "source": [
    "# Built-in Maths Functions\n",
    "\n",
    "# ceil() and floor() returns the nearest upper and lower number resp.\n",
    "print(math.ceil(10.5))\n",
    "print(math.floor(10.6))"
   ]
  },
  {
   "cell_type": "code",
   "execution_count": 15,
   "id": "26e479fa-11d7-402c-b4e8-4e5117bae80a",
   "metadata": {
    "tags": []
   },
   "outputs": [
    {
     "name": "stdout",
     "output_type": "stream",
     "text": [
      "11\n",
      "10\n"
     ]
    }
   ],
   "source": [
    "# Built-in Maths Functions\n",
    "\n",
    "# math.pi returns constant pi value of 3.14\n",
    "print(math.ceil(10.5))\n",
    "print(math.floor(10.6))"
   ]
  },
  {
   "cell_type": "code",
   "execution_count": 16,
   "id": "5de0d44f-7af0-4d86-8007-691681593ed7",
   "metadata": {
    "tags": []
   },
   "outputs": [],
   "source": [
    "#JSON in python \n",
    "\n",
    "import json"
   ]
  },
  {
   "cell_type": "code",
   "execution_count": 17,
   "id": "ad60a2a0-7211-43c2-8217-5921cb3c4822",
   "metadata": {
    "tags": []
   },
   "outputs": [
    {
     "name": "stdout",
     "output_type": "stream",
     "text": [
      "30\n"
     ]
    }
   ],
   "source": [
    "# some JSON:\n",
    "x =  '{ \"name\":\"John\", \"age\":30, \"city\":\"New York\"}'\n",
    "\n",
    "#parse x:\n",
    "y = json.loads(x)\n",
    "\n",
    "# the result will be dict\n",
    "print(y[\"age\"])"
   ]
  },
  {
   "cell_type": "code",
   "execution_count": 18,
   "id": "1c317664-cbe6-423e-81b5-fe5540a5d745",
   "metadata": {
    "tags": []
   },
   "outputs": [
    {
     "name": "stdout",
     "output_type": "stream",
     "text": [
      "{\"name\": \"John\", \"age\": 30, \"city\": \"New York\"}\n"
     ]
    }
   ],
   "source": [
    "# Convert from Python to Json\n",
    "\n",
    "# a Python object (dict):\n",
    "x = {\n",
    "  \"name\": \"John\",\n",
    "  \"age\": 30,\n",
    "  \"city\": \"New York\"\n",
    "}\n",
    "\n",
    "# convert to json using dump\n",
    "y = json.dumps(x)\n",
    "\n",
    "print(y)"
   ]
  },
  {
   "cell_type": "code",
   "execution_count": 21,
   "id": "50d88de8-7e1d-43b2-9b10-010deefb8b0f",
   "metadata": {
    "tags": []
   },
   "outputs": [
    {
     "name": "stdout",
     "output_type": "stream",
     "text": [
      "{\"name\": \"John\", \"age\": 30}\n",
      "[\"apple\", \"bananas\"]\n",
      "[\"apple\", \"bananas\"]\n",
      "\"hello\"\n",
      "42\n",
      "31.76\n",
      "true\n",
      "false\n",
      "null\n"
     ]
    }
   ],
   "source": [
    "# Convert Python objects into JSON strings, and print the values:/\n",
    "print(json.dumps({\"name\": \"John\", \"age\": 30})) #dict\n",
    "print(json.dumps([\"apple\", \"bananas\"])) #list\n",
    "print(json.dumps((\"apple\", \"bananas\"))) #tuple\n",
    "print(json.dumps(\"hello\")) #string\n",
    "print(json.dumps(42)) #int\n",
    "print(json.dumps(31.76)) #float\n",
    "print(json.dumps(True)) #bool True\n",
    "print(json.dumps(False)) #bool False\n",
    "print(json.dumps(None))"
   ]
  },
  {
   "cell_type": "code",
   "execution_count": 34,
   "id": "4d0b08a6-5b39-4605-b621-c4f2d286990e",
   "metadata": {
    "tags": []
   },
   "outputs": [
    {
     "name": "stdout",
     "output_type": "stream",
     "text": [
      "{\n",
      "    \"age\": 30,\n",
      "    \"cars\": [\n",
      "        {\n",
      "            \"model\": \"BMW 230\",\n",
      "            \"mpg\": 27.5\n",
      "        },\n",
      "        {\n",
      "            \"model\": \"Ford Edge\",\n",
      "            \"mpg\": 24.1\n",
      "        }\n",
      "    ],\n",
      "    \"children\": [\n",
      "        \"Ann\",\n",
      "        \"Billy\"\n",
      "    ],\n",
      "    \"divorced\": false,\n",
      "    \"married\": true,\n",
      "    \"name\": \"John\",\n",
      "    \"pets\": null\n",
      "}\n"
     ]
    }
   ],
   "source": [
    "# Converting Python object to JSON\n",
    "x = {\n",
    "  \"name\": \"John\",\n",
    "  \"age\": 30,\n",
    "  \"married\": True,\n",
    "  \"divorced\": False,\n",
    "  \"children\": (\"Ann\",\"Billy\"),\n",
    "  \"pets\": None,\n",
    "  \"cars\": [\n",
    "    {\"model\": \"BMW 230\", \"mpg\": 27.5},\n",
    "    {\"model\": \"Ford Edge\", \"mpg\": 24.1}\n",
    "  ]\n",
    "}\n",
    "\n",
    "print(json.dumps(x, indent=4,sort_keys=True))\n"
   ]
  },
  {
   "cell_type": "code",
   "execution_count": null,
   "id": "66ebac42-3383-49de-8200-de15301f3de6",
   "metadata": {
    "tags": []
   },
   "outputs": [],
   "source": [
    "#Task One\n",
    "# Create a loop to add or subtract days from a data given by the user\n",
    "\n",
    "import datetime\n",
    "from datetime import datetime,timedelta\n",
    "\n",
    "userDate = input(\"Enter date in 'YYYY-MM-DD'\")\n",
    "user_date = datetime.strptime(userDate, '%Y-%m-%d')\n",
    "new_date = datetime(1,1,1,0,0)\n",
    "try:\n",
    "    \n",
    "    while True:\n",
    "        UserInput = int(input(\"Enter 1 to Add \\nEnter 2 to subtract \\n0 to exits\"))\n",
    "        if UserInput ==1:\n",
    "            add_days = int(input(\"Enter Number of Days\"))\n",
    "            new_date = user_date + timedelta(days=add_days)\n",
    "            print(new_date)\n",
    "        elif UserInput ==2:\n",
    "            sub_days = int(input(\"Enter number of days\"))\n",
    "            new_date = x - timedelta(days=sub_days)\n",
    "            print(new_date)\n",
    "        elif UserInput ==0:\n",
    "            break\n",
    "except:\n",
    "    print(\"Enter a proper Date\")\n",
    "\n",
    "    \n",
    "\n"
   ]
  },
  {
   "cell_type": "code",
   "execution_count": 82,
   "id": "d7ab307d-492f-480e-bc58-f7b559a7351a",
   "metadata": {
    "tags": []
   },
   "outputs": [
    {
     "data": {
      "text/plain": [
       "[-10, -9, -8, -7, -6, -5, -4, -3, -2, -1, 0, 1, 2, 3, 4, 5, 6, 7, 8, 9]"
      ]
     },
     "execution_count": 82,
     "metadata": {},
     "output_type": "execute_result"
    }
   ],
   "source": [
    "# MAP, FILTER , LAMBDA in list\n",
    "\n",
    "# map\n",
    "\n",
    "# defining function \n",
    "def cube(x):\n",
    "    return x*x*x\n",
    "#generating list using range\n",
    "\n",
    "list1 = list(range(-10,10))\n",
    "list1"
   ]
  },
  {
   "cell_type": "code",
   "execution_count": 83,
   "id": "df18dfe4-2288-4916-9a82-92883e2633d6",
   "metadata": {
    "tags": []
   },
   "outputs": [
    {
     "data": {
      "text/plain": [
       "[-1000,\n",
       " -729,\n",
       " -512,\n",
       " -343,\n",
       " -216,\n",
       " -125,\n",
       " -64,\n",
       " -27,\n",
       " -8,\n",
       " -1,\n",
       " 0,\n",
       " 1,\n",
       " 8,\n",
       " 27,\n",
       " 64,\n",
       " 125,\n",
       " 216,\n",
       " 343,\n",
       " 512,\n",
       " 729]"
      ]
     },
     "execution_count": 83,
     "metadata": {},
     "output_type": "execute_result"
    }
   ],
   "source": [
    "# using map \n",
    "cube = list(map(lambda x: cube(x),list1))\n",
    "cube"
   ]
  },
  {
   "cell_type": "code",
   "execution_count": 85,
   "id": "8af318ac-e5de-4adc-ba37-0b6fd56c0132",
   "metadata": {
    "tags": []
   },
   "outputs": [
    {
     "data": {
      "text/plain": [
       "[-1000, -512, -216, -64, -8, 0, 8, 64, 216, 512]"
      ]
     },
     "execution_count": 85,
     "metadata": {},
     "output_type": "execute_result"
    }
   ],
   "source": [
    "#filter is used to create list of elements for which a function returns\n",
    "\n",
    "evenlist = list(filter(lambda x: (x%2==0),cube))\n",
    "evenlist"
   ]
  },
  {
   "cell_type": "code",
   "execution_count": 86,
   "id": "740b7794-3cff-4458-be97-a087d8dd9c9c",
   "metadata": {
    "tags": []
   },
   "outputs": [
    {
     "name": "stdin",
     "output_type": "stream",
     "text": [
      "Lower Bound -10\n",
      "Upper bound 10\n"
     ]
    },
    {
     "data": {
      "text/plain": [
       "[2, 4, 6, 8]"
      ]
     },
     "execution_count": 86,
     "metadata": {},
     "output_type": "execute_result"
    }
   ],
   "source": [
    "#Write a code that takes the range from the user and returns a list of positive and even numbers only.\n",
    "\n",
    "a = int(input(\"Lower Bound\"))\n",
    "b = int(input(\"Upper bound\"))\n",
    "\n",
    "numbers = list(range(a,b))\n",
    "c = list(filter(lambda x: (x>0 and x%2==0),numbers))\n",
    "c"
   ]
  },
  {
   "cell_type": "code",
   "execution_count": 91,
   "id": "da119443-cc30-414e-86fa-095dfe6c1f8e",
   "metadata": {
    "tags": []
   },
   "outputs": [
    {
     "data": {
      "text/plain": [
       "385"
      ]
     },
     "execution_count": 91,
     "metadata": {},
     "output_type": "execute_result"
    }
   ],
   "source": [
    "# Generate alist of numbers and use reduce() method along with lambda function to find the sum of sqaures of all in list\n",
    "import functools\n",
    "\n",
    "numberlist = list(range(1,11))\n",
    "squared_list = list(map(lambda x: (x*x),numberlist))\n",
    "gen_list = functools.reduce(lambda a,b: a+b,squared_list)\n",
    "gen_list\n",
    "\n"
   ]
  },
  {
   "cell_type": "code",
   "execution_count": 96,
   "id": "c8e4843c-a50c-45ce-9a75-a4554ebb5099",
   "metadata": {
    "tags": []
   },
   "outputs": [
    {
     "name": "stdout",
     "output_type": "stream",
     "text": [
      "419\n"
     ]
    }
   ],
   "source": [
    "# Calculating Total Age\n",
    "age_list = [12,32,3,31,30,32,43,12,43,32,43,45,12,49]\n",
    "\n",
    "total_age = functools.reduce(lambda a,b:a+b,age_list)\n",
    "print(total_age)"
   ]
  },
  {
   "cell_type": "code",
   "execution_count": 97,
   "id": "f2ee5450-caff-44b3-bcf6-504822490cbd",
   "metadata": {
    "tags": []
   },
   "outputs": [
    {
     "name": "stdout",
     "output_type": "stream",
     "text": [
      "[[0, 1, 2, 3, 4], [0, 1, 2, 3, 4], [0, 1, 2, 3, 4], [0, 1, 2, 3, 4], [0, 1, 2, 3, 4]]\n"
     ]
    }
   ],
   "source": [
    "# Manipulating Nested Lists:\n",
    "\n",
    "# flattening the list or extracting ele meeting certain criteria\n",
    "\n",
    "\n",
    "number_list = [] \n",
    "  \n",
    "for i in range(5): \n",
    "      \n",
    "    # Append an empty sublist inside the list \n",
    "    number_list.append([]) \n",
    "      \n",
    "    for j in range(5): \n",
    "        number_list[i].append(j) \n",
    "          \n",
    "print(number_list)"
   ]
  },
  {
   "cell_type": "code",
   "execution_count": 99,
   "id": "44a52465-6a19-4114-963e-897c3cb6a440",
   "metadata": {
    "tags": []
   },
   "outputs": [
    {
     "name": "stdout",
     "output_type": "stream",
     "text": [
      "[0, 1, 2, 3, 4, 0, 1, 2, 3, 4, 0, 1, 2, 3, 4, 0, 1, 2, 3, 4, 0, 1, 2, 3, 4]\n"
     ]
    }
   ],
   "source": [
    "flatten_matrix = []\n",
    "\n",
    "for sublist in number_list:\n",
    "    for val in sublist:\n",
    "        flatten_matrix.append(val)\n",
    "\n",
    "print(flatten_matrix)"
   ]
  }
 ],
 "metadata": {
  "kernelspec": {
   "display_name": "Python 3 (ipykernel)",
   "language": "python",
   "name": "python3"
  },
  "language_info": {
   "codemirror_mode": {
    "name": "ipython",
    "version": 3
   },
   "file_extension": ".py",
   "mimetype": "text/x-python",
   "name": "python",
   "nbconvert_exporter": "python",
   "pygments_lexer": "ipython3",
   "version": "3.11.5"
  }
 },
 "nbformat": 4,
 "nbformat_minor": 5
}
