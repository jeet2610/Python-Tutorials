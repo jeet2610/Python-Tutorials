{
 "cells": [
  {
   "cell_type": "code",
   "execution_count": 10,
   "id": "3fa3b593-b50e-4883-a0a4-2371080baa29",
   "metadata": {
    "tags": []
   },
   "outputs": [],
   "source": [
    "import numpy as np"
   ]
  },
  {
   "cell_type": "markdown",
   "id": "60385363-0f4c-45bc-becc-3a88972f85bc",
   "metadata": {
    "jp-MarkdownHeadingCollapsed": true,
    "tags": []
   },
   "source": [
    "# Numpy Dates and Time"
   ]
  },
  {
   "cell_type": "markdown",
   "id": "f726b08b-7768-4c8a-98aa-a4fe4dd7d867",
   "metadata": {
    "tags": []
   },
   "source": [
    "###### Write a NumPy program to display all the dates for the month of March, 2017."
   ]
  },
  {
   "cell_type": "code",
   "execution_count": 6,
   "id": "c3d865da-d95b-4981-a854-c9d64ed6f28d",
   "metadata": {
    "tags": []
   },
   "outputs": [
    {
     "name": "stdout",
     "output_type": "stream",
     "text": [
      "March , 2017\n",
      "['2017-03-01' '2017-03-02' '2017-03-03' '2017-03-04' '2017-03-05'\n",
      " '2017-03-06' '2017-03-07' '2017-03-08' '2017-03-09' '2017-03-10'\n",
      " '2017-03-11' '2017-03-12' '2017-03-13' '2017-03-14' '2017-03-15'\n",
      " '2017-03-16' '2017-03-17' '2017-03-18' '2017-03-19' '2017-03-20'\n",
      " '2017-03-21' '2017-03-22' '2017-03-23' '2017-03-24' '2017-03-25'\n",
      " '2017-03-26' '2017-03-27' '2017-03-28' '2017-03-29' '2017-03-30'\n",
      " '2017-03-31']\n"
     ]
    }
   ],
   "source": [
    "import numpy as np\n",
    "print(\"March , 2017\")\n",
    "print(np.arange(\"2017-03\",\"2017-04\",dtype=\"datetime64[D]\"))"
   ]
  },
  {
   "cell_type": "markdown",
   "id": "da70e371-d6cc-4df6-b6f3-fddf45988afe",
   "metadata": {},
   "source": [
    "###### Write a NumPy program to get the dates of yesterday, today and tomorrow."
   ]
  },
  {
   "cell_type": "code",
   "execution_count": 7,
   "id": "9274de3c-21e8-4e36-b17d-7e98adff9869",
   "metadata": {
    "tags": []
   },
   "outputs": [
    {
     "name": "stdout",
     "output_type": "stream",
     "text": [
      "Yesterday:  2023-12-18\n",
      "Today:  2023-12-19\n",
      "Tomorrow:  2023-12-20\n"
     ]
    }
   ],
   "source": [
    "import numpy as np\n",
    "\n",
    "yesterday = np.datetime64('today','D') - np.timedelta64(1,'D')\n",
    "print(\"Yesterday: \",yesterday)\n",
    "today = np.datetime64('today','D')\n",
    "print(\"Today: \",today)\n",
    "tomorrow = np.datetime64('today','D') + np.timedelta64(1,'D')\n",
    "print(\"Tomorrow: \",tomorrow)"
   ]
  },
  {
   "cell_type": "markdown",
   "id": "2772db7c-0a76-48ac-b4ad-4717abcd24a6",
   "metadata": {},
   "source": [
    "###### Write a NumPy program to count the number of days of specific month."
   ]
  },
  {
   "cell_type": "code",
   "execution_count": 9,
   "id": "c974bf29-724c-4125-92c5-4dd170fefc11",
   "metadata": {
    "tags": []
   },
   "outputs": [
    {
     "name": "stdout",
     "output_type": "stream",
     "text": [
      "Number of days in February, 2016\n",
      "29 days\n",
      "Number of days in Feb, 2017\n",
      "28 days\n"
     ]
    }
   ],
   "source": [
    "import numpy as np\n",
    "\n",
    "print(\"Number of days in February, 2016\")\n",
    "print(np.datetime64('2016-03-01')-np.datetime64('2016-02-01'))\n",
    "print(\"Number of days in Feb, 2017\")\n",
    "print(np.datetime64('2017-03-01')-np.datetime64('2017-02-01'))"
   ]
  },
  {
   "cell_type": "markdown",
   "id": "9dad5207-d775-4edc-8fd9-c2923580434c",
   "metadata": {},
   "source": [
    "###### Write a NumPy program to find the first monday in March, 2017\n",
    "\n"
   ]
  },
  {
   "cell_type": "code",
   "execution_count": 16,
   "id": "634ec3fe-92f4-431a-9a46-75bdd87d262e",
   "metadata": {
    "tags": []
   },
   "outputs": [
    {
     "name": "stdout",
     "output_type": "stream",
     "text": [
      "First Monday in Jan, 2024\n",
      "2024-01-01\n"
     ]
    }
   ],
   "source": [
    "import numpy as np\n",
    "print(\"First Monday in Jan, 2024\")\n",
    "print(np.busday_offset('2024-01',0,roll=\"forward\",weekmask=\"Mon\"))"
   ]
  },
  {
   "cell_type": "markdown",
   "id": "f1a83143-b9e7-4461-a28e-33a69210a16d",
   "metadata": {},
   "source": [
    "###### Write a NumPy program to find the number of weekdays in March 2017"
   ]
  },
  {
   "cell_type": "code",
   "execution_count": 19,
   "id": "b88f48e6-a25c-47ca-bf9f-bfc411249541",
   "metadata": {
    "tags": []
   },
   "outputs": [
    {
     "name": "stdout",
     "output_type": "stream",
     "text": [
      "Number of weekdays in March,2017\n",
      "23\n"
     ]
    }
   ],
   "source": [
    "import numpy as np\n",
    "print(\"Number of weekdays in March,2017\")\n",
    "print(np.busday_count('2017-03','2017-04'))"
   ]
  },
  {
   "cell_type": "markdown",
   "id": "874ff440-5f8d-46ed-b3ed-56e4bd937fa7",
   "metadata": {},
   "source": [
    "###### Write a NumPy program to convert numpy datetime64 to Timestamp.\n",
    "\n"
   ]
  },
  {
   "cell_type": "code",
   "execution_count": 20,
   "id": "dbee1cf1-1953-48ce-b431-a5cfd60f9201",
   "metadata": {
    "tags": []
   },
   "outputs": [],
   "source": [
    "import numpy as np\n",
    "from datetime import datetime"
   ]
  },
  {
   "cell_type": "code",
   "execution_count": 21,
   "id": "71640b8f-70e8-46f9-9b8f-b783e4f27068",
   "metadata": {
    "tags": []
   },
   "outputs": [
    {
     "name": "stdout",
     "output_type": "stream",
     "text": [
      "Current Date\n",
      "2023-12-19 06:40:51.170506\n"
     ]
    }
   ],
   "source": [
    "dt = datetime.utcnow()\n",
    "print(\"Current Date\")\n",
    "print(dt)"
   ]
  },
  {
   "cell_type": "code",
   "execution_count": 22,
   "id": "c0b37ec5-52b7-4048-946c-3f73ea2c0853",
   "metadata": {
    "tags": []
   },
   "outputs": [],
   "source": [
    "dt64 = np.datetime64(dt)"
   ]
  },
  {
   "cell_type": "markdown",
   "id": "3fa78194-71b8-40a6-80c3-dc1bc478a451",
   "metadata": {},
   "source": [
    "# Numpy Strings"
   ]
  },
  {
   "cell_type": "markdown",
   "id": "6eccfcbc-4272-41f2-aed0-c8eb309c2e29",
   "metadata": {},
   "source": [
    "##### Concatenate element-wise two arrays of string"
   ]
  },
  {
   "cell_type": "code",
   "execution_count": 31,
   "id": "5e05ddd7-8771-46a1-a9e9-2251a037a222",
   "metadata": {
    "tags": []
   },
   "outputs": [
    {
     "name": "stdout",
     "output_type": "stream",
     "text": [
      "Array1:\n",
      "['Python' 'PHP']\n",
      "Array2:\n",
      "[' Java' ' C++']\n",
      "New array:\n",
      "['Python Java' 'PHP C++']\n"
     ]
    }
   ],
   "source": [
    "# Importing the necessary library\n",
    "import numpy as np\n",
    "\n",
    "# Creating two NumPy arrays with string elements\n",
    "x1 = np.array(['Python', 'PHP'])\n",
    "x2 = np.array([' Java', ' C++'])\n",
    "\n",
    "# Displaying the contents of Array1\n",
    "print(\"Array1:\")\n",
    "print(x1)\n",
    "\n",
    "# Displaying the contents of Array2\n",
    "print(\"Array2:\")\n",
    "print(x2)\n",
    "\n",
    "# Concatenating the strings element-wise between x1 and x2 using np.char.add function\n",
    "new_array = np.char.add(x1, x2)\n",
    "\n",
    "# Displaying the new array formed by concatenating elements from x1 and x2\n",
    "print(\"New array:\")\n",
    "print(new_array)\n"
   ]
  },
  {
   "cell_type": "markdown",
   "id": "18c50c5d-1c0e-41f4-9bc2-05ed7cf7ab9a",
   "metadata": {},
   "source": [
    "##### Write a NumPy program to repeat all the elements three times of a given array of string.\n",
    "\n"
   ]
  },
  {
   "cell_type": "code",
   "execution_count": 38,
   "id": "412ddbbd-20b8-4f06-8e07-cead8e2c6089",
   "metadata": {
    "tags": []
   },
   "outputs": [
    {
     "name": "stdout",
     "output_type": "stream",
     "text": [
      "Original Array: \n",
      " ['Python ' 'Php ' 'JAVA ' ' C++']\n",
      "['Python Python Python ' 'Php Php Php ' 'JAVA JAVA JAVA ' ' C++ C++ C++']\n"
     ]
    }
   ],
   "source": [
    "X1 = np.array(['Python ','Php ','JAVA ',' C++' ])\n",
    "\n",
    "print(\"Original Array: \\n\",X1)\n",
    "new_arr = np.char.multiply(X1,3)\n",
    "print(new_arr)"
   ]
  },
  {
   "cell_type": "markdown",
   "id": "0f56e625-43fc-405f-b014-e8f3abfe70ca",
   "metadata": {},
   "source": [
    "##### Write a NumPy program to capitalize the first letter, lowercase, uppercase, swapcase, title-case of all the elements of a given array."
   ]
  },
  {
   "cell_type": "code",
   "execution_count": 40,
   "id": "3ea48692-ecce-4a5c-ad3d-7b6ccbf859e1",
   "metadata": {
    "tags": []
   },
   "outputs": [
    {
     "name": "stdout",
     "output_type": "stream",
     "text": [
      "Original Array:\n",
      "['python' 'PHP' 'java' 'C++']\n",
      "\n",
      "Capitalized:  ['Python' 'Php' 'Java' 'C++']\n",
      "Lowered:  ['python' 'php' 'java' 'c++']\n",
      "Uppered:  ['PYTHON' 'PHP' 'JAVA' 'C++']\n",
      "Swapcased:  ['PYTHON' 'php' 'JAVA' 'c++']\n",
      "Titlecased:  ['Python' 'Php' 'Java' 'C++']\n"
     ]
    }
   ],
   "source": [
    "# Importing the necessary library\n",
    "import numpy as np\n",
    "\n",
    "# Creating a NumPy array containing strings\n",
    "x = np.array(['python', 'PHP', 'java', 'C++'])\n",
    "\n",
    "# Displaying the original array\n",
    "print(\"Original Array:\")\n",
    "print(x)\n",
    "\n",
    "# Applying various string manipulation functions from np.char module\n",
    "# Capitalizing the first character of each string\n",
    "capitalized_case = np.char.capitalize(x)\n",
    "\n",
    "# Converting all characters to lowercase\n",
    "lowered_case = np.char.lower(x)\n",
    "\n",
    "# Converting all characters to uppercase\n",
    "uppered_case = np.char.upper(x)\n",
    "\n",
    "# Swapping the case of characters (lowercase to uppercase and vice versa)\n",
    "swapcased_case = np.char.swapcase(x)\n",
    "\n",
    "# Capitalizing the first character of each word in the string\n",
    "titlecased_case = np.char.title(x)\n",
    "\n",
    "# Displaying the modified arrays after applying string manipulation functions\n",
    "print(\"\\nCapitalized: \", capitalized_case)\n",
    "print(\"Lowered: \", lowered_case)\n",
    "print(\"Uppered: \", uppered_case)\n",
    "print(\"Swapcased: \", swapcased_case)\n",
    "print(\"Titlecased: \", titlecased_case) "
   ]
  },
  {
   "cell_type": "markdown",
   "id": "96a7bc9c-5d6f-41bd-808c-acf97b95d517",
   "metadata": {},
   "source": [
    "##### Write a NumPy program to insert a space between characters of all the elements of a given array.\n",
    "\n"
   ]
  },
  {
   "cell_type": "code",
   "execution_count": 44,
   "id": "e8eec2d7-0052-4a27-880a-287fd1a8a321",
   "metadata": {
    "tags": []
   },
   "outputs": [
    {
     "name": "stdout",
     "output_type": "stream",
     "text": [
      "['python exercises' 'PHP' 'Java']\n",
      "['p y t h o n   e x e r c i s e s' 'P H P' 'J a v a']\n"
     ]
    }
   ],
   "source": [
    "import numpy as np\n",
    "x = np.array(['python exercises','PHP','Java'])\n",
    "print(x)\n",
    "r = np.char.join(\" \",x)\n",
    "print(r)"
   ]
  },
  {
   "cell_type": "markdown",
   "id": "d31614ae-300f-440b-917b-9266789793ca",
   "metadata": {},
   "source": [
    "##### Write a NumPy program to remove the leading and trailing whitespaces of all the elements of a given array.\n",
    "\n"
   ]
  },
  {
   "cell_type": "code",
   "execution_count": 45,
   "id": "8e4a50ab-3cfc-4d3e-8bef-d520f36cb077",
   "metadata": {
    "tags": []
   },
   "outputs": [
    {
     "name": "stdout",
     "output_type": "stream",
     "text": [
      "[' Python Exercices' ' Python ' '  php  ']\n",
      "After Manipulation or Stripping\n",
      "['Python Exercices' 'Python' 'php']\n"
     ]
    }
   ],
   "source": [
    "import numpy as np\n",
    "x = np.array([' Python Exercices',' Python ','  php  '])\n",
    "print(x)\n",
    "print('After Manipulation or Stripping')\n",
    "stripped = np.char.strip(x)\n",
    "print(stripped)"
   ]
  },
  {
   "cell_type": "markdown",
   "id": "f466cb65-af57-4e06-8cef-1304ad820578",
   "metadata": {},
   "source": [
    "##### Write a NumPy program to remove the trailing whitespaces of all the elements of a given array.\n",
    "\n"
   ]
  },
  {
   "cell_type": "code",
   "execution_count": 49,
   "id": "efc0d765-ffb5-45c8-b57c-b8f48cd2c4b9",
   "metadata": {
    "tags": []
   },
   "outputs": [
    {
     "name": "stdout",
     "output_type": "stream",
     "text": [
      "[' python exercises ' ' PHP  ' ' java  ' '  C++']\n",
      "['python exercises ' 'PHP  ' 'java  ' 'C++']\n"
     ]
    }
   ],
   "source": [
    "x = np.array([' python exercises ', ' PHP  ', ' java  ', '  C++'])\n",
    "print(x)\n",
    "re = np.char.lstrip(x)\n",
    "print(re)\n",
    "#lstrip for left strip\n",
    "#rstrip for trailing spaces(right strip)"
   ]
  },
  {
   "cell_type": "markdown",
   "id": "c8cc2bc8-af23-4e70-90b5-da48f6dd4f0d",
   "metadata": {},
   "source": [
    "##### Write a NumPy program to split the element of a given array with spaces.\n",
    "\n"
   ]
  },
  {
   "cell_type": "code",
   "execution_count": 51,
   "id": "e3f63b3c-cdfc-4e5f-877e-a4c281524972",
   "metadata": {
    "tags": []
   },
   "outputs": [
    {
     "name": "stdout",
     "output_type": "stream",
     "text": [
      "original array\n",
      "['Python PHP Java C++' 'Jeet Vipul Shah']\n",
      "[list(['Python', 'PHP', 'Java', 'C++']) list(['Jeet', 'Vipul', 'Shah'])]\n"
     ]
    }
   ],
   "source": [
    "import numpy as np\n",
    "x = np.array(['Python PHP Java C++','Jeet Vipul Shah'])\n",
    "\n",
    "print('original array')\n",
    "print(x)\n",
    "r = np.char.split(x)\n",
    "print(r)"
   ]
  },
  {
   "cell_type": "markdown",
   "id": "dd091cc3-6359-4b30-bf4e-25efbf04ef96",
   "metadata": {},
   "source": [
    "##### Write a numpy program to split the elements of a given array to multiple lines"
   ]
  },
  {
   "cell_type": "code",
   "execution_count": 55,
   "id": "ca739b31-aa1d-4375-8928-9ff4ab4d5d6a",
   "metadata": {
    "tags": []
   },
   "outputs": [
    {
     "name": "stdout",
     "output_type": "stream",
     "text": [
      "['Python\\nExercises, Practice, Solution']\n",
      "[list(['Python', 'Exercises, Practice, Solution'])]\n"
     ]
    }
   ],
   "source": [
    "x = np.array(['Python\\nExercises, Practice, Solution'])\n",
    "print(x)\n",
    "r = np.char.splitlines(x)\n",
    "print(r)"
   ]
  },
  {
   "cell_type": "markdown",
   "id": "3ca9aa82-1e99-4276-8904-589b396dde8a",
   "metadata": {},
   "source": [
    "##### Write a NumPy program to replace \"PHP\" with \"Python\" in the element of a given array.\n",
    "\n",
    "\n"
   ]
  },
  {
   "cell_type": "code",
   "execution_count": 57,
   "id": "6c2c81d4-e9e0-481b-b6c5-57188d87ba6d",
   "metadata": {
    "tags": []
   },
   "outputs": [
    {
     "name": "stdout",
     "output_type": "stream",
     "text": [
      "\n",
      "Original Array:\n",
      "['PHP Exercises, Practice, Solution']\n",
      "\n",
      "New array:\n",
      "['Python Exercises, Practice, Solution']\n"
     ]
    }
   ],
   "source": [
    "# Importing necessary library\n",
    "import numpy as np\n",
    "\n",
    "# Creating a NumPy array containing a single string\n",
    "x = np.array(['PHP Exercises, Practice, Solution'], dtype=np.str_)\n",
    "\n",
    "# Displaying the original array\n",
    "print(\"\\nOriginal Array:\")\n",
    "print(x)\n",
    "\n",
    "# Replacing \"PHP\" with \"Python\" in the string of the array\n",
    "r = np.char.replace(x, \"PHP\", \"Python\")\n",
    "\n",
    "# Displaying the updated array after replacing the substring\n",
    "print(\"\\nNew array:\")\n",
    "print(r) \n"
   ]
  },
  {
   "cell_type": "markdown",
   "id": "8693a04a-b45e-47e0-a035-33877d0b7afc",
   "metadata": {},
   "source": [
    "##### Write a NumPy program to count the number of \"P\" in a given array, element-wise.\n",
    "\n"
   ]
  },
  {
   "cell_type": "code",
   "execution_count": 68,
   "id": "aac0f71e-6660-41bb-8170-4dd2c27177c8",
   "metadata": {
    "tags": []
   },
   "outputs": [
    {
     "name": "stdout",
     "output_type": "stream",
     "text": [
      "\n",
      "Original Array:\n",
      "['JEET' 'SHAH' 'JEEL' 'PATEL']\n",
      "Number of ‘J’:\n",
      "[1 0 1 0]\n"
     ]
    }
   ],
   "source": [
    "# Importing necessary library\n",
    "import numpy as np\n",
    "\n",
    "# Creating a NumPy array containing strings\n",
    "x1 = np.array([\"JEET\",\"SHAH\",\"JEEL\",\"PATEL\"], dtype=np.str_)\n",
    "\n",
    "# Displaying the content of the original array\n",
    "print(\"\\nOriginal Array:\")\n",
    "print(x1)\n",
    "\n",
    "# Counting the occurrences of the character 'P' in each string of the array x1\n",
    "print(\"Number of ‘J’:\")\n",
    "r = np.char.count(x1, \"J\")\n",
    "print(r) \n"
   ]
  },
  {
   "cell_type": "markdown",
   "id": "52feef99-0e72-48b3-8dfe-738a2da74872",
   "metadata": {},
   "source": [
    "#####  Write a NumPy program to split a given text into lines and split the single line into array values."
   ]
  },
  {
   "cell_type": "code",
   "execution_count": 70,
   "id": "f569fa29-ee7c-41fb-929b-7caa6e4c44fa",
   "metadata": {
    "tags": []
   },
   "outputs": [
    {
     "name": "stdout",
     "output_type": "stream",
     "text": [
      "01\tV\tDebby Pramod\n",
      "02\tV\tArtemiy Ellie\n",
      "03\tV\tBaptist Kamal\n",
      "04\tV\tLavanya Davide\n",
      "05\tV\tFulton Antwan\n",
      "06\tV\tEuanthe Sandeep\n",
      "07\tV\tEndzela Sanda\n",
      "08\tV\tVictoire Waman\n",
      "09\tV\tBriar Nur\n",
      "10\tV\tRose Lykos\n"
     ]
    }
   ],
   "source": [
    "import numpy as np\n",
    "student = \"\"\"01\tV\tDebby Pramod\n",
    "02\tV\tArtemiy Ellie\n",
    "03\tV\tBaptist Kamal\n",
    "04\tV\tLavanya Davide\n",
    "05\tV\tFulton Antwan\n",
    "06\tV\tEuanthe Sandeep\n",
    "07\tV\tEndzela Sanda\n",
    "08\tV\tVictoire Waman\n",
    "09\tV\tBriar Nur\n",
    "10\tV\tRose Lykos\"\"\"\n",
    "\n",
    "print(student)"
   ]
  },
  {
   "cell_type": "code",
   "execution_count": 72,
   "id": "abf71728-9ab8-4499-8d42-086c3b730661",
   "metadata": {
    "tags": []
   },
   "outputs": [
    {
     "name": "stdout",
     "output_type": "stream",
     "text": [
      "[['01' 'V' 'Debby Pramod']\n",
      " ['02' 'V' 'Artemiy Ellie']\n",
      " ['03' 'V' 'Baptist Kamal']\n",
      " ['04' 'V' 'Lavanya Davide']\n",
      " ['05' 'V' 'Fulton Antwan']\n",
      " ['06' 'V' 'Euanthe Sandeep']\n",
      " ['07' 'V' 'Endzela Sanda']\n",
      " ['08' 'V' 'Victoire Waman']\n",
      " ['09' 'V' 'Briar Nur']\n",
      " ['10' 'V' 'Rose Lykos']]\n"
     ]
    }
   ],
   "source": [
    "text_lines= student.splitlines()\n",
    "text_lines = [r.split('\\t') for r in text_lines]\n",
    "\n",
    "result = np.array(text_lines)\n",
    "print(result)"
   ]
  },
  {
   "cell_type": "markdown",
   "id": "ac61e2dd-8787-4324-b688-48e6a25b75c0",
   "metadata": {},
   "source": [
    "# Advance Numpy"
   ]
  },
  {
   "cell_type": "markdown",
   "id": "e66084cd-6113-489e-9b44-5f2523af9ba9",
   "metadata": {},
   "source": [
    "##### Write a NumPy program to create a 5x5 array with random values and calculate the exponential of each element"
   ]
  },
  {
   "cell_type": "code",
   "execution_count": 76,
   "id": "1738a143-3d98-486e-811c-0a912b57b329",
   "metadata": {
    "tags": []
   },
   "outputs": [
    {
     "name": "stdout",
     "output_type": "stream",
     "text": [
      "Original Array:\n",
      "[[0.12981813 0.01973367 0.63103148 0.00471203 0.84449519]\n",
      " [0.75250004 0.72053477 0.23423815 0.20393413 0.75435351]\n",
      " [0.73686802 0.88339643 0.48113653 0.53796103 0.92017666]\n",
      " [0.12119857 0.26281534 0.16589122 0.69760614 0.63315197]\n",
      " [0.37579706 0.44004192 0.89690374 0.78783066 0.25083821]]\n",
      "Exponential Array:\n",
      "[[1.13862128 1.01992967 1.87954829 1.00472315 2.32680291]\n",
      " [2.12229922 2.05553216 1.26394546 1.22621738 2.12623649]\n",
      " [2.08938135 2.41910208 1.61791217 1.71251155 2.50973372]\n",
      " [1.12884905 1.30058653 1.18044469 2.00893782 1.88353809]\n",
      " [1.4561516  1.5527723  2.45199931 2.1986217  1.28510215]]\n"
     ]
    }
   ],
   "source": [
    "import numpy as np\n",
    "num = np.random.rand(5,5)\n",
    "exp_arr = np.exp(num)\n",
    "print(\"Original Array:\")\n",
    "print(num)\n",
    "print(\"Exponential Array:\")\n",
    "print(exp_arr)"
   ]
  },
  {
   "cell_type": "markdown",
   "id": "91c90c23-1a93-4e76-ba83-2861f0ad98b7",
   "metadata": {},
   "source": [
    "##### Write a NumPy program to create a 5x5 array with random values and replace the minimum value with 0.\n",
    "\n"
   ]
  },
  {
   "cell_type": "code",
   "execution_count": 92,
   "id": "7b9c9234-9639-4f6b-9683-d1bc08e5b2ee",
   "metadata": {
    "tags": []
   },
   "outputs": [
    {
     "name": "stdout",
     "output_type": "stream",
     "text": [
      "Original Array:\n",
      "[[0.97066533 0.24903124 0.38133826 0.95374125 0.93492523]\n",
      " [0.28670889 0.02794777 0.18910215 0.97107295 0.93646463]\n",
      " [0.94349883 0.68922852 0.65269805 0.54402837 0.49783195]\n",
      " [0.19319192 0.71717602 0.29335944 0.10776255 0.85171049]\n",
      " [0.26757416 0.02232909 0.57611168 0.83744205 0.79831632]]\n",
      "Manipulated Array\n",
      "[[0.97066533 0.24903124 0.38133826 0.95374125 0.93492523]\n",
      " [0.28670889 0.02794777 0.18910215 0.97107295 0.93646463]\n",
      " [0.94349883 0.68922852 0.65269805 0.54402837 0.49783195]\n",
      " [0.19319192 0.71717602 0.29335944 0.10776255 0.85171049]\n",
      " [0.26757416 0.         0.57611168 0.83744205 0.79831632]]\n"
     ]
    }
   ],
   "source": [
    "import numpy as np\n",
    "num = np.random.rand(5,5)\n",
    "print(\"Original Array:\")\n",
    "print(num)\n",
    "\n",
    "min_val = num.min()\n",
    "num[num==min_val]=0\n",
    "print(\"Manipulated Array\")\n",
    "print(num)\n"
   ]
  },
  {
   "cell_type": "markdown",
   "id": "bc56057e-020c-41ed-8254-ba7f7956f1ed",
   "metadata": {},
   "source": [
    "##### Write a NumPy program to create a 5x5 array with random values and replace the maximum value with 0."
   ]
  },
  {
   "cell_type": "code",
   "execution_count": 93,
   "id": "73693029-040c-46fb-ad77-eff173e0cc44",
   "metadata": {
    "tags": []
   },
   "outputs": [
    {
     "name": "stdout",
     "output_type": "stream",
     "text": [
      "Original Array:\n",
      "[[0.51263339 0.19431526 0.12991366 0.00389778 0.66241778]\n",
      " [0.32230698 0.43770403 0.44166935 0.17366145 0.39261121]\n",
      " [0.12691783 0.38070904 0.26599083 0.52243808 0.93887463]\n",
      " [0.37490515 0.54422099 0.74013968 0.83027105 0.92991764]\n",
      " [0.36851719 0.17561646 0.26962111 0.82689395 0.78597702]]\n",
      "Manipulated Array:\n",
      "[[0.51263339 0.19431526 0.12991366 0.00389778 0.66241778]\n",
      " [0.32230698 0.43770403 0.44166935 0.17366145 0.39261121]\n",
      " [0.12691783 0.38070904 0.26599083 0.52243808 0.        ]\n",
      " [0.37490515 0.54422099 0.74013968 0.83027105 0.92991764]\n",
      " [0.36851719 0.17561646 0.26962111 0.82689395 0.78597702]]\n"
     ]
    }
   ],
   "source": [
    "from numpy import *\n",
    "import numpy as np\n",
    "nums = np.random.rand(5,5)\n",
    "print(\"Original Array:\")\n",
    "print(nums)\n",
    "max = nums.max()\n",
    "nums[nums==max]=0\n",
    "print(\"Manipulated Array:\")\n",
    "print(nums)"
   ]
  },
  {
   "cell_type": "markdown",
   "id": "394e6f73-c03a-45b1-9b83-f3b774285de7",
   "metadata": {},
   "source": [
    "##### Write a NumPy program to create a 5x5 array with random values and find the second-largest value in each column."
   ]
  },
  {
   "cell_type": "code",
   "execution_count": 97,
   "id": "52ce9662-6f1a-403a-b490-b0cd4f6a4987",
   "metadata": {
    "tags": []
   },
   "outputs": [
    {
     "name": "stdout",
     "output_type": "stream",
     "text": [
      "Original array elements:\n",
      "[[0.36841271 0.64277098 0.88726241 0.55258182 0.34482688]\n",
      " [0.89513964 0.89766687 0.24268637 0.07703571 0.67565814]\n",
      " [0.50053904 0.43547793 0.86381642 0.18373151 0.01288604]\n",
      " [0.34535455 0.640237   0.66646545 0.48863675 0.37633162]\n",
      " [0.96920595 0.97667804 0.23470698 0.3804641  0.58225258]]\n",
      "\n",
      "Second-largest value in each column:\n",
      "[0.89513964 0.89766687 0.86381642 0.48863675 0.58225258]\n"
     ]
    }
   ],
   "source": [
    "import numpy as np\n",
    "# create a 5x5 array with random values\n",
    "nums = np.random.rand(5, 5)\n",
    "print(\"Original array elements:\")\n",
    "print(nums)\n",
    "# find the indices of the second-largest value in each column\n",
    "indices = np.argsort(nums, axis=0)[-2, :]\n",
    "# get the second-largest value in each column using the indices\n",
    "second_largest_values = nums[indices, np.arange(nums.shape[1])]\n",
    "print(\"\\nSecond-largest value in each column:\")\n",
    "print(second_largest_values)"
   ]
  },
  {
   "cell_type": "markdown",
   "id": "86660bb6-7693-4fbc-8fb2-b79943943eb8",
   "metadata": {},
   "source": [
    "##### Write a NumPy program to create a 5x5 array with random values and sort each column\n",
    "\n"
   ]
  },
  {
   "cell_type": "code",
   "execution_count": 101,
   "id": "14b10d52-8c3b-497d-9fca-38a049e67f0a",
   "metadata": {
    "tags": []
   },
   "outputs": [
    {
     "name": "stdout",
     "output_type": "stream",
     "text": [
      "Original Array\n",
      "[[0.65838399 0.37435401 0.29455761 0.32925949 0.01433632]\n",
      " [0.42479836 0.39471979 0.74286767 0.47252324 0.87902148]\n",
      " [0.97338805 0.89168097 0.9013055  0.11540919 0.69010109]\n",
      " [0.29362687 0.85199299 0.16558355 0.05527284 0.75685765]\n",
      " [0.94126998 0.54661047 0.66616853 0.61718137 0.17148449]]\n",
      "Sorted by Each Column\n",
      "[[0.29362687 0.37435401 0.16558355 0.05527284 0.01433632]\n",
      " [0.42479836 0.39471979 0.29455761 0.11540919 0.17148449]\n",
      " [0.65838399 0.54661047 0.66616853 0.32925949 0.69010109]\n",
      " [0.94126998 0.85199299 0.74286767 0.47252324 0.75685765]\n",
      " [0.97338805 0.89168097 0.9013055  0.61718137 0.87902148]]\n"
     ]
    }
   ],
   "source": [
    "import numpy as np\n",
    "b = np.random.rand(5,5)\n",
    "print(\"Original Array\")\n",
    "print(b)\n",
    "print(\"Sorted by Each Column\")\n",
    "print(np.sort(b,axis=0))"
   ]
  },
  {
   "cell_type": "markdown",
   "id": "a5160cec-3f27-44c7-a747-e06d427ba3b5",
   "metadata": {},
   "source": [
    "##### Write a NumPy program to create a 5x5 array with random values and sort each row.\n"
   ]
  },
  {
   "cell_type": "code",
   "execution_count": 105,
   "id": "baf5f5d2-a60f-40b1-ba66-ef79a751deb1",
   "metadata": {
    "tags": []
   },
   "outputs": [
    {
     "name": "stdout",
     "output_type": "stream",
     "text": [
      "Original Array: \n",
      " [[0.93587233 0.76679568 0.3780192  0.62380321 0.98904581]\n",
      " [0.65773717 0.36453939 0.1266744  0.99886697 0.76127902]\n",
      " [0.40346036 0.72128524 0.84931726 0.61101669 0.00374173]\n",
      " [0.38000903 0.21162474 0.75480478 0.25465002 0.43858346]\n",
      " [0.10127104 0.53790528 0.81211441 0.20926242 0.33667773]]\n",
      "Sorted by Each Row\n",
      "[[0.3780192  0.62380321 0.76679568 0.93587233 0.98904581]\n",
      " [0.1266744  0.36453939 0.65773717 0.76127902 0.99886697]\n",
      " [0.00374173 0.40346036 0.61101669 0.72128524 0.84931726]\n",
      " [0.21162474 0.25465002 0.38000903 0.43858346 0.75480478]\n",
      " [0.10127104 0.20926242 0.33667773 0.53790528 0.81211441]]\n"
     ]
    }
   ],
   "source": [
    "import numpy as np\n",
    "num_row = np.random.rand(5,5)\n",
    "print(\"Original Array: \\n\",num_row)\n",
    "print(\"Sorted by Each Row\")\n",
    "print(np.sort(num_row,axis=1))"
   ]
  },
  {
   "cell_type": "markdown",
   "id": "37d54ae9-04a6-41b1-a0fc-8cfd9c25ed30",
   "metadata": {},
   "source": [
    "##### Write a NumPy program to create a 3x3x3 array with random values and find the sum along the last axis."
   ]
  },
  {
   "cell_type": "code",
   "execution_count": 107,
   "id": "31f96327-7f21-4396-bf7a-6f6ffff4af50",
   "metadata": {
    "tags": []
   },
   "outputs": [
    {
     "name": "stdout",
     "output_type": "stream",
     "text": [
      "Original Array Elements:\n",
      "[[[0.41294514 0.64063041 0.84765972]\n",
      "  [0.01921907 0.91917076 0.05097481]\n",
      "  [0.29050738 0.45887395 0.65629804]]\n",
      "\n",
      " [[0.63509431 0.72942181 0.71980582]\n",
      "  [0.06959961 0.45522172 0.7771103 ]\n",
      "  [0.81849606 0.9122342  0.57051318]]\n",
      "\n",
      " [[0.56244859 0.31522438 0.27422339]\n",
      "  [0.01125473 0.06343001 0.30695868]\n",
      "  [0.25062399 0.80050853 0.00130285]]]\n",
      "Sum along the last axis:\n",
      "[[1.90123527 0.98936464 1.40567936]\n",
      " [2.08432194 1.30193163 2.30124344]\n",
      " [1.15189635 0.38164342 1.05243537]]\n"
     ]
    }
   ],
   "source": [
    "import numpy as np\n",
    "nu = np.random.rand(3,3,3)\n",
    "print(\"Original Array Elements:\")\n",
    "print(nu)\n",
    "sum_ = np.sum(nu,axis=2)\n",
    "print(\"Sum along the last axis:\")\n",
    "print(sum_)"
   ]
  },
  {
   "cell_type": "markdown",
   "id": "c0aeabca-24bf-45f8-9833-045aae6f8291",
   "metadata": {},
   "source": [
    "##### Write a NumPy program to create a 5x5 array with random values and normalize it column-wise."
   ]
  },
  {
   "cell_type": "code",
   "execution_count": 109,
   "id": "0c5a18aa-55b6-41b3-a982-caa3e9846386",
   "metadata": {
    "tags": []
   },
   "outputs": [
    {
     "name": "stdout",
     "output_type": "stream",
     "text": [
      "Original Array Element\n",
      "[[0.1472387  0.34435996 0.69715361 0.93188962 0.42310731]\n",
      " [0.22341353 0.73894979 0.26537076 0.80418753 0.15698184]\n",
      " [0.71145817 0.74991981 0.57136738 0.47632449 0.20706237]\n",
      " [0.25440894 0.82907617 0.15763733 0.24852991 0.66646735]\n",
      " [0.91030728 0.01170898 0.94748866 0.4807003  0.61658908]]\n",
      "Original Array:\n",
      " [[0.1472387  0.34435996 0.69715361 0.93188962 0.42310731]\n",
      " [0.22341353 0.73894979 0.26537076 0.80418753 0.15698184]\n",
      " [0.71145817 0.74991981 0.57136738 0.47632449 0.20706237]\n",
      " [0.25440894 0.82907617 0.15763733 0.24852991 0.66646735]\n",
      " [0.91030728 0.01170898 0.94748866 0.4807003  0.61658908]]\n",
      "\n",
      "Normalized Array:\n",
      " [[-0.99445883 -0.61182651  0.58952489  1.3928264   0.04384677]\n",
      " [-0.74372709  0.65585224 -0.91355539  0.87511431 -1.24328165]\n",
      " [ 0.86268644  0.69109505  0.15165017 -0.45406245 -1.0010648 ]\n",
      " [-0.64170478  0.94539668 -1.28858649 -1.37755559  1.22086915]\n",
      " [ 1.51720425 -1.68051746  1.46096682 -0.43632266  0.97963053]]\n"
     ]
    }
   ],
   "source": [
    "import numpy as np\n",
    "nums = np.random.rand(5,5)\n",
    "print(\"Original Array Element\")\n",
    "print(nums)\n",
    "col_means = np.mean(nums,axis=0)\n",
    "\n",
    "arr_normalized = (nums - col_means)/np.std(nums,axis=0)\n",
    "print(\"Original Array:\\n\",nums)\n",
    "print(\"\\nNormalized Array:\\n\",arr_normalized)"
   ]
  },
  {
   "cell_type": "markdown",
   "id": "8b32c181-1304-42cf-9179-c15c7b19a5c6",
   "metadata": {},
   "source": [
    "##### 6. Write a NumPy program to create a 5x5 array with random values and normalize it row-wise.\n"
   ]
  },
  {
   "cell_type": "code",
   "execution_count": 111,
   "id": "74224933-7492-4f4a-95d8-c4e7f92359bb",
   "metadata": {
    "tags": []
   },
   "outputs": [
    {
     "name": "stdout",
     "output_type": "stream",
     "text": [
      "Original Array Element\n",
      "[[0.37963399 0.5529023  0.71905905 0.87656881 0.28577316]\n",
      " [0.83372058 0.90778944 0.31111737 0.56296867 0.64978333]\n",
      " [0.10897307 0.52186992 0.15644558 0.17575482 0.05746481]\n",
      " [0.45734227 0.07159472 0.57953454 0.05455421 0.16972336]\n",
      " [0.74003953 0.48871707 0.01413797 0.01774517 0.81888781]]\n",
      "Original Array:\n",
      " [[0.37963399 0.5529023  0.71905905 0.87656881 0.28577316]\n",
      " [0.83372058 0.90778944 0.31111737 0.56296867 0.64978333]\n",
      " [0.10897307 0.52186992 0.15644558 0.17575482 0.05746481]\n",
      " [0.45734227 0.07159472 0.57953454 0.05455421 0.16972336]\n",
      " [0.74003953 0.48871707 0.01413797 0.01774517 0.81888781]]\n",
      "\n",
      "Normalized Array:\n",
      " [[-0.57552495  0.21009655  2.21240299  2.53163976 -0.32109718]\n",
      " [ 1.52682068  1.89213086 -0.27390836  1.05882296  0.73615394]\n",
      " [-1.82864016  0.06301448 -1.2165976  -0.75971913 -0.98420846]\n",
      " [-0.21574852 -2.0711241   1.36203297 -1.32893535 -0.65815857]\n",
      " [ 1.09309295 -0.0941178  -2.08393    -1.50180824  1.22731027]]\n"
     ]
    }
   ],
   "source": [
    "import numpy as np\n",
    "nums = np.random.rand(5,5)\n",
    "print(\"Original Array Element\")\n",
    "print(nums)\n",
    "col_means = np.mean(nums,axis=0)\n",
    "\n",
    "arr_normalized = (nums - col_means)/np.std(nums,axis=1)\n",
    "print(\"Original Array:\\n\",nums)\n",
    "print(\"\\nNormalized Array:\\n\",arr_normalized)"
   ]
  },
  {
   "cell_type": "code",
   "execution_count": null,
   "id": "1308b4be-8074-47c3-a3e1-4cf4ee906cb1",
   "metadata": {},
   "outputs": [],
   "source": []
  }
 ],
 "metadata": {
  "kernelspec": {
   "display_name": "Python 3 (ipykernel)",
   "language": "python",
   "name": "python3"
  },
  "language_info": {
   "codemirror_mode": {
    "name": "ipython",
    "version": 3
   },
   "file_extension": ".py",
   "mimetype": "text/x-python",
   "name": "python",
   "nbconvert_exporter": "python",
   "pygments_lexer": "ipython3",
   "version": "3.11.5"
  }
 },
 "nbformat": 4,
 "nbformat_minor": 5
}
