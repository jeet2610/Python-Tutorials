{
 "cells": [
  {
   "cell_type": "markdown",
   "id": "1b6cba7f-aba7-4d9f-838f-d09557f898fa",
   "metadata": {
    "jp-MarkdownHeadingCollapsed": true,
    "tags": []
   },
   "source": [
    "## Numpy in Linear Expression"
   ]
  },
  {
   "cell_type": "code",
   "execution_count": 19,
   "id": "cf9328a4-3b47-49a4-9588-2c877bf38136",
   "metadata": {
    "tags": []
   },
   "outputs": [],
   "source": [
    "import numpy as np\n",
    "from numpy import linalg as lin"
   ]
  },
  {
   "cell_type": "markdown",
   "id": "98d57d29-0889-4484-8a8f-94a65fb395b5",
   "metadata": {},
   "source": [
    "###### Write a NumPy program to compute the multiplication of two given matrixes.\n",
    "\n"
   ]
  },
  {
   "cell_type": "code",
   "execution_count": 4,
   "id": "d1207616-4211-4e95-913c-c866e9028a38",
   "metadata": {
    "tags": []
   },
   "outputs": [
    {
     "name": "stdout",
     "output_type": "stream",
     "text": [
      "[[1, 2], [3, 4]]\n",
      "[[2, 3], [5, 3]]\n",
      "The Answer is :\n",
      " [[12  9]\n",
      " [26 21]]\n"
     ]
    }
   ],
   "source": [
    "p = [[1,2],[3,4]]\n",
    "q = [[2,3],[5,3]]\n",
    "\n",
    "print(p)\n",
    "print(q)\n",
    "ans = np.dot(p,q)\n",
    "print(\"The Answer is :\\n\",ans)"
   ]
  },
  {
   "cell_type": "markdown",
   "id": "1b2290aa-83d8-496c-8b73-efe0c49e9fb7",
   "metadata": {},
   "source": [
    "###### Write a NumPy program to compute the outer product of two given vectors.\n",
    "\n"
   ]
  },
  {
   "cell_type": "code",
   "execution_count": 5,
   "id": "fe393ab5-306c-4e4a-831e-3c928c150680",
   "metadata": {
    "tags": []
   },
   "outputs": [
    {
     "name": "stdout",
     "output_type": "stream",
     "text": [
      "[[1, 2], [3, 4]]\n",
      "[[2, 3], [5, 3]]\n",
      "The Answer is :\n",
      " [[ 2  3  5  3]\n",
      " [ 4  6 10  6]\n",
      " [ 6  9 15  9]\n",
      " [ 8 12 20 12]]\n"
     ]
    }
   ],
   "source": [
    "p = [[1,2],[3,4]]\n",
    "q = [[2,3],[5,3]]\n",
    "\n",
    "print(p)\n",
    "print(q)\n",
    "ans = np.outer(p,q)\n",
    "print(\"The Answer is :\\n\",ans)"
   ]
  },
  {
   "cell_type": "code",
   "execution_count": 7,
   "id": "5221c3a0-fb0f-4204-8733-68d15997c3ef",
   "metadata": {
    "tags": []
   },
   "outputs": [
    {
     "name": "stdout",
     "output_type": "stream",
     "text": [
      "[[1, 2], [3, 4]]\n",
      "[[2, 3], [5, 3]]\n",
      "The Answer is :\n",
      " [ -1 -11]\n",
      "The Answer is :\n",
      " [ 1 11]\n"
     ]
    }
   ],
   "source": [
    "p = [[1,2],[3,4]]\n",
    "q = [[2,3],[5,3]]\n",
    "\n",
    "print(p)\n",
    "print(q)\n",
    "ans = np.cross(p,q)\n",
    "print(\"The Answer is :\\n\",ans)\n",
    "ans1 = np.cross(q,p)\n",
    "print(\"The Answer is :\\n\",ans1)"
   ]
  },
  {
   "cell_type": "markdown",
   "id": "5c694b90-e9e3-48a3-8031-8ba594092860",
   "metadata": {},
   "source": [
    "Write a NumPy program to compute the determinant of a given square array.\n",
    "\n"
   ]
  },
  {
   "cell_type": "code",
   "execution_count": 13,
   "id": "4aaa0461-ce41-4eda-ba4a-fc646133e7ee",
   "metadata": {
    "tags": []
   },
   "outputs": [
    {
     "name": "stdout",
     "output_type": "stream",
     "text": [
      "[[[1 1 3]\n",
      "  [1 5 3]\n",
      "  [1 2 3]]]\n",
      "Determinant of the said array:\n",
      "[0.]\n"
     ]
    }
   ],
   "source": [
    "a = np.array([[[1,1,3],[1,5,3],[1,2,3]]])\n",
    "print(a)\n",
    "print(\"Determinant of the said array:\")\n",
    "print(np.linalg.det(a))"
   ]
  },
  {
   "cell_type": "markdown",
   "id": "6ea8d88a-d4d6-4af8-9558-799d96d9690d",
   "metadata": {},
   "source": [
    "Write a NumPy program to evaluate Einstein’s summation convention of two given multidimensional arrays.\n",
    "\n"
   ]
  },
  {
   "cell_type": "code",
   "execution_count": 14,
   "id": "793b90cc-acd7-4b46-baf2-4c09a41c8bc3",
   "metadata": {
    "tags": []
   },
   "outputs": [
    {
     "name": "stdout",
     "output_type": "stream",
     "text": [
      "Einstein’s summation convention of the said arrays:\n",
      "2\n",
      "Einstein’s summation convention of the said arrays:\n",
      "[[ 24  27  30]\n",
      " [ 78  90 102]\n",
      " [132 153 174]]\n"
     ]
    }
   ],
   "source": [
    "a = np.array([1,2,3])\n",
    "b = np.array([0,1,0])\n",
    "\n",
    "result =  np.einsum(\"n,n\", a, b)\n",
    "print(\"Einstein’s summation convention of the said arrays:\")\n",
    "print(result)\n",
    "\n",
    "x = np.arange(9).reshape(3, 3)\n",
    "y = np.arange(3, 12).reshape(3, 3)\n",
    "result = np.einsum(\"mk,kn\", x, y)\n",
    "print(\"Einstein’s summation convention of the said arrays:\")\n",
    "print(result) "
   ]
  },
  {
   "cell_type": "markdown",
   "id": "f8ed979f-1259-4b75-868a-33c643a994b6",
   "metadata": {},
   "source": [
    "Write a NumPy program to compute the inner product of vectors for 1-D arrays (without complex conjugation) and in higher dimension."
   ]
  },
  {
   "cell_type": "code",
   "execution_count": 16,
   "id": "e6a54805-9e5a-4f35-99a6-27271f53beec",
   "metadata": {
    "tags": []
   },
   "outputs": [
    {
     "name": "stdout",
     "output_type": "stream",
     "text": [
      "Inner product of the said vectors:\n",
      "4\n",
      "Inner product of the said vectors:\n",
      "[[ 14  23  32]\n",
      " [ 50  86 122]\n",
      " [ 86 149 212]]\n"
     ]
    }
   ],
   "source": [
    "a = np.array([1, 2, 5])\n",
    "b = np.array([2, 1, 0])\n",
    "\n",
    "result = np.inner(a, b)\n",
    "\n",
    "# Display the inner product of the said vectors\n",
    "print(\"Inner product of the said vectors:\")\n",
    "print(result)\n",
    "\n",
    "# Create two 3x3 arrays 'x' and 'y'\n",
    "x = np.arange(9).reshape(3, 3)\n",
    "y = np.arange(3, 12).reshape(3, 3)\n",
    "\n",
    "# Calculate the inner product of arrays 'x' and 'y' using np.inner()\n",
    "result = np.inner(x, y)\n",
    "# Display the inner product of the said vectors\n",
    "print(\"Inner product of the said vectors:\")\n",
    "print(result) "
   ]
  },
  {
   "cell_type": "markdown",
   "id": "a9fbe7cf-e864-49ef-9013-d1031b088fbb",
   "metadata": {},
   "source": [
    "Write a NumPy program to compute the inverse of a given matrix.\n",
    "\n"
   ]
  },
  {
   "cell_type": "code",
   "execution_count": 18,
   "id": "4a100a50-dc08-4992-af5e-1700490a6df6",
   "metadata": {
    "tags": []
   },
   "outputs": [
    {
     "name": "stdout",
     "output_type": "stream",
     "text": [
      "[[1 2]\n",
      " [3 4]]\n",
      "[[-2.   1. ]\n",
      " [ 1.5 -0.5]]\n"
     ]
    }
   ],
   "source": [
    "m = np.array([[1,2],[3,4]])\n",
    "result = np.linalg.inv(m)\n",
    "print(m)\n",
    "print(result)"
   ]
  },
  {
   "cell_type": "code",
   "execution_count": 20,
   "id": "6f73a57d-7168-45c5-9d86-eb196c43315a",
   "metadata": {
    "tags": []
   },
   "outputs": [
    {
     "name": "stdout",
     "output_type": "stream",
     "text": [
      "[[1 2]\n",
      " [3 4]]\n",
      "(array([[-0.31622777, -0.9486833 ],\n",
      "       [-0.9486833 ,  0.31622777]]), array([[-3.16227766, -4.42718872],\n",
      "       [ 0.        , -0.63245553]]))\n"
     ]
    }
   ],
   "source": [
    "m = np.array([[1, 2], [3, 4]])\n",
    "print(m)\n",
    "result = np.linalg.qr(m)\n",
    "print(result)"
   ]
  },
  {
   "cell_type": "markdown",
   "id": "e11f692a-1854-4418-a011-36605d99e794",
   "metadata": {},
   "source": [
    "Write a NumPy program to compute the condition number of a given matrix.\n",
    "\n"
   ]
  },
  {
   "cell_type": "code",
   "execution_count": 34,
   "id": "a8bbf8b4-67db-4c9c-b065-51ce4b134ae9",
   "metadata": {
    "tags": []
   },
   "outputs": [
    {
     "name": "stdout",
     "output_type": "stream",
     "text": [
      "14.933034373659268\n"
     ]
    }
   ],
   "source": [
    "m = np.array([[1, 2], [3, 4]])\n",
    "\n",
    "result = np.linalg.cond(m)\n",
    "print(result)"
   ]
  },
  {
   "cell_type": "code",
   "execution_count": 32,
   "id": "cc9f69a6-daa0-4820-956a-eea6506c2079",
   "metadata": {
    "tags": []
   },
   "outputs": [
    {
     "name": "stdout",
     "output_type": "stream",
     "text": [
      "[[1 2]\n",
      " [3 4]]\n",
      "14.933034373659268\n"
     ]
    }
   ],
   "source": [
    "m = np.array([[1,2],[3,4]])\n",
    "print(m)\n",
    "result = np.linalg.cond(m)\n",
    "print(result)"
   ]
  },
  {
   "cell_type": "markdown",
   "id": "87133888-c6ee-40d5-ada6-11174f4d74d8",
   "metadata": {},
   "source": [
    "Write a NumPy program to compute the sum of the diagonal element of a given array.\n",
    "\n"
   ]
  },
  {
   "cell_type": "code",
   "execution_count": 35,
   "id": "14b4aa0f-d064-454a-a4c5-3060817861f4",
   "metadata": {
    "tags": []
   },
   "outputs": [
    {
     "name": "stdout",
     "output_type": "stream",
     "text": [
      "Original matrix:\n",
      "[[0 1 2]\n",
      " [3 4 5]]\n",
      "Trace of the said matrix:\n",
      "4\n"
     ]
    }
   ],
   "source": [
    "m = np.arange(6).reshape(2, 3)\n",
    "print(\"Original matrix:\")\n",
    "print(m)\n",
    "\n",
    "result = np.trace(m)\n",
    "print(\"Trace of the said matrix:\")\n",
    "print(result)"
   ]
  },
  {
   "cell_type": "markdown",
   "id": "9e229a48-a849-4a89-abd3-ea2e4f9855a3",
   "metadata": {},
   "source": [
    "Write a NumPy program to get the qr factorization of a given array"
   ]
  },
  {
   "cell_type": "code",
   "execution_count": 39,
   "id": "0ba44860-2493-4d66-84f2-73db606bd414",
   "metadata": {
    "tags": []
   },
   "outputs": [
    {
     "name": "stdout",
     "output_type": "stream",
     "text": [
      "Original Array\n",
      "[[  4  12 -14]\n",
      " [ 12  37 -53]\n",
      " [-14 -53  98]]\n",
      "j=\n",
      " [[-0.21199958 -0.27930103  0.93650794]\n",
      " [-0.63599873 -0.68815735 -0.34920635]\n",
      " [ 0.74199852 -0.66964945 -0.03174603]] \n",
      "k=\n",
      " [[-18.86796226 -65.4018692  109.39178122]\n",
      " [  0.           6.67798664 -25.24309237]\n",
      " [  0.           0.           2.28571429]]\n"
     ]
    }
   ],
   "source": [
    "a = np.array([[4, 12, -14], [12, 37, -53], [-14, -53, 98]], dtype=np.int32)\n",
    "print(\"Original Array\")\n",
    "print(a)\n",
    "j,k = np.linalg.qr(a)\n",
    "print(\"j=\\n\",j,\"\\nk=\\n\",k)"
   ]
  },
  {
   "cell_type": "markdown",
   "id": "1c7388d1-2f87-494b-b531-f2f7b63d330a",
   "metadata": {},
   "source": [
    "Write a NumPy program to compute the factor of a given array by Singular Value Decomposition.\n",
    "\n"
   ]
  },
  {
   "cell_type": "code",
   "execution_count": 40,
   "id": "03348c85-21bc-4a64-9abb-342720757281",
   "metadata": {
    "tags": []
   },
   "outputs": [],
   "source": [
    "a = np.array([[1, 0, 0, 0, 2], [0, 0, 3, 0, 0], [0, 0, 0, 0, 0], [0, 2, 0, 0, 0]], dtype=np.float32)\n"
   ]
  },
  {
   "cell_type": "code",
   "execution_count": 41,
   "id": "605048ef-8921-4ec6-965c-1e04b2bc6a2c",
   "metadata": {
    "tags": []
   },
   "outputs": [
    {
     "name": "stdout",
     "output_type": "stream",
     "text": [
      "Original Array\n",
      "[[1. 0. 0. 0. 2.]\n",
      " [0. 0. 3. 0. 0.]\n",
      " [0. 0. 0. 0. 0.]\n",
      " [0. 2. 0. 0. 0.]]\n"
     ]
    }
   ],
   "source": [
    "print(\"Original Array\")\n",
    "\n",
    "print(a)"
   ]
  },
  {
   "cell_type": "code",
   "execution_count": 45,
   "id": "036af6e0-a93f-4f50-b770-8b14053a7e08",
   "metadata": {
    "tags": []
   },
   "outputs": [
    {
     "name": "stdout",
     "output_type": "stream",
     "text": [
      "Factor of a given array by Singular Value Decomposition:\n",
      "U=\n",
      " [[ 0.  1.  0.  0.]\n",
      " [ 1.  0.  0.  0.]\n",
      " [ 0.  0.  0. -1.]\n",
      " [ 0.  0.  1.  0.]] \n",
      "s=\n",
      " [3.       2.236068 2.       0.      ] \n",
      "V=\n",
      " [[-0.         0.         1.         0.         0.       ]\n",
      " [ 0.4472136  0.         0.         0.         0.8944272]\n",
      " [-0.         1.         0.         0.         0.       ]\n",
      " [ 0.         0.         0.         1.         0.       ]\n",
      " [-0.8944272  0.         0.         0.         0.4472136]]\n"
     ]
    }
   ],
   "source": [
    "# Compute the Singular Value Decomposition (SVD) of the array 'a' using np.linalg.svd()\n",
    "# The SVD returns matrices 'U', 's' (singular values), and 'V' (conjugate transpose of right singular vectors)\n",
    "U, s, V = np.linalg.svd(a, full_matrices=True)\n",
    "#Display the SVD factorization results of the given array\n",
    "print(\"Factor of a given array by Singular Value Decomposition:\")\n",
    "print(\"U=\\n\", U, \"\\ns=\\n\", s, \"\\nV=\\n\", V) "
   ]
  },
  {
   "cell_type": "markdown",
   "id": "65275338-4ba6-45c2-adcc-8394178728c5",
   "metadata": {
    "tags": []
   },
   "source": [
    "Write a NumPy program to compute the factor of a given array by Singular Value Decomposition.\n",
    "\n"
   ]
  },
  {
   "cell_type": "code",
   "execution_count": 48,
   "id": "cb380d31-0e76-43f5-a9b7-e14a5b4965cd",
   "metadata": {
    "tags": []
   },
   "outputs": [
    {
     "name": "stdout",
     "output_type": "stream",
     "text": [
      "Original array:\n",
      "[[1. 0. 0. 0. 2.]\n",
      " [0. 0. 3. 0. 0.]\n",
      " [0. 0. 0. 0. 0.]\n",
      " [0. 2. 0. 0. 0.]]\n",
      "Factor of a given array by Singular Value Decomposition:\n",
      "U=\n",
      " [[ 0.  1.  0.  0.]\n",
      " [ 1.  0.  0.  0.]\n",
      " [ 0.  0.  0. -1.]\n",
      " [ 0.  0.  1.  0.]] \n",
      "s=\n",
      " [3.       2.236068 2.       0.      ] \n",
      "V=\n",
      " [[-0.         0.         1.         0.         0.       ]\n",
      " [ 0.4472136  0.         0.         0.         0.8944272]\n",
      " [-0.         1.         0.         0.         0.       ]\n",
      " [ 0.         0.         0.         1.         0.       ]]\n"
     ]
    }
   ],
   "source": [
    "# Importing the NumPy library\n",
    "import numpy as np\n",
    "\n",
    "# Create a 4x5 NumPy array 'a' with specified values and data type as float32\n",
    "a = np.array([[1, 0, 0, 0, 2], [0, 0, 3, 0, 0], [0, 0, 0, 0, 0], [0, 2, 0, 0, 0]], dtype=np.float32)\n",
    "\n",
    "# Display the original array 'a'\n",
    "print(\"Original array:\")\n",
    "print(a)\n",
    "\n",
    "# Compute the Singular Value Decomposition (SVD) of the array 'a' using np.linalg.svd()\n",
    "# The SVD returns matrices 'U', 's' (singular values), and 'V' (conjugate transpose of right singular vectors)\n",
    "U, s, V = np.linalg.svd(a, full_matrices=False)\n",
    "\n",
    "# Compute the QR decomposition of the array 'a' using np.linalg.qr()\n",
    "# QR decomposition provides matrices 'q' (orthogonal/unitary) and 'r' (upper triangular)\n",
    "q, r = np.linalg.qr(a)\n",
    "\n",
    "# Display the SVD factorization results of the given array\n",
    "print(\"Factor of a given array by Singular Value Decomposition:\")\n",
    "print(\"U=\\n\", U, \"\\ns=\\n\", s, \"\\nV=\\n\", V) \n"
   ]
  },
  {
   "cell_type": "markdown",
   "id": "474ca222-f1c8-48b3-98c2-d8054cd2938c",
   "metadata": {},
   "source": [
    "Write a NumPy program to calculate the Frobenius norm and the condition number of a given array.\n",
    "\n"
   ]
  },
  {
   "cell_type": "code",
   "execution_count": 49,
   "id": "9923b39c-898c-4b90-b6fa-f06e76864b7b",
   "metadata": {
    "tags": []
   },
   "outputs": [
    {
     "name": "stdout",
     "output_type": "stream",
     "text": [
      "Array:\n",
      "[[4 1]\n",
      " [2 3]]\n",
      "\n",
      "Frobenius Norm: 5.477225575051661\n",
      "Condition Number: 2.6180339887498945\n"
     ]
    }
   ],
   "source": [
    "import numpy as np\n",
    "\n",
    "# Create a sample array\n",
    "arr = np.array([[4, 1], [2, 3]])\n",
    "\n",
    "# Calculate the Frobenius norm using np.linalg.norm()\n",
    "frobenius_norm = np.linalg.norm(arr)\n",
    "\n",
    "# Calculate the condition number using np.linalg.cond()\n",
    "condition_number = np.linalg.cond(arr)\n",
    "\n",
    "# Display the Frobenius norm and the condition number\n",
    "print(\"Array:\")\n",
    "print(arr)\n",
    "print(\"\\nFrobenius Norm:\", frobenius_norm)\n",
    "print(\"Condition Number:\", condition_number)\n"
   ]
  },
  {
   "cell_type": "markdown",
   "id": "1d843b26-f18a-4348-a127-45adba370236",
   "metadata": {
    "tags": []
   },
   "source": [
    "### Random in numpy"
   ]
  },
  {
   "cell_type": "code",
   "execution_count": 51,
   "id": "7cbf8802-f326-4931-9d71-8c301588be7e",
   "metadata": {
    "tags": []
   },
   "outputs": [],
   "source": [
    "# importing libraries\n",
    "import numpy as np\n",
    "from numpy import random as rd"
   ]
  },
  {
   "cell_type": "markdown",
   "id": "d071ae3c-8f55-463c-87a5-a3c6065d1773",
   "metadata": {
    "tags": []
   },
   "source": [
    "Write a NumPy program to generate six random integers between 10 and 30.\n",
    "\n"
   ]
  },
  {
   "cell_type": "code",
   "execution_count": 54,
   "id": "7a7cec64-b304-49be-839c-9ba95258aefe",
   "metadata": {
    "tags": []
   },
   "outputs": [
    {
     "name": "stdout",
     "output_type": "stream",
     "text": [
      "[18 17 29 29 28 15]\n"
     ]
    }
   ],
   "source": [
    "# Importing the NumPy library as np\n",
    "\n",
    "import numpy as np\n",
    "\n",
    "# Generating a NumPy array 'x' of size 6 with random integers between 10 (inclusive) and 30 (exclusive) using np.random.randint()\n",
    "\n",
    "x = np.random.randint(low=10, high=30, size=6)\n",
    "\n",
    "# Printing the array 'x'\n",
    "print(x) \n"
   ]
  },
  {
   "cell_type": "markdown",
   "id": "3215e80e-982d-437b-9daa-958318906133",
   "metadata": {},
   "source": [
    "Write a NumPy program to create a 3x3x3 array with random values.\n",
    "\n"
   ]
  },
  {
   "cell_type": "code",
   "execution_count": 56,
   "id": "75b9bfbf-e784-42e7-92a8-4dad86342ff5",
   "metadata": {
    "tags": []
   },
   "outputs": [
    {
     "name": "stdout",
     "output_type": "stream",
     "text": [
      "[[[0.86528758 0.9399433  0.76765773]\n",
      "  [0.21384133 0.98850799 0.49200113]\n",
      "  [0.53269092 0.05361104 0.51832071]]\n",
      "\n",
      " [[0.32733317 0.75965493 0.29929876]\n",
      "  [0.12817176 0.06229172 0.25590126]\n",
      "  [0.92234691 0.0856838  0.24780743]]\n",
      "\n",
      " [[0.8586715  0.05252178 0.43551259]\n",
      "  [0.46029799 0.94230564 0.22932155]\n",
      "  [0.7260419  0.96739881 0.03610088]]]\n"
     ]
    }
   ],
   "source": [
    "X = np.random.random((3,3,3))\n",
    "print(X)"
   ]
  },
  {
   "cell_type": "markdown",
   "id": "a510d82e-f615-47c0-9b6b-03cd9db44a01",
   "metadata": {},
   "source": [
    "Write a NumPy program to create a 5x5 array with random values and find the minimum and maximum values.\n",
    "\n"
   ]
  },
  {
   "cell_type": "code",
   "execution_count": 65,
   "id": "739ac47d-fb78-4b94-ba5e-d62afe37c67d",
   "metadata": {
    "tags": []
   },
   "outputs": [
    {
     "name": "stdout",
     "output_type": "stream",
     "text": [
      "OriginalArray \n",
      " [[0.6060727  0.24656201 0.85733834 0.14781589 0.70852428]\n",
      " [0.4104573  0.37830837 0.16122163 0.26701322 0.97064876]\n",
      " [0.34034101 0.44460635 0.9020813  0.14449768 0.67774879]\n",
      " [0.48969685 0.67281331 0.50011504 0.42531094 0.34029143]\n",
      " [0.10646141 0.28875836 0.96445735 0.6278289  0.58154356]]\n",
      "Minimum and Maximum 0.10646141432910183 0.970648757882993\n"
     ]
    }
   ],
   "source": [
    "x = np.random.random((5,5))\n",
    "print(\"OriginalArray \\n\",x)\n",
    "xmin,xmax = x.min(),x.max()\n",
    "print(\"Minimum and Maximum\",xmin,xmax)"
   ]
  },
  {
   "cell_type": "markdown",
   "id": "11080b3f-cbe9-4d47-9023-a11fbca50b44",
   "metadata": {},
   "source": [
    "Write a NumPy program to create a random 10x4 array and extract the first five rows of the array and store them into a variable."
   ]
  },
  {
   "cell_type": "markdown",
   "id": "45092fc7-726a-4e54-982b-d6dec01ab0ef",
   "metadata": {},
   "source": [
    "Write a NumPy program to normalize a 3x3 random matrix.\n",
    "\n"
   ]
  },
  {
   "cell_type": "code",
   "execution_count": 67,
   "id": "a3552162-b624-4fb4-b4d5-685a204b8d7c",
   "metadata": {
    "tags": []
   },
   "outputs": [
    {
     "name": "stdout",
     "output_type": "stream",
     "text": [
      "Original Aray:\n",
      "[[0.93634493 0.69086506 0.21777935]\n",
      " [0.69806612 0.51189783 0.97811499]\n",
      " [0.43621516 0.16678616 0.91231118]]\n",
      "After Normalization\n",
      "[[0.94851648 0.64595128 0.06285144]\n",
      " [0.65482693 0.42536596 1.        ]\n",
      " [0.3320836  0.         0.91889379]]\n"
     ]
    }
   ],
   "source": [
    "x = np.random.random((3,3))\n",
    "print(\"Original Aray:\")\n",
    "print(x)\n",
    "\n",
    "xmax,xmin = x.max(),x.min()\n",
    "x =(x-xmin)/(xmax-xmin)\n",
    "print(\"After Normalization\")\n",
    "print(x)"
   ]
  },
  {
   "cell_type": "markdown",
   "id": "2c9c10bc-71cc-49f7-9622-6e9fda7cafb2",
   "metadata": {},
   "source": [
    "Write a NumPy program to create a random vector of size 10 and sort it.\n",
    "Expected Output:"
   ]
  },
  {
   "cell_type": "code",
   "execution_count": 72,
   "id": "1ae856cc-aa87-4acf-9aa1-1a81f93e5fb7",
   "metadata": {
    "tags": []
   },
   "outputs": [
    {
     "name": "stdout",
     "output_type": "stream",
     "text": [
      "Original Array: \n",
      " [0.9535074  0.35889516 0.2144963  0.88493085 0.22494116 0.17580959\n",
      " 0.78846902 0.76640964 0.28843687 0.59101238]\n",
      "Sorted Array\n",
      "[0.17580959 0.2144963  0.22494116 0.28843687 0.35889516 0.59101238\n",
      " 0.76640964 0.78846902 0.88493085 0.9535074 ]\n"
     ]
    }
   ],
   "source": [
    "ten = np.random.random(size=10)\n",
    "print(\"Original Array: \\n\",ten)      \n",
    "ten.sort()\n",
    "print(\"Sorted Array\")\n",
    "print(ten)"
   ]
  },
  {
   "cell_type": "markdown",
   "id": "6fefeefa-27ef-4ee5-9517-64d6fde69f4d",
   "metadata": {},
   "source": [
    "Write a NumPy program to find the nearest value from a given value in an array.\n",
    "\n"
   ]
  },
  {
   "cell_type": "code",
   "execution_count": 90,
   "id": "5f23b68b-6eed-43f2-a900-066ca1f7ce99",
   "metadata": {
    "tags": []
   },
   "outputs": [
    {
     "name": "stdout",
     "output_type": "stream",
     "text": [
      "[ 4.7697376  11.43564929  1.24529672  1.3935679   9.84965396]\n",
      "0.9485164812845563\n"
     ]
    }
   ],
   "source": [
    "nv = np.random.uniform(1,12,5)\n",
    "print(nv)\n",
    "v=4\n",
    "n = x.flat[np.abs(nv-v).argmin()]\n",
    "print(n)"
   ]
  },
  {
   "cell_type": "markdown",
   "id": "a739bc3b-defd-43d5-8fd4-630a7a0be4c1",
   "metadata": {
    "jp-MarkdownHeadingCollapsed": true,
    "tags": []
   },
   "source": [
    "###### Write a NumPy program to check two random arrays are equal or not.\n"
   ]
  },
  {
   "cell_type": "code",
   "execution_count": 253,
   "id": "8dfacb7f-c4b6-4659-b38f-fdca7920863f",
   "metadata": {
    "tags": []
   },
   "outputs": [
    {
     "name": "stdout",
     "output_type": "stream",
     "text": [
      "First Array\n",
      "[1 1 1 1 1 1]\n"
     ]
    }
   ],
   "source": [
    "x = np.random.randint(0,2,6)\n",
    "print(\"First Array\")\n",
    "print(x)"
   ]
  },
  {
   "cell_type": "code",
   "execution_count": 242,
   "id": "3559d7d9-e489-43a0-8c46-c242714257d5",
   "metadata": {
    "tags": []
   },
   "outputs": [
    {
     "name": "stdout",
     "output_type": "stream",
     "text": [
      "Second Array\n",
      "[1 1 1 1 1 1]\n"
     ]
    }
   ],
   "source": [
    "y = np.random.randint(0,2,6)\n",
    "print(\"Second Array\")\n",
    "print(y)"
   ]
  },
  {
   "cell_type": "code",
   "execution_count": 254,
   "id": "d5c8dd50-356a-4845-9d4a-38083c332762",
   "metadata": {
    "tags": []
   },
   "outputs": [
    {
     "name": "stdout",
     "output_type": "stream",
     "text": [
      "Testing above arrays are equal or not?..\n",
      "True\n"
     ]
    }
   ],
   "source": [
    "array = np.allclose(x,y)\n",
    "print(\"Testing above arrays are equal or not?..\")\n",
    "print(array)"
   ]
  },
  {
   "cell_type": "markdown",
   "id": "3de87bb4-b533-4ed0-8ddf-9f2e5fa853a2",
   "metadata": {
    "jp-MarkdownHeadingCollapsed": true,
    "tags": []
   },
   "source": [
    "###### Write a NumPy program to create random vector of size 15 and replace the maximum value by -1"
   ]
  },
  {
   "cell_type": "code",
   "execution_count": 263,
   "id": "65f5228c-bc18-4dd0-8c0b-f2f28bf7d3eb",
   "metadata": {
    "tags": []
   },
   "outputs": [
    {
     "name": "stdout",
     "output_type": "stream",
     "text": [
      "Original Array\n",
      "[0.56529788 0.61932082 0.74601457 0.29443421 0.38963226 0.44217846\n",
      " 0.80346872 0.88572484 0.56655975 0.49857769 0.487865   0.14936029\n",
      " 0.60474721 0.18363273 0.36757549]\n",
      "Maximum value replaced by -1\n",
      "[ 0.56529788  0.61932082  0.74601457  0.29443421  0.38963226  0.44217846\n",
      "  0.80346872 -1.          0.56655975  0.49857769  0.487865    0.14936029\n",
      "  0.60474721  0.18363273  0.36757549]\n"
     ]
    }
   ],
   "source": [
    "x = np.random.random(size=15)\n",
    "print(\"Original Array\")\n",
    "print(x)\n",
    "x[x.argmax()]=-1\n",
    "print(\"Maximum value replaced by -1\")\n",
    "print(x)"
   ]
  },
  {
   "cell_type": "markdown",
   "id": "45e14377-2682-4bc6-96df-e0715606d1a8",
   "metadata": {
    "jp-MarkdownHeadingCollapsed": true,
    "tags": []
   },
   "source": [
    "##### Write a NumPy program to find point by point distances of a random vector with shape (10,2) representing coordinates."
   ]
  },
  {
   "cell_type": "code",
   "execution_count": null,
   "id": "68271192-369f-4c92-a373-4c1bc3a612b6",
   "metadata": {},
   "outputs": [],
   "source": [
    "# Importing the NumPy library as np\n",
    "import numpy as np\n",
    "\n",
    "# Generating a 10x2 array 'a' with random values between 0 and 1 using np.random.random()\n",
    "a = np.random.random((10, 2))\n",
    "\n",
    "# Extracting x and y coordinates from the array 'a' using np.atleast_2d() method\n",
    "# at least 2-dimensional arrays from the columns of 'a'\n",
    "x, y = np.atleast_2d(a[:, 0], a[:, 1])\n",
    "\n",
    "# Calculating the Euclidean distance between points in the 'a' array using the formula:\n",
    "# d = sqrt((x - x_transpose)^2 + (y - y_transpose)^2)\n",
    "# where x and y are the coordinate matrices created, and T is the transpose of those matrices\n",
    "d = np.sqrt((x - x.T) ** 2 + (y - y.T) ** 2)\n",
    "\n",
    "# Displaying the resultant matrix containing the distances between points\n",
    "print(d) \n"
   ]
  },
  {
   "cell_type": "markdown",
   "id": "cf86995a-2fca-4597-8a95-26ac3362eeef",
   "metadata": {
    "jp-MarkdownHeadingCollapsed": true,
    "tags": []
   },
   "source": [
    "##### Write a NumPy program to find the most frequent value in an array"
   ]
  },
  {
   "cell_type": "code",
   "execution_count": 312,
   "id": "08f49ba1-5dae-4aff-b787-8e8a2bb8d252",
   "metadata": {
    "tags": []
   },
   "outputs": [
    {
     "name": "stdout",
     "output_type": "stream",
     "text": [
      "Original Array:\n",
      "[ 9 19 12 ... 98 34 75]\n",
      "Frequent Values: 86\n"
     ]
    }
   ],
   "source": [
    "import numpy as np\n",
    "x = np.random.randint(0,100,100000)\n",
    "print(\"Original Array:\")\n",
    "print(x)\n",
    "freq = np.bincount(x).argmax()\n",
    "print(\"Frequent Values:\",freq)"
   ]
  },
  {
   "cell_type": "markdown",
   "id": "8bf1c200-7619-4c97-bf33-e520635c74a2",
   "metadata": {
    "jp-MarkdownHeadingCollapsed": true,
    "tags": []
   },
   "source": [
    "##### Write a NumPy program to convert cartesian coordinates to polar coordinates of a random 10x2 matrix representing cartesian coordinates."
   ]
  },
  {
   "cell_type": "code",
   "execution_count": 319,
   "id": "2ea14b6f-af1e-46f6-bd47-73b2db3142c7",
   "metadata": {
    "tags": []
   },
   "outputs": [],
   "source": [
    "z = np.random.random((10,2))"
   ]
  },
  {
   "cell_type": "code",
   "execution_count": 320,
   "id": "f167e8a2-679c-4ab0-b3fe-15dbc9dc406d",
   "metadata": {
    "tags": []
   },
   "outputs": [],
   "source": [
    "x,y = z[:,0],z[:,1]"
   ]
  },
  {
   "cell_type": "code",
   "execution_count": 323,
   "id": "d2053666-9b4d-4c64-a6b1-aefabd201ee8",
   "metadata": {
    "tags": []
   },
   "outputs": [
    {
     "name": "stdout",
     "output_type": "stream",
     "text": [
      "Euclidean Distance [0.53835011 0.2153832  0.30080506 0.28108748 0.90010549 0.85353737\n",
      " 0.95805906 0.39697815 0.96348096 0.83412795]\n",
      "Calculated angles [0.44858444 0.7739897  0.94669524 1.12702098 0.27321553 0.83304125\n",
      " 0.69937465 1.15863152 0.68475529 0.08841101]\n"
     ]
    }
   ],
   "source": [
    "r = np.sqrt(x**2,y**2)\n",
    "t = np.arctan2(y,x)\n",
    "print(\"Euclidean Distance\",r)\n",
    "print(\"Calculated angles\",t)"
   ]
  },
  {
   "cell_type": "markdown",
   "id": "67886ea1-b559-4ee0-8721-c3f38a88d479",
   "metadata": {
    "jp-MarkdownHeadingCollapsed": true,
    "tags": []
   },
   "source": [
    "##### Write a NumPy program to find the closest value (to a given scalar) in an array."
   ]
  },
  {
   "cell_type": "code",
   "execution_count": 325,
   "id": "fcfc3714-b0d9-46f5-bf3d-ca86161d31ec",
   "metadata": {
    "tags": []
   },
   "outputs": [
    {
     "name": "stdout",
     "output_type": "stream",
     "text": [
      "Original Array\n",
      "[ 0  1  2  3  4  5  6  7  8  9 10 11 12 13 14 15 16 17 18 19 20 21 22 23\n",
      " 24 25 26 27 28 29 30 31 32 33 34 35 36 37 38 39 40 41 42 43 44 45 46 47\n",
      " 48 49 50 51 52 53 54 55 56 57 58 59 60 61 62 63 64 65 66 67 68 69 70 71\n",
      " 72 73 74 75 76 77 78 79 80 81 82 83 84 85 86 87 88 89 90 91 92 93 94 95\n",
      " 96 97 98 99]\n"
     ]
    }
   ],
   "source": [
    "x = np.arange(100)\n",
    "print(\"Original Array\")\n",
    "print(x)"
   ]
  },
  {
   "cell_type": "code",
   "execution_count": 330,
   "id": "c18f31d0-0ed3-4f97-8ae3-00ca8ece4097",
   "metadata": {
    "tags": []
   },
   "outputs": [
    {
     "name": "stdout",
     "output_type": "stream",
     "text": [
      "2.391955942753188\n"
     ]
    }
   ],
   "source": [
    "a = np.random.uniform(0,100)\n",
    "print(a)"
   ]
  },
  {
   "cell_type": "code",
   "execution_count": 331,
   "id": "426510f5-7308-48e8-bb2a-918a7df1b618",
   "metadata": {
    "tags": []
   },
   "outputs": [
    {
     "name": "stdout",
     "output_type": "stream",
     "text": [
      "2\n"
     ]
    }
   ],
   "source": [
    "index = (np.abs(x-a)).argmin()\n",
    "print(x[index])"
   ]
  },
  {
   "cell_type": "markdown",
   "id": "1479d6cd-9d65-4611-8926-967eabb41e62",
   "metadata": {
    "jp-MarkdownHeadingCollapsed": true,
    "tags": []
   },
   "source": [
    "##### Write a NumPy program to sort a given array of shape 2 along the first axis, last axis and on flattened array."
   ]
  },
  {
   "cell_type": "code",
   "execution_count": 336,
   "id": "0bf11fa4-9c49-40f1-8219-c06c514f757b",
   "metadata": {
    "tags": []
   },
   "outputs": [
    {
     "name": "stdout",
     "output_type": "stream",
     "text": [
      "Original Array\n",
      "[[10 40]\n",
      " [30 20]]\n"
     ]
    }
   ],
   "source": [
    "x = np.array([[10,40],[30,20]])\n",
    "print(\"Original Array\")\n",
    "print(x)\n"
   ]
  },
  {
   "cell_type": "code",
   "execution_count": 339,
   "id": "5d38eceb-d8bc-44da-8c5f-b23eacd452db",
   "metadata": {
    "tags": []
   },
   "outputs": [
    {
     "name": "stdout",
     "output_type": "stream",
     "text": [
      "Axis 0\n",
      "[[10 20]\n",
      " [30 40]]\n"
     ]
    }
   ],
   "source": [
    "print(\"Axis 0\")\n",
    "print(np.sort(x,axis=0))"
   ]
  },
  {
   "cell_type": "code",
   "execution_count": 340,
   "id": "c3119370-1fce-4bc2-8bf7-099f43c08574",
   "metadata": {
    "tags": []
   },
   "outputs": [
    {
     "name": "stdout",
     "output_type": "stream",
     "text": [
      "Axis 1\n",
      "[[10 40]\n",
      " [20 30]]\n"
     ]
    }
   ],
   "source": [
    "print(\"Axis 1\")\n",
    "print(np.sort(x))"
   ]
  },
  {
   "cell_type": "code",
   "execution_count": 342,
   "id": "b8771611-bbc8-43f2-982d-2885702b5cc1",
   "metadata": {
    "tags": []
   },
   "outputs": [
    {
     "name": "stdout",
     "output_type": "stream",
     "text": [
      "Flat Sort\n",
      "[10 20 30 40]\n"
     ]
    }
   ],
   "source": [
    "print(\"Flat Sort\")\n",
    "print(np.sort(x,axis=None))"
   ]
  },
  {
   "cell_type": "markdown",
   "id": "90aa73c5-0f60-4ec1-8790-651e8c04e131",
   "metadata": {
    "jp-MarkdownHeadingCollapsed": true,
    "tags": []
   },
   "source": [
    "##### Write a NumPy program to create a structured array from given student name, height, class and their data types. Now sort the array on height"
   ]
  },
  {
   "cell_type": "code",
   "execution_count": 359,
   "id": "1d6dd760-393f-4517-a366-da388fd11d92",
   "metadata": {
    "tags": []
   },
   "outputs": [],
   "source": [
    "import numpy as np\n",
    "data_type = [('name','S15'),('class',int),('height',float)]\n",
    "student_details = [('James',5,48.5),('Jeet',5,10.5),('Bhautik',1,100.5),('Neel',5,105),('Raj',5,97.5),('Chintan',8,98.2),('Parth',8,94.123)]\n",
    "students = np.array(student_details, dtype=data_type)"
   ]
  },
  {
   "cell_type": "code",
   "execution_count": 360,
   "id": "e65d418c-11e3-43e4-aefc-7d863b44a88a",
   "metadata": {
    "tags": []
   },
   "outputs": [
    {
     "name": "stdout",
     "output_type": "stream",
     "text": [
      "Sorted array on Height\n",
      "[(b'Jeet', 5,  10.5  ) (b'James', 5,  48.5  ) (b'Parth', 8,  94.123)\n",
      " (b'Raj', 5,  97.5  ) (b'Chintan', 8,  98.2  ) (b'Bhautik', 1, 100.5  )\n",
      " (b'Neel', 5, 105.   )]\n"
     ]
    }
   ],
   "source": [
    "print(\"Sorted array on Height\")\n",
    "print(np.sort(students,order='height'))"
   ]
  },
  {
   "cell_type": "code",
   "execution_count": 361,
   "id": "c5d8430b-571e-443f-8062-a44608cc7067",
   "metadata": {
    "tags": []
   },
   "outputs": [
    {
     "name": "stdout",
     "output_type": "stream",
     "text": [
      "Original array:\n",
      "[(b'James', 5,  48.5  ) (b'Jeet', 5,  10.5  ) (b'Bhautik', 1, 100.5  )\n",
      " (b'Neel', 5, 105.   ) (b'Raj', 5,  97.5  ) (b'Chintan', 8,  98.2  )\n",
      " (b'Parth', 8,  94.123)]\n",
      "Sort by height\n",
      "[(b'Jeet', 5,  10.5  ) (b'James', 5,  48.5  ) (b'Parth', 8,  94.123)\n",
      " (b'Raj', 5,  97.5  ) (b'Chintan', 8,  98.2  ) (b'Bhautik', 1, 100.5  )\n",
      " (b'Neel', 5, 105.   )]\n"
     ]
    }
   ],
   "source": [
    "print(\"Original array:\")\n",
    "print(students)\n",
    "\n",
    "# Sorting the structured array by 'height' field\n",
    "print(\"Sort by height\")\n",
    "print(np.sort(students, order='height'))   "
   ]
  },
  {
   "cell_type": "code",
   "execution_count": 362,
   "id": "415ceec9-a606-4700-807f-14ae12e557c0",
   "metadata": {
    "tags": []
   },
   "outputs": [
    {
     "name": "stdout",
     "output_type": "stream",
     "text": [
      "Original Array\n",
      "[(b'James', 5,  48.5  ) (b'Jeet', 5,  10.5  ) (b'Bhautik', 1, 100.5  )\n",
      " (b'Neel', 5, 105.   ) (b'Raj', 5,  97.5  ) (b'Chintan', 8,  98.2  )\n",
      " (b'Parth', 8,  94.123)]\n",
      "[(b'Bhautik', 1, 100.5  ) (b'Jeet', 5,  10.5  ) (b'James', 5,  48.5  )\n",
      " (b'Raj', 5,  97.5  ) (b'Neel', 5, 105.   ) (b'Parth', 8,  94.123)\n",
      " (b'Chintan', 8,  98.2  )]\n"
     ]
    }
   ],
   "source": [
    "print(\"Original Array\")\n",
    "print(students)\n",
    "print(np.sort(students,order=['class','height']))"
   ]
  },
  {
   "cell_type": "markdown",
   "id": "68dd162c-9f06-4555-809d-65de07c4f5f8",
   "metadata": {
    "jp-MarkdownHeadingCollapsed": true,
    "tags": []
   },
   "source": [
    "##### numpy program to sort array using nth column"
   ]
  },
  {
   "cell_type": "code",
   "execution_count": 364,
   "id": "ddd29569-96ce-4008-b2ca-1a31513f9500",
   "metadata": {
    "tags": []
   },
   "outputs": [
    {
     "name": "stdout",
     "output_type": "stream",
     "text": [
      "[[1 7 7]\n",
      " [7 0 8]\n",
      " [4 5 5]]\n",
      "\n",
      " Sort the said array by the nth Column:\n",
      "[[7 0 8]\n",
      " [4 5 5]\n",
      " [1 7 7]]\n"
     ]
    }
   ],
   "source": [
    "nums = np.random.randint(0,10,(3,3))\n",
    "print(nums)\n",
    "print('\\n Sort the said array by the nth Column:')\n",
    "print(nums[nums[:,1].argsort()])"
   ]
  },
  {
   "cell_type": "markdown",
   "id": "5eaee848-d463-4e52-9e00-1783ac7696e8",
   "metadata": {
    "tags": []
   },
   "source": [
    "## Numpy Mathematics"
   ]
  },
  {
   "cell_type": "markdown",
   "id": "3ccda567-80f9-4262-be77-dde926e00f1d",
   "metadata": {},
   "source": [
    "#### Write a NumPy program to compute an element-wise indication of the sign for all elements in a given array"
   ]
  },
  {
   "cell_type": "code",
   "execution_count": 376,
   "id": "adc667f3-6715-4de8-b76d-9fc7c9d3a4ff",
   "metadata": {
    "tags": []
   },
   "outputs": [
    {
     "name": "stdout",
     "output_type": "stream",
     "text": [
      "Original Array \n",
      " [ 1  7 -2 -1  3]\n",
      "Updated Array\n",
      "[ 1  1 -1 -1  1]\n"
     ]
    }
   ],
   "source": [
    "import numpy as np\n",
    "x = np.random.randint(-10,10,size=(5))\n",
    "print(\"Original Array \\n\",x)\n",
    "for i in range(len(x)):\n",
    "    if x[i]>=1:\n",
    "        x[i]=1\n",
    "    elif x[i]==0:\n",
    "        x[i]=0\n",
    "    else:\n",
    "        x[i]=-1\n",
    "print(\"Updated Array\")\n",
    "print(x)"
   ]
  },
  {
   "cell_type": "markdown",
   "id": "3b606665-a439-4846-b9f6-abd38c90adbb",
   "metadata": {},
   "source": [
    "###### Write a NumPy program to check element-wise True/False of a given array where signbit is set.\n",
    "\n"
   ]
  },
  {
   "cell_type": "code",
   "execution_count": 380,
   "id": "2f006ade-334c-4ce4-94fd-41c5fa8dcb10",
   "metadata": {
    "tags": []
   },
   "outputs": [
    {
     "name": "stdout",
     "output_type": "stream",
     "text": [
      "Original array: \n",
      "[-4 -3 -2 -1  0  1  2  3  4]\n",
      "[ True  True  True  True False False False False False]\n"
     ]
    }
   ],
   "source": [
    "# Importing the NumPy library\n",
    "import numpy as np\n",
    "\n",
    "# Creating an array with integer values ranging from -4 to 4\n",
    "x = np.array([-4, -3, -2, -1, 0, 1, 2, 3, 4])\n",
    "\n",
    "# Displaying the original array\n",
    "print(\"Original array: \")\n",
    "print(x)\n",
    "\n",
    "# Calculating sign bit of each element in the array using np.signbit()\n",
    "r1 = np.signbit(x)\n",
    "\n",
    "# Comparing if each element is less than zero to determine sign bit as a boolean array\n",
    "# r2 = x < 0\n",
    "\n",
    "# Verifying if both approaches yield the same result\n",
    "# assert np.array_equiv(r1, r2)\n",
    "\n",
    "# Displaying the sign bit of each element in the array\n",
    "print(r1)\n"
   ]
  },
  {
   "cell_type": "markdown",
   "id": "3bda68f2-3d4f-43e7-a1e7-c3474e2444ac",
   "metadata": {},
   "source": [
    "##### Write a NumPy program to compute the natural logarithm of one plus each element of a given array in floating-point accuracy."
   ]
  },
  {
   "cell_type": "code",
   "execution_count": 383,
   "id": "e65c907b-50d4-4e9c-8474-042b90a1e8af",
   "metadata": {
    "tags": []
   },
   "outputs": [
    {
     "name": "stdout",
     "output_type": "stream",
     "text": [
      "Original Array:\n",
      "[1.e-99 1.e-98]\n",
      "Natural Logarithm of one plus each element\n",
      "[1.e-99 1.e-98]\n"
     ]
    }
   ],
   "source": [
    "x = np.array([1e-99,1e-98])\n",
    "print(\"Original Array:\")\n",
    "print(x)\n",
    "print(\"Natural Logarithm of one plus each element\")\n",
    "print(np.log1p(x))"
   ]
  },
  {
   "cell_type": "markdown",
   "id": "ebdb0823-2410-4d02-badd-9b782ea397ac",
   "metadata": {
    "tags": []
   },
   "source": [
    "##### Write a NumPy program to calculate 2p for all elements in a given array.\n",
    "\n"
   ]
  },
  {
   "cell_type": "code",
   "execution_count": 389,
   "id": "7a6eced0-6dd6-468b-9012-688a37c25b86",
   "metadata": {
    "tags": []
   },
   "outputs": [
    {
     "name": "stdout",
     "output_type": "stream",
     "text": [
      "[1. 2. 3. 4.]\n",
      "[ 1.7182817  6.389056  19.085537  53.59815  ]\n"
     ]
    }
   ],
   "source": [
    "x = np.array([1,2,3,4],np.float32)\n",
    "print(x)\n",
    "r1 = np.expm1(x)\n",
    "r2 = np.exp(x) - 1\n",
    "assert np.allclose(r1,r2)\n",
    "print(r1)"
   ]
  },
  {
   "cell_type": "markdown",
   "id": "6e14d964-e0a1-4443-9183-26bb11aee3eb",
   "metadata": {},
   "source": [
    "##### Write a Python program to find the maximum and minimum value of a given flattened array"
   ]
  },
  {
   "cell_type": "code",
   "execution_count": 391,
   "id": "a57b8f0a-5d3f-4870-bb87-df08a4018cfa",
   "metadata": {
    "tags": []
   },
   "outputs": [
    {
     "name": "stdout",
     "output_type": "stream",
     "text": [
      "Original flattened array:\n",
      "[[0 1]\n",
      " [2 3]]\n",
      "Maximum value of the above flattened array:\n",
      "3\n",
      "Minimum value of the above flattened array:\n",
      "0\n"
     ]
    }
   ],
   "source": [
    "# Importing the NumPy library\n",
    "import numpy as np\n",
    "\n",
    "a = np.arange(4).reshape((2, 2))\n",
    "\n",
    "# Displaying the original flattened array 'a'\n",
    "print(\"Original flattened array:\")\n",
    "print(a)\n",
    "\n",
    "\n",
    "print(\"Maximum value of the above flattened array:\")\n",
    "print(np.amax(a))\n",
    "\n",
    "\n",
    "print(\"Minimum value of the above flattened array:\")\n",
    "print(np.amin(a)) "
   ]
  },
  {
   "cell_type": "markdown",
   "id": "5c477406-d243-44c8-aa1d-7ee2528e5c2a",
   "metadata": {},
   "source": [
    "##### Write a NumPy program to get the minimum and maximum value of a given array along the second axis."
   ]
  },
  {
   "cell_type": "code",
   "execution_count": 392,
   "id": "1616bc4a-1b97-4be1-9593-c3e6364f2071",
   "metadata": {
    "tags": []
   },
   "outputs": [
    {
     "name": "stdout",
     "output_type": "stream",
     "text": [
      "[[0 1]\n",
      " [2 3]]\n"
     ]
    }
   ],
   "source": [
    "a = np.arange(4).reshape((2,2))\n",
    "print(a)"
   ]
  },
  {
   "cell_type": "code",
   "execution_count": 395,
   "id": "46f17019-f061-4356-b508-b5d8dee325fd",
   "metadata": {
    "tags": []
   },
   "outputs": [
    {
     "name": "stdout",
     "output_type": "stream",
     "text": [
      "[1 3]\n",
      "[0 2]\n"
     ]
    }
   ],
   "source": [
    "print(np.amax(a,axis=1))\n",
    "print(np.amin(a,axis=1))"
   ]
  },
  {
   "cell_type": "markdown",
   "id": "686e2f4a-c2ca-47e0-beca-88b00778050e",
   "metadata": {},
   "source": [
    "##### Numpy program to find the difference betwwen the max and min number in an array"
   ]
  },
  {
   "cell_type": "code",
   "execution_count": 404,
   "id": "5fc1ce1b-6a66-420b-8430-af2d57236c47",
   "metadata": {
    "tags": []
   },
   "outputs": [
    {
     "name": "stdout",
     "output_type": "stream",
     "text": [
      "Original Array\n",
      "[[ 0  1  2  3]\n",
      " [ 4  5  6  7]\n",
      " [ 8  9 10 11]]\n",
      "[3 3 3]\n"
     ]
    }
   ],
   "source": [
    "import numpy as np\n",
    "x = np.arange(12).reshape((3,4))\n",
    "print(\"Original Array\")\n",
    "print(x)\n",
    "\n",
    "r1 = np.ptp(x,1)\n",
    "r2 = np.amax(x,1)-np.amin(x,1)\n",
    "assert np.allclose(r1,r2)\n",
    "print(r1)"
   ]
  },
  {
   "cell_type": "markdown",
   "id": "7280582e-9d34-49b7-8d5b-7fcceef31d5b",
   "metadata": {
    "tags": []
   },
   "source": [
    "##### Compute the median of flattened given array"
   ]
  },
  {
   "cell_type": "code",
   "execution_count": 405,
   "id": "a69d6e67-ac34-4064-b0c9-8e6d26d069ed",
   "metadata": {
    "tags": []
   },
   "outputs": [
    {
     "name": "stdout",
     "output_type": "stream",
     "text": [
      "Original Array\n",
      "[[ 0  1  2  3]\n",
      " [ 4  5  6  7]\n",
      " [ 8  9 10 11]]\n",
      "Median\n",
      "5.5\n"
     ]
    }
   ],
   "source": [
    "import numpy as np\n",
    "x = np.arange(12).reshape((3,4))\n",
    "print(\"Original Array\")\n",
    "print(x)\n",
    "r1 = np.median(x)\n",
    "print(\"Median\")\n",
    "print(r1)"
   ]
  },
  {
   "cell_type": "markdown",
   "id": "a3557d75-b4f6-497d-b31a-f1a779270e6f",
   "metadata": {},
   "source": [
    "##### Compute the mean, standard deviation , and variance of a given array along the second axis"
   ]
  },
  {
   "cell_type": "code",
   "execution_count": 407,
   "id": "b7b6a270-9934-483b-a7c5-6d41b62b30d5",
   "metadata": {
    "tags": []
   },
   "outputs": [
    {
     "name": "stdout",
     "output_type": "stream",
     "text": [
      "\n",
      " Original Array\n",
      "[0 1 2 3 4 5]\n",
      "Mean 2.5\n",
      "Standard Deviation 1.707825127659933\n",
      "Variance:, 2.9166666666666665\n"
     ]
    }
   ],
   "source": [
    "import numpy as np\n",
    "x = np.arange(6)\n",
    "print(\"\\n Original Array\")\n",
    "print(x)\n",
    "r1 = np.mean(x)\n",
    "print(\"Mean\",np.mean(x))\n",
    "r2 = np.std(x)\n",
    "print(\"Standard Deviation\",np.std(x))\n",
    "print(\"Variance:,\",np.var(x))\n",
    "\n"
   ]
  },
  {
   "cell_type": "code",
   "execution_count": 4,
   "id": "bbd05e02-8982-42bd-b56d-9a2e9c126d19",
   "metadata": {},
   "outputs": [
    {
     "name": "stdout",
     "output_type": "stream",
     "text": [
      "nums:  [0.5 0.7 1.  1.2 1.3 2.1]\n",
      "bins:  [0 1 2 3]\n",
      "Result: (array([2, 3, 1], dtype=int64), array([0, 1, 2, 3]))\n"
     ]
    },
    {
     "data": {
      "image/png": "[encoded data removed]",
      "text/plain": [
       "<Figure size 640x480 with 1 Axes>"
      ]
     },
     "metadata": {},
     "output_type": "display_data"
    }
   ],
   "source": [
    "#Histogram in numpy\n",
    "# Importing necessary libraries\n",
    "import numpy as np\n",
    "import matplotlib.pyplot as plt\n",
    "\n",
    "# Creating an array of numbers\n",
    "nums = np.array([0.5, 0.7, 1.0, 1.2, 1.3, 2.1])\n",
    "\n",
    "# Defining the bins\n",
    "bins = np.array([0, 1, 2, 3])\n",
    "\n",
    "# Displaying the original arrays\n",
    "print(\"nums: \", nums)\n",
    "print(\"bins: \", bins)\n",
    "\n",
    "# Calculating the histogram using numpy's histogram function\n",
    "print(\"Result:\", np.histogram(nums, bins))\n",
    "\n",
    "# Creating a histogram plot using matplotlib\n",
    "plt.hist(nums, bins=bins)\n",
    "\n",
    "# Displaying the histogram\n",
    "plt.show() "
   ]
  },
  {
   "cell_type": "code",
   "execution_count": null,
   "id": "8e28ceb9-c7ec-4e3f-b3af-e961e405117a",
   "metadata": {},
   "outputs": [],
   "source": []
  }
 ],
 "metadata": {
  "kernelspec": {
   "display_name": "Python 3 (ipykernel)",
   "language": "python",
   "name": "python3"
  },
  "language_info": {
   "codemirror_mode": {
    "name": "ipython",
    "version": 3
   },
   "file_extension": ".py",
   "mimetype": "text/x-python",
   "name": "python",
   "nbconvert_exporter": "python",
   "pygments_lexer": "ipython3",
   "version": "3.11.5"
  }
 },
 "nbformat": 4,
 "nbformat_minor": 5
}
