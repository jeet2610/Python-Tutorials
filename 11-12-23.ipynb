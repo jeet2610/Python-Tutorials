{
 "cells": [
  {
   "cell_type": "markdown",
   "id": "2126fc63-d15d-4192-815a-ac1c5b2311c5",
   "metadata": {
    "jp-MarkdownHeadingCollapsed": true,
    "tags": []
   },
   "source": [
    "#### Request Module ####"
   ]
  },
  {
   "cell_type": "code",
   "execution_count": 5,
   "id": "27596a9a-4e3a-4f1f-b96c-26b2a826a043",
   "metadata": {
    "tags": []
   },
   "outputs": [],
   "source": [
    "# importing packages\n",
    "import requests"
   ]
  },
  {
   "cell_type": "markdown",
   "id": "928d38a4-7218-4ba8-b154-b7e20cd34600",
   "metadata": {
    "tags": []
   },
   "source": [
    "##### Request Methods\n"
   ]
  },
  {
   "cell_type": "markdown",
   "id": "b2793b55-b5db-4bcf-86d3-c54bc9a7f325",
   "metadata": {
    "tags": []
   },
   "source": [
    "###### Delete\n",
    "###### request.delete(url,args)"
   ]
  },
  {
   "cell_type": "code",
   "execution_count": 8,
   "id": "807a97f8-38ae-43c9-a851-77be44361df2",
   "metadata": {
    "tags": []
   },
   "outputs": [
    {
     "name": "stdout",
     "output_type": "stream",
     "text": [
      "{}\n"
     ]
    }
   ],
   "source": [
    "x = requests.delete(\"https://jsonplaceholder.typicode.com/todos/1\",timeout=2.50)\n",
    "print(x.text)"
   ]
  },
  {
   "cell_type": "markdown",
   "id": "120c0abe-d280-4565-a767-afdd77c51c93",
   "metadata": {
    "tags": []
   },
   "source": [
    "###### GET request Method"
   ]
  },
  {
   "cell_type": "code",
   "execution_count": 13,
   "id": "1f42971f-b0e7-4b35-af87-0a0633c38d15",
   "metadata": {
    "tags": []
   },
   "outputs": [
    {
     "name": "stdout",
     "output_type": "stream",
     "text": [
      "200\n"
     ]
    }
   ],
   "source": [
    "x = requests.get(\"https://w3schools.com/python/demopage.php\")\n",
    "print(x.status_code)"
   ]
  },
  {
   "cell_type": "markdown",
   "id": "14e916af-817a-44e8-97fe-b6a56b92593f",
   "metadata": {
    "tags": []
   },
   "source": [
    "###### HEAD request Method"
   ]
  },
  {
   "cell_type": "code",
   "execution_count": 15,
   "id": "a71e8ceb-217d-41bc-9b51-ff9362c28544",
   "metadata": {
    "tags": []
   },
   "outputs": [
    {
     "name": "stdout",
     "output_type": "stream",
     "text": [
      "{'Content-Type': 'text/html; charset=ISO-8859-1', 'Content-Security-Policy-Report-Only': \"object-src 'none';base-uri 'self';script-src 'nonce-21jKapSN7A5Av8YgNPoJdw' 'strict-dynamic' 'report-sample' 'unsafe-eval' 'unsafe-inline' https: http:;report-uri https://csp.withgoogle.com/csp/gws/other-hp\", 'P3P': 'CP=\"This is not a P3P policy! See g.co/p3phelp for more info.\"', 'Date': 'Mon, 11 Dec 2023 05:06:32 GMT', 'Server': 'gws', 'X-XSS-Protection': '0', 'X-Frame-Options': 'SAMEORIGIN', 'Transfer-Encoding': 'chunked', 'Expires': 'Mon, 11 Dec 2023 05:06:32 GMT', 'Cache-Control': 'private', 'Set-Cookie': '1P_JAR=2023-12-11-05; expires=Wed, 10-Jan-2024 05:06:32 GMT; path=/; domain=.google.com; Secure, AEC=Ackid1Q_N15r9Zje91aseIObRzqGKxl7UNnvFqx5fNP3lHgRp5FwoyyeVkc; expires=Sat, 08-Jun-2024 05:06:32 GMT; path=/; domain=.google.com; Secure; HttpOnly; SameSite=lax, NID=511=MtBN4sf6-AEYHmMSzZ8jzvzW9D6voAJcVfHwHHyRF5aqRHuyeqIXLUxI_7RJIOuFTQaurTJj8tvjl1yRniH3I6EDVxeXsNbMB2gFCnMd1JSNNSFnXmIQ5ikNsZWyQ_YhMIdg0fWMlYM2nZE0EH5KqzWNjgL2Ev8kDEklPxs0aZ0; expires=Tue, 11-Jun-2024 05:06:32 GMT; path=/; domain=.google.com; HttpOnly', 'Alt-Svc': 'h3=\":443\"; ma=2592000,h3-29=\":443\"; ma=2592000'}\n"
     ]
    }
   ],
   "source": [
    "x = requests.head(\"https://www.google.com\",allow_redirects=True)\n",
    "print(x.headers)"
   ]
  },
  {
   "cell_type": "markdown",
   "id": "84431bf8-107a-4b25-b6e9-180da2991564",
   "metadata": {
    "tags": []
   },
   "source": [
    "###### PATCH requests method"
   ]
  },
  {
   "cell_type": "code",
   "execution_count": 19,
   "id": "c9fc1989-6136-477f-9a89-f7e9b124071f",
   "metadata": {
    "tags": []
   },
   "outputs": [
    {
     "name": "stdout",
     "output_type": "stream",
     "text": [
      "<Response [200]>\n",
      "b'{\\n  \"args\": {}, \\n  \"data\": \"\", \\n  \"files\": {}, \\n  \"form\": {\\n    \"key\": \"value\"\\n  }, \\n  \"headers\": {\\n    \"Accept\": \"*/*\", \\n    \"Accept-Encoding\": \"gzip, deflate, br\", \\n    \"Content-Length\": \"9\", \\n    \"Content-Type\": \"application/x-www-form-urlencoded\", \\n    \"Host\": \"httpbin.org\", \\n    \"User-Agent\": \"python-requests/2.31.0\", \\n    \"X-Amzn-Trace-Id\": \"Root=1-65769a0e-5b228e2b452155471cee414c\"\\n  }, \\n  \"json\": null, \\n  \"origin\": \"122.170.109.40\", \\n  \"url\": \"https://httpbin.org/patch\"\\n}\\n'\n"
     ]
    }
   ],
   "source": [
    "x = requests.patch(\"https://httpbin.org/patch\", data={'key':'value'})\n",
    "\n",
    "print(x)\n",
    "print(x.content)"
   ]
  },
  {
   "cell_type": "markdown",
   "id": "220454d4-e79e-498b-bc4e-c38b43497e7b",
   "metadata": {},
   "source": [
    "###### POST request method"
   ]
  },
  {
   "cell_type": "code",
   "execution_count": 22,
   "id": "635bd643-520c-4fba-8525-b6f0e47e4fea",
   "metadata": {
    "tags": []
   },
   "outputs": [
    {
     "name": "stdout",
     "output_type": "stream",
     "text": [
      "\n"
     ]
    }
   ],
   "source": [
    "myObj = {'somekey':'somevalue'}\n",
    "x = requests.post(\"https://www.w3schools.com/python/demopage.php\",json=myObj)\n",
    "print(x.text)"
   ]
  },
  {
   "cell_type": "markdown",
   "id": "ba2a1c40-e18e-4588-86fa-55ca83ca0e54",
   "metadata": {},
   "source": [
    "PUT requests Method"
   ]
  },
  {
   "cell_type": "code",
   "execution_count": 26,
   "id": "16fdfba6-8d23-46d2-abbe-239a48beb43a",
   "metadata": {
    "tags": []
   },
   "outputs": [
    {
     "name": "stdout",
     "output_type": "stream",
     "text": [
      "<Response [404]>\n",
      "b'<!DOCTYPE HTML PUBLIC \"-//W3C//DTD HTML 3.2 Final//EN\">\\n<title>404 Not Found</title>\\n<h1>Not Found</h1>\\n<p>The requested URL was not found on the server.  If you entered the URL manually please check your spelling and try again.</p>\\n'\n"
     ]
    }
   ],
   "source": [
    "import requests\n",
    " \n",
    "# Making a PUT request\n",
    "r = requests.put('https://httpbin.org/ put', data ={'key':'value'})\n",
    "print(r)\n",
    "print(r.content)"
   ]
  },
  {
   "cell_type": "markdown",
   "id": "2647d3fe-542a-4742-bbfe-aba72bebc108",
   "metadata": {},
   "source": [
    "# Hello"
   ]
  },
  {
   "cell_type": "code",
   "execution_count": 36,
   "id": "4ec8d2dc-c3cd-4420-bfb4-9ecf240a16d9",
   "metadata": {
    "tags": []
   },
   "outputs": [
    {
     "name": "stdout",
     "output_type": "stream",
     "text": [
      "google : 200\n",
      "amazon : 503\n",
      "w3resource: 200\n",
      "reliance:  200\n",
      "tcs:  200\n"
     ]
    }
   ],
   "source": [
    "import requests\n",
    "# amazon.com \n",
    "# w3resource.com\n",
    "# reliance.com\n",
    "#tcs.com\n",
    "#tradingview.com\n",
    "x = requests.get(\"https://www.google.com\")\n",
    "print(\"google :\",x.status_code)\n",
    "a = requests.get(\"https://www.amazon.com\")\n",
    "print(\"amazon :\",a.status_code)\n",
    "b = requests.get(\"https://www.w3resource.com\")\n",
    "c = requests.get(\"https://www.ril.com\")\n",
    "d = requests.get(\"https://www.tcs.com\")\n",
    "print(\"w3resource:\", b.status_code)\n",
    "print(\"reliance: \",c.status_code)\n",
    "print(\"tcs: \",d.status_code)"
   ]
  },
  {
   "cell_type": "code",
   "execution_count": 49,
   "id": "f1d1e850-73d3-4e50-8398-30caa4e3e074",
   "metadata": {
    "tags": []
   },
   "outputs": [
    {
     "name": "stdout",
     "output_type": "stream",
     "text": [
      "current_user_url  :  https://api.github.com/user\n",
      "current_user_authorizations_html_url  :  https://github.com/settings/connections/applications{/client_id}\n",
      "authorizations_url  :  https://api.github.com/authorizations\n",
      "code_search_url  :  https://api.github.com/search/code?q={query}{&page,per_page,sort,order}\n",
      "commit_search_url  :  https://api.github.com/search/commits?q={query}{&page,per_page,sort,order}\n",
      "emails_url  :  https://api.github.com/user/emails\n",
      "emojis_url  :  https://api.github.com/emojis\n",
      "events_url  :  https://api.github.com/events\n",
      "feeds_url  :  https://api.github.com/feeds\n",
      "followers_url  :  https://api.github.com/user/followers\n",
      "following_url  :  https://api.github.com/user/following{/target}\n",
      "gists_url  :  https://api.github.com/gists{/gist_id}\n",
      "hub_url  :  https://api.github.com/hub\n",
      "issue_search_url  :  https://api.github.com/search/issues?q={query}{&page,per_page,sort,order}\n",
      "issues_url  :  https://api.github.com/issues\n",
      "keys_url  :  https://api.github.com/user/keys\n",
      "label_search_url  :  https://api.github.com/search/labels?q={query}&repository_id={repository_id}{&page,per_page}\n",
      "notifications_url  :  https://api.github.com/notifications\n",
      "organization_url  :  https://api.github.com/orgs/{org}\n",
      "organization_repositories_url  :  https://api.github.com/orgs/{org}/repos{?type,page,per_page,sort}\n",
      "organization_teams_url  :  https://api.github.com/orgs/{org}/teams\n",
      "public_gists_url  :  https://api.github.com/gists/public\n",
      "rate_limit_url  :  https://api.github.com/rate_limit\n",
      "repository_url  :  https://api.github.com/repos/{owner}/{repo}\n",
      "repository_search_url  :  https://api.github.com/search/repositories?q={query}{&page,per_page,sort,order}\n",
      "current_user_repositories_url  :  https://api.github.com/user/repos{?type,page,per_page,sort}\n",
      "starred_url  :  https://api.github.com/user/starred{/owner}{/repo}\n",
      "starred_gists_url  :  https://api.github.com/gists/starred\n",
      "topic_search_url  :  https://api.github.com/search/topics?q={query}{&page,per_page}\n",
      "user_url  :  https://api.github.com/users/{user}\n",
      "user_organizations_url  :  https://api.github.com/user/orgs\n",
      "user_repositories_url  :  https://api.github.com/users/{user}/repos{?type,page,per_page,sort}\n",
      "user_search_url  :  https://api.github.com/search/users?q={query}{&page,per_page,sort,order}\n"
     ]
    }
   ],
   "source": [
    "import json\n",
    "url = \"https://api.github.com\"\n",
    "x = requests.get(url)\n",
    "if x.status_code==200:\n",
    "    dict1 = json.loads(x.content)\n",
    "    for i,j in dict1.items():\n",
    "        print(i,\" : \",j)"
   ]
  },
  {
   "cell_type": "code",
   "execution_count": 56,
   "id": "617c70cc-468d-4482-8d54-3acb52493b53",
   "metadata": {
    "tags": []
   },
   "outputs": [
    {
     "name": "stdout",
     "output_type": "stream",
     "text": [
      "parameters {'key1': 'value1', 'key2': 'value2'}\n",
      "200\n",
      "200\n"
     ]
    }
   ],
   "source": [
    "import requests\n",
    "payload = {'key1':'value1','key2':'value2'}\n",
    "print(\"parameters\",payload)\n",
    "r = requests.get(\"https://httpbin.org\",params= payload)\n",
    "print(r.status_code)\n",
    "newpayload = {'key1':'value1','key2':['value1','value2']}\n",
    "x = requests.get(\"https://httpbin.org\",params = newpayload)\n",
    "print(x.status_code)"
   ]
  },
  {
   "cell_type": "code",
   "execution_count": 72,
   "id": "6f23f79e-fca2-4596-b74e-8bd3982bfc01",
   "metadata": {
    "tags": []
   },
   "outputs": [
    {
     "name": "stdout",
     "output_type": "stream",
     "text": [
      "{\n",
      "  \"cookies\": {\n",
      "    \"favcolor\": \"Red\"\n",
      "  }\n",
      "}\n",
      "\n"
     ]
    }
   ],
   "source": [
    "# write a python program to send cookies to a given server and access cookies from the respoonse of a server\n",
    "\n",
    "import requests\n",
    "url = 'http://httpbin.org/cookies'\n",
    "\n",
    "r = requests.get(url, cookies = {\"favcolor\":\"Red\"})\n",
    "print(r.text)\n"
   ]
  },
  {
   "cell_type": "code",
   "execution_count": 61,
   "id": "2ea7c0fb-baf4-4518-a877-9c4d7ae5ad68",
   "metadata": {
    "tags": []
   },
   "outputs": [
    {
     "name": "stdout",
     "output_type": "stream",
     "text": [
      "<Response [200]>\n"
     ]
    }
   ],
   "source": [
    "# Write a python program to verify the ssl certificate for a website that is certified\n",
    "x = requests.get(\"https://jamsinfotech.in\",verify = True)\n",
    "print(x)"
   ]
  },
  {
   "cell_type": "code",
   "execution_count": 7,
   "id": "b9f61aa2-4d4d-4223-823f-c9dd7f0a6831",
   "metadata": {},
   "outputs": [
    {
     "name": "stdout",
     "output_type": "stream",
     "text": [
      " * Serving Flask app '__main__'\n",
      " * Debug mode: off\n"
     ]
    },
    {
     "name": "stderr",
     "output_type": "stream",
     "text": [
      "WARNING: This is a development server. Do not use it in a production deployment. Use a production WSGI server instead.\n",
      " * Running on http://127.0.0.1:5000\n",
      "Press CTRL+C to quit\n",
      "127.0.0.1 - - [11/Dec/2023 13:18:30] \"GET /form.html HTTP/1.1\" 404 -\n",
      "127.0.0.1 - - [11/Dec/2023 13:18:35] \"GET / HTTP/1.1\" 404 -\n"
     ]
    }
   ],
   "source": [
    "from flask import Flask, request, jsonify\n",
    "\n",
    "app = Flask(__name__)\n",
    "\n",
    "# Endpoint to handle GET requests\n",
    "@app.route('/hello', methods=['GET'])\n",
    "def hello():\n",
    "    return 'Hello, this is a GET request!'\n",
    "\n",
    "# Endpoint to handle POST requests\n",
    "@app.route('/post-example', methods=['POST'])\n",
    "def post_example():\n",
    "    if request.method == 'POST':\n",
    "        data = request.get_json()  # Get JSON data from POST request\n",
    "        return jsonify({'received_data': data}), 200\n",
    "\n",
    "if __name__ == '__main__':\n",
    "    app.run(host='127.0.0.1', port=5000)"
   ]
  },
  {
   "cell_type": "code",
   "execution_count": null,
   "id": "b1e89b62-5c91-40b6-a057-d2dbcfd79b44",
   "metadata": {},
   "outputs": [],
   "source": []
  }
 ],
 "metadata": {
  "kernelspec": {
   "display_name": "Python 3 (ipykernel)",
   "language": "python",
   "name": "python3"
  },
  "language_info": {
   "codemirror_mode": {
    "name": "ipython",
    "version": 3
   },
   "file_extension": ".py",
   "mimetype": "text/x-python",
   "name": "python",
   "nbconvert_exporter": "python",
   "pygments_lexer": "ipython3",
   "version": "3.11.5"
  }
 },
 "nbformat": 4,
 "nbformat_minor": 5
}
